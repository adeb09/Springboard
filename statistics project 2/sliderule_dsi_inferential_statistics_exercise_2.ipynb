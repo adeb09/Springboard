{
 "cells": [
  {
   "cell_type": "markdown",
   "metadata": {},
   "source": [
    "\n",
    "### Examining racial discrimination in the US job market\n",
    "\n",
    "#### Background\n",
    "Racial discrimination continues to be pervasive in cultures throughout the world. Researchers examined the level of racial discrimination in the United States labor market by randomly assigning identical résumés black-sounding or white-sounding names and observing the impact on requests for interviews from employers.\n",
    "\n",
    "#### Data\n",
    "In the dataset provided, each row represents a resume. The 'race' column has two values, 'b' and 'w', indicating black-sounding and white-sounding. The column 'call' has two values, 1 and 0, indicating whether the resume received a call from employers or not.\n",
    "\n",
    "Note that the 'b' and 'w' values in race are assigned randomly to the resumes.\n",
    "\n",
    "#### Exercise\n",
    "You will perform a statistical analysis to establish whether race has a significant impact on the rate of callbacks for resumes.\n",
    "\n",
    "Answer the following questions **in this notebook below and submit to your Github account**. \n",
    "\n",
    "   1. What test is appropriate for this problem? Does CLT apply?\n",
    "   2. What are the null and alternate hypotheses?\n",
    "   3. Compute margin of error, confidence interval, and p-value.\n",
    "   4. Discuss statistical significance.\n",
    "\n",
    "You can include written notes in notebook cells using Markdown: \n",
    "   - In the control panel at the top, choose Cell > Cell Type > Markdown\n",
    "   - Markdown syntax: http://nestacms.com/docs/creating-content/markdown-cheat-sheet\n",
    "\n",
    "\n",
    "#### Resources\n",
    "+ Experiment information and data source: http://www.povertyactionlab.org/evaluation/discrimination-job-market-united-states\n",
    "+ Scipy statistical methods: http://docs.scipy.org/doc/scipy/reference/stats.html \n",
    "+ Markdown syntax: http://nestacms.com/docs/creating-content/markdown-cheat-sheet\n",
    "\n",
    "****"
   ]
  },
  {
   "cell_type": "code",
   "execution_count": 1,
   "metadata": {
    "collapsed": true
   },
   "outputs": [],
   "source": [
    "import pandas as pd\n",
    "import numpy as np\n",
    "from scipy import stats"
   ]
  },
  {
   "cell_type": "code",
   "execution_count": 2,
   "metadata": {
    "collapsed": false
   },
   "outputs": [],
   "source": [
    "data = pd.io.stata.read_stata('data/us_job_market_discrimination.dta')"
   ]
  },
  {
   "cell_type": "markdown",
   "metadata": {},
   "source": [
    "**Basic Data Exploration**"
   ]
  },
  {
   "cell_type": "code",
   "execution_count": 32,
   "metadata": {
    "collapsed": false
   },
   "outputs": [
    {
     "data": {
      "text/plain": [
       "157.0"
      ]
     },
     "execution_count": 32,
     "metadata": {},
     "output_type": "execute_result"
    }
   ],
   "source": [
    "# number of callbacks for black-sounding names\n",
    "b = sum(data[data.race=='b'].call)\n",
    "b"
   ]
  },
  {
   "cell_type": "code",
   "execution_count": 33,
   "metadata": {
    "collapsed": false
   },
   "outputs": [
    {
     "data": {
      "text/plain": [
       "235.0"
      ]
     },
     "execution_count": 33,
     "metadata": {},
     "output_type": "execute_result"
    }
   ],
   "source": [
    "# number of callbacks for white-sounding names\n",
    "w = sum(data[data.race == 'w'].call)\n",
    "w"
   ]
  },
  {
   "cell_type": "code",
   "execution_count": 36,
   "metadata": {
    "collapsed": false
   },
   "outputs": [
    {
     "data": {
      "text/plain": [
       "2435"
      ]
     },
     "execution_count": 36,
     "metadata": {},
     "output_type": "execute_result"
    }
   ],
   "source": [
    "#number of white-sounding applicants\n",
    "n1 = sum(data.race == 'w')\n",
    "n1"
   ]
  },
  {
   "cell_type": "code",
   "execution_count": 35,
   "metadata": {
    "collapsed": false
   },
   "outputs": [
    {
     "data": {
      "text/plain": [
       "2435"
      ]
     },
     "execution_count": 35,
     "metadata": {},
     "output_type": "execute_result"
    }
   ],
   "source": [
    "#number of black-sounding applicants\n",
    "n2 = sum(data.race == 'b')\n",
    "n2"
   ]
  },
  {
   "cell_type": "markdown",
   "metadata": {},
   "source": [
    "** 1. What test is appropriate for this problem? Does CLT apply? **"
   ]
  },
  {
   "cell_type": "markdown",
   "metadata": {},
   "source": [
    "*CLT applies since the sample size is very large (2,435 for both the white-sounding and black-sound names group).\n",
    "Identical resumes were assigned to both black and white names and this gives us a random sample for each group.*"
   ]
  },
  {
   "cell_type": "markdown",
   "metadata": {},
   "source": [
    " "
   ]
  },
  {
   "cell_type": "markdown",
   "metadata": {},
   "source": [
    "**A two-proportion z-test** will allow us to compare the rate of call backs between the black-sounding names group and the white-sounding\n",
    "names group."
   ]
  },
  {
   "cell_type": "markdown",
   "metadata": {},
   "source": [
    " "
   ]
  },
  {
   "cell_type": "markdown",
   "metadata": {},
   "source": [
    "**2. What are the null and alternate hypotheses?**"
   ]
  },
  {
   "cell_type": "markdown",
   "metadata": {},
   "source": [
    "The **null hypothesis** is that the proportion of call backs for *black-sounding names* and *white-sounding names* is **the same**.\n",
    "\n",
    "\n",
    "$$H_0 : P_1 - P_2 = 0$$"
   ]
  },
  {
   "cell_type": "markdown",
   "metadata": {},
   "source": [
    "The **alternate hypothesis** is that the proportion of call backs for *black-sounding names* and *white-sound names* is **different**.\n",
    "\n",
    "$$H_A: P_1 - P_2 ≠ 0$$"
   ]
  },
  {
   "cell_type": "markdown",
   "metadata": {},
   "source": [
    " "
   ]
  },
  {
   "cell_type": "markdown",
   "metadata": {},
   "source": [
    "**3. Compute margin of error, confidence interval, and p-value.**"
   ]
  },
  {
   "cell_type": "markdown",
   "metadata": {},
   "source": [
    "*Let's compute a **95% Confidence Interval** on the difference in population proportions between the rate of call backs between the\n",
    "white-sounding and black-sounding names.*"
   ]
  },
  {
   "cell_type": "markdown",
   "metadata": {},
   "source": [
    " "
   ]
  },
  {
   "cell_type": "markdown",
   "metadata": {},
   "source": [
    "*Margin of Error = critical value x Standard Error of statistic*"
   ]
  },
  {
   "cell_type": "markdown",
   "metadata": {},
   "source": [
    "**critical value** (z_0.975 or z_0.025) = 1.96"
   ]
  },
  {
   "cell_type": "markdown",
   "metadata": {},
   "source": [
    "$$SE = \\sqrt{\\frac{p_1(1-p_1)}{n_1} + \\frac{p_2(1-p_2}{n_2}}$$"
   ]
  },
  {
   "cell_type": "markdown",
   "metadata": {},
   "source": [
    "$P_1$ is the proportion of white-sounding names that received call backs from prospective employers.  \n",
    "$P_2$ is the proportion of black-sounding names that received call backs from prospective employers."
   ]
  },
  {
   "cell_type": "markdown",
   "metadata": {},
   "source": [
    "$n_1$ is the total number of white-sounding names randomly assigned to a resume.  \n",
    "$n_2$ is the total number of black-sounding names randomly assigned to a resume."
   ]
  },
  {
   "cell_type": "code",
   "execution_count": 40,
   "metadata": {
    "collapsed": false
   },
   "outputs": [
    {
     "name": "stdout",
     "output_type": "stream",
     "text": [
      "p1 = 0.0965092402464\n"
     ]
    }
   ],
   "source": [
    "p1 = w / n1\n",
    "print 'p1 =', p1"
   ]
  },
  {
   "cell_type": "code",
   "execution_count": 39,
   "metadata": {
    "collapsed": false
   },
   "outputs": [
    {
     "name": "stdout",
     "output_type": "stream",
     "text": [
      "p2 = 0.064476386037\n"
     ]
    }
   ],
   "source": [
    "p2 = b / n2\n",
    "print 'p2 =', p2"
   ]
  },
  {
   "cell_type": "code",
   "execution_count": 41,
   "metadata": {
    "collapsed": false
   },
   "outputs": [
    {
     "name": "stdout",
     "output_type": "stream",
     "text": [
      "The standard error of the difference in population proportions is 0.00778337058668\n"
     ]
    }
   ],
   "source": [
    "SE = ((p1 * (1 - p1)) / n1 + (p2 * (1 - p2)) / n2) ** 0.5\n",
    "print 'The standard error of the difference in population proportions is', SE"
   ]
  },
  {
   "cell_type": "code",
   "execution_count": 43,
   "metadata": {
    "collapsed": false
   },
   "outputs": [
    {
     "name": "stdout",
     "output_type": "stream",
     "text": [
      "The Margin of Error for a 95% confidence interval between the difference in population proportions is +/- 0.0152554063499\n"
     ]
    }
   ],
   "source": [
    "ME = 1.96 * SE\n",
    "print 'The Margin of Error for a 95% confidence interval between the difference in population proportions is +/-', ME"
   ]
  },
  {
   "cell_type": "code",
   "execution_count": 44,
   "metadata": {
    "collapsed": false
   },
   "outputs": [
    {
     "name": "stdout",
     "output_type": "stream",
     "text": [
      "The difference in population proportions estimated by our two samples is 0.0320328542094\n"
     ]
    }
   ],
   "source": [
    "prop_diff = p1 - p2\n",
    "print 'The difference in population proportions estimated by our two samples is', prop_diff"
   ]
  },
  {
   "cell_type": "code",
   "execution_count": 55,
   "metadata": {
    "collapsed": false
   },
   "outputs": [
    {
     "name": "stdout",
     "output_type": "stream",
     "text": [
      "The 95% confidence interval for the difference in population proportions lies between 0.0167774478596 and 0.0472882605593\n"
     ]
    }
   ],
   "source": [
    "lower = prop_diff - ME\n",
    "upper = prop_diff + ME\n",
    "print 'The 95% confidence interval for the difference in population proportions lies between', lower, 'and', upper"
   ]
  },
  {
   "cell_type": "markdown",
   "metadata": {},
   "source": [
    " "
   ]
  },
  {
   "cell_type": "markdown",
   "metadata": {},
   "source": [
    "**To find a p-value for this difference in population proportions, we must calculate a z-test statistic.**"
   ]
  },
  {
   "cell_type": "markdown",
   "metadata": {},
   "source": [
    "$$Z = \\frac{(p_1 - p_2)}{SE} = \\frac{(p_1 - p_2)}{\\sqrt{\\frac{p_1(1-p_1)}{n_1} + \\frac{p_2(1-p_2}{n_2}}}$$"
   ]
  },
  {
   "cell_type": "code",
   "execution_count": 50,
   "metadata": {
    "collapsed": false
   },
   "outputs": [
    {
     "name": "stdout",
     "output_type": "stream",
     "text": [
      "The z-test statistic is 4.11555043573\n"
     ]
    }
   ],
   "source": [
    "z = prop_diff / SE\n",
    "print 'The z-test statistic is', z"
   ]
  },
  {
   "cell_type": "code",
   "execution_count": 54,
   "metadata": {
    "collapsed": false
   },
   "outputs": [
    {
     "name": "stdout",
     "output_type": "stream",
     "text": [
      "The p-value for the difference in population proportions is 3.86256520752e-05\n"
     ]
    }
   ],
   "source": [
    "pval =  (1 - stats.norm.cdf(z)) * 2\n",
    "print 'The p-value for the difference in population proportions is', pval"
   ]
  },
  {
   "cell_type": "markdown",
   "metadata": {},
   "source": [
    " "
   ]
  },
  {
   "cell_type": "markdown",
   "metadata": {},
   "source": [
    "**4. Discuss statistical significance.**"
   ]
  },
  {
   "cell_type": "markdown",
   "metadata": {},
   "source": [
    "*We are **95% confident** that the true difference in the proportion of call backs between white-sounding applicants\n",
    "and black-sounding applicants is between 1.7% and 4.7%.* We can say with repeated sampling, 95% of the interval constructed\n",
    "this way would contain the true population proportion difference. Since this confidence interval does not include 0, this means\n",
    "there is  a statistically significant difference in the call back rate between white-sounding and black-sounding applicants."
   ]
  },
  {
   "cell_type": "markdown",
   "metadata": {},
   "source": [
    "The 2-proportion z-test yielded a **p-value of 3.86e-5** which shows strong statistical evidence against the null hypothesis. The\n",
    "interpretation of a p-value is that it is the probability of observing these samples given the null hypothesis is true.\n",
    "Since this probability is so low, it is likely that the null hypothesis of the call back rates being the same between white-sounding\n",
    "and black-sounding applicants is not true. This study implies that there is racial bias in the workplace since the resumes were\n",
    "identical."
   ]
  },
  {
   "cell_type": "markdown",
   "metadata": {},
   "source": [
    "It is clear that the call back rates are statistically different in this study, but the *effect size* is not easily measured\n",
    "by proportions. A better way to quantify the effect size is using **Cohen's H** as shown below."
   ]
  },
  {
   "cell_type": "markdown",
   "metadata": {},
   "source": [
    "$Φ_1 = 2arcsin\\sqrt{p1}$  \n",
    "$Φ_2 = 2arcsin\\sqrt{p2}$"
   ]
  },
  {
   "cell_type": "markdown",
   "metadata": {},
   "source": [
    "**h** = $Φ_1 - Φ_2$"
   ]
  },
  {
   "cell_type": "code",
   "execution_count": 59,
   "metadata": {
    "collapsed": false
   },
   "outputs": [
    {
     "name": "stdout",
     "output_type": "stream",
     "text": [
      "The Cohen's h for the difference in proportions is 0.118307242719\n"
     ]
    }
   ],
   "source": [
    "phi1 = 2 * np.arcsin(p1 ** 0.5)\n",
    "phi2 = 2 * np.arcsin(p2 ** 0.5)\n",
    "h = phi1 - phi2\n",
    "print \"The Cohen's h for the difference in proportions is\", h"
   ]
  },
  {
   "cell_type": "markdown",
   "metadata": {},
   "source": [
    "**A Cohen's h of 0.2 is considered a small effect size.** Since the Cohen's h measured for this study is *approximately 0.12*, this is\n",
    "a small effect size, but nonetheless, a statistically significant effect."
   ]
  },
  {
   "cell_type": "code",
   "execution_count": null,
   "metadata": {
    "collapsed": true
   },
   "outputs": [],
   "source": []
  }
 ],
 "metadata": {
  "kernelspec": {
   "display_name": "Python 2",
   "language": "python",
   "name": "python2"
  },
  "language_info": {
   "codemirror_mode": {
    "name": "ipython",
    "version": 2
   },
   "file_extension": ".py",
   "mimetype": "text/x-python",
   "name": "python",
   "nbconvert_exporter": "python",
   "pygments_lexer": "ipython2",
   "version": "2.7.11"
  }
 },
 "nbformat": 4,
 "nbformat_minor": 0
}
