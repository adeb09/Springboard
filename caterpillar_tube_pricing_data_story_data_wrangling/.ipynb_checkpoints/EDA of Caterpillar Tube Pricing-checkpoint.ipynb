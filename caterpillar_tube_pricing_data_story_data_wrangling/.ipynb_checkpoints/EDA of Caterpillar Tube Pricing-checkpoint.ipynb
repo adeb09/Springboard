{
 "cells": [
  {
   "cell_type": "markdown",
   "metadata": {},
   "source": [
    "# EDA of Caterpillar Tube Pricing\n",
    "https://www.kaggle.com/c/caterpillar-tube-pricing/data"
   ]
  },
  {
   "cell_type": "code",
   "execution_count": 1,
   "metadata": {
    "collapsed": false
   },
   "outputs": [
    {
     "data": {
      "text/html": [
       "<style>body {\n",
       "    margin: 0;\n",
       "    font-family: Helvetica;\n",
       "}\n",
       "table.dataframe {\n",
       "    border-collapse: collapse;\n",
       "    border: none;\n",
       "}\n",
       "table.dataframe tr {\n",
       "    border: none;\n",
       "}\n",
       "table.dataframe td, table.dataframe th {\n",
       "    margin: 0;\n",
       "    border: 1px solid white;\n",
       "    padding-left: 0.25em;\n",
       "    padding-right: 0.25em;\n",
       "}\n",
       "table.dataframe th:not(:empty) {\n",
       "    background-color: #fec;\n",
       "    text-align: left;\n",
       "    font-weight: normal;\n",
       "}\n",
       "table.dataframe tr:nth-child(2) th:empty {\n",
       "    border-left: none;\n",
       "    border-right: 1px dashed #888;\n",
       "}\n",
       "table.dataframe td {\n",
       "    border: 2px solid #ccf;\n",
       "    background-color: #f4f4ff;\n",
       "}\n",
       "h3 {\n",
       "    color: white;\n",
       "    background-color: black;\n",
       "    padding: 0.5em;\n",
       "}\n",
       "</style>"
      ],
      "text/plain": [
       "<IPython.core.display.HTML object>"
      ]
     },
     "execution_count": 1,
     "metadata": {},
     "output_type": "execute_result"
    }
   ],
   "source": [
    "%matplotlib inline\n",
    "import matplotlib.pyplot as plt\n",
    "import numpy as np\n",
    "import pandas as pd\n",
    "import os\n",
    "from IPython.core.display import HTML\n",
    "css = open('style-table.css').read() + open('style-notebook.css').read()\n",
    "HTML('<style>{}</style>'.format(css))"
   ]
  },
  {
   "cell_type": "code",
   "execution_count": 2,
   "metadata": {
    "collapsed": true
   },
   "outputs": [],
   "source": [
    "def load_data(dir):\n",
    "    #LOAD DATA from dir that contains data files in csv format\n",
    "    files = os.listdir(dir)\n",
    "    #initialize a dictionary to store csv files\n",
    "    data_dict = {}\n",
    "    for fil in files:\n",
    "        if fil[-3:] == 'csv':\n",
    "            filePath = dir + '\\\\' + fil\n",
    "            data_dict[fil[:-4]] = pd.DataFrame.from_csv(filePath)\n",
    "    return data_dict\n",
    "\n",
    "def display_loaded_data(dict):\n",
    "    for key in dict.keys():\n",
    "        print key"
   ]
  },
  {
   "cell_type": "code",
   "execution_count": 3,
   "metadata": {
    "collapsed": false
   },
   "outputs": [
    {
     "name": "stdout",
     "output_type": "stream",
     "text": [
      "type_end_form\n",
      "bill_of_materials\n",
      "type_connection\n",
      "comp_hfl\n",
      "train_set\n",
      "comp_nut\n",
      "tube\n",
      "comp_adaptor\n",
      "tube_end_form\n",
      "type_component\n",
      "comp_elbow\n",
      "comp_sleeve\n",
      "comp_other\n",
      "comp_threaded\n",
      "components\n",
      "comp_straight\n",
      "comp_boss\n",
      "comp_float\n",
      "specs\n",
      "comp_tee\n",
      "test_set\n"
     ]
    }
   ],
   "source": [
    "currentDir = os.getcwd() + '\\\\competition_data'\n",
    "data_dict = load_data(currentDir)\n",
    "display_loaded_data(data_dict)"
   ]
  },
  {
   "cell_type": "code",
   "execution_count": 4,
   "metadata": {
    "collapsed": false
   },
   "outputs": [],
   "source": [
    "#create all the variables for the dataframes in the data_dict\n",
    "for df in data_dict.keys():\n",
    "    command = str(df) + '_df' + ' = data_dict[\"' + str(df) + '\"]'\n",
    "    #print command\n",
    "    exec(command)"
   ]
  },
  {
   "cell_type": "code",
   "execution_count": 5,
   "metadata": {
    "collapsed": false
   },
   "outputs": [
    {
     "data": {
      "text/html": [
       "<div>\n",
       "<table border=\"1\" class=\"dataframe\">\n",
       "  <thead>\n",
       "    <tr style=\"text-align: right;\">\n",
       "      <th></th>\n",
       "      <th>supplier</th>\n",
       "      <th>quote_date</th>\n",
       "      <th>annual_usage</th>\n",
       "      <th>min_order_quantity</th>\n",
       "      <th>bracket_pricing</th>\n",
       "      <th>quantity</th>\n",
       "      <th>cost</th>\n",
       "    </tr>\n",
       "    <tr>\n",
       "      <th>tube_assembly_id</th>\n",
       "      <th></th>\n",
       "      <th></th>\n",
       "      <th></th>\n",
       "      <th></th>\n",
       "      <th></th>\n",
       "      <th></th>\n",
       "      <th></th>\n",
       "    </tr>\n",
       "  </thead>\n",
       "  <tbody>\n",
       "    <tr>\n",
       "      <th>TA-00002</th>\n",
       "      <td>S-0066</td>\n",
       "      <td>2013-07-07</td>\n",
       "      <td>0</td>\n",
       "      <td>0</td>\n",
       "      <td>Yes</td>\n",
       "      <td>1</td>\n",
       "      <td>21.905933</td>\n",
       "    </tr>\n",
       "    <tr>\n",
       "      <th>TA-00002</th>\n",
       "      <td>S-0066</td>\n",
       "      <td>2013-07-07</td>\n",
       "      <td>0</td>\n",
       "      <td>0</td>\n",
       "      <td>Yes</td>\n",
       "      <td>2</td>\n",
       "      <td>12.341214</td>\n",
       "    </tr>\n",
       "    <tr>\n",
       "      <th>TA-00002</th>\n",
       "      <td>S-0066</td>\n",
       "      <td>2013-07-07</td>\n",
       "      <td>0</td>\n",
       "      <td>0</td>\n",
       "      <td>Yes</td>\n",
       "      <td>5</td>\n",
       "      <td>6.601826</td>\n",
       "    </tr>\n",
       "    <tr>\n",
       "      <th>TA-00002</th>\n",
       "      <td>S-0066</td>\n",
       "      <td>2013-07-07</td>\n",
       "      <td>0</td>\n",
       "      <td>0</td>\n",
       "      <td>Yes</td>\n",
       "      <td>10</td>\n",
       "      <td>4.687770</td>\n",
       "    </tr>\n",
       "    <tr>\n",
       "      <th>TA-00002</th>\n",
       "      <td>S-0066</td>\n",
       "      <td>2013-07-07</td>\n",
       "      <td>0</td>\n",
       "      <td>0</td>\n",
       "      <td>Yes</td>\n",
       "      <td>25</td>\n",
       "      <td>3.541561</td>\n",
       "    </tr>\n",
       "  </tbody>\n",
       "</table>\n",
       "</div>"
      ],
      "text/plain": [
       "                 supplier  quote_date  annual_usage  min_order_quantity  \\\n",
       "tube_assembly_id                                                          \n",
       "TA-00002           S-0066  2013-07-07             0                   0   \n",
       "TA-00002           S-0066  2013-07-07             0                   0   \n",
       "TA-00002           S-0066  2013-07-07             0                   0   \n",
       "TA-00002           S-0066  2013-07-07             0                   0   \n",
       "TA-00002           S-0066  2013-07-07             0                   0   \n",
       "\n",
       "                 bracket_pricing  quantity       cost  \n",
       "tube_assembly_id                                       \n",
       "TA-00002                     Yes         1  21.905933  \n",
       "TA-00002                     Yes         2  12.341214  \n",
       "TA-00002                     Yes         5   6.601826  \n",
       "TA-00002                     Yes        10   4.687770  \n",
       "TA-00002                     Yes        25   3.541561  "
      ]
     },
     "execution_count": 5,
     "metadata": {},
     "output_type": "execute_result"
    }
   ],
   "source": [
    "train_set_df.head()"
   ]
  },
  {
   "cell_type": "code",
   "execution_count": 6,
   "metadata": {
    "collapsed": false
   },
   "outputs": [
    {
     "data": {
      "text/html": [
       "<div>\n",
       "<table border=\"1\" class=\"dataframe\">\n",
       "  <thead>\n",
       "    <tr style=\"text-align: right;\">\n",
       "      <th></th>\n",
       "      <th>tube_assembly_id</th>\n",
       "      <th>supplier</th>\n",
       "      <th>quote_date</th>\n",
       "      <th>annual_usage</th>\n",
       "      <th>min_order_quantity</th>\n",
       "      <th>bracket_pricing</th>\n",
       "      <th>quantity</th>\n",
       "      <th>cost</th>\n",
       "    </tr>\n",
       "  </thead>\n",
       "  <tbody>\n",
       "    <tr>\n",
       "      <th>0</th>\n",
       "      <td>TA-00002</td>\n",
       "      <td>S-0066</td>\n",
       "      <td>2013-07-07</td>\n",
       "      <td>0</td>\n",
       "      <td>0</td>\n",
       "      <td>Yes</td>\n",
       "      <td>1</td>\n",
       "      <td>21.905933</td>\n",
       "    </tr>\n",
       "    <tr>\n",
       "      <th>1</th>\n",
       "      <td>TA-00002</td>\n",
       "      <td>S-0066</td>\n",
       "      <td>2013-07-07</td>\n",
       "      <td>0</td>\n",
       "      <td>0</td>\n",
       "      <td>Yes</td>\n",
       "      <td>2</td>\n",
       "      <td>12.341214</td>\n",
       "    </tr>\n",
       "    <tr>\n",
       "      <th>2</th>\n",
       "      <td>TA-00002</td>\n",
       "      <td>S-0066</td>\n",
       "      <td>2013-07-07</td>\n",
       "      <td>0</td>\n",
       "      <td>0</td>\n",
       "      <td>Yes</td>\n",
       "      <td>5</td>\n",
       "      <td>6.601826</td>\n",
       "    </tr>\n",
       "    <tr>\n",
       "      <th>3</th>\n",
       "      <td>TA-00002</td>\n",
       "      <td>S-0066</td>\n",
       "      <td>2013-07-07</td>\n",
       "      <td>0</td>\n",
       "      <td>0</td>\n",
       "      <td>Yes</td>\n",
       "      <td>10</td>\n",
       "      <td>4.687770</td>\n",
       "    </tr>\n",
       "    <tr>\n",
       "      <th>4</th>\n",
       "      <td>TA-00002</td>\n",
       "      <td>S-0066</td>\n",
       "      <td>2013-07-07</td>\n",
       "      <td>0</td>\n",
       "      <td>0</td>\n",
       "      <td>Yes</td>\n",
       "      <td>25</td>\n",
       "      <td>3.541561</td>\n",
       "    </tr>\n",
       "  </tbody>\n",
       "</table>\n",
       "</div>"
      ],
      "text/plain": [
       "  tube_assembly_id supplier  quote_date  annual_usage  min_order_quantity  \\\n",
       "0         TA-00002   S-0066  2013-07-07             0                   0   \n",
       "1         TA-00002   S-0066  2013-07-07             0                   0   \n",
       "2         TA-00002   S-0066  2013-07-07             0                   0   \n",
       "3         TA-00002   S-0066  2013-07-07             0                   0   \n",
       "4         TA-00002   S-0066  2013-07-07             0                   0   \n",
       "\n",
       "  bracket_pricing  quantity       cost  \n",
       "0             Yes         1  21.905933  \n",
       "1             Yes         2  12.341214  \n",
       "2             Yes         5   6.601826  \n",
       "3             Yes        10   4.687770  \n",
       "4             Yes        25   3.541561  "
      ]
     },
     "execution_count": 6,
     "metadata": {},
     "output_type": "execute_result"
    }
   ],
   "source": [
    "train_set_df = train_set_df.reset_index('tube_assembly_id')\n",
    "train_set_df.head()"
   ]
  },
  {
   "cell_type": "code",
   "execution_count": 7,
   "metadata": {
    "collapsed": false
   },
   "outputs": [
    {
     "data": {
      "text/html": [
       "<div>\n",
       "<table border=\"1\" class=\"dataframe\">\n",
       "  <thead>\n",
       "    <tr style=\"text-align: right;\">\n",
       "      <th></th>\n",
       "      <th>material_id</th>\n",
       "      <th>diameter</th>\n",
       "      <th>wall</th>\n",
       "      <th>length</th>\n",
       "      <th>num_bends</th>\n",
       "      <th>bend_radius</th>\n",
       "      <th>end_a_1x</th>\n",
       "      <th>end_a_2x</th>\n",
       "      <th>end_x_1x</th>\n",
       "      <th>end_x_2x</th>\n",
       "      <th>end_a</th>\n",
       "      <th>end_x</th>\n",
       "      <th>num_boss</th>\n",
       "      <th>num_bracket</th>\n",
       "      <th>other</th>\n",
       "    </tr>\n",
       "    <tr>\n",
       "      <th>tube_assembly_id</th>\n",
       "      <th></th>\n",
       "      <th></th>\n",
       "      <th></th>\n",
       "      <th></th>\n",
       "      <th></th>\n",
       "      <th></th>\n",
       "      <th></th>\n",
       "      <th></th>\n",
       "      <th></th>\n",
       "      <th></th>\n",
       "      <th></th>\n",
       "      <th></th>\n",
       "      <th></th>\n",
       "      <th></th>\n",
       "      <th></th>\n",
       "    </tr>\n",
       "  </thead>\n",
       "  <tbody>\n",
       "    <tr>\n",
       "      <th>TA-00001</th>\n",
       "      <td>SP-0035</td>\n",
       "      <td>12.70</td>\n",
       "      <td>1.65</td>\n",
       "      <td>164</td>\n",
       "      <td>5</td>\n",
       "      <td>38.10</td>\n",
       "      <td>N</td>\n",
       "      <td>N</td>\n",
       "      <td>N</td>\n",
       "      <td>N</td>\n",
       "      <td>EF-003</td>\n",
       "      <td>EF-003</td>\n",
       "      <td>0</td>\n",
       "      <td>0</td>\n",
       "      <td>0</td>\n",
       "    </tr>\n",
       "    <tr>\n",
       "      <th>TA-00002</th>\n",
       "      <td>SP-0019</td>\n",
       "      <td>6.35</td>\n",
       "      <td>0.71</td>\n",
       "      <td>137</td>\n",
       "      <td>8</td>\n",
       "      <td>19.05</td>\n",
       "      <td>N</td>\n",
       "      <td>N</td>\n",
       "      <td>N</td>\n",
       "      <td>N</td>\n",
       "      <td>EF-008</td>\n",
       "      <td>EF-008</td>\n",
       "      <td>0</td>\n",
       "      <td>0</td>\n",
       "      <td>0</td>\n",
       "    </tr>\n",
       "    <tr>\n",
       "      <th>TA-00003</th>\n",
       "      <td>SP-0019</td>\n",
       "      <td>6.35</td>\n",
       "      <td>0.71</td>\n",
       "      <td>127</td>\n",
       "      <td>7</td>\n",
       "      <td>19.05</td>\n",
       "      <td>N</td>\n",
       "      <td>N</td>\n",
       "      <td>N</td>\n",
       "      <td>N</td>\n",
       "      <td>EF-008</td>\n",
       "      <td>EF-008</td>\n",
       "      <td>0</td>\n",
       "      <td>0</td>\n",
       "      <td>0</td>\n",
       "    </tr>\n",
       "    <tr>\n",
       "      <th>TA-00004</th>\n",
       "      <td>SP-0019</td>\n",
       "      <td>6.35</td>\n",
       "      <td>0.71</td>\n",
       "      <td>137</td>\n",
       "      <td>9</td>\n",
       "      <td>19.05</td>\n",
       "      <td>N</td>\n",
       "      <td>N</td>\n",
       "      <td>N</td>\n",
       "      <td>N</td>\n",
       "      <td>EF-008</td>\n",
       "      <td>EF-008</td>\n",
       "      <td>0</td>\n",
       "      <td>0</td>\n",
       "      <td>0</td>\n",
       "    </tr>\n",
       "    <tr>\n",
       "      <th>TA-00005</th>\n",
       "      <td>SP-0029</td>\n",
       "      <td>19.05</td>\n",
       "      <td>1.24</td>\n",
       "      <td>109</td>\n",
       "      <td>4</td>\n",
       "      <td>50.80</td>\n",
       "      <td>N</td>\n",
       "      <td>N</td>\n",
       "      <td>N</td>\n",
       "      <td>N</td>\n",
       "      <td>EF-003</td>\n",
       "      <td>EF-003</td>\n",
       "      <td>0</td>\n",
       "      <td>0</td>\n",
       "      <td>0</td>\n",
       "    </tr>\n",
       "  </tbody>\n",
       "</table>\n",
       "</div>"
      ],
      "text/plain": [
       "                 material_id  diameter  wall  length  num_bends  bend_radius  \\\n",
       "tube_assembly_id                                                               \n",
       "TA-00001             SP-0035     12.70  1.65     164          5        38.10   \n",
       "TA-00002             SP-0019      6.35  0.71     137          8        19.05   \n",
       "TA-00003             SP-0019      6.35  0.71     127          7        19.05   \n",
       "TA-00004             SP-0019      6.35  0.71     137          9        19.05   \n",
       "TA-00005             SP-0029     19.05  1.24     109          4        50.80   \n",
       "\n",
       "                 end_a_1x end_a_2x end_x_1x end_x_2x   end_a   end_x  \\\n",
       "tube_assembly_id                                                       \n",
       "TA-00001                N        N        N        N  EF-003  EF-003   \n",
       "TA-00002                N        N        N        N  EF-008  EF-008   \n",
       "TA-00003                N        N        N        N  EF-008  EF-008   \n",
       "TA-00004                N        N        N        N  EF-008  EF-008   \n",
       "TA-00005                N        N        N        N  EF-003  EF-003   \n",
       "\n",
       "                  num_boss  num_bracket  other  \n",
       "tube_assembly_id                                \n",
       "TA-00001                 0            0      0  \n",
       "TA-00002                 0            0      0  \n",
       "TA-00003                 0            0      0  \n",
       "TA-00004                 0            0      0  \n",
       "TA-00005                 0            0      0  "
      ]
     },
     "execution_count": 7,
     "metadata": {},
     "output_type": "execute_result"
    }
   ],
   "source": [
    "tube_df.head()"
   ]
  },
  {
   "cell_type": "code",
   "execution_count": 8,
   "metadata": {
    "collapsed": false
   },
   "outputs": [
    {
     "data": {
      "text/html": [
       "<div>\n",
       "<table border=\"1\" class=\"dataframe\">\n",
       "  <thead>\n",
       "    <tr style=\"text-align: right;\">\n",
       "      <th></th>\n",
       "      <th>component_id_1</th>\n",
       "      <th>quantity_1</th>\n",
       "      <th>component_id_2</th>\n",
       "      <th>quantity_2</th>\n",
       "      <th>component_id_3</th>\n",
       "      <th>quantity_3</th>\n",
       "      <th>component_id_4</th>\n",
       "      <th>quantity_4</th>\n",
       "      <th>component_id_5</th>\n",
       "      <th>quantity_5</th>\n",
       "      <th>component_id_6</th>\n",
       "      <th>quantity_6</th>\n",
       "      <th>component_id_7</th>\n",
       "      <th>quantity_7</th>\n",
       "      <th>component_id_8</th>\n",
       "      <th>quantity_8</th>\n",
       "    </tr>\n",
       "    <tr>\n",
       "      <th>tube_assembly_id</th>\n",
       "      <th></th>\n",
       "      <th></th>\n",
       "      <th></th>\n",
       "      <th></th>\n",
       "      <th></th>\n",
       "      <th></th>\n",
       "      <th></th>\n",
       "      <th></th>\n",
       "      <th></th>\n",
       "      <th></th>\n",
       "      <th></th>\n",
       "      <th></th>\n",
       "      <th></th>\n",
       "      <th></th>\n",
       "      <th></th>\n",
       "      <th></th>\n",
       "    </tr>\n",
       "  </thead>\n",
       "  <tbody>\n",
       "    <tr>\n",
       "      <th>TA-00001</th>\n",
       "      <td>C-1622</td>\n",
       "      <td>2</td>\n",
       "      <td>C-1629</td>\n",
       "      <td>2</td>\n",
       "      <td>NaN</td>\n",
       "      <td>NaN</td>\n",
       "      <td>NaN</td>\n",
       "      <td>NaN</td>\n",
       "      <td>NaN</td>\n",
       "      <td>NaN</td>\n",
       "      <td>NaN</td>\n",
       "      <td>NaN</td>\n",
       "      <td>NaN</td>\n",
       "      <td>NaN</td>\n",
       "      <td>NaN</td>\n",
       "      <td>NaN</td>\n",
       "    </tr>\n",
       "    <tr>\n",
       "      <th>TA-00002</th>\n",
       "      <td>C-1312</td>\n",
       "      <td>2</td>\n",
       "      <td>NaN</td>\n",
       "      <td>NaN</td>\n",
       "      <td>NaN</td>\n",
       "      <td>NaN</td>\n",
       "      <td>NaN</td>\n",
       "      <td>NaN</td>\n",
       "      <td>NaN</td>\n",
       "      <td>NaN</td>\n",
       "      <td>NaN</td>\n",
       "      <td>NaN</td>\n",
       "      <td>NaN</td>\n",
       "      <td>NaN</td>\n",
       "      <td>NaN</td>\n",
       "      <td>NaN</td>\n",
       "    </tr>\n",
       "    <tr>\n",
       "      <th>TA-00003</th>\n",
       "      <td>C-1312</td>\n",
       "      <td>2</td>\n",
       "      <td>NaN</td>\n",
       "      <td>NaN</td>\n",
       "      <td>NaN</td>\n",
       "      <td>NaN</td>\n",
       "      <td>NaN</td>\n",
       "      <td>NaN</td>\n",
       "      <td>NaN</td>\n",
       "      <td>NaN</td>\n",
       "      <td>NaN</td>\n",
       "      <td>NaN</td>\n",
       "      <td>NaN</td>\n",
       "      <td>NaN</td>\n",
       "      <td>NaN</td>\n",
       "      <td>NaN</td>\n",
       "    </tr>\n",
       "    <tr>\n",
       "      <th>TA-00004</th>\n",
       "      <td>C-1312</td>\n",
       "      <td>2</td>\n",
       "      <td>NaN</td>\n",
       "      <td>NaN</td>\n",
       "      <td>NaN</td>\n",
       "      <td>NaN</td>\n",
       "      <td>NaN</td>\n",
       "      <td>NaN</td>\n",
       "      <td>NaN</td>\n",
       "      <td>NaN</td>\n",
       "      <td>NaN</td>\n",
       "      <td>NaN</td>\n",
       "      <td>NaN</td>\n",
       "      <td>NaN</td>\n",
       "      <td>NaN</td>\n",
       "      <td>NaN</td>\n",
       "    </tr>\n",
       "    <tr>\n",
       "      <th>TA-00005</th>\n",
       "      <td>C-1624</td>\n",
       "      <td>1</td>\n",
       "      <td>C-1631</td>\n",
       "      <td>1</td>\n",
       "      <td>C-1641</td>\n",
       "      <td>1</td>\n",
       "      <td>NaN</td>\n",
       "      <td>NaN</td>\n",
       "      <td>NaN</td>\n",
       "      <td>NaN</td>\n",
       "      <td>NaN</td>\n",
       "      <td>NaN</td>\n",
       "      <td>NaN</td>\n",
       "      <td>NaN</td>\n",
       "      <td>NaN</td>\n",
       "      <td>NaN</td>\n",
       "    </tr>\n",
       "  </tbody>\n",
       "</table>\n",
       "</div>"
      ],
      "text/plain": [
       "                 component_id_1  quantity_1 component_id_2  quantity_2  \\\n",
       "tube_assembly_id                                                         \n",
       "TA-00001                 C-1622           2         C-1629           2   \n",
       "TA-00002                 C-1312           2            NaN         NaN   \n",
       "TA-00003                 C-1312           2            NaN         NaN   \n",
       "TA-00004                 C-1312           2            NaN         NaN   \n",
       "TA-00005                 C-1624           1         C-1631           1   \n",
       "\n",
       "                 component_id_3  quantity_3 component_id_4  quantity_4  \\\n",
       "tube_assembly_id                                                         \n",
       "TA-00001                    NaN         NaN            NaN         NaN   \n",
       "TA-00002                    NaN         NaN            NaN         NaN   \n",
       "TA-00003                    NaN         NaN            NaN         NaN   \n",
       "TA-00004                    NaN         NaN            NaN         NaN   \n",
       "TA-00005                 C-1641           1            NaN         NaN   \n",
       "\n",
       "                 component_id_5  quantity_5 component_id_6  quantity_6  \\\n",
       "tube_assembly_id                                                         \n",
       "TA-00001                    NaN         NaN            NaN         NaN   \n",
       "TA-00002                    NaN         NaN            NaN         NaN   \n",
       "TA-00003                    NaN         NaN            NaN         NaN   \n",
       "TA-00004                    NaN         NaN            NaN         NaN   \n",
       "TA-00005                    NaN         NaN            NaN         NaN   \n",
       "\n",
       "                 component_id_7  quantity_7 component_id_8  quantity_8  \n",
       "tube_assembly_id                                                        \n",
       "TA-00001                    NaN         NaN            NaN         NaN  \n",
       "TA-00002                    NaN         NaN            NaN         NaN  \n",
       "TA-00003                    NaN         NaN            NaN         NaN  \n",
       "TA-00004                    NaN         NaN            NaN         NaN  \n",
       "TA-00005                    NaN         NaN            NaN         NaN  "
      ]
     },
     "execution_count": 8,
     "metadata": {},
     "output_type": "execute_result"
    }
   ],
   "source": [
    "bill_of_materials_df.head()"
   ]
  },
  {
   "cell_type": "code",
   "execution_count": 9,
   "metadata": {
    "collapsed": false
   },
   "outputs": [
    {
     "data": {
      "text/html": [
       "<div>\n",
       "<table border=\"1\" class=\"dataframe\">\n",
       "  <thead>\n",
       "    <tr style=\"text-align: right;\">\n",
       "      <th></th>\n",
       "      <th>component_id_1</th>\n",
       "      <th>quantity_1</th>\n",
       "      <th>component_id_2</th>\n",
       "      <th>quantity_2</th>\n",
       "      <th>component_id_3</th>\n",
       "      <th>quantity_3</th>\n",
       "      <th>component_id_4</th>\n",
       "      <th>quantity_4</th>\n",
       "      <th>component_id_5</th>\n",
       "      <th>quantity_5</th>\n",
       "      <th>component_id_6</th>\n",
       "      <th>quantity_6</th>\n",
       "      <th>component_id_7</th>\n",
       "      <th>quantity_7</th>\n",
       "      <th>component_id_8</th>\n",
       "      <th>quantity_8</th>\n",
       "    </tr>\n",
       "    <tr>\n",
       "      <th>tube_assembly_id</th>\n",
       "      <th></th>\n",
       "      <th></th>\n",
       "      <th></th>\n",
       "      <th></th>\n",
       "      <th></th>\n",
       "      <th></th>\n",
       "      <th></th>\n",
       "      <th></th>\n",
       "      <th></th>\n",
       "      <th></th>\n",
       "      <th></th>\n",
       "      <th></th>\n",
       "      <th></th>\n",
       "      <th></th>\n",
       "      <th></th>\n",
       "      <th></th>\n",
       "    </tr>\n",
       "  </thead>\n",
       "  <tbody>\n",
       "    <tr>\n",
       "      <th>TA-00001</th>\n",
       "      <td>C-1622</td>\n",
       "      <td>2</td>\n",
       "      <td>C-1629</td>\n",
       "      <td>2</td>\n",
       "      <td>0</td>\n",
       "      <td>0</td>\n",
       "      <td>0</td>\n",
       "      <td>0</td>\n",
       "      <td>0</td>\n",
       "      <td>0</td>\n",
       "      <td>0</td>\n",
       "      <td>0</td>\n",
       "      <td>0</td>\n",
       "      <td>0</td>\n",
       "      <td>0</td>\n",
       "      <td>0</td>\n",
       "    </tr>\n",
       "    <tr>\n",
       "      <th>TA-00002</th>\n",
       "      <td>C-1312</td>\n",
       "      <td>2</td>\n",
       "      <td>0</td>\n",
       "      <td>0</td>\n",
       "      <td>0</td>\n",
       "      <td>0</td>\n",
       "      <td>0</td>\n",
       "      <td>0</td>\n",
       "      <td>0</td>\n",
       "      <td>0</td>\n",
       "      <td>0</td>\n",
       "      <td>0</td>\n",
       "      <td>0</td>\n",
       "      <td>0</td>\n",
       "      <td>0</td>\n",
       "      <td>0</td>\n",
       "    </tr>\n",
       "    <tr>\n",
       "      <th>TA-00003</th>\n",
       "      <td>C-1312</td>\n",
       "      <td>2</td>\n",
       "      <td>0</td>\n",
       "      <td>0</td>\n",
       "      <td>0</td>\n",
       "      <td>0</td>\n",
       "      <td>0</td>\n",
       "      <td>0</td>\n",
       "      <td>0</td>\n",
       "      <td>0</td>\n",
       "      <td>0</td>\n",
       "      <td>0</td>\n",
       "      <td>0</td>\n",
       "      <td>0</td>\n",
       "      <td>0</td>\n",
       "      <td>0</td>\n",
       "    </tr>\n",
       "    <tr>\n",
       "      <th>TA-00004</th>\n",
       "      <td>C-1312</td>\n",
       "      <td>2</td>\n",
       "      <td>0</td>\n",
       "      <td>0</td>\n",
       "      <td>0</td>\n",
       "      <td>0</td>\n",
       "      <td>0</td>\n",
       "      <td>0</td>\n",
       "      <td>0</td>\n",
       "      <td>0</td>\n",
       "      <td>0</td>\n",
       "      <td>0</td>\n",
       "      <td>0</td>\n",
       "      <td>0</td>\n",
       "      <td>0</td>\n",
       "      <td>0</td>\n",
       "    </tr>\n",
       "    <tr>\n",
       "      <th>TA-00005</th>\n",
       "      <td>C-1624</td>\n",
       "      <td>1</td>\n",
       "      <td>C-1631</td>\n",
       "      <td>1</td>\n",
       "      <td>C-1641</td>\n",
       "      <td>1</td>\n",
       "      <td>0</td>\n",
       "      <td>0</td>\n",
       "      <td>0</td>\n",
       "      <td>0</td>\n",
       "      <td>0</td>\n",
       "      <td>0</td>\n",
       "      <td>0</td>\n",
       "      <td>0</td>\n",
       "      <td>0</td>\n",
       "      <td>0</td>\n",
       "    </tr>\n",
       "  </tbody>\n",
       "</table>\n",
       "</div>"
      ],
      "text/plain": [
       "                 component_id_1  quantity_1 component_id_2  quantity_2  \\\n",
       "tube_assembly_id                                                         \n",
       "TA-00001                 C-1622           2         C-1629           2   \n",
       "TA-00002                 C-1312           2              0           0   \n",
       "TA-00003                 C-1312           2              0           0   \n",
       "TA-00004                 C-1312           2              0           0   \n",
       "TA-00005                 C-1624           1         C-1631           1   \n",
       "\n",
       "                 component_id_3  quantity_3 component_id_4  quantity_4  \\\n",
       "tube_assembly_id                                                         \n",
       "TA-00001                      0           0              0           0   \n",
       "TA-00002                      0           0              0           0   \n",
       "TA-00003                      0           0              0           0   \n",
       "TA-00004                      0           0              0           0   \n",
       "TA-00005                 C-1641           1              0           0   \n",
       "\n",
       "                 component_id_5  quantity_5 component_id_6  quantity_6  \\\n",
       "tube_assembly_id                                                         \n",
       "TA-00001                      0           0              0           0   \n",
       "TA-00002                      0           0              0           0   \n",
       "TA-00003                      0           0              0           0   \n",
       "TA-00004                      0           0              0           0   \n",
       "TA-00005                      0           0              0           0   \n",
       "\n",
       "                 component_id_7  quantity_7 component_id_8  quantity_8  \n",
       "tube_assembly_id                                                        \n",
       "TA-00001                      0           0              0           0  \n",
       "TA-00002                      0           0              0           0  \n",
       "TA-00003                      0           0              0           0  \n",
       "TA-00004                      0           0              0           0  \n",
       "TA-00005                      0           0              0           0  "
      ]
     },
     "execution_count": 9,
     "metadata": {},
     "output_type": "execute_result"
    }
   ],
   "source": [
    "#It makes sense to fill in all the NaN's as 0's in this dataframe since it is a count\n",
    "bill_of_materials_df = bill_of_materials_df.fillna(0)\n",
    "bill_of_materials_df.head()"
   ]
  },
  {
   "cell_type": "code",
   "execution_count": 10,
   "metadata": {
    "collapsed": false
   },
   "outputs": [
    {
     "data": {
      "text/html": [
       "<div>\n",
       "<table border=\"1\" class=\"dataframe\">\n",
       "  <thead>\n",
       "    <tr style=\"text-align: right;\">\n",
       "      <th></th>\n",
       "      <th>spec1</th>\n",
       "      <th>spec2</th>\n",
       "      <th>spec3</th>\n",
       "      <th>spec4</th>\n",
       "      <th>spec5</th>\n",
       "      <th>spec6</th>\n",
       "      <th>spec7</th>\n",
       "      <th>spec8</th>\n",
       "      <th>spec9</th>\n",
       "      <th>spec10</th>\n",
       "    </tr>\n",
       "    <tr>\n",
       "      <th>tube_assembly_id</th>\n",
       "      <th></th>\n",
       "      <th></th>\n",
       "      <th></th>\n",
       "      <th></th>\n",
       "      <th></th>\n",
       "      <th></th>\n",
       "      <th></th>\n",
       "      <th></th>\n",
       "      <th></th>\n",
       "      <th></th>\n",
       "    </tr>\n",
       "  </thead>\n",
       "  <tbody>\n",
       "    <tr>\n",
       "      <th>TA-00001</th>\n",
       "      <td>NaN</td>\n",
       "      <td>NaN</td>\n",
       "      <td>NaN</td>\n",
       "      <td>NaN</td>\n",
       "      <td>NaN</td>\n",
       "      <td>NaN</td>\n",
       "      <td>NaN</td>\n",
       "      <td>NaN</td>\n",
       "      <td>NaN</td>\n",
       "      <td>NaN</td>\n",
       "    </tr>\n",
       "    <tr>\n",
       "      <th>TA-00002</th>\n",
       "      <td>NaN</td>\n",
       "      <td>NaN</td>\n",
       "      <td>NaN</td>\n",
       "      <td>NaN</td>\n",
       "      <td>NaN</td>\n",
       "      <td>NaN</td>\n",
       "      <td>NaN</td>\n",
       "      <td>NaN</td>\n",
       "      <td>NaN</td>\n",
       "      <td>NaN</td>\n",
       "    </tr>\n",
       "    <tr>\n",
       "      <th>TA-00003</th>\n",
       "      <td>NaN</td>\n",
       "      <td>NaN</td>\n",
       "      <td>NaN</td>\n",
       "      <td>NaN</td>\n",
       "      <td>NaN</td>\n",
       "      <td>NaN</td>\n",
       "      <td>NaN</td>\n",
       "      <td>NaN</td>\n",
       "      <td>NaN</td>\n",
       "      <td>NaN</td>\n",
       "    </tr>\n",
       "    <tr>\n",
       "      <th>TA-00004</th>\n",
       "      <td>NaN</td>\n",
       "      <td>NaN</td>\n",
       "      <td>NaN</td>\n",
       "      <td>NaN</td>\n",
       "      <td>NaN</td>\n",
       "      <td>NaN</td>\n",
       "      <td>NaN</td>\n",
       "      <td>NaN</td>\n",
       "      <td>NaN</td>\n",
       "      <td>NaN</td>\n",
       "    </tr>\n",
       "    <tr>\n",
       "      <th>TA-00005</th>\n",
       "      <td>NaN</td>\n",
       "      <td>NaN</td>\n",
       "      <td>NaN</td>\n",
       "      <td>NaN</td>\n",
       "      <td>NaN</td>\n",
       "      <td>NaN</td>\n",
       "      <td>NaN</td>\n",
       "      <td>NaN</td>\n",
       "      <td>NaN</td>\n",
       "      <td>NaN</td>\n",
       "    </tr>\n",
       "  </tbody>\n",
       "</table>\n",
       "</div>"
      ],
      "text/plain": [
       "                 spec1 spec2 spec3 spec4 spec5 spec6 spec7 spec8 spec9 spec10\n",
       "tube_assembly_id                                                             \n",
       "TA-00001           NaN   NaN   NaN   NaN   NaN   NaN   NaN   NaN   NaN    NaN\n",
       "TA-00002           NaN   NaN   NaN   NaN   NaN   NaN   NaN   NaN   NaN    NaN\n",
       "TA-00003           NaN   NaN   NaN   NaN   NaN   NaN   NaN   NaN   NaN    NaN\n",
       "TA-00004           NaN   NaN   NaN   NaN   NaN   NaN   NaN   NaN   NaN    NaN\n",
       "TA-00005           NaN   NaN   NaN   NaN   NaN   NaN   NaN   NaN   NaN    NaN"
      ]
     },
     "execution_count": 10,
     "metadata": {},
     "output_type": "execute_result"
    }
   ],
   "source": [
    "specs_df.head()"
   ]
  },
  {
   "cell_type": "code",
   "execution_count": 11,
   "metadata": {
    "collapsed": false
   },
   "outputs": [
    {
     "data": {
      "text/html": [
       "<div>\n",
       "<table border=\"1\" class=\"dataframe\">\n",
       "  <thead>\n",
       "    <tr style=\"text-align: right;\">\n",
       "      <th></th>\n",
       "      <th>spec1</th>\n",
       "      <th>spec2</th>\n",
       "      <th>spec3</th>\n",
       "      <th>spec4</th>\n",
       "      <th>spec5</th>\n",
       "      <th>spec6</th>\n",
       "      <th>spec7</th>\n",
       "      <th>spec8</th>\n",
       "      <th>spec9</th>\n",
       "      <th>spec10</th>\n",
       "    </tr>\n",
       "    <tr>\n",
       "      <th>tube_assembly_id</th>\n",
       "      <th></th>\n",
       "      <th></th>\n",
       "      <th></th>\n",
       "      <th></th>\n",
       "      <th></th>\n",
       "      <th></th>\n",
       "      <th></th>\n",
       "      <th></th>\n",
       "      <th></th>\n",
       "      <th></th>\n",
       "    </tr>\n",
       "  </thead>\n",
       "  <tbody>\n",
       "    <tr>\n",
       "      <th>TA-00013</th>\n",
       "      <td>SP-0004</td>\n",
       "      <td>SP-0069</td>\n",
       "      <td>SP-0080</td>\n",
       "      <td>NaN</td>\n",
       "      <td>NaN</td>\n",
       "      <td>NaN</td>\n",
       "      <td>NaN</td>\n",
       "      <td>NaN</td>\n",
       "      <td>NaN</td>\n",
       "      <td>NaN</td>\n",
       "    </tr>\n",
       "    <tr>\n",
       "      <th>TA-00015</th>\n",
       "      <td>SP-0063</td>\n",
       "      <td>SP-0069</td>\n",
       "      <td>SP-0080</td>\n",
       "      <td>NaN</td>\n",
       "      <td>NaN</td>\n",
       "      <td>NaN</td>\n",
       "      <td>NaN</td>\n",
       "      <td>NaN</td>\n",
       "      <td>NaN</td>\n",
       "      <td>NaN</td>\n",
       "    </tr>\n",
       "    <tr>\n",
       "      <th>TA-00018</th>\n",
       "      <td>SP-0007</td>\n",
       "      <td>SP-0058</td>\n",
       "      <td>SP-0070</td>\n",
       "      <td>SP-0080</td>\n",
       "      <td>NaN</td>\n",
       "      <td>NaN</td>\n",
       "      <td>NaN</td>\n",
       "      <td>NaN</td>\n",
       "      <td>NaN</td>\n",
       "      <td>NaN</td>\n",
       "    </tr>\n",
       "    <tr>\n",
       "      <th>TA-00019</th>\n",
       "      <td>SP-0080</td>\n",
       "      <td>NaN</td>\n",
       "      <td>NaN</td>\n",
       "      <td>NaN</td>\n",
       "      <td>NaN</td>\n",
       "      <td>NaN</td>\n",
       "      <td>NaN</td>\n",
       "      <td>NaN</td>\n",
       "      <td>NaN</td>\n",
       "      <td>NaN</td>\n",
       "    </tr>\n",
       "    <tr>\n",
       "      <th>TA-00020</th>\n",
       "      <td>SP-0057</td>\n",
       "      <td>SP-0067</td>\n",
       "      <td>SP-0080</td>\n",
       "      <td>NaN</td>\n",
       "      <td>NaN</td>\n",
       "      <td>NaN</td>\n",
       "      <td>NaN</td>\n",
       "      <td>NaN</td>\n",
       "      <td>NaN</td>\n",
       "      <td>NaN</td>\n",
       "    </tr>\n",
       "  </tbody>\n",
       "</table>\n",
       "</div>"
      ],
      "text/plain": [
       "                    spec1    spec2    spec3    spec4 spec5 spec6 spec7 spec8  \\\n",
       "tube_assembly_id                                                               \n",
       "TA-00013          SP-0004  SP-0069  SP-0080      NaN   NaN   NaN   NaN   NaN   \n",
       "TA-00015          SP-0063  SP-0069  SP-0080      NaN   NaN   NaN   NaN   NaN   \n",
       "TA-00018          SP-0007  SP-0058  SP-0070  SP-0080   NaN   NaN   NaN   NaN   \n",
       "TA-00019          SP-0080      NaN      NaN      NaN   NaN   NaN   NaN   NaN   \n",
       "TA-00020          SP-0057  SP-0067  SP-0080      NaN   NaN   NaN   NaN   NaN   \n",
       "\n",
       "                 spec9 spec10  \n",
       "tube_assembly_id               \n",
       "TA-00013           NaN    NaN  \n",
       "TA-00015           NaN    NaN  \n",
       "TA-00018           NaN    NaN  \n",
       "TA-00019           NaN    NaN  \n",
       "TA-00020           NaN    NaN  "
      ]
     },
     "execution_count": 11,
     "metadata": {},
     "output_type": "execute_result"
    }
   ],
   "source": [
    "specs_df[specs_df.spec1.notnull()].head()"
   ]
  },
  {
   "cell_type": "code",
   "execution_count": 12,
   "metadata": {
    "collapsed": false
   },
   "outputs": [
    {
     "data": {
      "text/html": [
       "<div>\n",
       "<table border=\"1\" class=\"dataframe\">\n",
       "  <thead>\n",
       "    <tr style=\"text-align: right;\">\n",
       "      <th></th>\n",
       "      <th>forming</th>\n",
       "    </tr>\n",
       "    <tr>\n",
       "      <th>end_form_id</th>\n",
       "      <th></th>\n",
       "    </tr>\n",
       "  </thead>\n",
       "  <tbody>\n",
       "    <tr>\n",
       "      <th>EF-001</th>\n",
       "      <td>Yes</td>\n",
       "    </tr>\n",
       "    <tr>\n",
       "      <th>EF-002</th>\n",
       "      <td>No</td>\n",
       "    </tr>\n",
       "    <tr>\n",
       "      <th>EF-003</th>\n",
       "      <td>No</td>\n",
       "    </tr>\n",
       "    <tr>\n",
       "      <th>EF-004</th>\n",
       "      <td>No</td>\n",
       "    </tr>\n",
       "    <tr>\n",
       "      <th>EF-005</th>\n",
       "      <td>Yes</td>\n",
       "    </tr>\n",
       "  </tbody>\n",
       "</table>\n",
       "</div>"
      ],
      "text/plain": [
       "            forming\n",
       "end_form_id        \n",
       "EF-001          Yes\n",
       "EF-002           No\n",
       "EF-003           No\n",
       "EF-004           No\n",
       "EF-005          Yes"
      ]
     },
     "execution_count": 12,
     "metadata": {},
     "output_type": "execute_result"
    }
   ],
   "source": [
    "tube_end_form_df.head()"
   ]
  },
  {
   "cell_type": "code",
   "execution_count": 13,
   "metadata": {
    "collapsed": false
   },
   "outputs": [
    {
     "data": {
      "text/html": [
       "<div>\n",
       "<table border=\"1\" class=\"dataframe\">\n",
       "  <thead>\n",
       "    <tr style=\"text-align: right;\">\n",
       "      <th></th>\n",
       "      <th>name</th>\n",
       "      <th>component_type_id</th>\n",
       "    </tr>\n",
       "    <tr>\n",
       "      <th>component_id</th>\n",
       "      <th></th>\n",
       "      <th></th>\n",
       "    </tr>\n",
       "  </thead>\n",
       "  <tbody>\n",
       "    <tr>\n",
       "      <th>9999</th>\n",
       "      <td>OTHER</td>\n",
       "      <td>OTHER</td>\n",
       "    </tr>\n",
       "    <tr>\n",
       "      <th>C-0001</th>\n",
       "      <td>SLEEVE</td>\n",
       "      <td>CP-024</td>\n",
       "    </tr>\n",
       "    <tr>\n",
       "      <th>C-0002</th>\n",
       "      <td>SLEEVE</td>\n",
       "      <td>CP-024</td>\n",
       "    </tr>\n",
       "    <tr>\n",
       "      <th>C-0003</th>\n",
       "      <td>SLEEVE-FLARED</td>\n",
       "      <td>CP-024</td>\n",
       "    </tr>\n",
       "    <tr>\n",
       "      <th>C-0004</th>\n",
       "      <td>NUT</td>\n",
       "      <td>CP-026</td>\n",
       "    </tr>\n",
       "  </tbody>\n",
       "</table>\n",
       "</div>"
      ],
      "text/plain": [
       "                       name component_type_id\n",
       "component_id                                 \n",
       "9999                  OTHER             OTHER\n",
       "C-0001               SLEEVE            CP-024\n",
       "C-0002               SLEEVE            CP-024\n",
       "C-0003        SLEEVE-FLARED            CP-024\n",
       "C-0004                  NUT            CP-026"
      ]
     },
     "execution_count": 13,
     "metadata": {},
     "output_type": "execute_result"
    }
   ],
   "source": [
    "components_df.head()"
   ]
  },
  {
   "cell_type": "markdown",
   "metadata": {
    "collapsed": true
   },
   "source": [
    "## How many different tube assemblies are in the train_set?"
   ]
  },
  {
   "cell_type": "code",
   "execution_count": 14,
   "metadata": {
    "collapsed": false
   },
   "outputs": [
    {
     "data": {
      "text/plain": [
       "(8855, 1)"
      ]
     },
     "execution_count": 14,
     "metadata": {},
     "output_type": "execute_result"
    }
   ],
   "source": [
    "train_set_df.tube_assembly_id.drop_duplicates().to_frame().shape"
   ]
  },
  {
   "cell_type": "code",
   "execution_count": 15,
   "metadata": {
    "collapsed": false
   },
   "outputs": [],
   "source": [
    "train = train_set_df"
   ]
  },
  {
   "cell_type": "code",
   "execution_count": 16,
   "metadata": {
    "collapsed": false
   },
   "outputs": [
    {
     "data": {
      "text/html": [
       "<div>\n",
       "<table border=\"1\" class=\"dataframe\">\n",
       "  <thead>\n",
       "    <tr style=\"text-align: right;\">\n",
       "      <th></th>\n",
       "      <th>tube_assembly_id</th>\n",
       "      <th>supplier</th>\n",
       "      <th>quote_date</th>\n",
       "      <th>annual_usage</th>\n",
       "      <th>min_order_quantity</th>\n",
       "      <th>bracket_pricing</th>\n",
       "      <th>quantity</th>\n",
       "      <th>cost</th>\n",
       "    </tr>\n",
       "  </thead>\n",
       "  <tbody>\n",
       "    <tr>\n",
       "      <th>0</th>\n",
       "      <td>TA-00002</td>\n",
       "      <td>S-0066</td>\n",
       "      <td>2013-07-07</td>\n",
       "      <td>0</td>\n",
       "      <td>0</td>\n",
       "      <td>Yes</td>\n",
       "      <td>1</td>\n",
       "      <td>21.905933</td>\n",
       "    </tr>\n",
       "    <tr>\n",
       "      <th>1</th>\n",
       "      <td>TA-00002</td>\n",
       "      <td>S-0066</td>\n",
       "      <td>2013-07-07</td>\n",
       "      <td>0</td>\n",
       "      <td>0</td>\n",
       "      <td>Yes</td>\n",
       "      <td>2</td>\n",
       "      <td>12.341214</td>\n",
       "    </tr>\n",
       "    <tr>\n",
       "      <th>2</th>\n",
       "      <td>TA-00002</td>\n",
       "      <td>S-0066</td>\n",
       "      <td>2013-07-07</td>\n",
       "      <td>0</td>\n",
       "      <td>0</td>\n",
       "      <td>Yes</td>\n",
       "      <td>5</td>\n",
       "      <td>6.601826</td>\n",
       "    </tr>\n",
       "    <tr>\n",
       "      <th>3</th>\n",
       "      <td>TA-00002</td>\n",
       "      <td>S-0066</td>\n",
       "      <td>2013-07-07</td>\n",
       "      <td>0</td>\n",
       "      <td>0</td>\n",
       "      <td>Yes</td>\n",
       "      <td>10</td>\n",
       "      <td>4.687770</td>\n",
       "    </tr>\n",
       "    <tr>\n",
       "      <th>4</th>\n",
       "      <td>TA-00002</td>\n",
       "      <td>S-0066</td>\n",
       "      <td>2013-07-07</td>\n",
       "      <td>0</td>\n",
       "      <td>0</td>\n",
       "      <td>Yes</td>\n",
       "      <td>25</td>\n",
       "      <td>3.541561</td>\n",
       "    </tr>\n",
       "    <tr>\n",
       "      <th>5</th>\n",
       "      <td>TA-00002</td>\n",
       "      <td>S-0066</td>\n",
       "      <td>2013-07-07</td>\n",
       "      <td>0</td>\n",
       "      <td>0</td>\n",
       "      <td>Yes</td>\n",
       "      <td>50</td>\n",
       "      <td>3.224406</td>\n",
       "    </tr>\n",
       "    <tr>\n",
       "      <th>6</th>\n",
       "      <td>TA-00002</td>\n",
       "      <td>S-0066</td>\n",
       "      <td>2013-07-07</td>\n",
       "      <td>0</td>\n",
       "      <td>0</td>\n",
       "      <td>Yes</td>\n",
       "      <td>100</td>\n",
       "      <td>3.082521</td>\n",
       "    </tr>\n",
       "    <tr>\n",
       "      <th>7</th>\n",
       "      <td>TA-00002</td>\n",
       "      <td>S-0066</td>\n",
       "      <td>2013-07-07</td>\n",
       "      <td>0</td>\n",
       "      <td>0</td>\n",
       "      <td>Yes</td>\n",
       "      <td>250</td>\n",
       "      <td>2.999060</td>\n",
       "    </tr>\n",
       "  </tbody>\n",
       "</table>\n",
       "</div>"
      ],
      "text/plain": [
       "  tube_assembly_id supplier  quote_date  annual_usage  min_order_quantity  \\\n",
       "0         TA-00002   S-0066  2013-07-07             0                   0   \n",
       "1         TA-00002   S-0066  2013-07-07             0                   0   \n",
       "2         TA-00002   S-0066  2013-07-07             0                   0   \n",
       "3         TA-00002   S-0066  2013-07-07             0                   0   \n",
       "4         TA-00002   S-0066  2013-07-07             0                   0   \n",
       "5         TA-00002   S-0066  2013-07-07             0                   0   \n",
       "6         TA-00002   S-0066  2013-07-07             0                   0   \n",
       "7         TA-00002   S-0066  2013-07-07             0                   0   \n",
       "\n",
       "  bracket_pricing  quantity       cost  \n",
       "0             Yes         1  21.905933  \n",
       "1             Yes         2  12.341214  \n",
       "2             Yes         5   6.601826  \n",
       "3             Yes        10   4.687770  \n",
       "4             Yes        25   3.541561  \n",
       "5             Yes        50   3.224406  \n",
       "6             Yes       100   3.082521  \n",
       "7             Yes       250   2.999060  "
      ]
     },
     "execution_count": 16,
     "metadata": {},
     "output_type": "execute_result"
    }
   ],
   "source": [
    "train[(train.tube_assembly_id == 'TA-00002') & (train.bracket_pricing == 'Yes')]"
   ]
  },
  {
   "cell_type": "code",
   "execution_count": 17,
   "metadata": {
    "collapsed": false
   },
   "outputs": [
    {
     "data": {
      "text/html": [
       "<div>\n",
       "<table border=\"1\" class=\"dataframe\">\n",
       "  <thead>\n",
       "    <tr style=\"text-align: right;\">\n",
       "      <th></th>\n",
       "      <th>tube_assembly_id</th>\n",
       "      <th>supplier</th>\n",
       "      <th>quote_date</th>\n",
       "      <th>annual_usage</th>\n",
       "      <th>min_order_quantity</th>\n",
       "      <th>bracket_pricing</th>\n",
       "      <th>quantity</th>\n",
       "      <th>cost</th>\n",
       "    </tr>\n",
       "  </thead>\n",
       "  <tbody>\n",
       "    <tr>\n",
       "      <th>32</th>\n",
       "      <td>TA-00013</td>\n",
       "      <td>S-0026</td>\n",
       "      <td>1992-07-21</td>\n",
       "      <td>50</td>\n",
       "      <td>1</td>\n",
       "      <td>No</td>\n",
       "      <td>1</td>\n",
       "      <td>10.004284</td>\n",
       "    </tr>\n",
       "    <tr>\n",
       "      <th>41</th>\n",
       "      <td>TA-00021</td>\n",
       "      <td>S-0030</td>\n",
       "      <td>2014-02-10</td>\n",
       "      <td>1</td>\n",
       "      <td>1</td>\n",
       "      <td>No</td>\n",
       "      <td>1</td>\n",
       "      <td>3.433061</td>\n",
       "    </tr>\n",
       "    <tr>\n",
       "      <th>42</th>\n",
       "      <td>TA-00022</td>\n",
       "      <td>S-0013</td>\n",
       "      <td>2011-07-27</td>\n",
       "      <td>1</td>\n",
       "      <td>1</td>\n",
       "      <td>No</td>\n",
       "      <td>1</td>\n",
       "      <td>8.563178</td>\n",
       "    </tr>\n",
       "    <tr>\n",
       "      <th>59</th>\n",
       "      <td>TA-00027</td>\n",
       "      <td>S-0062</td>\n",
       "      <td>1993-09-24</td>\n",
       "      <td>30</td>\n",
       "      <td>1</td>\n",
       "      <td>No</td>\n",
       "      <td>1</td>\n",
       "      <td>2.737546</td>\n",
       "    </tr>\n",
       "    <tr>\n",
       "      <th>74</th>\n",
       "      <td>TA-00037</td>\n",
       "      <td>S-0062</td>\n",
       "      <td>1994-09-01</td>\n",
       "      <td>600</td>\n",
       "      <td>1</td>\n",
       "      <td>No</td>\n",
       "      <td>1</td>\n",
       "      <td>1.563517</td>\n",
       "    </tr>\n",
       "  </tbody>\n",
       "</table>\n",
       "</div>"
      ],
      "text/plain": [
       "   tube_assembly_id supplier  quote_date  annual_usage  min_order_quantity  \\\n",
       "32         TA-00013   S-0026  1992-07-21            50                   1   \n",
       "41         TA-00021   S-0030  2014-02-10             1                   1   \n",
       "42         TA-00022   S-0013  2011-07-27             1                   1   \n",
       "59         TA-00027   S-0062  1993-09-24            30                   1   \n",
       "74         TA-00037   S-0062  1994-09-01           600                   1   \n",
       "\n",
       "   bracket_pricing  quantity       cost  \n",
       "32              No         1  10.004284  \n",
       "41              No         1   3.433061  \n",
       "42              No         1   8.563178  \n",
       "59              No         1   2.737546  \n",
       "74              No         1   1.563517  "
      ]
     },
     "execution_count": 17,
     "metadata": {},
     "output_type": "execute_result"
    }
   ],
   "source": [
    "train[(train.bracket_pricing == 'No')].head()"
   ]
  },
  {
   "cell_type": "markdown",
   "metadata": {},
   "source": [
    "## Find tube_assembly_id's that have both bracket pricing and and non-bracket pricing"
   ]
  },
  {
   "cell_type": "code",
   "execution_count": 18,
   "metadata": {
    "collapsed": true
   },
   "outputs": [],
   "source": [
    "bracket_df = train[train.bracket_pricing == 'Yes']\n",
    "non_bracket_df = train[train.bracket_pricing == 'No']"
   ]
  },
  {
   "cell_type": "code",
   "execution_count": 19,
   "metadata": {
    "collapsed": true
   },
   "outputs": [],
   "source": [
    "both_df = pd.merge(bracket_df, non_bracket_df, how = 'inner', on = 'tube_assembly_id', indicator = True)"
   ]
  },
  {
   "cell_type": "code",
   "execution_count": 20,
   "metadata": {
    "collapsed": false
   },
   "outputs": [
    {
     "data": {
      "text/html": [
       "<div>\n",
       "<table border=\"1\" class=\"dataframe\">\n",
       "  <thead>\n",
       "    <tr style=\"text-align: right;\">\n",
       "      <th></th>\n",
       "      <th>tube_assembly_id</th>\n",
       "      <th>supplier_x</th>\n",
       "      <th>quote_date_x</th>\n",
       "      <th>annual_usage_x</th>\n",
       "      <th>min_order_quantity_x</th>\n",
       "      <th>bracket_pricing_x</th>\n",
       "      <th>quantity_x</th>\n",
       "      <th>cost_x</th>\n",
       "      <th>supplier_y</th>\n",
       "      <th>quote_date_y</th>\n",
       "      <th>annual_usage_y</th>\n",
       "      <th>min_order_quantity_y</th>\n",
       "      <th>bracket_pricing_y</th>\n",
       "      <th>quantity_y</th>\n",
       "      <th>cost_y</th>\n",
       "      <th>_merge</th>\n",
       "    </tr>\n",
       "  </thead>\n",
       "  <tbody>\n",
       "  </tbody>\n",
       "</table>\n",
       "</div>"
      ],
      "text/plain": [
       "Empty DataFrame\n",
       "Columns: [tube_assembly_id, supplier_x, quote_date_x, annual_usage_x, min_order_quantity_x, bracket_pricing_x, quantity_x, cost_x, supplier_y, quote_date_y, annual_usage_y, min_order_quantity_y, bracket_pricing_y, quantity_y, cost_y, _merge]\n",
       "Index: []"
      ]
     },
     "execution_count": 20,
     "metadata": {},
     "output_type": "execute_result"
    }
   ],
   "source": [
    "both_df.head()"
   ]
  },
  {
   "cell_type": "markdown",
   "metadata": {},
   "source": [
    "### No assemblies have both bracket and non-bracket pricing"
   ]
  },
  {
   "cell_type": "code",
   "execution_count": 21,
   "metadata": {
    "collapsed": false
   },
   "outputs": [
    {
     "data": {
      "text/plain": [
       "tube_assembly_id\n",
       "TA-04788    14\n",
       "TA-04750    12\n",
       "TA-00199    10\n",
       "TA-04762     9\n",
       "TA-08313     9\n",
       "TA-02227     9\n",
       "TA-01597     9\n",
       "TA-19094     9\n",
       "TA-19025     9\n",
       "TA-05812     9\n",
       "TA-02308     9\n",
       "TA-16293     9\n",
       "TA-05467     9\n",
       "TA-18998     9\n",
       "TA-06429     8\n",
       "TA-06437     8\n",
       "TA-06413     8\n",
       "TA-06435     8\n",
       "TA-06411     8\n",
       "TA-06410     8\n",
       "TA-06407     8\n",
       "TA-09998     8\n",
       "TA-01758     8\n",
       "TA-06419     8\n",
       "TA-06440     8\n",
       "TA-01828     8\n",
       "TA-10002     8\n",
       "TA-10003     8\n",
       "TA-01816     8\n",
       "TA-01788     8\n",
       "            ..\n",
       "TA-12219     1\n",
       "TA-12223     1\n",
       "TA-12224     1\n",
       "TA-12225     1\n",
       "TA-12226     1\n",
       "TA-12227     1\n",
       "TA-12177     1\n",
       "TA-12176     1\n",
       "TA-12172     1\n",
       "TA-12169     1\n",
       "TA-12130     1\n",
       "TA-12131     1\n",
       "TA-12132     1\n",
       "TA-12133     1\n",
       "TA-12135     1\n",
       "TA-12137     1\n",
       "TA-12138     1\n",
       "TA-12139     1\n",
       "TA-12142     1\n",
       "TA-12143     1\n",
       "TA-12147     1\n",
       "TA-12148     1\n",
       "TA-12149     1\n",
       "TA-12153     1\n",
       "TA-12154     1\n",
       "TA-12160     1\n",
       "TA-12162     1\n",
       "TA-12164     1\n",
       "TA-12166     1\n",
       "TA-11099     1\n",
       "dtype: int64"
      ]
     },
     "execution_count": 21,
     "metadata": {},
     "output_type": "execute_result"
    }
   ],
   "source": [
    "train.groupby(train.tube_assembly_id).size().sort_values(ascending = False)"
   ]
  },
  {
   "cell_type": "code",
   "execution_count": 22,
   "metadata": {
    "collapsed": false
   },
   "outputs": [
    {
     "data": {
      "text/html": [
       "<div>\n",
       "<table border=\"1\" class=\"dataframe\">\n",
       "  <thead>\n",
       "    <tr style=\"text-align: right;\">\n",
       "      <th></th>\n",
       "      <th>tube_assembly_id</th>\n",
       "      <th>quantity</th>\n",
       "      <th>cost</th>\n",
       "    </tr>\n",
       "  </thead>\n",
       "  <tbody>\n",
       "    <tr>\n",
       "      <th>0</th>\n",
       "      <td>TA-00002</td>\n",
       "      <td>1</td>\n",
       "      <td>21.905933</td>\n",
       "    </tr>\n",
       "    <tr>\n",
       "      <th>1</th>\n",
       "      <td>TA-00002</td>\n",
       "      <td>2</td>\n",
       "      <td>12.341214</td>\n",
       "    </tr>\n",
       "    <tr>\n",
       "      <th>2</th>\n",
       "      <td>TA-00002</td>\n",
       "      <td>5</td>\n",
       "      <td>6.601826</td>\n",
       "    </tr>\n",
       "    <tr>\n",
       "      <th>3</th>\n",
       "      <td>TA-00002</td>\n",
       "      <td>10</td>\n",
       "      <td>4.687770</td>\n",
       "    </tr>\n",
       "    <tr>\n",
       "      <th>4</th>\n",
       "      <td>TA-00002</td>\n",
       "      <td>25</td>\n",
       "      <td>3.541561</td>\n",
       "    </tr>\n",
       "    <tr>\n",
       "      <th>5</th>\n",
       "      <td>TA-00002</td>\n",
       "      <td>50</td>\n",
       "      <td>3.224406</td>\n",
       "    </tr>\n",
       "    <tr>\n",
       "      <th>6</th>\n",
       "      <td>TA-00002</td>\n",
       "      <td>100</td>\n",
       "      <td>3.082521</td>\n",
       "    </tr>\n",
       "    <tr>\n",
       "      <th>7</th>\n",
       "      <td>TA-00002</td>\n",
       "      <td>250</td>\n",
       "      <td>2.999060</td>\n",
       "    </tr>\n",
       "    <tr>\n",
       "      <th>8</th>\n",
       "      <td>TA-00004</td>\n",
       "      <td>1</td>\n",
       "      <td>21.972702</td>\n",
       "    </tr>\n",
       "    <tr>\n",
       "      <th>9</th>\n",
       "      <td>TA-00004</td>\n",
       "      <td>2</td>\n",
       "      <td>12.407983</td>\n",
       "    </tr>\n",
       "    <tr>\n",
       "      <th>10</th>\n",
       "      <td>TA-00004</td>\n",
       "      <td>5</td>\n",
       "      <td>6.668596</td>\n",
       "    </tr>\n",
       "    <tr>\n",
       "      <th>11</th>\n",
       "      <td>TA-00004</td>\n",
       "      <td>10</td>\n",
       "      <td>4.754539</td>\n",
       "    </tr>\n",
       "    <tr>\n",
       "      <th>12</th>\n",
       "      <td>TA-00004</td>\n",
       "      <td>25</td>\n",
       "      <td>3.608331</td>\n",
       "    </tr>\n",
       "    <tr>\n",
       "      <th>13</th>\n",
       "      <td>TA-00004</td>\n",
       "      <td>50</td>\n",
       "      <td>3.291176</td>\n",
       "    </tr>\n",
       "    <tr>\n",
       "      <th>14</th>\n",
       "      <td>TA-00004</td>\n",
       "      <td>100</td>\n",
       "      <td>3.149291</td>\n",
       "    </tr>\n",
       "    <tr>\n",
       "      <th>15</th>\n",
       "      <td>TA-00004</td>\n",
       "      <td>250</td>\n",
       "      <td>3.065829</td>\n",
       "    </tr>\n",
       "    <tr>\n",
       "      <th>16</th>\n",
       "      <td>TA-00005</td>\n",
       "      <td>1</td>\n",
       "      <td>28.374220</td>\n",
       "    </tr>\n",
       "    <tr>\n",
       "      <th>17</th>\n",
       "      <td>TA-00005</td>\n",
       "      <td>2</td>\n",
       "      <td>16.514303</td>\n",
       "    </tr>\n",
       "    <tr>\n",
       "      <th>18</th>\n",
       "      <td>TA-00005</td>\n",
       "      <td>5</td>\n",
       "      <td>9.397795</td>\n",
       "    </tr>\n",
       "    <tr>\n",
       "      <th>19</th>\n",
       "      <td>TA-00005</td>\n",
       "      <td>10</td>\n",
       "      <td>7.027481</td>\n",
       "    </tr>\n",
       "    <tr>\n",
       "      <th>20</th>\n",
       "      <td>TA-00005</td>\n",
       "      <td>25</td>\n",
       "      <td>5.603067</td>\n",
       "    </tr>\n",
       "    <tr>\n",
       "      <th>21</th>\n",
       "      <td>TA-00005</td>\n",
       "      <td>50</td>\n",
       "      <td>5.194104</td>\n",
       "    </tr>\n",
       "    <tr>\n",
       "      <th>22</th>\n",
       "      <td>TA-00005</td>\n",
       "      <td>100</td>\n",
       "      <td>5.007706</td>\n",
       "    </tr>\n",
       "    <tr>\n",
       "      <th>23</th>\n",
       "      <td>TA-00005</td>\n",
       "      <td>250</td>\n",
       "      <td>4.896424</td>\n",
       "    </tr>\n",
       "    <tr>\n",
       "      <th>24</th>\n",
       "      <td>TA-00012</td>\n",
       "      <td>1</td>\n",
       "      <td>22.415050</td>\n",
       "    </tr>\n",
       "    <tr>\n",
       "      <th>25</th>\n",
       "      <td>TA-00012</td>\n",
       "      <td>2</td>\n",
       "      <td>12.850331</td>\n",
       "    </tr>\n",
       "    <tr>\n",
       "      <th>26</th>\n",
       "      <td>TA-00012</td>\n",
       "      <td>5</td>\n",
       "      <td>7.113725</td>\n",
       "    </tr>\n",
       "    <tr>\n",
       "      <th>27</th>\n",
       "      <td>TA-00012</td>\n",
       "      <td>10</td>\n",
       "      <td>5.199668</td>\n",
       "    </tr>\n",
       "    <tr>\n",
       "      <th>28</th>\n",
       "      <td>TA-00012</td>\n",
       "      <td>25</td>\n",
       "      <td>4.050678</td>\n",
       "    </tr>\n",
       "    <tr>\n",
       "      <th>29</th>\n",
       "      <td>TA-00012</td>\n",
       "      <td>50</td>\n",
       "      <td>3.736305</td>\n",
       "    </tr>\n",
       "    <tr>\n",
       "      <th>...</th>\n",
       "      <td>...</td>\n",
       "      <td>...</td>\n",
       "      <td>...</td>\n",
       "    </tr>\n",
       "    <tr>\n",
       "      <th>30183</th>\n",
       "      <td>TA-21164</td>\n",
       "      <td>1</td>\n",
       "      <td>7.948343</td>\n",
       "    </tr>\n",
       "    <tr>\n",
       "      <th>30184</th>\n",
       "      <td>TA-21165</td>\n",
       "      <td>1</td>\n",
       "      <td>15.971801</td>\n",
       "    </tr>\n",
       "    <tr>\n",
       "      <th>30185</th>\n",
       "      <td>TA-21166</td>\n",
       "      <td>1</td>\n",
       "      <td>8.343395</td>\n",
       "    </tr>\n",
       "    <tr>\n",
       "      <th>30186</th>\n",
       "      <td>TA-21167</td>\n",
       "      <td>1</td>\n",
       "      <td>14.914619</td>\n",
       "    </tr>\n",
       "    <tr>\n",
       "      <th>30187</th>\n",
       "      <td>TA-21171</td>\n",
       "      <td>1</td>\n",
       "      <td>4.607090</td>\n",
       "    </tr>\n",
       "    <tr>\n",
       "      <th>30188</th>\n",
       "      <td>TA-21175</td>\n",
       "      <td>1</td>\n",
       "      <td>5.881273</td>\n",
       "    </tr>\n",
       "    <tr>\n",
       "      <th>30189</th>\n",
       "      <td>TA-21176</td>\n",
       "      <td>1</td>\n",
       "      <td>16.275045</td>\n",
       "    </tr>\n",
       "    <tr>\n",
       "      <th>30190</th>\n",
       "      <td>TA-21177</td>\n",
       "      <td>1</td>\n",
       "      <td>2.609571</td>\n",
       "    </tr>\n",
       "    <tr>\n",
       "      <th>30191</th>\n",
       "      <td>TA-21179</td>\n",
       "      <td>1</td>\n",
       "      <td>22.985372</td>\n",
       "    </tr>\n",
       "    <tr>\n",
       "      <th>30192</th>\n",
       "      <td>TA-21180</td>\n",
       "      <td>1</td>\n",
       "      <td>8.029022</td>\n",
       "    </tr>\n",
       "    <tr>\n",
       "      <th>30193</th>\n",
       "      <td>TA-21183</td>\n",
       "      <td>15</td>\n",
       "      <td>6.846647</td>\n",
       "    </tr>\n",
       "    <tr>\n",
       "      <th>30194</th>\n",
       "      <td>TA-21183</td>\n",
       "      <td>20</td>\n",
       "      <td>6.267979</td>\n",
       "    </tr>\n",
       "    <tr>\n",
       "      <th>30195</th>\n",
       "      <td>TA-21183</td>\n",
       "      <td>30</td>\n",
       "      <td>5.689311</td>\n",
       "    </tr>\n",
       "    <tr>\n",
       "      <th>30196</th>\n",
       "      <td>TA-21183</td>\n",
       "      <td>35</td>\n",
       "      <td>5.522387</td>\n",
       "    </tr>\n",
       "    <tr>\n",
       "      <th>30197</th>\n",
       "      <td>TA-21183</td>\n",
       "      <td>45</td>\n",
       "      <td>5.302605</td>\n",
       "    </tr>\n",
       "    <tr>\n",
       "      <th>30198</th>\n",
       "      <td>TA-21184</td>\n",
       "      <td>1</td>\n",
       "      <td>5.959171</td>\n",
       "    </tr>\n",
       "    <tr>\n",
       "      <th>30199</th>\n",
       "      <td>TA-21185</td>\n",
       "      <td>1</td>\n",
       "      <td>70.077286</td>\n",
       "    </tr>\n",
       "    <tr>\n",
       "      <th>30200</th>\n",
       "      <td>TA-21185</td>\n",
       "      <td>1</td>\n",
       "      <td>72.347446</td>\n",
       "    </tr>\n",
       "    <tr>\n",
       "      <th>30201</th>\n",
       "      <td>TA-21186</td>\n",
       "      <td>10</td>\n",
       "      <td>28.585657</td>\n",
       "    </tr>\n",
       "    <tr>\n",
       "      <th>30202</th>\n",
       "      <td>TA-21189</td>\n",
       "      <td>1</td>\n",
       "      <td>21.727881</td>\n",
       "    </tr>\n",
       "    <tr>\n",
       "      <th>30203</th>\n",
       "      <td>TA-21189</td>\n",
       "      <td>2</td>\n",
       "      <td>12.163162</td>\n",
       "    </tr>\n",
       "    <tr>\n",
       "      <th>30204</th>\n",
       "      <td>TA-21189</td>\n",
       "      <td>5</td>\n",
       "      <td>6.426556</td>\n",
       "    </tr>\n",
       "    <tr>\n",
       "      <th>30205</th>\n",
       "      <td>TA-21189</td>\n",
       "      <td>10</td>\n",
       "      <td>4.512500</td>\n",
       "    </tr>\n",
       "    <tr>\n",
       "      <th>30206</th>\n",
       "      <td>TA-21189</td>\n",
       "      <td>25</td>\n",
       "      <td>3.363509</td>\n",
       "    </tr>\n",
       "    <tr>\n",
       "      <th>30207</th>\n",
       "      <td>TA-21189</td>\n",
       "      <td>50</td>\n",
       "      <td>3.049137</td>\n",
       "    </tr>\n",
       "    <tr>\n",
       "      <th>30208</th>\n",
       "      <td>TA-21190</td>\n",
       "      <td>75</td>\n",
       "      <td>5.945260</td>\n",
       "    </tr>\n",
       "    <tr>\n",
       "      <th>30209</th>\n",
       "      <td>TA-21191</td>\n",
       "      <td>1</td>\n",
       "      <td>6.131658</td>\n",
       "    </tr>\n",
       "    <tr>\n",
       "      <th>30210</th>\n",
       "      <td>TA-21195</td>\n",
       "      <td>80</td>\n",
       "      <td>5.066130</td>\n",
       "    </tr>\n",
       "    <tr>\n",
       "      <th>30211</th>\n",
       "      <td>TA-21196</td>\n",
       "      <td>1</td>\n",
       "      <td>18.214141</td>\n",
       "    </tr>\n",
       "    <tr>\n",
       "      <th>30212</th>\n",
       "      <td>TA-21197</td>\n",
       "      <td>1</td>\n",
       "      <td>53.618624</td>\n",
       "    </tr>\n",
       "  </tbody>\n",
       "</table>\n",
       "<p>30213 rows × 3 columns</p>\n",
       "</div>"
      ],
      "text/plain": [
       "      tube_assembly_id  quantity       cost\n",
       "0             TA-00002         1  21.905933\n",
       "1             TA-00002         2  12.341214\n",
       "2             TA-00002         5   6.601826\n",
       "3             TA-00002        10   4.687770\n",
       "4             TA-00002        25   3.541561\n",
       "5             TA-00002        50   3.224406\n",
       "6             TA-00002       100   3.082521\n",
       "7             TA-00002       250   2.999060\n",
       "8             TA-00004         1  21.972702\n",
       "9             TA-00004         2  12.407983\n",
       "10            TA-00004         5   6.668596\n",
       "11            TA-00004        10   4.754539\n",
       "12            TA-00004        25   3.608331\n",
       "13            TA-00004        50   3.291176\n",
       "14            TA-00004       100   3.149291\n",
       "15            TA-00004       250   3.065829\n",
       "16            TA-00005         1  28.374220\n",
       "17            TA-00005         2  16.514303\n",
       "18            TA-00005         5   9.397795\n",
       "19            TA-00005        10   7.027481\n",
       "20            TA-00005        25   5.603067\n",
       "21            TA-00005        50   5.194104\n",
       "22            TA-00005       100   5.007706\n",
       "23            TA-00005       250   4.896424\n",
       "24            TA-00012         1  22.415050\n",
       "25            TA-00012         2  12.850331\n",
       "26            TA-00012         5   7.113725\n",
       "27            TA-00012        10   5.199668\n",
       "28            TA-00012        25   4.050678\n",
       "29            TA-00012        50   3.736305\n",
       "...                ...       ...        ...\n",
       "30183         TA-21164         1   7.948343\n",
       "30184         TA-21165         1  15.971801\n",
       "30185         TA-21166         1   8.343395\n",
       "30186         TA-21167         1  14.914619\n",
       "30187         TA-21171         1   4.607090\n",
       "30188         TA-21175         1   5.881273\n",
       "30189         TA-21176         1  16.275045\n",
       "30190         TA-21177         1   2.609571\n",
       "30191         TA-21179         1  22.985372\n",
       "30192         TA-21180         1   8.029022\n",
       "30193         TA-21183        15   6.846647\n",
       "30194         TA-21183        20   6.267979\n",
       "30195         TA-21183        30   5.689311\n",
       "30196         TA-21183        35   5.522387\n",
       "30197         TA-21183        45   5.302605\n",
       "30198         TA-21184         1   5.959171\n",
       "30199         TA-21185         1  70.077286\n",
       "30200         TA-21185         1  72.347446\n",
       "30201         TA-21186        10  28.585657\n",
       "30202         TA-21189         1  21.727881\n",
       "30203         TA-21189         2  12.163162\n",
       "30204         TA-21189         5   6.426556\n",
       "30205         TA-21189        10   4.512500\n",
       "30206         TA-21189        25   3.363509\n",
       "30207         TA-21189        50   3.049137\n",
       "30208         TA-21190        75   5.945260\n",
       "30209         TA-21191         1   6.131658\n",
       "30210         TA-21195        80   5.066130\n",
       "30211         TA-21196         1  18.214141\n",
       "30212         TA-21197         1  53.618624\n",
       "\n",
       "[30213 rows x 3 columns]"
      ]
     },
     "execution_count": 22,
     "metadata": {},
     "output_type": "execute_result"
    }
   ],
   "source": [
    "train[['tube_assembly_id', 'quantity', 'cost']]"
   ]
  },
  {
   "cell_type": "markdown",
   "metadata": {},
   "source": [
    "## What's the relationship between Quantity and Cost?"
   ]
  },
  {
   "cell_type": "code",
   "execution_count": 23,
   "metadata": {
    "collapsed": false
   },
   "outputs": [
    {
     "data": {
      "text/plain": [
       "<matplotlib.axes._subplots.AxesSubplot at 0x423c390>"
      ]
     },
     "execution_count": 23,
     "metadata": {},
     "output_type": "execute_result"
    },
    {
     "data": {
      "image/png": "[encoded data removed]",
      "text/plain": [
       "<matplotlib.figure.Figure at 0x86a95c0>"
      ]
     },
     "metadata": {},
     "output_type": "display_data"
    }
   ],
   "source": [
    "#scatter plot of Cost vs quantity for bracket priced tube assemblies\n",
    "tube_assembly_groups = train.tube_assembly_id\n",
    "train[(train.bracket_pricing == 'Yes')][['tube_assembly_id', 'quantity', 'cost']].plot(kind = 'scatter'\n",
    "                                                                                       , x = ['quantity']\n",
    "                                                                                       , y = ['cost'], legend = False)"
   ]
  },
  {
   "cell_type": "code",
   "execution_count": 24,
   "metadata": {
    "collapsed": false
   },
   "outputs": [
    {
     "data": {
      "image/png": "[encoded data removed]",
      "text/plain": [
       "<matplotlib.figure.Figure at 0xbdfd0b8>"
      ]
     },
     "metadata": {},
     "output_type": "display_data"
    }
   ],
   "source": [
    "#scatter plot\n",
    "x = train[train.bracket_pricing == 'Yes']['quantity']\n",
    "y = train[train.bracket_pricing == 'Yes']['cost']\n",
    "labels = train[train.bracket_pricing == 'Yes']['tube_assembly_id']\n",
    "df_to_plot = pd.DataFrame(dict(x = x, y = y, label = labels))\n",
    "\n",
    "groups = df_to_plot.groupby('label')\n",
    "\n",
    "#plot\n",
    "fig, ax = plt.subplots()\n",
    "for name, group in groups:\n",
    "    ax.plot(group.x, group.y, marker = 'o', linestyle = '', label = name)\n",
    "plt.title('Bracket Pricing')\n",
    "plt.xlabel('Quantity')\n",
    "plt.ylabel('Cost [$]')\n",
    "plt.show()"
   ]
  },
  {
   "cell_type": "markdown",
   "metadata": {
    "collapsed": true
   },
   "source": [
    "#### It's obvious from the scatterplot that there is an inverse relationship between the cost per tube and the quantity purchased under bracket pricings"
   ]
  },
  {
   "cell_type": "markdown",
   "metadata": {},
   "source": [
    "# Investigating Structure of Files & Structure of Data"
   ]
  },
  {
   "cell_type": "code",
   "execution_count": 25,
   "metadata": {
    "collapsed": false
   },
   "outputs": [
    {
     "data": {
      "text/html": [
       "<div>\n",
       "<table border=\"1\" class=\"dataframe\">\n",
       "  <thead>\n",
       "    <tr style=\"text-align: right;\">\n",
       "      <th></th>\n",
       "      <th>tube_assembly_id</th>\n",
       "      <th>supplier</th>\n",
       "      <th>quote_date</th>\n",
       "      <th>annual_usage</th>\n",
       "      <th>min_order_quantity</th>\n",
       "      <th>bracket_pricing</th>\n",
       "      <th>quantity</th>\n",
       "    </tr>\n",
       "    <tr>\n",
       "      <th>id</th>\n",
       "      <th></th>\n",
       "      <th></th>\n",
       "      <th></th>\n",
       "      <th></th>\n",
       "      <th></th>\n",
       "      <th></th>\n",
       "      <th></th>\n",
       "    </tr>\n",
       "  </thead>\n",
       "  <tbody>\n",
       "    <tr>\n",
       "      <th>1</th>\n",
       "      <td>TA-00001</td>\n",
       "      <td>S-0066</td>\n",
       "      <td>2013-06-23</td>\n",
       "      <td>0</td>\n",
       "      <td>0</td>\n",
       "      <td>Yes</td>\n",
       "      <td>1</td>\n",
       "    </tr>\n",
       "    <tr>\n",
       "      <th>2</th>\n",
       "      <td>TA-00001</td>\n",
       "      <td>S-0066</td>\n",
       "      <td>2013-06-23</td>\n",
       "      <td>0</td>\n",
       "      <td>0</td>\n",
       "      <td>Yes</td>\n",
       "      <td>2</td>\n",
       "    </tr>\n",
       "    <tr>\n",
       "      <th>3</th>\n",
       "      <td>TA-00001</td>\n",
       "      <td>S-0066</td>\n",
       "      <td>2013-06-23</td>\n",
       "      <td>0</td>\n",
       "      <td>0</td>\n",
       "      <td>Yes</td>\n",
       "      <td>5</td>\n",
       "    </tr>\n",
       "    <tr>\n",
       "      <th>4</th>\n",
       "      <td>TA-00001</td>\n",
       "      <td>S-0066</td>\n",
       "      <td>2013-06-23</td>\n",
       "      <td>0</td>\n",
       "      <td>0</td>\n",
       "      <td>Yes</td>\n",
       "      <td>10</td>\n",
       "    </tr>\n",
       "    <tr>\n",
       "      <th>5</th>\n",
       "      <td>TA-00001</td>\n",
       "      <td>S-0066</td>\n",
       "      <td>2013-06-23</td>\n",
       "      <td>0</td>\n",
       "      <td>0</td>\n",
       "      <td>Yes</td>\n",
       "      <td>25</td>\n",
       "    </tr>\n",
       "  </tbody>\n",
       "</table>\n",
       "</div>"
      ],
      "text/plain": [
       "   tube_assembly_id supplier  quote_date  annual_usage  min_order_quantity  \\\n",
       "id                                                                           \n",
       "1          TA-00001   S-0066  2013-06-23             0                   0   \n",
       "2          TA-00001   S-0066  2013-06-23             0                   0   \n",
       "3          TA-00001   S-0066  2013-06-23             0                   0   \n",
       "4          TA-00001   S-0066  2013-06-23             0                   0   \n",
       "5          TA-00001   S-0066  2013-06-23             0                   0   \n",
       "\n",
       "   bracket_pricing  quantity  \n",
       "id                            \n",
       "1              Yes         1  \n",
       "2              Yes         2  \n",
       "3              Yes         5  \n",
       "4              Yes        10  \n",
       "5              Yes        25  "
      ]
     },
     "execution_count": 25,
     "metadata": {},
     "output_type": "execute_result"
    }
   ],
   "source": [
    "test_set_df.head()"
   ]
  },
  {
   "cell_type": "code",
   "execution_count": 26,
   "metadata": {
    "collapsed": false
   },
   "outputs": [
    {
     "data": {
      "text/plain": [
       "Series([], Name: supplier, dtype: object)"
      ]
     },
     "execution_count": 26,
     "metadata": {},
     "output_type": "execute_result"
    }
   ],
   "source": [
    "train[(train.tube_assembly_id == 'TA-00001')]['supplier'].drop_duplicates()"
   ]
  },
  {
   "cell_type": "code",
   "execution_count": 27,
   "metadata": {
    "collapsed": false
   },
   "outputs": [
    {
     "data": {
      "text/plain": [
       "spec1     NaN\n",
       "spec2     NaN\n",
       "spec3     NaN\n",
       "spec4     NaN\n",
       "spec5     NaN\n",
       "spec6     NaN\n",
       "spec7     NaN\n",
       "spec8     NaN\n",
       "spec9     NaN\n",
       "spec10    NaN\n",
       "Name: TA-00001, dtype: object"
      ]
     },
     "execution_count": 27,
     "metadata": {},
     "output_type": "execute_result"
    }
   ],
   "source": [
    "specs_df.loc['TA-00001']"
   ]
  },
  {
   "cell_type": "code",
   "execution_count": 28,
   "metadata": {
    "collapsed": false
   },
   "outputs": [
    {
     "data": {
      "text/plain": [
       "component_id_1    C-1622\n",
       "quantity_1             2\n",
       "component_id_2    C-1629\n",
       "quantity_2             2\n",
       "component_id_3         0\n",
       "quantity_3             0\n",
       "component_id_4         0\n",
       "quantity_4             0\n",
       "component_id_5         0\n",
       "quantity_5             0\n",
       "component_id_6         0\n",
       "quantity_6             0\n",
       "component_id_7         0\n",
       "quantity_7             0\n",
       "component_id_8         0\n",
       "quantity_8             0\n",
       "Name: TA-00001, dtype: object"
      ]
     },
     "execution_count": 28,
     "metadata": {},
     "output_type": "execute_result"
    }
   ],
   "source": [
    "bill_of_materials_df.loc['TA-00001']"
   ]
  },
  {
   "cell_type": "code",
   "execution_count": 29,
   "metadata": {
    "collapsed": false
   },
   "outputs": [
    {
     "data": {
      "text/plain": [
       "component_type_id    CP-025\n",
       "hex_nut_size          23.81\n",
       "seat_angle              NaN\n",
       "length                   20\n",
       "thread_size            .812\n",
       "thread_pitch             16\n",
       "diameter                NaN\n",
       "blind_hole              NaN\n",
       "orientation              No\n",
       "weight                0.036\n",
       "Name: C-1622, dtype: object"
      ]
     },
     "execution_count": 29,
     "metadata": {},
     "output_type": "execute_result"
    }
   ],
   "source": [
    "comp_nut_df.loc['C-1622']"
   ]
  },
  {
   "cell_type": "code",
   "execution_count": 30,
   "metadata": {
    "collapsed": false
   },
   "outputs": [
    {
     "data": {
      "text/plain": [
       "name                 NUT-SWIVEL\n",
       "component_type_id        CP-025\n",
       "Name: C-1622, dtype: object"
      ]
     },
     "execution_count": 30,
     "metadata": {},
     "output_type": "execute_result"
    }
   ],
   "source": [
    "components_df.loc['C-1622']"
   ]
  },
  {
   "cell_type": "code",
   "execution_count": 31,
   "metadata": {
    "collapsed": false
   },
   "outputs": [
    {
     "data": {
      "text/html": [
       "<div>\n",
       "<table border=\"1\" class=\"dataframe\">\n",
       "  <thead>\n",
       "    <tr style=\"text-align: right;\">\n",
       "      <th></th>\n",
       "      <th>name</th>\n",
       "    </tr>\n",
       "    <tr>\n",
       "      <th>end_form_id</th>\n",
       "      <th></th>\n",
       "    </tr>\n",
       "  </thead>\n",
       "  <tbody>\n",
       "    <tr>\n",
       "      <th>A-001</th>\n",
       "      <td>Male (Stud)</td>\n",
       "    </tr>\n",
       "    <tr>\n",
       "      <th>A-002</th>\n",
       "      <td>Male (Swivel)</td>\n",
       "    </tr>\n",
       "    <tr>\n",
       "      <th>A-003</th>\n",
       "      <td>Braze-Weld Boss</td>\n",
       "    </tr>\n",
       "    <tr>\n",
       "      <th>A-004</th>\n",
       "      <td>Braze-Weld Socket</td>\n",
       "    </tr>\n",
       "    <tr>\n",
       "      <th>A-005</th>\n",
       "      <td>Swivel Nut</td>\n",
       "    </tr>\n",
       "  </tbody>\n",
       "</table>\n",
       "</div>"
      ],
      "text/plain": [
       "                          name\n",
       "end_form_id                   \n",
       "A-001              Male (Stud)\n",
       "A-002            Male (Swivel)\n",
       "A-003          Braze-Weld Boss\n",
       "A-004        Braze-Weld Socket\n",
       "A-005               Swivel Nut"
      ]
     },
     "execution_count": 31,
     "metadata": {},
     "output_type": "execute_result"
    }
   ],
   "source": [
    "type_end_form_df.head()"
   ]
  },
  {
   "cell_type": "code",
   "execution_count": 32,
   "metadata": {
    "collapsed": false
   },
   "outputs": [
    {
     "data": {
      "text/plain": [
       "name    ORFS Nut\n",
       "Name: CP-025, dtype: object"
      ]
     },
     "execution_count": 32,
     "metadata": {},
     "output_type": "execute_result"
    }
   ],
   "source": [
    "type_component_df.loc['CP-025']"
   ]
  },
  {
   "cell_type": "code",
   "execution_count": 33,
   "metadata": {
    "collapsed": false
   },
   "outputs": [
    {
     "data": {
      "text/html": [
       "<div>\n",
       "<table border=\"1\" class=\"dataframe\">\n",
       "  <thead>\n",
       "    <tr style=\"text-align: right;\">\n",
       "      <th></th>\n",
       "      <th>name</th>\n",
       "    </tr>\n",
       "    <tr>\n",
       "      <th>component_type_id</th>\n",
       "      <th></th>\n",
       "    </tr>\n",
       "  </thead>\n",
       "  <tbody>\n",
       "    <tr>\n",
       "      <th>CP-001</th>\n",
       "      <td>4-bolt Tig Straight</td>\n",
       "    </tr>\n",
       "    <tr>\n",
       "      <th>CP-002</th>\n",
       "      <td>4-bolt MJ Straight</td>\n",
       "    </tr>\n",
       "    <tr>\n",
       "      <th>CP-003</th>\n",
       "      <td>4-bolt Braze/Weld Straight</td>\n",
       "    </tr>\n",
       "    <tr>\n",
       "      <th>CP-004</th>\n",
       "      <td>2-bolt Braze/Weld Straight</td>\n",
       "    </tr>\n",
       "    <tr>\n",
       "      <th>CP-005</th>\n",
       "      <td>2-bolt MJ Straight</td>\n",
       "    </tr>\n",
       "  </tbody>\n",
       "</table>\n",
       "</div>"
      ],
      "text/plain": [
       "                                         name\n",
       "component_type_id                            \n",
       "CP-001                    4-bolt Tig Straight\n",
       "CP-002                     4-bolt MJ Straight\n",
       "CP-003             4-bolt Braze/Weld Straight\n",
       "CP-004             2-bolt Braze/Weld Straight\n",
       "CP-005                     2-bolt MJ Straight"
      ]
     },
     "execution_count": 33,
     "metadata": {},
     "output_type": "execute_result"
    }
   ],
   "source": [
    "type_component_df.head()"
   ]
  },
  {
   "cell_type": "code",
   "execution_count": 34,
   "metadata": {
    "collapsed": false
   },
   "outputs": [
    {
     "data": {
      "text/plain": [
       "name                 SLEEVE-ORFS\n",
       "component_type_id         CP-024\n",
       "Name: C-1629, dtype: object"
      ]
     },
     "execution_count": 34,
     "metadata": {},
     "output_type": "execute_result"
    }
   ],
   "source": [
    "components_df.loc['C-1629']"
   ]
  },
  {
   "cell_type": "code",
   "execution_count": 35,
   "metadata": {
    "collapsed": false
   },
   "outputs": [
    {
     "data": {
      "text/plain": [
       "component_type_id      CP-024\n",
       "connection_type_id      B-002\n",
       "length                   9999\n",
       "intended_nut_thread     0.812\n",
       "intended_nut_pitch         16\n",
       "unique_feature            Yes\n",
       "plating                    No\n",
       "orientation                No\n",
       "weight                  0.012\n",
       "Name: C-1629, dtype: object"
      ]
     },
     "execution_count": 35,
     "metadata": {},
     "output_type": "execute_result"
    }
   ],
   "source": [
    "comp_sleeve_df.loc['C-1629']"
   ]
  },
  {
   "cell_type": "code",
   "execution_count": 36,
   "metadata": {
    "collapsed": false
   },
   "outputs": [],
   "source": [
    "#type_connection_df.loc['C-1629']\n",
    "#Does not exist"
   ]
  },
  {
   "cell_type": "code",
   "execution_count": 37,
   "metadata": {
    "collapsed": false
   },
   "outputs": [
    {
     "data": {
      "text/html": [
       "<div>\n",
       "<table border=\"1\" class=\"dataframe\">\n",
       "  <thead>\n",
       "    <tr style=\"text-align: right;\">\n",
       "      <th></th>\n",
       "      <th>component_type_id</th>\n",
       "      <th>type</th>\n",
       "      <th>connection_type_id</th>\n",
       "      <th>outside_shape</th>\n",
       "      <th>base_type</th>\n",
       "      <th>height_over_tube</th>\n",
       "      <th>bolt_pattern_long</th>\n",
       "      <th>bolt_pattern_wide</th>\n",
       "      <th>groove</th>\n",
       "      <th>base_diameter</th>\n",
       "      <th>shoulder_diameter</th>\n",
       "      <th>unique_feature</th>\n",
       "      <th>orientation</th>\n",
       "      <th>weight</th>\n",
       "    </tr>\n",
       "    <tr>\n",
       "      <th>component_id</th>\n",
       "      <th></th>\n",
       "      <th></th>\n",
       "      <th></th>\n",
       "      <th></th>\n",
       "      <th></th>\n",
       "      <th></th>\n",
       "      <th></th>\n",
       "      <th></th>\n",
       "      <th></th>\n",
       "      <th></th>\n",
       "      <th></th>\n",
       "      <th></th>\n",
       "      <th></th>\n",
       "      <th></th>\n",
       "    </tr>\n",
       "  </thead>\n",
       "  <tbody>\n",
       "    <tr>\n",
       "      <th>C-0008</th>\n",
       "      <td>CP-018</td>\n",
       "      <td>Boss</td>\n",
       "      <td>B-005</td>\n",
       "      <td>Round</td>\n",
       "      <td>Flat Bottom</td>\n",
       "      <td>17.0</td>\n",
       "      <td>NaN</td>\n",
       "      <td>NaN</td>\n",
       "      <td>No</td>\n",
       "      <td>22</td>\n",
       "      <td>NaN</td>\n",
       "      <td>Yes</td>\n",
       "      <td>Yes</td>\n",
       "      <td>0.032</td>\n",
       "    </tr>\n",
       "    <tr>\n",
       "      <th>C-0009</th>\n",
       "      <td>CP-018</td>\n",
       "      <td>Boss</td>\n",
       "      <td>B-004</td>\n",
       "      <td>Round</td>\n",
       "      <td>Flat Bottom</td>\n",
       "      <td>13.0</td>\n",
       "      <td>NaN</td>\n",
       "      <td>NaN</td>\n",
       "      <td>No</td>\n",
       "      <td>25</td>\n",
       "      <td>NaN</td>\n",
       "      <td>No</td>\n",
       "      <td>Yes</td>\n",
       "      <td>0.033</td>\n",
       "    </tr>\n",
       "    <tr>\n",
       "      <th>C-0020</th>\n",
       "      <td>CP-018</td>\n",
       "      <td>Boss</td>\n",
       "      <td>B-005</td>\n",
       "      <td>Round</td>\n",
       "      <td>Saddle</td>\n",
       "      <td>28.4</td>\n",
       "      <td>NaN</td>\n",
       "      <td>NaN</td>\n",
       "      <td>No</td>\n",
       "      <td>35</td>\n",
       "      <td>NaN</td>\n",
       "      <td>Yes</td>\n",
       "      <td>Yes</td>\n",
       "      <td>0.070</td>\n",
       "    </tr>\n",
       "    <tr>\n",
       "      <th>C-0054</th>\n",
       "      <td>CP-018</td>\n",
       "      <td>Boss</td>\n",
       "      <td>B-005</td>\n",
       "      <td>Round</td>\n",
       "      <td>Saddle</td>\n",
       "      <td>27.1</td>\n",
       "      <td>NaN</td>\n",
       "      <td>NaN</td>\n",
       "      <td>No</td>\n",
       "      <td>NaN</td>\n",
       "      <td>NaN</td>\n",
       "      <td>Yes</td>\n",
       "      <td>Yes</td>\n",
       "      <td>0.180</td>\n",
       "    </tr>\n",
       "    <tr>\n",
       "      <th>C-0071</th>\n",
       "      <td>CP-018</td>\n",
       "      <td>Boss</td>\n",
       "      <td>B-005</td>\n",
       "      <td>Round</td>\n",
       "      <td>Shoulder</td>\n",
       "      <td>20.0</td>\n",
       "      <td>NaN</td>\n",
       "      <td>NaN</td>\n",
       "      <td>No</td>\n",
       "      <td>30</td>\n",
       "      <td>23</td>\n",
       "      <td>Yes</td>\n",
       "      <td>Yes</td>\n",
       "      <td>0.080</td>\n",
       "    </tr>\n",
       "  </tbody>\n",
       "</table>\n",
       "</div>"
      ],
      "text/plain": [
       "             component_type_id  type connection_type_id outside_shape  \\\n",
       "component_id                                                            \n",
       "C-0008                  CP-018  Boss              B-005         Round   \n",
       "C-0009                  CP-018  Boss              B-004         Round   \n",
       "C-0020                  CP-018  Boss              B-005         Round   \n",
       "C-0054                  CP-018  Boss              B-005         Round   \n",
       "C-0071                  CP-018  Boss              B-005         Round   \n",
       "\n",
       "                base_type  height_over_tube  bolt_pattern_long  \\\n",
       "component_id                                                     \n",
       "C-0008        Flat Bottom              17.0                NaN   \n",
       "C-0009        Flat Bottom              13.0                NaN   \n",
       "C-0020             Saddle              28.4                NaN   \n",
       "C-0054             Saddle              27.1                NaN   \n",
       "C-0071           Shoulder              20.0                NaN   \n",
       "\n",
       "              bolt_pattern_wide groove  base_diameter  shoulder_diameter  \\\n",
       "component_id                                                               \n",
       "C-0008                      NaN     No             22                NaN   \n",
       "C-0009                      NaN     No             25                NaN   \n",
       "C-0020                      NaN     No             35                NaN   \n",
       "C-0054                      NaN     No            NaN                NaN   \n",
       "C-0071                      NaN     No             30                 23   \n",
       "\n",
       "             unique_feature orientation  weight  \n",
       "component_id                                     \n",
       "C-0008                  Yes         Yes   0.032  \n",
       "C-0009                   No         Yes   0.033  \n",
       "C-0020                  Yes         Yes   0.070  \n",
       "C-0054                  Yes         Yes   0.180  \n",
       "C-0071                  Yes         Yes   0.080  "
      ]
     },
     "execution_count": 37,
     "metadata": {},
     "output_type": "execute_result"
    }
   ],
   "source": [
    "comp_boss_df.head()"
   ]
  },
  {
   "cell_type": "markdown",
   "metadata": {
    "collapsed": true
   },
   "source": [
    "# Data Wrangling to create data set"
   ]
  },
  {
   "cell_type": "code",
   "execution_count": 38,
   "metadata": {
    "collapsed": true
   },
   "outputs": [],
   "source": [
    "def reset_index(df, index):\n",
    "    new_df = df.reset_index(str(index))\n",
    "    return new_df"
   ]
  },
  {
   "cell_type": "code",
   "execution_count": 39,
   "metadata": {
    "collapsed": false
   },
   "outputs": [],
   "source": [
    "# reset index on tube_df\n",
    "tube_df = reset_index(tube_df, 'tube_assembly_id')"
   ]
  },
  {
   "cell_type": "code",
   "execution_count": 40,
   "metadata": {
    "collapsed": false
   },
   "outputs": [
    {
     "data": {
      "text/plain": [
       "(30213, 8)"
      ]
     },
     "execution_count": 40,
     "metadata": {},
     "output_type": "execute_result"
    }
   ],
   "source": [
    "# check dimensions before join operations\n",
    "train_set_df.shape"
   ]
  },
  {
   "cell_type": "code",
   "execution_count": 41,
   "metadata": {
    "collapsed": false
   },
   "outputs": [
    {
     "data": {
      "text/plain": [
       "(21198, 16)"
      ]
     },
     "execution_count": 41,
     "metadata": {},
     "output_type": "execute_result"
    }
   ],
   "source": [
    "tube_df.shape"
   ]
  },
  {
   "cell_type": "markdown",
   "metadata": {},
   "source": [
    " "
   ]
  },
  {
   "cell_type": "markdown",
   "metadata": {},
   "source": [
    "*left join* between **train_set_df** and **tube_df**"
   ]
  },
  {
   "cell_type": "code",
   "execution_count": 42,
   "metadata": {
    "collapsed": false
   },
   "outputs": [],
   "source": [
    "# join the tables on tube_assembly_id (primary key)\n",
    "result = train_set_df.merge(tube_df, how = 'left', on = 'tube_assembly_id')"
   ]
  },
  {
   "cell_type": "code",
   "execution_count": 43,
   "metadata": {
    "collapsed": false
   },
   "outputs": [
    {
     "data": {
      "text/plain": [
       "(30213, 23)"
      ]
     },
     "execution_count": 43,
     "metadata": {},
     "output_type": "execute_result"
    }
   ],
   "source": [
    "result.shape"
   ]
  },
  {
   "cell_type": "code",
   "execution_count": 44,
   "metadata": {
    "collapsed": false
   },
   "outputs": [],
   "source": [
    "bill_of_materials_df = reset_index(bill_of_materials_df, 'tube_assembly_id')"
   ]
  },
  {
   "cell_type": "code",
   "execution_count": 45,
   "metadata": {
    "collapsed": false
   },
   "outputs": [
    {
     "data": {
      "text/plain": [
       "(21198, 17)"
      ]
     },
     "execution_count": 45,
     "metadata": {},
     "output_type": "execute_result"
    }
   ],
   "source": [
    "bill_of_materials_df.shape"
   ]
  },
  {
   "cell_type": "markdown",
   "metadata": {},
   "source": [
    " "
   ]
  },
  {
   "cell_type": "markdown",
   "metadata": {},
   "source": [
    "*left join* between **result** and **bill_of_materials_df**"
   ]
  },
  {
   "cell_type": "code",
   "execution_count": 46,
   "metadata": {
    "collapsed": false
   },
   "outputs": [],
   "source": [
    "result_1 = result.merge(bill_of_materials_df, how = 'left', on = 'tube_assembly_id')"
   ]
  },
  {
   "cell_type": "code",
   "execution_count": 47,
   "metadata": {
    "collapsed": false
   },
   "outputs": [
    {
     "data": {
      "text/plain": [
       "(30213, 39)"
      ]
     },
     "execution_count": 47,
     "metadata": {},
     "output_type": "execute_result"
    }
   ],
   "source": [
    "result_1.shape"
   ]
  },
  {
   "cell_type": "code",
   "execution_count": 48,
   "metadata": {
    "collapsed": false
   },
   "outputs": [],
   "source": [
    "specs_df = reset_index(specs_df, 'tube_assembly_id')"
   ]
  },
  {
   "cell_type": "code",
   "execution_count": 49,
   "metadata": {
    "collapsed": false
   },
   "outputs": [
    {
     "data": {
      "text/plain": [
       "(21198, 11)"
      ]
     },
     "execution_count": 49,
     "metadata": {},
     "output_type": "execute_result"
    }
   ],
   "source": [
    "specs_df.shape"
   ]
  },
  {
   "cell_type": "markdown",
   "metadata": {},
   "source": [
    " "
   ]
  },
  {
   "cell_type": "markdown",
   "metadata": {},
   "source": [
    "*left join* between **result_1** and **specs_df**"
   ]
  },
  {
   "cell_type": "code",
   "execution_count": 50,
   "metadata": {
    "collapsed": true
   },
   "outputs": [],
   "source": [
    "result_2 = result_1.merge(specs_df, how = 'left', on = 'tube_assembly_id')"
   ]
  },
  {
   "cell_type": "code",
   "execution_count": 51,
   "metadata": {
    "collapsed": false
   },
   "outputs": [
    {
     "data": {
      "text/plain": [
       "(30213, 49)"
      ]
     },
     "execution_count": 51,
     "metadata": {},
     "output_type": "execute_result"
    }
   ],
   "source": [
    "result_2.shape"
   ]
  },
  {
   "cell_type": "code",
   "execution_count": 52,
   "metadata": {
    "collapsed": false
   },
   "outputs": [
    {
     "data": {
      "text/html": [
       "<div>\n",
       "<table border=\"1\" class=\"dataframe\">\n",
       "  <thead>\n",
       "    <tr style=\"text-align: right;\">\n",
       "      <th></th>\n",
       "      <th>tube_assembly_id</th>\n",
       "      <th>supplier</th>\n",
       "      <th>quote_date</th>\n",
       "      <th>annual_usage</th>\n",
       "      <th>min_order_quantity</th>\n",
       "      <th>bracket_pricing</th>\n",
       "      <th>quantity</th>\n",
       "      <th>cost</th>\n",
       "      <th>material_id</th>\n",
       "      <th>diameter</th>\n",
       "      <th>...</th>\n",
       "      <th>spec1</th>\n",
       "      <th>spec2</th>\n",
       "      <th>spec3</th>\n",
       "      <th>spec4</th>\n",
       "      <th>spec5</th>\n",
       "      <th>spec6</th>\n",
       "      <th>spec7</th>\n",
       "      <th>spec8</th>\n",
       "      <th>spec9</th>\n",
       "      <th>spec10</th>\n",
       "    </tr>\n",
       "  </thead>\n",
       "  <tbody>\n",
       "    <tr>\n",
       "      <th>30208</th>\n",
       "      <td>TA-21190</td>\n",
       "      <td>S-0041</td>\n",
       "      <td>2013-09-10</td>\n",
       "      <td>869</td>\n",
       "      <td>75</td>\n",
       "      <td>No</td>\n",
       "      <td>75</td>\n",
       "      <td>5.945260</td>\n",
       "      <td>SP-0035</td>\n",
       "      <td>15.88</td>\n",
       "      <td>...</td>\n",
       "      <td>NaN</td>\n",
       "      <td>NaN</td>\n",
       "      <td>NaN</td>\n",
       "      <td>NaN</td>\n",
       "      <td>NaN</td>\n",
       "      <td>NaN</td>\n",
       "      <td>NaN</td>\n",
       "      <td>NaN</td>\n",
       "      <td>NaN</td>\n",
       "      <td>NaN</td>\n",
       "    </tr>\n",
       "    <tr>\n",
       "      <th>30209</th>\n",
       "      <td>TA-21191</td>\n",
       "      <td>S-0041</td>\n",
       "      <td>2013-09-10</td>\n",
       "      <td>752</td>\n",
       "      <td>1</td>\n",
       "      <td>No</td>\n",
       "      <td>1</td>\n",
       "      <td>6.131658</td>\n",
       "      <td>SP-0035</td>\n",
       "      <td>15.88</td>\n",
       "      <td>...</td>\n",
       "      <td>SP-0007</td>\n",
       "      <td>SP-0024</td>\n",
       "      <td>SP-0063</td>\n",
       "      <td>SP-0069</td>\n",
       "      <td>SP-0080</td>\n",
       "      <td>NaN</td>\n",
       "      <td>NaN</td>\n",
       "      <td>NaN</td>\n",
       "      <td>NaN</td>\n",
       "      <td>NaN</td>\n",
       "    </tr>\n",
       "    <tr>\n",
       "      <th>30210</th>\n",
       "      <td>TA-21195</td>\n",
       "      <td>S-0041</td>\n",
       "      <td>2013-08-05</td>\n",
       "      <td>1</td>\n",
       "      <td>80</td>\n",
       "      <td>No</td>\n",
       "      <td>80</td>\n",
       "      <td>5.066130</td>\n",
       "      <td>SP-0029</td>\n",
       "      <td>25.40</td>\n",
       "      <td>...</td>\n",
       "      <td>NaN</td>\n",
       "      <td>NaN</td>\n",
       "      <td>NaN</td>\n",
       "      <td>NaN</td>\n",
       "      <td>NaN</td>\n",
       "      <td>NaN</td>\n",
       "      <td>NaN</td>\n",
       "      <td>NaN</td>\n",
       "      <td>NaN</td>\n",
       "      <td>NaN</td>\n",
       "    </tr>\n",
       "    <tr>\n",
       "      <th>30211</th>\n",
       "      <td>TA-21196</td>\n",
       "      <td>S-0062</td>\n",
       "      <td>2005-05-09</td>\n",
       "      <td>422</td>\n",
       "      <td>1</td>\n",
       "      <td>No</td>\n",
       "      <td>1</td>\n",
       "      <td>18.214141</td>\n",
       "      <td>SP-0029</td>\n",
       "      <td>34.92</td>\n",
       "      <td>...</td>\n",
       "      <td>SP-0007</td>\n",
       "      <td>SP-0080</td>\n",
       "      <td>NaN</td>\n",
       "      <td>NaN</td>\n",
       "      <td>NaN</td>\n",
       "      <td>NaN</td>\n",
       "      <td>NaN</td>\n",
       "      <td>NaN</td>\n",
       "      <td>NaN</td>\n",
       "      <td>NaN</td>\n",
       "    </tr>\n",
       "    <tr>\n",
       "      <th>30212</th>\n",
       "      <td>TA-21197</td>\n",
       "      <td>S-0026</td>\n",
       "      <td>2009-07-30</td>\n",
       "      <td>3</td>\n",
       "      <td>1</td>\n",
       "      <td>No</td>\n",
       "      <td>1</td>\n",
       "      <td>53.618624</td>\n",
       "      <td>SP-0029</td>\n",
       "      <td>34.92</td>\n",
       "      <td>...</td>\n",
       "      <td>SP-0007</td>\n",
       "      <td>SP-0080</td>\n",
       "      <td>NaN</td>\n",
       "      <td>NaN</td>\n",
       "      <td>NaN</td>\n",
       "      <td>NaN</td>\n",
       "      <td>NaN</td>\n",
       "      <td>NaN</td>\n",
       "      <td>NaN</td>\n",
       "      <td>NaN</td>\n",
       "    </tr>\n",
       "  </tbody>\n",
       "</table>\n",
       "<p>5 rows × 49 columns</p>\n",
       "</div>"
      ],
      "text/plain": [
       "      tube_assembly_id supplier  quote_date  annual_usage  min_order_quantity  \\\n",
       "30208         TA-21190   S-0041  2013-09-10           869                  75   \n",
       "30209         TA-21191   S-0041  2013-09-10           752                   1   \n",
       "30210         TA-21195   S-0041  2013-08-05             1                  80   \n",
       "30211         TA-21196   S-0062  2005-05-09           422                   1   \n",
       "30212         TA-21197   S-0026  2009-07-30             3                   1   \n",
       "\n",
       "      bracket_pricing  quantity       cost material_id  diameter  ...    \\\n",
       "30208              No        75   5.945260     SP-0035     15.88  ...     \n",
       "30209              No         1   6.131658     SP-0035     15.88  ...     \n",
       "30210              No        80   5.066130     SP-0029     25.40  ...     \n",
       "30211              No         1  18.214141     SP-0029     34.92  ...     \n",
       "30212              No         1  53.618624     SP-0029     34.92  ...     \n",
       "\n",
       "         spec1    spec2    spec3    spec4    spec5 spec6 spec7 spec8 spec9  \\\n",
       "30208      NaN      NaN      NaN      NaN      NaN   NaN   NaN   NaN   NaN   \n",
       "30209  SP-0007  SP-0024  SP-0063  SP-0069  SP-0080   NaN   NaN   NaN   NaN   \n",
       "30210      NaN      NaN      NaN      NaN      NaN   NaN   NaN   NaN   NaN   \n",
       "30211  SP-0007  SP-0080      NaN      NaN      NaN   NaN   NaN   NaN   NaN   \n",
       "30212  SP-0007  SP-0080      NaN      NaN      NaN   NaN   NaN   NaN   NaN   \n",
       "\n",
       "      spec10  \n",
       "30208    NaN  \n",
       "30209    NaN  \n",
       "30210    NaN  \n",
       "30211    NaN  \n",
       "30212    NaN  \n",
       "\n",
       "[5 rows x 49 columns]"
      ]
     },
     "execution_count": 52,
     "metadata": {},
     "output_type": "execute_result"
    }
   ],
   "source": [
    "result_2.tail()"
   ]
  },
  {
   "cell_type": "code",
   "execution_count": 53,
   "metadata": {
    "collapsed": false
   },
   "outputs": [
    {
     "data": {
      "text/plain": [
       "tube_assembly_id       object\n",
       "supplier               object\n",
       "quote_date             object\n",
       "annual_usage            int64\n",
       "min_order_quantity      int64\n",
       "bracket_pricing        object\n",
       "quantity                int64\n",
       "cost                  float64\n",
       "material_id            object\n",
       "diameter              float64\n",
       "wall                  float64\n",
       "length                float64\n",
       "num_bends               int64\n",
       "bend_radius           float64\n",
       "end_a_1x               object\n",
       "end_a_2x               object\n",
       "end_x_1x               object\n",
       "end_x_2x               object\n",
       "end_a                  object\n",
       "end_x                  object\n",
       "num_boss                int64\n",
       "num_bracket             int64\n",
       "other                   int64\n",
       "component_id_1         object\n",
       "quantity_1            float64\n",
       "component_id_2         object\n",
       "quantity_2            float64\n",
       "component_id_3         object\n",
       "quantity_3            float64\n",
       "component_id_4         object\n",
       "quantity_4            float64\n",
       "component_id_5         object\n",
       "quantity_5            float64\n",
       "component_id_6         object\n",
       "quantity_6            float64\n",
       "component_id_7         object\n",
       "quantity_7            float64\n",
       "component_id_8         object\n",
       "quantity_8            float64\n",
       "spec1                  object\n",
       "spec2                  object\n",
       "spec3                  object\n",
       "spec4                  object\n",
       "spec5                  object\n",
       "spec6                  object\n",
       "spec7                  object\n",
       "spec8                  object\n",
       "spec9                  object\n",
       "spec10                 object\n",
       "dtype: object"
      ]
     },
     "execution_count": 53,
     "metadata": {},
     "output_type": "execute_result"
    }
   ],
   "source": [
    "result_2.dtypes"
   ]
  },
  {
   "cell_type": "markdown",
   "metadata": {},
   "source": [
    "#### Adding components information into one data frame"
   ]
  },
  {
   "cell_type": "code",
   "execution_count": 54,
   "metadata": {
    "collapsed": false
   },
   "outputs": [
    {
     "data": {
      "text/html": [
       "<div>\n",
       "<table border=\"1\" class=\"dataframe\">\n",
       "  <thead>\n",
       "    <tr style=\"text-align: right;\">\n",
       "      <th></th>\n",
       "      <th>component_type_id</th>\n",
       "      <th>hose_diameter</th>\n",
       "      <th>corresponding_shell</th>\n",
       "      <th>coupling_class</th>\n",
       "      <th>material</th>\n",
       "      <th>plating</th>\n",
       "      <th>orientation</th>\n",
       "      <th>weight</th>\n",
       "    </tr>\n",
       "    <tr>\n",
       "      <th>component_id</th>\n",
       "      <th></th>\n",
       "      <th></th>\n",
       "      <th></th>\n",
       "      <th></th>\n",
       "      <th></th>\n",
       "      <th></th>\n",
       "      <th></th>\n",
       "      <th></th>\n",
       "    </tr>\n",
       "  </thead>\n",
       "  <tbody>\n",
       "    <tr>\n",
       "      <th>C-0872</th>\n",
       "      <td>CP-023</td>\n",
       "      <td>4.8</td>\n",
       "      <td>C-0855</td>\n",
       "      <td>SP-0098</td>\n",
       "      <td>SP-0016</td>\n",
       "      <td>Yes</td>\n",
       "      <td>No</td>\n",
       "      <td>0.010</td>\n",
       "    </tr>\n",
       "    <tr>\n",
       "      <th>C-0873</th>\n",
       "      <td>CP-023</td>\n",
       "      <td>4.8</td>\n",
       "      <td>C-0856</td>\n",
       "      <td>SP-0098</td>\n",
       "      <td>SP-0016</td>\n",
       "      <td>Yes</td>\n",
       "      <td>No</td>\n",
       "      <td>0.010</td>\n",
       "    </tr>\n",
       "    <tr>\n",
       "      <th>C-0874</th>\n",
       "      <td>CP-023</td>\n",
       "      <td>4.8</td>\n",
       "      <td>C-0857</td>\n",
       "      <td>SP-0098</td>\n",
       "      <td>SP-0038</td>\n",
       "      <td>Yes</td>\n",
       "      <td>No</td>\n",
       "      <td>0.001</td>\n",
       "    </tr>\n",
       "    <tr>\n",
       "      <th>C-1039</th>\n",
       "      <td>CP-023</td>\n",
       "      <td>15.9</td>\n",
       "      <td>C-1040</td>\n",
       "      <td>SP-0097</td>\n",
       "      <td>SP-0095</td>\n",
       "      <td>No</td>\n",
       "      <td>No</td>\n",
       "      <td>0.052</td>\n",
       "    </tr>\n",
       "    <tr>\n",
       "      <th>C-1041</th>\n",
       "      <td>CP-023</td>\n",
       "      <td>15.9</td>\n",
       "      <td>C-1042</td>\n",
       "      <td>SP-0099</td>\n",
       "      <td>SP-0095</td>\n",
       "      <td>No</td>\n",
       "      <td>No</td>\n",
       "      <td>0.065</td>\n",
       "    </tr>\n",
       "  </tbody>\n",
       "</table>\n",
       "</div>"
      ],
      "text/plain": [
       "             component_type_id  hose_diameter corresponding_shell  \\\n",
       "component_id                                                        \n",
       "C-0872                  CP-023            4.8              C-0855   \n",
       "C-0873                  CP-023            4.8              C-0856   \n",
       "C-0874                  CP-023            4.8              C-0857   \n",
       "C-1039                  CP-023           15.9              C-1040   \n",
       "C-1041                  CP-023           15.9              C-1042   \n",
       "\n",
       "             coupling_class material plating orientation  weight  \n",
       "component_id                                                      \n",
       "C-0872              SP-0098  SP-0016     Yes          No   0.010  \n",
       "C-0873              SP-0098  SP-0016     Yes          No   0.010  \n",
       "C-0874              SP-0098  SP-0038     Yes          No   0.001  \n",
       "C-1039              SP-0097  SP-0095      No          No   0.052  \n",
       "C-1041              SP-0099  SP-0095      No          No   0.065  "
      ]
     },
     "execution_count": 54,
     "metadata": {},
     "output_type": "execute_result"
    }
   ],
   "source": [
    "comp_hfl_df.head()"
   ]
  },
  {
   "cell_type": "code",
   "execution_count": 55,
   "metadata": {
    "collapsed": false
   },
   "outputs": [
    {
     "data": {
      "text/html": [
       "<div>\n",
       "<table border=\"1\" class=\"dataframe\">\n",
       "  <thead>\n",
       "    <tr style=\"text-align: right;\">\n",
       "      <th></th>\n",
       "      <th>name</th>\n",
       "      <th>component_type_id</th>\n",
       "    </tr>\n",
       "    <tr>\n",
       "      <th>component_id</th>\n",
       "      <th></th>\n",
       "      <th></th>\n",
       "    </tr>\n",
       "  </thead>\n",
       "  <tbody>\n",
       "    <tr>\n",
       "      <th>9999</th>\n",
       "      <td>OTHER</td>\n",
       "      <td>OTHER</td>\n",
       "    </tr>\n",
       "    <tr>\n",
       "      <th>C-0001</th>\n",
       "      <td>SLEEVE</td>\n",
       "      <td>CP-024</td>\n",
       "    </tr>\n",
       "    <tr>\n",
       "      <th>C-0002</th>\n",
       "      <td>SLEEVE</td>\n",
       "      <td>CP-024</td>\n",
       "    </tr>\n",
       "    <tr>\n",
       "      <th>C-0003</th>\n",
       "      <td>SLEEVE-FLARED</td>\n",
       "      <td>CP-024</td>\n",
       "    </tr>\n",
       "    <tr>\n",
       "      <th>C-0004</th>\n",
       "      <td>NUT</td>\n",
       "      <td>CP-026</td>\n",
       "    </tr>\n",
       "  </tbody>\n",
       "</table>\n",
       "</div>"
      ],
      "text/plain": [
       "                       name component_type_id\n",
       "component_id                                 \n",
       "9999                  OTHER             OTHER\n",
       "C-0001               SLEEVE            CP-024\n",
       "C-0002               SLEEVE            CP-024\n",
       "C-0003        SLEEVE-FLARED            CP-024\n",
       "C-0004                  NUT            CP-026"
      ]
     },
     "execution_count": 55,
     "metadata": {},
     "output_type": "execute_result"
    }
   ],
   "source": [
    "components_df.head()"
   ]
  },
  {
   "cell_type": "markdown",
   "metadata": {},
   "source": [
    " "
   ]
  },
  {
   "cell_type": "markdown",
   "metadata": {},
   "source": [
    "components_df has all the component names and type IDs in one df.  Let's left join **comp_hfl_df** to **components_df** "
   ]
  },
  {
   "cell_type": "code",
   "execution_count": 56,
   "metadata": {
    "collapsed": true
   },
   "outputs": [],
   "source": [
    "# reset index on components_df and comp_hfl_df\n",
    "#components_df = reset_index(components_df, 'component_id')\n",
    "#comp_hfl_df = reset_index(comp_hfl_df, 'component_id')"
   ]
  },
  {
   "cell_type": "code",
   "execution_count": 57,
   "metadata": {
    "collapsed": false
   },
   "outputs": [
    {
     "data": {
      "text/plain": [
       "(6, 8)"
      ]
     },
     "execution_count": 57,
     "metadata": {},
     "output_type": "execute_result"
    }
   ],
   "source": [
    "comp_hfl_df.shape"
   ]
  },
  {
   "cell_type": "code",
   "execution_count": 58,
   "metadata": {
    "collapsed": false
   },
   "outputs": [
    {
     "data": {
      "text/plain": [
       "(2048, 2)"
      ]
     },
     "execution_count": 58,
     "metadata": {},
     "output_type": "execute_result"
    }
   ],
   "source": [
    "components_df.shape"
   ]
  },
  {
   "cell_type": "code",
   "execution_count": 59,
   "metadata": {
    "collapsed": true
   },
   "outputs": [],
   "source": [
    "# left join comp_hfl_df to components_df\n",
    "#comp_hfl_result_df = comp_hfl_df.merge(components_df, how = 'left', on = 'component_id')"
   ]
  },
  {
   "cell_type": "code",
   "execution_count": 60,
   "metadata": {
    "collapsed": false
   },
   "outputs": [],
   "source": [
    "#comp_hfl_result_df.shape"
   ]
  },
  {
   "cell_type": "code",
   "execution_count": 61,
   "metadata": {
    "collapsed": false
   },
   "outputs": [],
   "source": [
    "#comp_hfl_result_df"
   ]
  },
  {
   "cell_type": "code",
   "execution_count": null,
   "metadata": {
    "collapsed": false
   },
   "outputs": [],
   "source": []
  },
  {
   "cell_type": "code",
   "execution_count": 62,
   "metadata": {
    "collapsed": false
   },
   "outputs": [
    {
     "data": {
      "text/html": [
       "<div>\n",
       "<table border=\"1\" class=\"dataframe\">\n",
       "  <thead>\n",
       "    <tr style=\"text-align: right;\">\n",
       "      <th></th>\n",
       "      <th>component_type_id</th>\n",
       "      <th>hex_nut_size</th>\n",
       "      <th>seat_angle</th>\n",
       "      <th>length</th>\n",
       "      <th>thread_size</th>\n",
       "      <th>thread_pitch</th>\n",
       "      <th>diameter</th>\n",
       "      <th>blind_hole</th>\n",
       "      <th>orientation</th>\n",
       "      <th>weight</th>\n",
       "    </tr>\n",
       "    <tr>\n",
       "      <th>component_id</th>\n",
       "      <th></th>\n",
       "      <th></th>\n",
       "      <th></th>\n",
       "      <th></th>\n",
       "      <th></th>\n",
       "      <th></th>\n",
       "      <th></th>\n",
       "      <th></th>\n",
       "      <th></th>\n",
       "      <th></th>\n",
       "    </tr>\n",
       "  </thead>\n",
       "  <tbody>\n",
       "    <tr>\n",
       "      <th>C-1621</th>\n",
       "      <td>CP-025</td>\n",
       "      <td>20.64</td>\n",
       "      <td>NaN</td>\n",
       "      <td>17.0</td>\n",
       "      <td>.687</td>\n",
       "      <td>16</td>\n",
       "      <td>NaN</td>\n",
       "      <td>NaN</td>\n",
       "      <td>No</td>\n",
       "      <td>0.015</td>\n",
       "    </tr>\n",
       "    <tr>\n",
       "      <th>C-1624</th>\n",
       "      <td>CP-025</td>\n",
       "      <td>34.92</td>\n",
       "      <td>NaN</td>\n",
       "      <td>26.5</td>\n",
       "      <td>1.187</td>\n",
       "      <td>12</td>\n",
       "      <td>NaN</td>\n",
       "      <td>NaN</td>\n",
       "      <td>No</td>\n",
       "      <td>0.035</td>\n",
       "    </tr>\n",
       "    <tr>\n",
       "      <th>C-1623</th>\n",
       "      <td>CP-025</td>\n",
       "      <td>28.58</td>\n",
       "      <td>NaN</td>\n",
       "      <td>23.5</td>\n",
       "      <td>1.000</td>\n",
       "      <td>14</td>\n",
       "      <td>NaN</td>\n",
       "      <td>NaN</td>\n",
       "      <td>No</td>\n",
       "      <td>0.044</td>\n",
       "    </tr>\n",
       "    <tr>\n",
       "      <th>C-1622</th>\n",
       "      <td>CP-025</td>\n",
       "      <td>23.81</td>\n",
       "      <td>NaN</td>\n",
       "      <td>20.0</td>\n",
       "      <td>.812</td>\n",
       "      <td>16</td>\n",
       "      <td>NaN</td>\n",
       "      <td>NaN</td>\n",
       "      <td>No</td>\n",
       "      <td>0.036</td>\n",
       "    </tr>\n",
       "    <tr>\n",
       "      <th>C-1625</th>\n",
       "      <td>CP-025</td>\n",
       "      <td>41.28</td>\n",
       "      <td>NaN</td>\n",
       "      <td>27.5</td>\n",
       "      <td>1.437</td>\n",
       "      <td>12</td>\n",
       "      <td>NaN</td>\n",
       "      <td>NaN</td>\n",
       "      <td>No</td>\n",
       "      <td>0.129</td>\n",
       "    </tr>\n",
       "  </tbody>\n",
       "</table>\n",
       "</div>"
      ],
      "text/plain": [
       "             component_type_id  hex_nut_size  seat_angle  length thread_size  \\\n",
       "component_id                                                                   \n",
       "C-1621                  CP-025         20.64         NaN    17.0        .687   \n",
       "C-1624                  CP-025         34.92         NaN    26.5       1.187   \n",
       "C-1623                  CP-025         28.58         NaN    23.5       1.000   \n",
       "C-1622                  CP-025         23.81         NaN    20.0        .812   \n",
       "C-1625                  CP-025         41.28         NaN    27.5       1.437   \n",
       "\n",
       "              thread_pitch  diameter blind_hole orientation  weight  \n",
       "component_id                                                         \n",
       "C-1621                  16       NaN        NaN          No   0.015  \n",
       "C-1624                  12       NaN        NaN          No   0.035  \n",
       "C-1623                  14       NaN        NaN          No   0.044  \n",
       "C-1622                  16       NaN        NaN          No   0.036  \n",
       "C-1625                  12       NaN        NaN          No   0.129  "
      ]
     },
     "execution_count": 62,
     "metadata": {},
     "output_type": "execute_result"
    }
   ],
   "source": [
    "comp_nut_df.head()"
   ]
  },
  {
   "cell_type": "code",
   "execution_count": 63,
   "metadata": {
    "collapsed": false
   },
   "outputs": [
    {
     "data": {
      "text/html": [
       "<div>\n",
       "<table border=\"1\" class=\"dataframe\">\n",
       "  <thead>\n",
       "    <tr style=\"text-align: right;\">\n",
       "      <th></th>\n",
       "      <th>component_type_id</th>\n",
       "      <th>adaptor_angle</th>\n",
       "      <th>overall_length</th>\n",
       "      <th>end_form_id_1</th>\n",
       "      <th>connection_type_id_1</th>\n",
       "      <th>length_1</th>\n",
       "      <th>thread_size_1</th>\n",
       "      <th>thread_pitch_1</th>\n",
       "      <th>nominal_size_1</th>\n",
       "      <th>end_form_id_2</th>\n",
       "      <th>connection_type_id_2</th>\n",
       "      <th>length_2</th>\n",
       "      <th>thread_size_2</th>\n",
       "      <th>thread_pitch_2</th>\n",
       "      <th>nominal_size_2</th>\n",
       "      <th>hex_size</th>\n",
       "      <th>unique_feature</th>\n",
       "      <th>orientation</th>\n",
       "      <th>weight</th>\n",
       "    </tr>\n",
       "    <tr>\n",
       "      <th>component_id</th>\n",
       "      <th></th>\n",
       "      <th></th>\n",
       "      <th></th>\n",
       "      <th></th>\n",
       "      <th></th>\n",
       "      <th></th>\n",
       "      <th></th>\n",
       "      <th></th>\n",
       "      <th></th>\n",
       "      <th></th>\n",
       "      <th></th>\n",
       "      <th></th>\n",
       "      <th></th>\n",
       "      <th></th>\n",
       "      <th></th>\n",
       "      <th></th>\n",
       "      <th></th>\n",
       "      <th></th>\n",
       "      <th></th>\n",
       "    </tr>\n",
       "  </thead>\n",
       "  <tbody>\n",
       "    <tr>\n",
       "      <th>C-0005</th>\n",
       "      <td>CP-028</td>\n",
       "      <td>NaN</td>\n",
       "      <td>58.4</td>\n",
       "      <td>A-001</td>\n",
       "      <td>B-001</td>\n",
       "      <td>NaN</td>\n",
       "      <td>1.312</td>\n",
       "      <td>12</td>\n",
       "      <td>NaN</td>\n",
       "      <td>A-001</td>\n",
       "      <td>B-004</td>\n",
       "      <td>NaN</td>\n",
       "      <td>1.000</td>\n",
       "      <td>11.5</td>\n",
       "      <td>NaN</td>\n",
       "      <td>34.93</td>\n",
       "      <td>No</td>\n",
       "      <td>No</td>\n",
       "      <td>0.206</td>\n",
       "    </tr>\n",
       "    <tr>\n",
       "      <th>C-0006</th>\n",
       "      <td>CP-028</td>\n",
       "      <td>NaN</td>\n",
       "      <td>34.8</td>\n",
       "      <td>A-001</td>\n",
       "      <td>B-001</td>\n",
       "      <td>NaN</td>\n",
       "      <td>0.437</td>\n",
       "      <td>20</td>\n",
       "      <td>NaN</td>\n",
       "      <td>A-001</td>\n",
       "      <td>B-005</td>\n",
       "      <td>NaN</td>\n",
       "      <td>0.750</td>\n",
       "      <td>16.0</td>\n",
       "      <td>NaN</td>\n",
       "      <td>22.20</td>\n",
       "      <td>No</td>\n",
       "      <td>No</td>\n",
       "      <td>0.083</td>\n",
       "    </tr>\n",
       "    <tr>\n",
       "      <th>C-1435</th>\n",
       "      <td>CP-028</td>\n",
       "      <td>NaN</td>\n",
       "      <td>20.3</td>\n",
       "      <td>A-007</td>\n",
       "      <td>B-004</td>\n",
       "      <td>NaN</td>\n",
       "      <td>NaN</td>\n",
       "      <td>NaN</td>\n",
       "      <td>15.88</td>\n",
       "      <td>A-001</td>\n",
       "      <td>B-007</td>\n",
       "      <td>NaN</td>\n",
       "      <td>0.875</td>\n",
       "      <td>18.0</td>\n",
       "      <td>NaN</td>\n",
       "      <td>22.22</td>\n",
       "      <td>No</td>\n",
       "      <td>No</td>\n",
       "      <td>0.023</td>\n",
       "    </tr>\n",
       "    <tr>\n",
       "      <th>C-1546</th>\n",
       "      <td>CP-028</td>\n",
       "      <td>NaN</td>\n",
       "      <td>26.4</td>\n",
       "      <td>A-007</td>\n",
       "      <td>B-004</td>\n",
       "      <td>NaN</td>\n",
       "      <td>0.125</td>\n",
       "      <td>27</td>\n",
       "      <td>NaN</td>\n",
       "      <td>A-001</td>\n",
       "      <td>B-004</td>\n",
       "      <td>NaN</td>\n",
       "      <td>0.125</td>\n",
       "      <td>27.0</td>\n",
       "      <td>NaN</td>\n",
       "      <td>15.88</td>\n",
       "      <td>No</td>\n",
       "      <td>No</td>\n",
       "      <td>0.026</td>\n",
       "    </tr>\n",
       "    <tr>\n",
       "      <th>C-1583</th>\n",
       "      <td>CP-028</td>\n",
       "      <td>NaN</td>\n",
       "      <td>44.5</td>\n",
       "      <td>A-001</td>\n",
       "      <td>B-005</td>\n",
       "      <td>NaN</td>\n",
       "      <td>1.312</td>\n",
       "      <td>12</td>\n",
       "      <td>NaN</td>\n",
       "      <td>A-007</td>\n",
       "      <td>B-005</td>\n",
       "      <td>NaN</td>\n",
       "      <td>1.062</td>\n",
       "      <td>12.0</td>\n",
       "      <td>NaN</td>\n",
       "      <td>38.10</td>\n",
       "      <td>No</td>\n",
       "      <td>No</td>\n",
       "      <td>0.256</td>\n",
       "    </tr>\n",
       "  </tbody>\n",
       "</table>\n",
       "</div>"
      ],
      "text/plain": [
       "             component_type_id  adaptor_angle  overall_length end_form_id_1  \\\n",
       "component_id                                                                  \n",
       "C-0005                  CP-028            NaN            58.4         A-001   \n",
       "C-0006                  CP-028            NaN            34.8         A-001   \n",
       "C-1435                  CP-028            NaN            20.3         A-007   \n",
       "C-1546                  CP-028            NaN            26.4         A-007   \n",
       "C-1583                  CP-028            NaN            44.5         A-001   \n",
       "\n",
       "             connection_type_id_1  length_1  thread_size_1  thread_pitch_1  \\\n",
       "component_id                                                                 \n",
       "C-0005                      B-001       NaN          1.312              12   \n",
       "C-0006                      B-001       NaN          0.437              20   \n",
       "C-1435                      B-004       NaN            NaN             NaN   \n",
       "C-1546                      B-004       NaN          0.125              27   \n",
       "C-1583                      B-005       NaN          1.312              12   \n",
       "\n",
       "              nominal_size_1 end_form_id_2 connection_type_id_2  length_2  \\\n",
       "component_id                                                                \n",
       "C-0005                   NaN         A-001                B-004       NaN   \n",
       "C-0006                   NaN         A-001                B-005       NaN   \n",
       "C-1435                 15.88         A-001                B-007       NaN   \n",
       "C-1546                   NaN         A-001                B-004       NaN   \n",
       "C-1583                   NaN         A-007                B-005       NaN   \n",
       "\n",
       "              thread_size_2  thread_pitch_2  nominal_size_2  hex_size  \\\n",
       "component_id                                                            \n",
       "C-0005                1.000            11.5             NaN     34.93   \n",
       "C-0006                0.750            16.0             NaN     22.20   \n",
       "C-1435                0.875            18.0             NaN     22.22   \n",
       "C-1546                0.125            27.0             NaN     15.88   \n",
       "C-1583                1.062            12.0             NaN     38.10   \n",
       "\n",
       "             unique_feature orientation  weight  \n",
       "component_id                                     \n",
       "C-0005                   No          No   0.206  \n",
       "C-0006                   No          No   0.083  \n",
       "C-1435                   No          No   0.023  \n",
       "C-1546                   No          No   0.026  \n",
       "C-1583                   No          No   0.256  "
      ]
     },
     "execution_count": 63,
     "metadata": {},
     "output_type": "execute_result"
    }
   ],
   "source": [
    "comp_adaptor_df.head()"
   ]
  },
  {
   "cell_type": "code",
   "execution_count": 64,
   "metadata": {
    "collapsed": false
   },
   "outputs": [
    {
     "data": {
      "text/html": [
       "<div>\n",
       "<table border=\"1\" class=\"dataframe\">\n",
       "  <thead>\n",
       "    <tr style=\"text-align: right;\">\n",
       "      <th></th>\n",
       "      <th>component_type_id</th>\n",
       "      <th>bolt_pattern_long</th>\n",
       "      <th>bolt_pattern_wide</th>\n",
       "      <th>extension_length</th>\n",
       "      <th>overall_length</th>\n",
       "      <th>thickness</th>\n",
       "      <th>drop_length</th>\n",
       "      <th>elbow_angle</th>\n",
       "      <th>mj_class_code</th>\n",
       "      <th>mj_plug_class_code</th>\n",
       "      <th>plug_diameter</th>\n",
       "      <th>groove</th>\n",
       "      <th>unique_feature</th>\n",
       "      <th>orientation</th>\n",
       "      <th>weight</th>\n",
       "    </tr>\n",
       "    <tr>\n",
       "      <th>component_id</th>\n",
       "      <th></th>\n",
       "      <th></th>\n",
       "      <th></th>\n",
       "      <th></th>\n",
       "      <th></th>\n",
       "      <th></th>\n",
       "      <th></th>\n",
       "      <th></th>\n",
       "      <th></th>\n",
       "      <th></th>\n",
       "      <th></th>\n",
       "      <th></th>\n",
       "      <th></th>\n",
       "      <th></th>\n",
       "      <th></th>\n",
       "    </tr>\n",
       "  </thead>\n",
       "  <tbody>\n",
       "    <tr>\n",
       "      <th>C-0013</th>\n",
       "      <td>CP-008</td>\n",
       "      <td>152.4</td>\n",
       "      <td>92.08</td>\n",
       "      <td>105.0</td>\n",
       "      <td>185</td>\n",
       "      <td>113</td>\n",
       "      <td>75.0</td>\n",
       "      <td>90</td>\n",
       "      <td>NaN</td>\n",
       "      <td>NaN</td>\n",
       "      <td>NaN</td>\n",
       "      <td>Yes</td>\n",
       "      <td>No</td>\n",
       "      <td>Yes</td>\n",
       "      <td>8.890</td>\n",
       "    </tr>\n",
       "    <tr>\n",
       "      <th>C-0016</th>\n",
       "      <td>CP-009</td>\n",
       "      <td>57.2</td>\n",
       "      <td>27.80</td>\n",
       "      <td>42.0</td>\n",
       "      <td>69</td>\n",
       "      <td>44</td>\n",
       "      <td>24.0</td>\n",
       "      <td>90</td>\n",
       "      <td>NaN</td>\n",
       "      <td>NaN</td>\n",
       "      <td>NaN</td>\n",
       "      <td>No</td>\n",
       "      <td>No</td>\n",
       "      <td>Yes</td>\n",
       "      <td>1.172</td>\n",
       "    </tr>\n",
       "    <tr>\n",
       "      <th>C-0017</th>\n",
       "      <td>CP-009</td>\n",
       "      <td>57.2</td>\n",
       "      <td>27.80</td>\n",
       "      <td>42.0</td>\n",
       "      <td>69</td>\n",
       "      <td>47</td>\n",
       "      <td>26.0</td>\n",
       "      <td>90</td>\n",
       "      <td>NaN</td>\n",
       "      <td>NaN</td>\n",
       "      <td>NaN</td>\n",
       "      <td>Yes</td>\n",
       "      <td>No</td>\n",
       "      <td>Yes</td>\n",
       "      <td>1.245</td>\n",
       "    </tr>\n",
       "    <tr>\n",
       "      <th>C-0018</th>\n",
       "      <td>CP-009</td>\n",
       "      <td>66.6</td>\n",
       "      <td>31.80</td>\n",
       "      <td>50.0</td>\n",
       "      <td>80</td>\n",
       "      <td>57</td>\n",
       "      <td>31.5</td>\n",
       "      <td>90</td>\n",
       "      <td>NaN</td>\n",
       "      <td>NaN</td>\n",
       "      <td>NaN</td>\n",
       "      <td>Yes</td>\n",
       "      <td>No</td>\n",
       "      <td>Yes</td>\n",
       "      <td>1.863</td>\n",
       "    </tr>\n",
       "    <tr>\n",
       "      <th>C-0021</th>\n",
       "      <td>CP-010</td>\n",
       "      <td>75.0</td>\n",
       "      <td>NaN</td>\n",
       "      <td>31.5</td>\n",
       "      <td>70</td>\n",
       "      <td>25</td>\n",
       "      <td>12.5</td>\n",
       "      <td>90</td>\n",
       "      <td>NaN</td>\n",
       "      <td>NaN</td>\n",
       "      <td>NaN</td>\n",
       "      <td>No</td>\n",
       "      <td>Yes</td>\n",
       "      <td>Yes</td>\n",
       "      <td>0.903</td>\n",
       "    </tr>\n",
       "  </tbody>\n",
       "</table>\n",
       "</div>"
      ],
      "text/plain": [
       "             component_type_id  bolt_pattern_long  bolt_pattern_wide  \\\n",
       "component_id                                                           \n",
       "C-0013                  CP-008              152.4              92.08   \n",
       "C-0016                  CP-009               57.2              27.80   \n",
       "C-0017                  CP-009               57.2              27.80   \n",
       "C-0018                  CP-009               66.6              31.80   \n",
       "C-0021                  CP-010               75.0                NaN   \n",
       "\n",
       "              extension_length  overall_length  thickness  drop_length  \\\n",
       "component_id                                                             \n",
       "C-0013                   105.0             185        113         75.0   \n",
       "C-0016                    42.0              69         44         24.0   \n",
       "C-0017                    42.0              69         47         26.0   \n",
       "C-0018                    50.0              80         57         31.5   \n",
       "C-0021                    31.5              70         25         12.5   \n",
       "\n",
       "              elbow_angle mj_class_code mj_plug_class_code  plug_diameter  \\\n",
       "component_id                                                                \n",
       "C-0013                 90           NaN                NaN            NaN   \n",
       "C-0016                 90           NaN                NaN            NaN   \n",
       "C-0017                 90           NaN                NaN            NaN   \n",
       "C-0018                 90           NaN                NaN            NaN   \n",
       "C-0021                 90           NaN                NaN            NaN   \n",
       "\n",
       "             groove unique_feature orientation  weight  \n",
       "component_id                                            \n",
       "C-0013          Yes             No         Yes   8.890  \n",
       "C-0016           No             No         Yes   1.172  \n",
       "C-0017          Yes             No         Yes   1.245  \n",
       "C-0018          Yes             No         Yes   1.863  \n",
       "C-0021           No            Yes         Yes   0.903  "
      ]
     },
     "execution_count": 64,
     "metadata": {},
     "output_type": "execute_result"
    }
   ],
   "source": [
    "comp_elbow_df.head()"
   ]
  },
  {
   "cell_type": "code",
   "execution_count": 65,
   "metadata": {
    "collapsed": false
   },
   "outputs": [
    {
     "data": {
      "text/html": [
       "<div>\n",
       "<table border=\"1\" class=\"dataframe\">\n",
       "  <thead>\n",
       "    <tr style=\"text-align: right;\">\n",
       "      <th></th>\n",
       "      <th>component_type_id</th>\n",
       "      <th>connection_type_id</th>\n",
       "      <th>length</th>\n",
       "      <th>intended_nut_thread</th>\n",
       "      <th>intended_nut_pitch</th>\n",
       "      <th>unique_feature</th>\n",
       "      <th>plating</th>\n",
       "      <th>orientation</th>\n",
       "      <th>weight</th>\n",
       "    </tr>\n",
       "    <tr>\n",
       "      <th>component_id</th>\n",
       "      <th></th>\n",
       "      <th></th>\n",
       "      <th></th>\n",
       "      <th></th>\n",
       "      <th></th>\n",
       "      <th></th>\n",
       "      <th></th>\n",
       "      <th></th>\n",
       "      <th></th>\n",
       "    </tr>\n",
       "  </thead>\n",
       "  <tbody>\n",
       "    <tr>\n",
       "      <th>C-0001</th>\n",
       "      <td>CP-024</td>\n",
       "      <td>B-001</td>\n",
       "      <td>17.3</td>\n",
       "      <td>1.062</td>\n",
       "      <td>12</td>\n",
       "      <td>No</td>\n",
       "      <td>No</td>\n",
       "      <td>No</td>\n",
       "      <td>0.013</td>\n",
       "    </tr>\n",
       "    <tr>\n",
       "      <th>C-0002</th>\n",
       "      <td>CP-024</td>\n",
       "      <td>B-001</td>\n",
       "      <td>11.2</td>\n",
       "      <td>0.500</td>\n",
       "      <td>20</td>\n",
       "      <td>No</td>\n",
       "      <td>No</td>\n",
       "      <td>No</td>\n",
       "      <td>0.005</td>\n",
       "    </tr>\n",
       "    <tr>\n",
       "      <th>C-0003</th>\n",
       "      <td>CP-024</td>\n",
       "      <td>B-001</td>\n",
       "      <td>19.3</td>\n",
       "      <td>1.187</td>\n",
       "      <td>12</td>\n",
       "      <td>No</td>\n",
       "      <td>No</td>\n",
       "      <td>No</td>\n",
       "      <td>0.014</td>\n",
       "    </tr>\n",
       "    <tr>\n",
       "      <th>C-0048</th>\n",
       "      <td>CP-024</td>\n",
       "      <td>B-002</td>\n",
       "      <td>9.5</td>\n",
       "      <td>0.562</td>\n",
       "      <td>18</td>\n",
       "      <td>No</td>\n",
       "      <td>No</td>\n",
       "      <td>No</td>\n",
       "      <td>0.006</td>\n",
       "    </tr>\n",
       "    <tr>\n",
       "      <th>C-0049</th>\n",
       "      <td>CP-024</td>\n",
       "      <td>B-002</td>\n",
       "      <td>9.5</td>\n",
       "      <td>0.812</td>\n",
       "      <td>16</td>\n",
       "      <td>No</td>\n",
       "      <td>No</td>\n",
       "      <td>No</td>\n",
       "      <td>0.012</td>\n",
       "    </tr>\n",
       "  </tbody>\n",
       "</table>\n",
       "</div>"
      ],
      "text/plain": [
       "             component_type_id connection_type_id  length  \\\n",
       "component_id                                                \n",
       "C-0001                  CP-024              B-001    17.3   \n",
       "C-0002                  CP-024              B-001    11.2   \n",
       "C-0003                  CP-024              B-001    19.3   \n",
       "C-0048                  CP-024              B-002     9.5   \n",
       "C-0049                  CP-024              B-002     9.5   \n",
       "\n",
       "              intended_nut_thread  intended_nut_pitch unique_feature plating  \\\n",
       "component_id                                                                   \n",
       "C-0001                      1.062                  12             No      No   \n",
       "C-0002                      0.500                  20             No      No   \n",
       "C-0003                      1.187                  12             No      No   \n",
       "C-0048                      0.562                  18             No      No   \n",
       "C-0049                      0.812                  16             No      No   \n",
       "\n",
       "             orientation  weight  \n",
       "component_id                      \n",
       "C-0001                No   0.013  \n",
       "C-0002                No   0.005  \n",
       "C-0003                No   0.014  \n",
       "C-0048                No   0.006  \n",
       "C-0049                No   0.012  "
      ]
     },
     "execution_count": 65,
     "metadata": {},
     "output_type": "execute_result"
    }
   ],
   "source": [
    "comp_sleeve_df.head()"
   ]
  },
  {
   "cell_type": "code",
   "execution_count": 66,
   "metadata": {
    "collapsed": false
   },
   "outputs": [
    {
     "data": {
      "text/html": [
       "<div>\n",
       "<table border=\"1\" class=\"dataframe\">\n",
       "  <thead>\n",
       "    <tr style=\"text-align: right;\">\n",
       "      <th></th>\n",
       "      <th>part_name</th>\n",
       "      <th>weight</th>\n",
       "    </tr>\n",
       "    <tr>\n",
       "      <th>component_id</th>\n",
       "      <th></th>\n",
       "      <th></th>\n",
       "    </tr>\n",
       "  </thead>\n",
       "  <tbody>\n",
       "    <tr>\n",
       "      <th>C-1385</th>\n",
       "      <td>NUT-FLARED</td>\n",
       "      <td>0.014</td>\n",
       "    </tr>\n",
       "    <tr>\n",
       "      <th>C-1386</th>\n",
       "      <td>SLEEVE-FLARED</td>\n",
       "      <td>0.005</td>\n",
       "    </tr>\n",
       "    <tr>\n",
       "      <th>C-1369</th>\n",
       "      <td>COLLAR</td>\n",
       "      <td>0.003</td>\n",
       "    </tr>\n",
       "    <tr>\n",
       "      <th>C-0422</th>\n",
       "      <td>WASHER-FUEL LIN</td>\n",
       "      <td>0.003</td>\n",
       "    </tr>\n",
       "    <tr>\n",
       "      <th>C-1817</th>\n",
       "      <td>FITTING-NUT</td>\n",
       "      <td>0.014</td>\n",
       "    </tr>\n",
       "  </tbody>\n",
       "</table>\n",
       "</div>"
      ],
      "text/plain": [
       "                    part_name  weight\n",
       "component_id                         \n",
       "C-1385             NUT-FLARED   0.014\n",
       "C-1386          SLEEVE-FLARED   0.005\n",
       "C-1369                 COLLAR   0.003\n",
       "C-0422        WASHER-FUEL LIN   0.003\n",
       "C-1817            FITTING-NUT   0.014"
      ]
     },
     "execution_count": 66,
     "metadata": {},
     "output_type": "execute_result"
    }
   ],
   "source": [
    "comp_other_df.head()"
   ]
  },
  {
   "cell_type": "code",
   "execution_count": 67,
   "metadata": {
    "collapsed": false
   },
   "outputs": [
    {
     "data": {
      "text/html": [
       "<div>\n",
       "<table border=\"1\" class=\"dataframe\">\n",
       "  <thead>\n",
       "    <tr style=\"text-align: right;\">\n",
       "      <th></th>\n",
       "      <th>component_type_id</th>\n",
       "      <th>adaptor_angle</th>\n",
       "      <th>overall_length</th>\n",
       "      <th>hex_size</th>\n",
       "      <th>end_form_id_1</th>\n",
       "      <th>connection_type_id_1</th>\n",
       "      <th>length_1</th>\n",
       "      <th>thread_size_1</th>\n",
       "      <th>thread_pitch_1</th>\n",
       "      <th>nominal_size_1</th>\n",
       "      <th>...</th>\n",
       "      <th>nominal_size_3</th>\n",
       "      <th>end_form_id_4</th>\n",
       "      <th>connection_type_id_4</th>\n",
       "      <th>length_4</th>\n",
       "      <th>thread_size_4</th>\n",
       "      <th>thread_pitch_4</th>\n",
       "      <th>nominal_size_4</th>\n",
       "      <th>unique_feature</th>\n",
       "      <th>orientation</th>\n",
       "      <th>weight</th>\n",
       "    </tr>\n",
       "    <tr>\n",
       "      <th>component_id</th>\n",
       "      <th></th>\n",
       "      <th></th>\n",
       "      <th></th>\n",
       "      <th></th>\n",
       "      <th></th>\n",
       "      <th></th>\n",
       "      <th></th>\n",
       "      <th></th>\n",
       "      <th></th>\n",
       "      <th></th>\n",
       "      <th></th>\n",
       "      <th></th>\n",
       "      <th></th>\n",
       "      <th></th>\n",
       "      <th></th>\n",
       "      <th></th>\n",
       "      <th></th>\n",
       "      <th></th>\n",
       "      <th></th>\n",
       "      <th></th>\n",
       "      <th></th>\n",
       "    </tr>\n",
       "  </thead>\n",
       "  <tbody>\n",
       "    <tr>\n",
       "      <th>C-0007</th>\n",
       "      <td>CP-014</td>\n",
       "      <td>NaN</td>\n",
       "      <td>24.4</td>\n",
       "      <td>12.70</td>\n",
       "      <td>A-001</td>\n",
       "      <td>B-001</td>\n",
       "      <td>NaN</td>\n",
       "      <td>0.437</td>\n",
       "      <td>20</td>\n",
       "      <td>NaN</td>\n",
       "      <td>...</td>\n",
       "      <td>NaN</td>\n",
       "      <td>NaN</td>\n",
       "      <td>NaN</td>\n",
       "      <td>NaN</td>\n",
       "      <td>NaN</td>\n",
       "      <td>NaN</td>\n",
       "      <td>NaN</td>\n",
       "      <td>No</td>\n",
       "      <td>No</td>\n",
       "      <td>0.028</td>\n",
       "    </tr>\n",
       "    <tr>\n",
       "      <th>C-0030</th>\n",
       "      <td>CP-015</td>\n",
       "      <td>90</td>\n",
       "      <td>NaN</td>\n",
       "      <td>NaN</td>\n",
       "      <td>A-003</td>\n",
       "      <td>NaN</td>\n",
       "      <td>47</td>\n",
       "      <td>NaN</td>\n",
       "      <td>NaN</td>\n",
       "      <td>42</td>\n",
       "      <td>...</td>\n",
       "      <td>NaN</td>\n",
       "      <td>NaN</td>\n",
       "      <td>NaN</td>\n",
       "      <td>NaN</td>\n",
       "      <td>NaN</td>\n",
       "      <td>NaN</td>\n",
       "      <td>NaN</td>\n",
       "      <td>No</td>\n",
       "      <td>Yes</td>\n",
       "      <td>0.914</td>\n",
       "    </tr>\n",
       "    <tr>\n",
       "      <th>C-0041</th>\n",
       "      <td>CP-014</td>\n",
       "      <td>NaN</td>\n",
       "      <td>28.0</td>\n",
       "      <td>32.00</td>\n",
       "      <td>A-004</td>\n",
       "      <td>NaN</td>\n",
       "      <td>NaN</td>\n",
       "      <td>NaN</td>\n",
       "      <td>NaN</td>\n",
       "      <td>21.7</td>\n",
       "      <td>...</td>\n",
       "      <td>NaN</td>\n",
       "      <td>NaN</td>\n",
       "      <td>NaN</td>\n",
       "      <td>NaN</td>\n",
       "      <td>NaN</td>\n",
       "      <td>NaN</td>\n",
       "      <td>NaN</td>\n",
       "      <td>No</td>\n",
       "      <td>No</td>\n",
       "      <td>0.120</td>\n",
       "    </tr>\n",
       "    <tr>\n",
       "      <th>C-0043</th>\n",
       "      <td>CP-014</td>\n",
       "      <td>NaN</td>\n",
       "      <td>38.0</td>\n",
       "      <td>27.00</td>\n",
       "      <td>A-003</td>\n",
       "      <td>NaN</td>\n",
       "      <td>NaN</td>\n",
       "      <td>NaN</td>\n",
       "      <td>NaN</td>\n",
       "      <td>21.7</td>\n",
       "      <td>...</td>\n",
       "      <td>NaN</td>\n",
       "      <td>NaN</td>\n",
       "      <td>NaN</td>\n",
       "      <td>NaN</td>\n",
       "      <td>NaN</td>\n",
       "      <td>NaN</td>\n",
       "      <td>NaN</td>\n",
       "      <td>No</td>\n",
       "      <td>No</td>\n",
       "      <td>0.090</td>\n",
       "    </tr>\n",
       "    <tr>\n",
       "      <th>C-0044</th>\n",
       "      <td>CP-014</td>\n",
       "      <td>NaN</td>\n",
       "      <td>30.5</td>\n",
       "      <td>41.28</td>\n",
       "      <td>A-004</td>\n",
       "      <td>NaN</td>\n",
       "      <td>NaN</td>\n",
       "      <td>NaN</td>\n",
       "      <td>NaN</td>\n",
       "      <td>34</td>\n",
       "      <td>...</td>\n",
       "      <td>NaN</td>\n",
       "      <td>NaN</td>\n",
       "      <td>NaN</td>\n",
       "      <td>NaN</td>\n",
       "      <td>NaN</td>\n",
       "      <td>NaN</td>\n",
       "      <td>NaN</td>\n",
       "      <td>No</td>\n",
       "      <td>No</td>\n",
       "      <td>0.182</td>\n",
       "    </tr>\n",
       "  </tbody>\n",
       "</table>\n",
       "<p>5 rows × 31 columns</p>\n",
       "</div>"
      ],
      "text/plain": [
       "             component_type_id  adaptor_angle  overall_length  hex_size  \\\n",
       "component_id                                                              \n",
       "C-0007                  CP-014            NaN            24.4     12.70   \n",
       "C-0030                  CP-015             90             NaN       NaN   \n",
       "C-0041                  CP-014            NaN            28.0     32.00   \n",
       "C-0043                  CP-014            NaN            38.0     27.00   \n",
       "C-0044                  CP-014            NaN            30.5     41.28   \n",
       "\n",
       "             end_form_id_1 connection_type_id_1  length_1  thread_size_1  \\\n",
       "component_id                                                               \n",
       "C-0007               A-001                B-001       NaN          0.437   \n",
       "C-0030               A-003                  NaN        47            NaN   \n",
       "C-0041               A-004                  NaN       NaN            NaN   \n",
       "C-0043               A-003                  NaN       NaN            NaN   \n",
       "C-0044               A-004                  NaN       NaN            NaN   \n",
       "\n",
       "              thread_pitch_1 nominal_size_1   ...   nominal_size_3  \\\n",
       "component_id                                  ...                    \n",
       "C-0007                    20            NaN   ...              NaN   \n",
       "C-0030                   NaN             42   ...              NaN   \n",
       "C-0041                   NaN           21.7   ...              NaN   \n",
       "C-0043                   NaN           21.7   ...              NaN   \n",
       "C-0044                   NaN             34   ...              NaN   \n",
       "\n",
       "             end_form_id_4  connection_type_id_4  length_4  thread_size_4  \\\n",
       "component_id                                                                \n",
       "C-0007                 NaN                   NaN       NaN            NaN   \n",
       "C-0030                 NaN                   NaN       NaN            NaN   \n",
       "C-0041                 NaN                   NaN       NaN            NaN   \n",
       "C-0043                 NaN                   NaN       NaN            NaN   \n",
       "C-0044                 NaN                   NaN       NaN            NaN   \n",
       "\n",
       "              thread_pitch_4 nominal_size_4 unique_feature  orientation  \\\n",
       "component_id                                                              \n",
       "C-0007                   NaN            NaN             No           No   \n",
       "C-0030                   NaN            NaN             No          Yes   \n",
       "C-0041                   NaN            NaN             No           No   \n",
       "C-0043                   NaN            NaN             No           No   \n",
       "C-0044                   NaN            NaN             No           No   \n",
       "\n",
       "              weight  \n",
       "component_id          \n",
       "C-0007         0.028  \n",
       "C-0030         0.914  \n",
       "C-0041         0.120  \n",
       "C-0043         0.090  \n",
       "C-0044         0.182  \n",
       "\n",
       "[5 rows x 31 columns]"
      ]
     },
     "execution_count": 67,
     "metadata": {},
     "output_type": "execute_result"
    }
   ],
   "source": [
    "comp_threaded_df.head()"
   ]
  },
  {
   "cell_type": "code",
   "execution_count": 68,
   "metadata": {
    "collapsed": false
   },
   "outputs": [
    {
     "data": {
      "text/html": [
       "<div>\n",
       "<table border=\"1\" class=\"dataframe\">\n",
       "  <thead>\n",
       "    <tr style=\"text-align: right;\">\n",
       "      <th></th>\n",
       "      <th>component_type_id</th>\n",
       "      <th>bolt_pattern_long</th>\n",
       "      <th>bolt_pattern_wide</th>\n",
       "      <th>head_diameter</th>\n",
       "      <th>overall_length</th>\n",
       "      <th>thickness</th>\n",
       "      <th>mj_class_code</th>\n",
       "      <th>groove</th>\n",
       "      <th>unique_feature</th>\n",
       "      <th>orientation</th>\n",
       "      <th>weight</th>\n",
       "    </tr>\n",
       "    <tr>\n",
       "      <th>component_id</th>\n",
       "      <th></th>\n",
       "      <th></th>\n",
       "      <th></th>\n",
       "      <th></th>\n",
       "      <th></th>\n",
       "      <th></th>\n",
       "      <th></th>\n",
       "      <th></th>\n",
       "      <th></th>\n",
       "      <th></th>\n",
       "      <th></th>\n",
       "    </tr>\n",
       "  </thead>\n",
       "  <tbody>\n",
       "    <tr>\n",
       "      <th>C-0012</th>\n",
       "      <td>CP-001</td>\n",
       "      <td>66.68</td>\n",
       "      <td>31.75</td>\n",
       "      <td>NaN</td>\n",
       "      <td>40</td>\n",
       "      <td>20.0</td>\n",
       "      <td>NaN</td>\n",
       "      <td>No</td>\n",
       "      <td>No</td>\n",
       "      <td>Yes</td>\n",
       "      <td>0.788</td>\n",
       "    </tr>\n",
       "    <tr>\n",
       "      <th>C-0014</th>\n",
       "      <td>CP-001</td>\n",
       "      <td>47.60</td>\n",
       "      <td>22.20</td>\n",
       "      <td>NaN</td>\n",
       "      <td>38</td>\n",
       "      <td>15.0</td>\n",
       "      <td>NaN</td>\n",
       "      <td>Yes</td>\n",
       "      <td>No</td>\n",
       "      <td>Yes</td>\n",
       "      <td>0.339</td>\n",
       "    </tr>\n",
       "    <tr>\n",
       "      <th>C-0015</th>\n",
       "      <td>CP-001</td>\n",
       "      <td>66.70</td>\n",
       "      <td>31.80</td>\n",
       "      <td>NaN</td>\n",
       "      <td>40</td>\n",
       "      <td>20.0</td>\n",
       "      <td>NaN</td>\n",
       "      <td>Yes</td>\n",
       "      <td>No</td>\n",
       "      <td>Yes</td>\n",
       "      <td>0.788</td>\n",
       "    </tr>\n",
       "    <tr>\n",
       "      <th>C-0019</th>\n",
       "      <td>CP-002</td>\n",
       "      <td>77.80</td>\n",
       "      <td>42.90</td>\n",
       "      <td>NaN</td>\n",
       "      <td>NaN</td>\n",
       "      <td>36.5</td>\n",
       "      <td>MJ-003</td>\n",
       "      <td>No</td>\n",
       "      <td>No</td>\n",
       "      <td>Yes</td>\n",
       "      <td>1.533</td>\n",
       "    </tr>\n",
       "    <tr>\n",
       "      <th>C-0029</th>\n",
       "      <td>CP-001</td>\n",
       "      <td>47.63</td>\n",
       "      <td>22.23</td>\n",
       "      <td>NaN</td>\n",
       "      <td>NaN</td>\n",
       "      <td>16.0</td>\n",
       "      <td>NaN</td>\n",
       "      <td>Yes</td>\n",
       "      <td>No</td>\n",
       "      <td>Yes</td>\n",
       "      <td>0.286</td>\n",
       "    </tr>\n",
       "  </tbody>\n",
       "</table>\n",
       "</div>"
      ],
      "text/plain": [
       "             component_type_id  bolt_pattern_long  bolt_pattern_wide  \\\n",
       "component_id                                                           \n",
       "C-0012                  CP-001              66.68              31.75   \n",
       "C-0014                  CP-001              47.60              22.20   \n",
       "C-0015                  CP-001              66.70              31.80   \n",
       "C-0019                  CP-002              77.80              42.90   \n",
       "C-0029                  CP-001              47.63              22.23   \n",
       "\n",
       "              head_diameter  overall_length  thickness mj_class_code groove  \\\n",
       "component_id                                                                  \n",
       "C-0012                  NaN              40       20.0           NaN     No   \n",
       "C-0014                  NaN              38       15.0           NaN    Yes   \n",
       "C-0015                  NaN              40       20.0           NaN    Yes   \n",
       "C-0019                  NaN             NaN       36.5        MJ-003     No   \n",
       "C-0029                  NaN             NaN       16.0           NaN    Yes   \n",
       "\n",
       "             unique_feature orientation  weight  \n",
       "component_id                                     \n",
       "C-0012                   No         Yes   0.788  \n",
       "C-0014                   No         Yes   0.339  \n",
       "C-0015                   No         Yes   0.788  \n",
       "C-0019                   No         Yes   1.533  \n",
       "C-0029                   No         Yes   0.286  "
      ]
     },
     "execution_count": 68,
     "metadata": {},
     "output_type": "execute_result"
    }
   ],
   "source": [
    "comp_straight_df.head()"
   ]
  },
  {
   "cell_type": "code",
   "execution_count": 69,
   "metadata": {
    "collapsed": false
   },
   "outputs": [
    {
     "data": {
      "text/html": [
       "<div>\n",
       "<table border=\"1\" class=\"dataframe\">\n",
       "  <thead>\n",
       "    <tr style=\"text-align: right;\">\n",
       "      <th></th>\n",
       "      <th>component_type_id</th>\n",
       "      <th>type</th>\n",
       "      <th>connection_type_id</th>\n",
       "      <th>outside_shape</th>\n",
       "      <th>base_type</th>\n",
       "      <th>height_over_tube</th>\n",
       "      <th>bolt_pattern_long</th>\n",
       "      <th>bolt_pattern_wide</th>\n",
       "      <th>groove</th>\n",
       "      <th>base_diameter</th>\n",
       "      <th>shoulder_diameter</th>\n",
       "      <th>unique_feature</th>\n",
       "      <th>orientation</th>\n",
       "      <th>weight</th>\n",
       "    </tr>\n",
       "    <tr>\n",
       "      <th>component_id</th>\n",
       "      <th></th>\n",
       "      <th></th>\n",
       "      <th></th>\n",
       "      <th></th>\n",
       "      <th></th>\n",
       "      <th></th>\n",
       "      <th></th>\n",
       "      <th></th>\n",
       "      <th></th>\n",
       "      <th></th>\n",
       "      <th></th>\n",
       "      <th></th>\n",
       "      <th></th>\n",
       "      <th></th>\n",
       "    </tr>\n",
       "  </thead>\n",
       "  <tbody>\n",
       "    <tr>\n",
       "      <th>C-0008</th>\n",
       "      <td>CP-018</td>\n",
       "      <td>Boss</td>\n",
       "      <td>B-005</td>\n",
       "      <td>Round</td>\n",
       "      <td>Flat Bottom</td>\n",
       "      <td>17.0</td>\n",
       "      <td>NaN</td>\n",
       "      <td>NaN</td>\n",
       "      <td>No</td>\n",
       "      <td>22</td>\n",
       "      <td>NaN</td>\n",
       "      <td>Yes</td>\n",
       "      <td>Yes</td>\n",
       "      <td>0.032</td>\n",
       "    </tr>\n",
       "    <tr>\n",
       "      <th>C-0009</th>\n",
       "      <td>CP-018</td>\n",
       "      <td>Boss</td>\n",
       "      <td>B-004</td>\n",
       "      <td>Round</td>\n",
       "      <td>Flat Bottom</td>\n",
       "      <td>13.0</td>\n",
       "      <td>NaN</td>\n",
       "      <td>NaN</td>\n",
       "      <td>No</td>\n",
       "      <td>25</td>\n",
       "      <td>NaN</td>\n",
       "      <td>No</td>\n",
       "      <td>Yes</td>\n",
       "      <td>0.033</td>\n",
       "    </tr>\n",
       "    <tr>\n",
       "      <th>C-0020</th>\n",
       "      <td>CP-018</td>\n",
       "      <td>Boss</td>\n",
       "      <td>B-005</td>\n",
       "      <td>Round</td>\n",
       "      <td>Saddle</td>\n",
       "      <td>28.4</td>\n",
       "      <td>NaN</td>\n",
       "      <td>NaN</td>\n",
       "      <td>No</td>\n",
       "      <td>35</td>\n",
       "      <td>NaN</td>\n",
       "      <td>Yes</td>\n",
       "      <td>Yes</td>\n",
       "      <td>0.070</td>\n",
       "    </tr>\n",
       "    <tr>\n",
       "      <th>C-0054</th>\n",
       "      <td>CP-018</td>\n",
       "      <td>Boss</td>\n",
       "      <td>B-005</td>\n",
       "      <td>Round</td>\n",
       "      <td>Saddle</td>\n",
       "      <td>27.1</td>\n",
       "      <td>NaN</td>\n",
       "      <td>NaN</td>\n",
       "      <td>No</td>\n",
       "      <td>NaN</td>\n",
       "      <td>NaN</td>\n",
       "      <td>Yes</td>\n",
       "      <td>Yes</td>\n",
       "      <td>0.180</td>\n",
       "    </tr>\n",
       "    <tr>\n",
       "      <th>C-0071</th>\n",
       "      <td>CP-018</td>\n",
       "      <td>Boss</td>\n",
       "      <td>B-005</td>\n",
       "      <td>Round</td>\n",
       "      <td>Shoulder</td>\n",
       "      <td>20.0</td>\n",
       "      <td>NaN</td>\n",
       "      <td>NaN</td>\n",
       "      <td>No</td>\n",
       "      <td>30</td>\n",
       "      <td>23</td>\n",
       "      <td>Yes</td>\n",
       "      <td>Yes</td>\n",
       "      <td>0.080</td>\n",
       "    </tr>\n",
       "  </tbody>\n",
       "</table>\n",
       "</div>"
      ],
      "text/plain": [
       "             component_type_id  type connection_type_id outside_shape  \\\n",
       "component_id                                                            \n",
       "C-0008                  CP-018  Boss              B-005         Round   \n",
       "C-0009                  CP-018  Boss              B-004         Round   \n",
       "C-0020                  CP-018  Boss              B-005         Round   \n",
       "C-0054                  CP-018  Boss              B-005         Round   \n",
       "C-0071                  CP-018  Boss              B-005         Round   \n",
       "\n",
       "                base_type  height_over_tube  bolt_pattern_long  \\\n",
       "component_id                                                     \n",
       "C-0008        Flat Bottom              17.0                NaN   \n",
       "C-0009        Flat Bottom              13.0                NaN   \n",
       "C-0020             Saddle              28.4                NaN   \n",
       "C-0054             Saddle              27.1                NaN   \n",
       "C-0071           Shoulder              20.0                NaN   \n",
       "\n",
       "              bolt_pattern_wide groove  base_diameter  shoulder_diameter  \\\n",
       "component_id                                                               \n",
       "C-0008                      NaN     No             22                NaN   \n",
       "C-0009                      NaN     No             25                NaN   \n",
       "C-0020                      NaN     No             35                NaN   \n",
       "C-0054                      NaN     No            NaN                NaN   \n",
       "C-0071                      NaN     No             30                 23   \n",
       "\n",
       "             unique_feature orientation  weight  \n",
       "component_id                                     \n",
       "C-0008                  Yes         Yes   0.032  \n",
       "C-0009                   No         Yes   0.033  \n",
       "C-0020                  Yes         Yes   0.070  \n",
       "C-0054                  Yes         Yes   0.180  \n",
       "C-0071                  Yes         Yes   0.080  "
      ]
     },
     "execution_count": 69,
     "metadata": {},
     "output_type": "execute_result"
    }
   ],
   "source": [
    "comp_boss_df.head()"
   ]
  },
  {
   "cell_type": "code",
   "execution_count": 70,
   "metadata": {
    "collapsed": false
   },
   "outputs": [
    {
     "data": {
      "text/html": [
       "<div>\n",
       "<table border=\"1\" class=\"dataframe\">\n",
       "  <thead>\n",
       "    <tr style=\"text-align: right;\">\n",
       "      <th></th>\n",
       "      <th>component_type_id</th>\n",
       "      <th>bolt_pattern_long</th>\n",
       "      <th>bolt_pattern_wide</th>\n",
       "      <th>thickness</th>\n",
       "      <th>orientation</th>\n",
       "      <th>weight</th>\n",
       "    </tr>\n",
       "    <tr>\n",
       "      <th>component_id</th>\n",
       "      <th></th>\n",
       "      <th></th>\n",
       "      <th></th>\n",
       "      <th></th>\n",
       "      <th></th>\n",
       "      <th></th>\n",
       "    </tr>\n",
       "  </thead>\n",
       "  <tbody>\n",
       "    <tr>\n",
       "      <th>C-0027</th>\n",
       "      <td>CP-021</td>\n",
       "      <td>148.00</td>\n",
       "      <td>96.00</td>\n",
       "      <td>18.00</td>\n",
       "      <td>Yes</td>\n",
       "      <td>2.230</td>\n",
       "    </tr>\n",
       "    <tr>\n",
       "      <th>C-0454</th>\n",
       "      <td>CP-022</td>\n",
       "      <td>58.72</td>\n",
       "      <td>30.18</td>\n",
       "      <td>28.00</td>\n",
       "      <td>No</td>\n",
       "      <td>0.590</td>\n",
       "    </tr>\n",
       "    <tr>\n",
       "      <th>C-0455</th>\n",
       "      <td>CP-022</td>\n",
       "      <td>58.72</td>\n",
       "      <td>30.18</td>\n",
       "      <td>28.00</td>\n",
       "      <td>No</td>\n",
       "      <td>0.525</td>\n",
       "    </tr>\n",
       "    <tr>\n",
       "      <th>C-0494</th>\n",
       "      <td>CP-022</td>\n",
       "      <td>52.40</td>\n",
       "      <td>26.20</td>\n",
       "      <td>15.85</td>\n",
       "      <td>No</td>\n",
       "      <td>0.230</td>\n",
       "    </tr>\n",
       "    <tr>\n",
       "      <th>C-0496</th>\n",
       "      <td>CP-022</td>\n",
       "      <td>58.80</td>\n",
       "      <td>30.20</td>\n",
       "      <td>14.20</td>\n",
       "      <td>No</td>\n",
       "      <td>0.284</td>\n",
       "    </tr>\n",
       "  </tbody>\n",
       "</table>\n",
       "</div>"
      ],
      "text/plain": [
       "             component_type_id  bolt_pattern_long  bolt_pattern_wide  \\\n",
       "component_id                                                           \n",
       "C-0027                  CP-021             148.00              96.00   \n",
       "C-0454                  CP-022              58.72              30.18   \n",
       "C-0455                  CP-022              58.72              30.18   \n",
       "C-0494                  CP-022              52.40              26.20   \n",
       "C-0496                  CP-022              58.80              30.20   \n",
       "\n",
       "              thickness orientation  weight  \n",
       "component_id                                 \n",
       "C-0027            18.00         Yes   2.230  \n",
       "C-0454            28.00          No   0.590  \n",
       "C-0455            28.00          No   0.525  \n",
       "C-0494            15.85          No   0.230  \n",
       "C-0496            14.20          No   0.284  "
      ]
     },
     "execution_count": 70,
     "metadata": {},
     "output_type": "execute_result"
    }
   ],
   "source": [
    "comp_float_df.head()"
   ]
  },
  {
   "cell_type": "code",
   "execution_count": 71,
   "metadata": {
    "collapsed": false
   },
   "outputs": [
    {
     "data": {
      "text/html": [
       "<div>\n",
       "<table border=\"1\" class=\"dataframe\">\n",
       "  <thead>\n",
       "    <tr style=\"text-align: right;\">\n",
       "      <th></th>\n",
       "      <th>component_type_id</th>\n",
       "      <th>bolt_pattern_long</th>\n",
       "      <th>bolt_pattern_wide</th>\n",
       "      <th>extension_length</th>\n",
       "      <th>overall_length</th>\n",
       "      <th>thickness</th>\n",
       "      <th>drop_length</th>\n",
       "      <th>mj_class_code</th>\n",
       "      <th>mj_plug_class_code</th>\n",
       "      <th>groove</th>\n",
       "      <th>unique_feature</th>\n",
       "      <th>orientation</th>\n",
       "      <th>weight</th>\n",
       "    </tr>\n",
       "    <tr>\n",
       "      <th>component_id</th>\n",
       "      <th></th>\n",
       "      <th></th>\n",
       "      <th></th>\n",
       "      <th></th>\n",
       "      <th></th>\n",
       "      <th></th>\n",
       "      <th></th>\n",
       "      <th></th>\n",
       "      <th></th>\n",
       "      <th></th>\n",
       "      <th></th>\n",
       "      <th></th>\n",
       "      <th></th>\n",
       "    </tr>\n",
       "  </thead>\n",
       "  <tbody>\n",
       "    <tr>\n",
       "      <th>C-0271</th>\n",
       "      <td>OTHER</td>\n",
       "      <td>58.70</td>\n",
       "      <td>30.20</td>\n",
       "      <td>57.10</td>\n",
       "      <td>93.0</td>\n",
       "      <td>57</td>\n",
       "      <td>28.5</td>\n",
       "      <td>MJ-003</td>\n",
       "      <td>Threaded</td>\n",
       "      <td>No</td>\n",
       "      <td>No</td>\n",
       "      <td>Yes</td>\n",
       "      <td>1.526</td>\n",
       "    </tr>\n",
       "    <tr>\n",
       "      <th>C-1809</th>\n",
       "      <td>OTHER</td>\n",
       "      <td>58.72</td>\n",
       "      <td>30.18</td>\n",
       "      <td>57.09</td>\n",
       "      <td>108.0</td>\n",
       "      <td>57</td>\n",
       "      <td>28.5</td>\n",
       "      <td>MJ-003</td>\n",
       "      <td>MJ-005</td>\n",
       "      <td>No</td>\n",
       "      <td>No</td>\n",
       "      <td>Yes</td>\n",
       "      <td>2.184</td>\n",
       "    </tr>\n",
       "    <tr>\n",
       "      <th>C-1830</th>\n",
       "      <td>OTHER</td>\n",
       "      <td>52.40</td>\n",
       "      <td>26.20</td>\n",
       "      <td>43.50</td>\n",
       "      <td>78.5</td>\n",
       "      <td>51</td>\n",
       "      <td>25.5</td>\n",
       "      <td>MJ-003</td>\n",
       "      <td>Threaded</td>\n",
       "      <td>No</td>\n",
       "      <td>Yes</td>\n",
       "      <td>Yes</td>\n",
       "      <td>1.135</td>\n",
       "    </tr>\n",
       "    <tr>\n",
       "      <th>C-1865</th>\n",
       "      <td>OTHER</td>\n",
       "      <td>58.70</td>\n",
       "      <td>30.20</td>\n",
       "      <td>57.10</td>\n",
       "      <td>107.0</td>\n",
       "      <td>57</td>\n",
       "      <td>28.5</td>\n",
       "      <td>MJ-003</td>\n",
       "      <td>MJ-005</td>\n",
       "      <td>No</td>\n",
       "      <td>No</td>\n",
       "      <td>Yes</td>\n",
       "      <td>1.953</td>\n",
       "    </tr>\n",
       "  </tbody>\n",
       "</table>\n",
       "</div>"
      ],
      "text/plain": [
       "             component_type_id  bolt_pattern_long  bolt_pattern_wide  \\\n",
       "component_id                                                           \n",
       "C-0271                   OTHER              58.70              30.20   \n",
       "C-1809                   OTHER              58.72              30.18   \n",
       "C-1830                   OTHER              52.40              26.20   \n",
       "C-1865                   OTHER              58.70              30.20   \n",
       "\n",
       "              extension_length  overall_length  thickness  drop_length  \\\n",
       "component_id                                                             \n",
       "C-0271                   57.10            93.0         57         28.5   \n",
       "C-1809                   57.09           108.0         57         28.5   \n",
       "C-1830                   43.50            78.5         51         25.5   \n",
       "C-1865                   57.10           107.0         57         28.5   \n",
       "\n",
       "             mj_class_code mj_plug_class_code groove unique_feature  \\\n",
       "component_id                                                          \n",
       "C-0271              MJ-003           Threaded     No             No   \n",
       "C-1809              MJ-003             MJ-005     No             No   \n",
       "C-1830              MJ-003           Threaded     No            Yes   \n",
       "C-1865              MJ-003             MJ-005     No             No   \n",
       "\n",
       "             orientation  weight  \n",
       "component_id                      \n",
       "C-0271               Yes   1.526  \n",
       "C-1809               Yes   2.184  \n",
       "C-1830               Yes   1.135  \n",
       "C-1865               Yes   1.953  "
      ]
     },
     "execution_count": 71,
     "metadata": {},
     "output_type": "execute_result"
    }
   ],
   "source": [
    "comp_tee_df.head()"
   ]
  },
  {
   "cell_type": "code",
   "execution_count": 72,
   "metadata": {
    "collapsed": true
   },
   "outputs": [],
   "source": [
    "def create_comp_df_lst(data_dict):\n",
    "    #takes the data dictionary of files and returns a list of strings with the name of all comp df's\n",
    "    def add_df(string):\n",
    "        #takes a str and adds '_df' to the end\n",
    "        return string + '_df'\n",
    "    \n",
    "    comp_df_lst = []\n",
    "    for filename in data_dict.keys():\n",
    "        if filename[:4] == 'comp':\n",
    "            comp_df_lst.append(add_df(filename))\n",
    "\n",
    "    return comp_df_lst"
   ]
  },
  {
   "cell_type": "code",
   "execution_count": 73,
   "metadata": {
    "collapsed": false
   },
   "outputs": [
    {
     "data": {
      "text/plain": [
       "['comp_hfl_df',\n",
       " 'comp_nut_df',\n",
       " 'comp_adaptor_df',\n",
       " 'comp_elbow_df',\n",
       " 'comp_sleeve_df',\n",
       " 'comp_other_df',\n",
       " 'comp_threaded_df',\n",
       " 'components_df',\n",
       " 'comp_straight_df',\n",
       " 'comp_boss_df',\n",
       " 'comp_float_df',\n",
       " 'comp_tee_df']"
      ]
     },
     "execution_count": 73,
     "metadata": {},
     "output_type": "execute_result"
    }
   ],
   "source": [
    "comp_df_lst = create_comp_df_lst(data_dict)\n",
    "comp_df_lst"
   ]
  },
  {
   "cell_type": "markdown",
   "metadata": {},
   "source": [
    "resetting indices from **component_id**"
   ]
  },
  {
   "cell_type": "code",
   "execution_count": 74,
   "metadata": {
    "collapsed": false
   },
   "outputs": [],
   "source": [
    "for df in comp_df_lst:\n",
    "    command = df + ' = reset_index(' + df + ', \"component_id\")'\n",
    "    exec(command)"
   ]
  },
  {
   "cell_type": "markdown",
   "metadata": {},
   "source": [
    " "
   ]
  },
  {
   "cell_type": "markdown",
   "metadata": {},
   "source": [
    "**component_id is now not an index**"
   ]
  },
  {
   "cell_type": "code",
   "execution_count": 75,
   "metadata": {
    "collapsed": false
   },
   "outputs": [
    {
     "data": {
      "text/html": [
       "<div>\n",
       "<table border=\"1\" class=\"dataframe\">\n",
       "  <thead>\n",
       "    <tr style=\"text-align: right;\">\n",
       "      <th></th>\n",
       "      <th>component_id</th>\n",
       "      <th>component_type_id</th>\n",
       "      <th>hose_diameter</th>\n",
       "      <th>corresponding_shell</th>\n",
       "      <th>coupling_class</th>\n",
       "      <th>material</th>\n",
       "      <th>plating</th>\n",
       "      <th>orientation</th>\n",
       "      <th>weight</th>\n",
       "    </tr>\n",
       "  </thead>\n",
       "  <tbody>\n",
       "    <tr>\n",
       "      <th>0</th>\n",
       "      <td>C-0872</td>\n",
       "      <td>CP-023</td>\n",
       "      <td>4.8</td>\n",
       "      <td>C-0855</td>\n",
       "      <td>SP-0098</td>\n",
       "      <td>SP-0016</td>\n",
       "      <td>Yes</td>\n",
       "      <td>No</td>\n",
       "      <td>0.010</td>\n",
       "    </tr>\n",
       "    <tr>\n",
       "      <th>1</th>\n",
       "      <td>C-0873</td>\n",
       "      <td>CP-023</td>\n",
       "      <td>4.8</td>\n",
       "      <td>C-0856</td>\n",
       "      <td>SP-0098</td>\n",
       "      <td>SP-0016</td>\n",
       "      <td>Yes</td>\n",
       "      <td>No</td>\n",
       "      <td>0.010</td>\n",
       "    </tr>\n",
       "    <tr>\n",
       "      <th>2</th>\n",
       "      <td>C-0874</td>\n",
       "      <td>CP-023</td>\n",
       "      <td>4.8</td>\n",
       "      <td>C-0857</td>\n",
       "      <td>SP-0098</td>\n",
       "      <td>SP-0038</td>\n",
       "      <td>Yes</td>\n",
       "      <td>No</td>\n",
       "      <td>0.001</td>\n",
       "    </tr>\n",
       "    <tr>\n",
       "      <th>3</th>\n",
       "      <td>C-1039</td>\n",
       "      <td>CP-023</td>\n",
       "      <td>15.9</td>\n",
       "      <td>C-1040</td>\n",
       "      <td>SP-0097</td>\n",
       "      <td>SP-0095</td>\n",
       "      <td>No</td>\n",
       "      <td>No</td>\n",
       "      <td>0.052</td>\n",
       "    </tr>\n",
       "    <tr>\n",
       "      <th>4</th>\n",
       "      <td>C-1041</td>\n",
       "      <td>CP-023</td>\n",
       "      <td>15.9</td>\n",
       "      <td>C-1042</td>\n",
       "      <td>SP-0099</td>\n",
       "      <td>SP-0095</td>\n",
       "      <td>No</td>\n",
       "      <td>No</td>\n",
       "      <td>0.065</td>\n",
       "    </tr>\n",
       "  </tbody>\n",
       "</table>\n",
       "</div>"
      ],
      "text/plain": [
       "  component_id component_type_id  hose_diameter corresponding_shell  \\\n",
       "0       C-0872            CP-023            4.8              C-0855   \n",
       "1       C-0873            CP-023            4.8              C-0856   \n",
       "2       C-0874            CP-023            4.8              C-0857   \n",
       "3       C-1039            CP-023           15.9              C-1040   \n",
       "4       C-1041            CP-023           15.9              C-1042   \n",
       "\n",
       "  coupling_class material plating orientation  weight  \n",
       "0        SP-0098  SP-0016     Yes          No   0.010  \n",
       "1        SP-0098  SP-0016     Yes          No   0.010  \n",
       "2        SP-0098  SP-0038     Yes          No   0.001  \n",
       "3        SP-0097  SP-0095      No          No   0.052  \n",
       "4        SP-0099  SP-0095      No          No   0.065  "
      ]
     },
     "execution_count": 75,
     "metadata": {},
     "output_type": "execute_result"
    }
   ],
   "source": [
    "comp_hfl_df.head()"
   ]
  },
  {
   "cell_type": "code",
   "execution_count": 76,
   "metadata": {
    "collapsed": true
   },
   "outputs": [],
   "source": [
    "# left join comp_hfl_df to components_df\n",
    "#comp_hfl_result_df = comp_hfl_df.merge(components_df, how = 'left', on = 'component_id')"
   ]
  },
  {
   "cell_type": "markdown",
   "metadata": {
    "collapsed": true
   },
   "source": [
    "join all the components together into one data frame"
   ]
  },
  {
   "cell_type": "code",
   "execution_count": 77,
   "metadata": {
    "collapsed": true
   },
   "outputs": [],
   "source": [
    "def join_command_str(df, lst_of_components, join_type, join_column):\n",
    "    #df should be the string of the df to join\n",
    "    to_join = lst_of_components[0]\n",
    "    lst_of_components.remove(to_join) #remove the component to join first\n",
    "    \n",
    "    #first join on first component df in lst_of_components\n",
    "    command = 'comp_result_df = ' + df + '.merge(' + to_join + ', how = \"' + join_type + '\", on = \"' + join_column + '\")'\n",
    "    \n",
    "    #initialize string\n",
    "    command_to_add = ''\n",
    "    for df_to_join in lst_of_components:\n",
    "        #comp_hfl_result_df = df.merge(components_df, how = 'left', on = 'component_id')\n",
    "        command_to_add += '.merge(' + df_to_join + ', how = \"' + join_type + '\", on = \"' + join_column + '\")'\n",
    "    #print command_to_add\n",
    "    return command + command_to_add"
   ]
  },
  {
   "cell_type": "code",
   "execution_count": 78,
   "metadata": {
    "collapsed": false
   },
   "outputs": [
    {
     "name": "stdout",
     "output_type": "stream",
     "text": [
      "comp_result_df = components_df.merge(comp_hfl_df, how = \"left\", on = \"component_id\").merge(comp_nut_df, how = \"left\", on = \"component_id\").merge(comp_adaptor_df, how = \"left\", on = \"component_id\").merge(comp_elbow_df, how = \"left\", on = \"component_id\").merge(comp_sleeve_df, how = \"left\", on = \"component_id\").merge(comp_other_df, how = \"left\", on = \"component_id\").merge(comp_threaded_df, how = \"left\", on = \"component_id\").merge(components_df, how = \"left\", on = \"component_id\").merge(comp_straight_df, how = \"left\", on = \"component_id\").merge(comp_boss_df, how = \"left\", on = \"component_id\").merge(comp_float_df, how = \"left\", on = \"component_id\").merge(comp_tee_df, how = \"left\", on = \"component_id\")\n"
     ]
    }
   ],
   "source": [
    "join_command = join_command_str('components_df', comp_df_lst, 'left', 'component_id')\n",
    "print join_command\n",
    "exec(join_command) #actually execute the join commands"
   ]
  },
  {
   "cell_type": "code",
   "execution_count": 79,
   "metadata": {
    "collapsed": false
   },
   "outputs": [
    {
     "data": {
      "text/plain": [
       "(2048, 143)"
      ]
     },
     "execution_count": 79,
     "metadata": {},
     "output_type": "execute_result"
    }
   ],
   "source": [
    "comp_result_df.shape"
   ]
  },
  {
   "cell_type": "code",
   "execution_count": 80,
   "metadata": {
    "collapsed": false
   },
   "outputs": [
    {
     "data": {
      "text/html": [
       "<div>\n",
       "<table border=\"1\" class=\"dataframe\">\n",
       "  <thead>\n",
       "    <tr style=\"text-align: right;\">\n",
       "      <th></th>\n",
       "      <th>component_id</th>\n",
       "      <th>name</th>\n",
       "      <th>component_type_id</th>\n",
       "    </tr>\n",
       "  </thead>\n",
       "  <tbody>\n",
       "    <tr>\n",
       "      <th>2043</th>\n",
       "      <td>C-2043</td>\n",
       "      <td>FLANGE</td>\n",
       "      <td>CP-004</td>\n",
       "    </tr>\n",
       "    <tr>\n",
       "      <th>2044</th>\n",
       "      <td>C-2044</td>\n",
       "      <td>ADAPTER-INLET</td>\n",
       "      <td>CP-006</td>\n",
       "    </tr>\n",
       "    <tr>\n",
       "      <th>2045</th>\n",
       "      <td>C-2045</td>\n",
       "      <td>ADAPTER-INLET</td>\n",
       "      <td>OTHER</td>\n",
       "    </tr>\n",
       "    <tr>\n",
       "      <th>2046</th>\n",
       "      <td>C-2046</td>\n",
       "      <td>SLEEVE</td>\n",
       "      <td>OTHER</td>\n",
       "    </tr>\n",
       "    <tr>\n",
       "      <th>2047</th>\n",
       "      <td>C-2047</td>\n",
       "      <td>FLANGE</td>\n",
       "      <td>OTHER</td>\n",
       "    </tr>\n",
       "  </tbody>\n",
       "</table>\n",
       "</div>"
      ],
      "text/plain": [
       "     component_id           name component_type_id\n",
       "2043       C-2043         FLANGE            CP-004\n",
       "2044       C-2044  ADAPTER-INLET            CP-006\n",
       "2045       C-2045  ADAPTER-INLET             OTHER\n",
       "2046       C-2046         SLEEVE             OTHER\n",
       "2047       C-2047         FLANGE             OTHER"
      ]
     },
     "execution_count": 80,
     "metadata": {},
     "output_type": "execute_result"
    }
   ],
   "source": [
    "components_df.tail()"
   ]
  },
  {
   "cell_type": "code",
   "execution_count": 81,
   "metadata": {
    "collapsed": false
   },
   "outputs": [
    {
     "data": {
      "text/html": [
       "<div>\n",
       "<table border=\"1\" class=\"dataframe\">\n",
       "  <thead>\n",
       "    <tr style=\"text-align: right;\">\n",
       "      <th></th>\n",
       "      <th>component_id</th>\n",
       "      <th>name_x</th>\n",
       "      <th>component_type_id_x</th>\n",
       "      <th>component_type_id_y</th>\n",
       "      <th>hose_diameter</th>\n",
       "      <th>corresponding_shell</th>\n",
       "      <th>coupling_class</th>\n",
       "      <th>material</th>\n",
       "      <th>plating_x</th>\n",
       "      <th>orientation_x</th>\n",
       "      <th>...</th>\n",
       "      <th>extension_length_y</th>\n",
       "      <th>overall_length</th>\n",
       "      <th>thickness_y</th>\n",
       "      <th>drop_length_y</th>\n",
       "      <th>mj_class_code</th>\n",
       "      <th>mj_plug_class_code_y</th>\n",
       "      <th>groove_y</th>\n",
       "      <th>unique_feature</th>\n",
       "      <th>orientation_y</th>\n",
       "      <th>weight</th>\n",
       "    </tr>\n",
       "  </thead>\n",
       "  <tbody>\n",
       "    <tr>\n",
       "      <th>2043</th>\n",
       "      <td>C-2043</td>\n",
       "      <td>FLANGE</td>\n",
       "      <td>CP-004</td>\n",
       "      <td>NaN</td>\n",
       "      <td>NaN</td>\n",
       "      <td>NaN</td>\n",
       "      <td>NaN</td>\n",
       "      <td>NaN</td>\n",
       "      <td>NaN</td>\n",
       "      <td>NaN</td>\n",
       "      <td>...</td>\n",
       "      <td>NaN</td>\n",
       "      <td>NaN</td>\n",
       "      <td>NaN</td>\n",
       "      <td>NaN</td>\n",
       "      <td>NaN</td>\n",
       "      <td>NaN</td>\n",
       "      <td>NaN</td>\n",
       "      <td>NaN</td>\n",
       "      <td>NaN</td>\n",
       "      <td>NaN</td>\n",
       "    </tr>\n",
       "    <tr>\n",
       "      <th>2044</th>\n",
       "      <td>C-2044</td>\n",
       "      <td>ADAPTER-INLET</td>\n",
       "      <td>CP-006</td>\n",
       "      <td>NaN</td>\n",
       "      <td>NaN</td>\n",
       "      <td>NaN</td>\n",
       "      <td>NaN</td>\n",
       "      <td>NaN</td>\n",
       "      <td>NaN</td>\n",
       "      <td>NaN</td>\n",
       "      <td>...</td>\n",
       "      <td>NaN</td>\n",
       "      <td>NaN</td>\n",
       "      <td>NaN</td>\n",
       "      <td>NaN</td>\n",
       "      <td>NaN</td>\n",
       "      <td>NaN</td>\n",
       "      <td>NaN</td>\n",
       "      <td>NaN</td>\n",
       "      <td>NaN</td>\n",
       "      <td>NaN</td>\n",
       "    </tr>\n",
       "    <tr>\n",
       "      <th>2045</th>\n",
       "      <td>C-2045</td>\n",
       "      <td>ADAPTER-INLET</td>\n",
       "      <td>OTHER</td>\n",
       "      <td>NaN</td>\n",
       "      <td>NaN</td>\n",
       "      <td>NaN</td>\n",
       "      <td>NaN</td>\n",
       "      <td>NaN</td>\n",
       "      <td>NaN</td>\n",
       "      <td>NaN</td>\n",
       "      <td>...</td>\n",
       "      <td>NaN</td>\n",
       "      <td>NaN</td>\n",
       "      <td>NaN</td>\n",
       "      <td>NaN</td>\n",
       "      <td>NaN</td>\n",
       "      <td>NaN</td>\n",
       "      <td>NaN</td>\n",
       "      <td>NaN</td>\n",
       "      <td>NaN</td>\n",
       "      <td>NaN</td>\n",
       "    </tr>\n",
       "    <tr>\n",
       "      <th>2046</th>\n",
       "      <td>C-2046</td>\n",
       "      <td>SLEEVE</td>\n",
       "      <td>OTHER</td>\n",
       "      <td>NaN</td>\n",
       "      <td>NaN</td>\n",
       "      <td>NaN</td>\n",
       "      <td>NaN</td>\n",
       "      <td>NaN</td>\n",
       "      <td>NaN</td>\n",
       "      <td>NaN</td>\n",
       "      <td>...</td>\n",
       "      <td>NaN</td>\n",
       "      <td>NaN</td>\n",
       "      <td>NaN</td>\n",
       "      <td>NaN</td>\n",
       "      <td>NaN</td>\n",
       "      <td>NaN</td>\n",
       "      <td>NaN</td>\n",
       "      <td>NaN</td>\n",
       "      <td>NaN</td>\n",
       "      <td>NaN</td>\n",
       "    </tr>\n",
       "    <tr>\n",
       "      <th>2047</th>\n",
       "      <td>C-2047</td>\n",
       "      <td>FLANGE</td>\n",
       "      <td>OTHER</td>\n",
       "      <td>NaN</td>\n",
       "      <td>NaN</td>\n",
       "      <td>NaN</td>\n",
       "      <td>NaN</td>\n",
       "      <td>NaN</td>\n",
       "      <td>NaN</td>\n",
       "      <td>NaN</td>\n",
       "      <td>...</td>\n",
       "      <td>NaN</td>\n",
       "      <td>NaN</td>\n",
       "      <td>NaN</td>\n",
       "      <td>NaN</td>\n",
       "      <td>NaN</td>\n",
       "      <td>NaN</td>\n",
       "      <td>NaN</td>\n",
       "      <td>NaN</td>\n",
       "      <td>NaN</td>\n",
       "      <td>NaN</td>\n",
       "    </tr>\n",
       "  </tbody>\n",
       "</table>\n",
       "<p>5 rows × 143 columns</p>\n",
       "</div>"
      ],
      "text/plain": [
       "     component_id         name_x component_type_id_x component_type_id_y  \\\n",
       "2043       C-2043         FLANGE              CP-004                 NaN   \n",
       "2044       C-2044  ADAPTER-INLET              CP-006                 NaN   \n",
       "2045       C-2045  ADAPTER-INLET               OTHER                 NaN   \n",
       "2046       C-2046         SLEEVE               OTHER                 NaN   \n",
       "2047       C-2047         FLANGE               OTHER                 NaN   \n",
       "\n",
       "      hose_diameter corresponding_shell coupling_class material plating_x  \\\n",
       "2043            NaN                 NaN            NaN      NaN       NaN   \n",
       "2044            NaN                 NaN            NaN      NaN       NaN   \n",
       "2045            NaN                 NaN            NaN      NaN       NaN   \n",
       "2046            NaN                 NaN            NaN      NaN       NaN   \n",
       "2047            NaN                 NaN            NaN      NaN       NaN   \n",
       "\n",
       "     orientation_x  ...    extension_length_y overall_length  thickness_y  \\\n",
       "2043           NaN  ...                   NaN            NaN          NaN   \n",
       "2044           NaN  ...                   NaN            NaN          NaN   \n",
       "2045           NaN  ...                   NaN            NaN          NaN   \n",
       "2046           NaN  ...                   NaN            NaN          NaN   \n",
       "2047           NaN  ...                   NaN            NaN          NaN   \n",
       "\n",
       "      drop_length_y  mj_class_code mj_plug_class_code_y  groove_y  \\\n",
       "2043            NaN            NaN                  NaN       NaN   \n",
       "2044            NaN            NaN                  NaN       NaN   \n",
       "2045            NaN            NaN                  NaN       NaN   \n",
       "2046            NaN            NaN                  NaN       NaN   \n",
       "2047            NaN            NaN                  NaN       NaN   \n",
       "\n",
       "      unique_feature orientation_y weight  \n",
       "2043             NaN           NaN    NaN  \n",
       "2044             NaN           NaN    NaN  \n",
       "2045             NaN           NaN    NaN  \n",
       "2046             NaN           NaN    NaN  \n",
       "2047             NaN           NaN    NaN  \n",
       "\n",
       "[5 rows x 143 columns]"
      ]
     },
     "execution_count": 81,
     "metadata": {},
     "output_type": "execute_result"
    }
   ],
   "source": [
    "comp_result_df.tail()"
   ]
  },
  {
   "cell_type": "code",
   "execution_count": 82,
   "metadata": {
    "collapsed": false
   },
   "outputs": [
    {
     "data": {
      "text/html": [
       "<div>\n",
       "<table border=\"1\" class=\"dataframe\">\n",
       "  <thead>\n",
       "    <tr style=\"text-align: right;\">\n",
       "      <th></th>\n",
       "      <th>component_id</th>\n",
       "      <th>component_type_id</th>\n",
       "      <th>hose_diameter</th>\n",
       "      <th>corresponding_shell</th>\n",
       "      <th>coupling_class</th>\n",
       "      <th>material</th>\n",
       "      <th>plating</th>\n",
       "      <th>orientation</th>\n",
       "      <th>weight</th>\n",
       "    </tr>\n",
       "  </thead>\n",
       "  <tbody>\n",
       "    <tr>\n",
       "      <th>0</th>\n",
       "      <td>C-0872</td>\n",
       "      <td>CP-023</td>\n",
       "      <td>4.8</td>\n",
       "      <td>C-0855</td>\n",
       "      <td>SP-0098</td>\n",
       "      <td>SP-0016</td>\n",
       "      <td>Yes</td>\n",
       "      <td>No</td>\n",
       "      <td>0.010</td>\n",
       "    </tr>\n",
       "    <tr>\n",
       "      <th>1</th>\n",
       "      <td>C-0873</td>\n",
       "      <td>CP-023</td>\n",
       "      <td>4.8</td>\n",
       "      <td>C-0856</td>\n",
       "      <td>SP-0098</td>\n",
       "      <td>SP-0016</td>\n",
       "      <td>Yes</td>\n",
       "      <td>No</td>\n",
       "      <td>0.010</td>\n",
       "    </tr>\n",
       "    <tr>\n",
       "      <th>2</th>\n",
       "      <td>C-0874</td>\n",
       "      <td>CP-023</td>\n",
       "      <td>4.8</td>\n",
       "      <td>C-0857</td>\n",
       "      <td>SP-0098</td>\n",
       "      <td>SP-0038</td>\n",
       "      <td>Yes</td>\n",
       "      <td>No</td>\n",
       "      <td>0.001</td>\n",
       "    </tr>\n",
       "    <tr>\n",
       "      <th>3</th>\n",
       "      <td>C-1039</td>\n",
       "      <td>CP-023</td>\n",
       "      <td>15.9</td>\n",
       "      <td>C-1040</td>\n",
       "      <td>SP-0097</td>\n",
       "      <td>SP-0095</td>\n",
       "      <td>No</td>\n",
       "      <td>No</td>\n",
       "      <td>0.052</td>\n",
       "    </tr>\n",
       "    <tr>\n",
       "      <th>4</th>\n",
       "      <td>C-1041</td>\n",
       "      <td>CP-023</td>\n",
       "      <td>15.9</td>\n",
       "      <td>C-1042</td>\n",
       "      <td>SP-0099</td>\n",
       "      <td>SP-0095</td>\n",
       "      <td>No</td>\n",
       "      <td>No</td>\n",
       "      <td>0.065</td>\n",
       "    </tr>\n",
       "  </tbody>\n",
       "</table>\n",
       "</div>"
      ],
      "text/plain": [
       "  component_id component_type_id  hose_diameter corresponding_shell  \\\n",
       "0       C-0872            CP-023            4.8              C-0855   \n",
       "1       C-0873            CP-023            4.8              C-0856   \n",
       "2       C-0874            CP-023            4.8              C-0857   \n",
       "3       C-1039            CP-023           15.9              C-1040   \n",
       "4       C-1041            CP-023           15.9              C-1042   \n",
       "\n",
       "  coupling_class material plating orientation  weight  \n",
       "0        SP-0098  SP-0016     Yes          No   0.010  \n",
       "1        SP-0098  SP-0016     Yes          No   0.010  \n",
       "2        SP-0098  SP-0038     Yes          No   0.001  \n",
       "3        SP-0097  SP-0095      No          No   0.052  \n",
       "4        SP-0099  SP-0095      No          No   0.065  "
      ]
     },
     "execution_count": 82,
     "metadata": {},
     "output_type": "execute_result"
    }
   ],
   "source": [
    "comp_hfl_df.head()"
   ]
  },
  {
   "cell_type": "code",
   "execution_count": 83,
   "metadata": {
    "collapsed": false
   },
   "outputs": [
    {
     "data": {
      "text/html": [
       "<div>\n",
       "<table border=\"1\" class=\"dataframe\">\n",
       "  <thead>\n",
       "    <tr style=\"text-align: right;\">\n",
       "      <th></th>\n",
       "      <th>name</th>\n",
       "    </tr>\n",
       "    <tr>\n",
       "      <th>end_form_id</th>\n",
       "      <th></th>\n",
       "    </tr>\n",
       "  </thead>\n",
       "  <tbody>\n",
       "    <tr>\n",
       "      <th>A-001</th>\n",
       "      <td>Male (Stud)</td>\n",
       "    </tr>\n",
       "    <tr>\n",
       "      <th>A-002</th>\n",
       "      <td>Male (Swivel)</td>\n",
       "    </tr>\n",
       "    <tr>\n",
       "      <th>A-003</th>\n",
       "      <td>Braze-Weld Boss</td>\n",
       "    </tr>\n",
       "    <tr>\n",
       "      <th>A-004</th>\n",
       "      <td>Braze-Weld Socket</td>\n",
       "    </tr>\n",
       "    <tr>\n",
       "      <th>A-005</th>\n",
       "      <td>Swivel Nut</td>\n",
       "    </tr>\n",
       "  </tbody>\n",
       "</table>\n",
       "</div>"
      ],
      "text/plain": [
       "                          name\n",
       "end_form_id                   \n",
       "A-001              Male (Stud)\n",
       "A-002            Male (Swivel)\n",
       "A-003          Braze-Weld Boss\n",
       "A-004        Braze-Weld Socket\n",
       "A-005               Swivel Nut"
      ]
     },
     "execution_count": 83,
     "metadata": {},
     "output_type": "execute_result"
    }
   ],
   "source": [
    "type_end_form_df.head()"
   ]
  },
  {
   "cell_type": "code",
   "execution_count": 84,
   "metadata": {
    "collapsed": false
   },
   "outputs": [
    {
     "data": {
      "text/html": [
       "<div>\n",
       "<table border=\"1\" class=\"dataframe\">\n",
       "  <thead>\n",
       "    <tr style=\"text-align: right;\">\n",
       "      <th></th>\n",
       "      <th>forming</th>\n",
       "    </tr>\n",
       "    <tr>\n",
       "      <th>end_form_id</th>\n",
       "      <th></th>\n",
       "    </tr>\n",
       "  </thead>\n",
       "  <tbody>\n",
       "    <tr>\n",
       "      <th>EF-001</th>\n",
       "      <td>Yes</td>\n",
       "    </tr>\n",
       "    <tr>\n",
       "      <th>EF-002</th>\n",
       "      <td>No</td>\n",
       "    </tr>\n",
       "    <tr>\n",
       "      <th>EF-003</th>\n",
       "      <td>No</td>\n",
       "    </tr>\n",
       "    <tr>\n",
       "      <th>EF-004</th>\n",
       "      <td>No</td>\n",
       "    </tr>\n",
       "    <tr>\n",
       "      <th>EF-005</th>\n",
       "      <td>Yes</td>\n",
       "    </tr>\n",
       "  </tbody>\n",
       "</table>\n",
       "</div>"
      ],
      "text/plain": [
       "            forming\n",
       "end_form_id        \n",
       "EF-001          Yes\n",
       "EF-002           No\n",
       "EF-003           No\n",
       "EF-004           No\n",
       "EF-005          Yes"
      ]
     },
     "execution_count": 84,
     "metadata": {},
     "output_type": "execute_result"
    }
   ],
   "source": [
    "tube_end_form_df.head()"
   ]
  },
  {
   "cell_type": "code",
   "execution_count": 85,
   "metadata": {
    "collapsed": false
   },
   "outputs": [
    {
     "data": {
      "text/html": [
       "<div>\n",
       "<table border=\"1\" class=\"dataframe\">\n",
       "  <thead>\n",
       "    <tr style=\"text-align: right;\">\n",
       "      <th></th>\n",
       "      <th>tube_assembly_id</th>\n",
       "      <th>material_id</th>\n",
       "      <th>diameter</th>\n",
       "      <th>wall</th>\n",
       "      <th>length</th>\n",
       "      <th>num_bends</th>\n",
       "      <th>bend_radius</th>\n",
       "      <th>end_a_1x</th>\n",
       "      <th>end_a_2x</th>\n",
       "      <th>end_x_1x</th>\n",
       "      <th>end_x_2x</th>\n",
       "      <th>end_a</th>\n",
       "      <th>end_x</th>\n",
       "      <th>num_boss</th>\n",
       "      <th>num_bracket</th>\n",
       "      <th>other</th>\n",
       "    </tr>\n",
       "  </thead>\n",
       "  <tbody>\n",
       "    <tr>\n",
       "      <th>0</th>\n",
       "      <td>TA-00001</td>\n",
       "      <td>SP-0035</td>\n",
       "      <td>12.70</td>\n",
       "      <td>1.65</td>\n",
       "      <td>164</td>\n",
       "      <td>5</td>\n",
       "      <td>38.10</td>\n",
       "      <td>N</td>\n",
       "      <td>N</td>\n",
       "      <td>N</td>\n",
       "      <td>N</td>\n",
       "      <td>EF-003</td>\n",
       "      <td>EF-003</td>\n",
       "      <td>0</td>\n",
       "      <td>0</td>\n",
       "      <td>0</td>\n",
       "    </tr>\n",
       "    <tr>\n",
       "      <th>1</th>\n",
       "      <td>TA-00002</td>\n",
       "      <td>SP-0019</td>\n",
       "      <td>6.35</td>\n",
       "      <td>0.71</td>\n",
       "      <td>137</td>\n",
       "      <td>8</td>\n",
       "      <td>19.05</td>\n",
       "      <td>N</td>\n",
       "      <td>N</td>\n",
       "      <td>N</td>\n",
       "      <td>N</td>\n",
       "      <td>EF-008</td>\n",
       "      <td>EF-008</td>\n",
       "      <td>0</td>\n",
       "      <td>0</td>\n",
       "      <td>0</td>\n",
       "    </tr>\n",
       "    <tr>\n",
       "      <th>2</th>\n",
       "      <td>TA-00003</td>\n",
       "      <td>SP-0019</td>\n",
       "      <td>6.35</td>\n",
       "      <td>0.71</td>\n",
       "      <td>127</td>\n",
       "      <td>7</td>\n",
       "      <td>19.05</td>\n",
       "      <td>N</td>\n",
       "      <td>N</td>\n",
       "      <td>N</td>\n",
       "      <td>N</td>\n",
       "      <td>EF-008</td>\n",
       "      <td>EF-008</td>\n",
       "      <td>0</td>\n",
       "      <td>0</td>\n",
       "      <td>0</td>\n",
       "    </tr>\n",
       "    <tr>\n",
       "      <th>3</th>\n",
       "      <td>TA-00004</td>\n",
       "      <td>SP-0019</td>\n",
       "      <td>6.35</td>\n",
       "      <td>0.71</td>\n",
       "      <td>137</td>\n",
       "      <td>9</td>\n",
       "      <td>19.05</td>\n",
       "      <td>N</td>\n",
       "      <td>N</td>\n",
       "      <td>N</td>\n",
       "      <td>N</td>\n",
       "      <td>EF-008</td>\n",
       "      <td>EF-008</td>\n",
       "      <td>0</td>\n",
       "      <td>0</td>\n",
       "      <td>0</td>\n",
       "    </tr>\n",
       "    <tr>\n",
       "      <th>4</th>\n",
       "      <td>TA-00005</td>\n",
       "      <td>SP-0029</td>\n",
       "      <td>19.05</td>\n",
       "      <td>1.24</td>\n",
       "      <td>109</td>\n",
       "      <td>4</td>\n",
       "      <td>50.80</td>\n",
       "      <td>N</td>\n",
       "      <td>N</td>\n",
       "      <td>N</td>\n",
       "      <td>N</td>\n",
       "      <td>EF-003</td>\n",
       "      <td>EF-003</td>\n",
       "      <td>0</td>\n",
       "      <td>0</td>\n",
       "      <td>0</td>\n",
       "    </tr>\n",
       "  </tbody>\n",
       "</table>\n",
       "</div>"
      ],
      "text/plain": [
       "  tube_assembly_id material_id  diameter  wall  length  num_bends  \\\n",
       "0         TA-00001     SP-0035     12.70  1.65     164          5   \n",
       "1         TA-00002     SP-0019      6.35  0.71     137          8   \n",
       "2         TA-00003     SP-0019      6.35  0.71     127          7   \n",
       "3         TA-00004     SP-0019      6.35  0.71     137          9   \n",
       "4         TA-00005     SP-0029     19.05  1.24     109          4   \n",
       "\n",
       "   bend_radius end_a_1x end_a_2x end_x_1x end_x_2x   end_a   end_x  num_boss  \\\n",
       "0        38.10        N        N        N        N  EF-003  EF-003         0   \n",
       "1        19.05        N        N        N        N  EF-008  EF-008         0   \n",
       "2        19.05        N        N        N        N  EF-008  EF-008         0   \n",
       "3        19.05        N        N        N        N  EF-008  EF-008         0   \n",
       "4        50.80        N        N        N        N  EF-003  EF-003         0   \n",
       "\n",
       "   num_bracket  other  \n",
       "0            0      0  \n",
       "1            0      0  \n",
       "2            0      0  \n",
       "3            0      0  \n",
       "4            0      0  "
      ]
     },
     "execution_count": 85,
     "metadata": {},
     "output_type": "execute_result"
    }
   ],
   "source": [
    "tube_df.head()"
   ]
  },
  {
   "cell_type": "code",
   "execution_count": 86,
   "metadata": {
    "collapsed": false
   },
   "outputs": [
    {
     "data": {
      "text/html": [
       "<div>\n",
       "<table border=\"1\" class=\"dataframe\">\n",
       "  <thead>\n",
       "    <tr style=\"text-align: right;\">\n",
       "      <th></th>\n",
       "      <th>forming</th>\n",
       "    </tr>\n",
       "    <tr>\n",
       "      <th>end_form_id</th>\n",
       "      <th></th>\n",
       "    </tr>\n",
       "  </thead>\n",
       "  <tbody>\n",
       "    <tr>\n",
       "      <th>EF-001</th>\n",
       "      <td>Yes</td>\n",
       "    </tr>\n",
       "    <tr>\n",
       "      <th>EF-002</th>\n",
       "      <td>No</td>\n",
       "    </tr>\n",
       "    <tr>\n",
       "      <th>EF-003</th>\n",
       "      <td>No</td>\n",
       "    </tr>\n",
       "    <tr>\n",
       "      <th>EF-004</th>\n",
       "      <td>No</td>\n",
       "    </tr>\n",
       "    <tr>\n",
       "      <th>EF-005</th>\n",
       "      <td>Yes</td>\n",
       "    </tr>\n",
       "    <tr>\n",
       "      <th>EF-006</th>\n",
       "      <td>Yes</td>\n",
       "    </tr>\n",
       "    <tr>\n",
       "      <th>EF-007</th>\n",
       "      <td>Yes</td>\n",
       "    </tr>\n",
       "    <tr>\n",
       "      <th>EF-008</th>\n",
       "      <td>Yes</td>\n",
       "    </tr>\n",
       "    <tr>\n",
       "      <th>EF-009</th>\n",
       "      <td>Yes</td>\n",
       "    </tr>\n",
       "    <tr>\n",
       "      <th>EF-010</th>\n",
       "      <td>Yes</td>\n",
       "    </tr>\n",
       "    <tr>\n",
       "      <th>EF-011</th>\n",
       "      <td>No</td>\n",
       "    </tr>\n",
       "    <tr>\n",
       "      <th>EF-012</th>\n",
       "      <td>No</td>\n",
       "    </tr>\n",
       "    <tr>\n",
       "      <th>EF-013</th>\n",
       "      <td>Yes</td>\n",
       "    </tr>\n",
       "    <tr>\n",
       "      <th>EF-014</th>\n",
       "      <td>Yes</td>\n",
       "    </tr>\n",
       "    <tr>\n",
       "      <th>EF-015</th>\n",
       "      <td>No</td>\n",
       "    </tr>\n",
       "    <tr>\n",
       "      <th>EF-016</th>\n",
       "      <td>Yes</td>\n",
       "    </tr>\n",
       "    <tr>\n",
       "      <th>EF-017</th>\n",
       "      <td>Yes</td>\n",
       "    </tr>\n",
       "    <tr>\n",
       "      <th>EF-018</th>\n",
       "      <td>Yes</td>\n",
       "    </tr>\n",
       "    <tr>\n",
       "      <th>EF-019</th>\n",
       "      <td>Yes</td>\n",
       "    </tr>\n",
       "    <tr>\n",
       "      <th>EF-020</th>\n",
       "      <td>No</td>\n",
       "    </tr>\n",
       "    <tr>\n",
       "      <th>EF-021</th>\n",
       "      <td>No</td>\n",
       "    </tr>\n",
       "    <tr>\n",
       "      <th>EF-022</th>\n",
       "      <td>Yes</td>\n",
       "    </tr>\n",
       "    <tr>\n",
       "      <th>EF-023</th>\n",
       "      <td>No</td>\n",
       "    </tr>\n",
       "    <tr>\n",
       "      <th>EF-024</th>\n",
       "      <td>No</td>\n",
       "    </tr>\n",
       "    <tr>\n",
       "      <th>EF-025</th>\n",
       "      <td>No</td>\n",
       "    </tr>\n",
       "    <tr>\n",
       "      <th>EF-026</th>\n",
       "      <td>No</td>\n",
       "    </tr>\n",
       "    <tr>\n",
       "      <th>9999</th>\n",
       "      <td>No</td>\n",
       "    </tr>\n",
       "  </tbody>\n",
       "</table>\n",
       "</div>"
      ],
      "text/plain": [
       "            forming\n",
       "end_form_id        \n",
       "EF-001          Yes\n",
       "EF-002           No\n",
       "EF-003           No\n",
       "EF-004           No\n",
       "EF-005          Yes\n",
       "EF-006          Yes\n",
       "EF-007          Yes\n",
       "EF-008          Yes\n",
       "EF-009          Yes\n",
       "EF-010          Yes\n",
       "EF-011           No\n",
       "EF-012           No\n",
       "EF-013          Yes\n",
       "EF-014          Yes\n",
       "EF-015           No\n",
       "EF-016          Yes\n",
       "EF-017          Yes\n",
       "EF-018          Yes\n",
       "EF-019          Yes\n",
       "EF-020           No\n",
       "EF-021           No\n",
       "EF-022          Yes\n",
       "EF-023           No\n",
       "EF-024           No\n",
       "EF-025           No\n",
       "EF-026           No\n",
       "9999             No"
      ]
     },
     "execution_count": 86,
     "metadata": {},
     "output_type": "execute_result"
    }
   ],
   "source": [
    "tube_end_form_df"
   ]
  },
  {
   "cell_type": "code",
   "execution_count": 87,
   "metadata": {
    "collapsed": false
   },
   "outputs": [
    {
     "data": {
      "text/html": [
       "<div>\n",
       "<table border=\"1\" class=\"dataframe\">\n",
       "  <thead>\n",
       "    <tr style=\"text-align: right;\">\n",
       "      <th></th>\n",
       "      <th>end_a</th>\n",
       "    </tr>\n",
       "  </thead>\n",
       "  <tbody>\n",
       "    <tr>\n",
       "      <th>0</th>\n",
       "      <td>EF-003</td>\n",
       "    </tr>\n",
       "    <tr>\n",
       "      <th>1</th>\n",
       "      <td>EF-008</td>\n",
       "    </tr>\n",
       "    <tr>\n",
       "      <th>9</th>\n",
       "      <td>EF-021</td>\n",
       "    </tr>\n",
       "    <tr>\n",
       "      <th>12</th>\n",
       "      <td>NONE</td>\n",
       "    </tr>\n",
       "    <tr>\n",
       "      <th>14</th>\n",
       "      <td>EF-018</td>\n",
       "    </tr>\n",
       "    <tr>\n",
       "      <th>18</th>\n",
       "      <td>EF-005</td>\n",
       "    </tr>\n",
       "    <tr>\n",
       "      <th>25</th>\n",
       "      <td>EF-009</td>\n",
       "    </tr>\n",
       "    <tr>\n",
       "      <th>45</th>\n",
       "      <td>EF-023</td>\n",
       "    </tr>\n",
       "    <tr>\n",
       "      <th>58</th>\n",
       "      <td>EF-017</td>\n",
       "    </tr>\n",
       "    <tr>\n",
       "      <th>68</th>\n",
       "      <td>EF-015</td>\n",
       "    </tr>\n",
       "    <tr>\n",
       "      <th>104</th>\n",
       "      <td>EF-012</td>\n",
       "    </tr>\n",
       "    <tr>\n",
       "      <th>140</th>\n",
       "      <td>EF-001</td>\n",
       "    </tr>\n",
       "    <tr>\n",
       "      <th>249</th>\n",
       "      <td>EF-010</td>\n",
       "    </tr>\n",
       "    <tr>\n",
       "      <th>590</th>\n",
       "      <td>EF-004</td>\n",
       "    </tr>\n",
       "    <tr>\n",
       "      <th>615</th>\n",
       "      <td>EF-002</td>\n",
       "    </tr>\n",
       "    <tr>\n",
       "      <th>654</th>\n",
       "      <td>EF-013</td>\n",
       "    </tr>\n",
       "    <tr>\n",
       "      <th>906</th>\n",
       "      <td>EF-019</td>\n",
       "    </tr>\n",
       "    <tr>\n",
       "      <th>967</th>\n",
       "      <td>EF-007</td>\n",
       "    </tr>\n",
       "    <tr>\n",
       "      <th>1386</th>\n",
       "      <td>EF-020</td>\n",
       "    </tr>\n",
       "    <tr>\n",
       "      <th>2147</th>\n",
       "      <td>EF-025</td>\n",
       "    </tr>\n",
       "    <tr>\n",
       "      <th>4640</th>\n",
       "      <td>EF-016</td>\n",
       "    </tr>\n",
       "    <tr>\n",
       "      <th>4779</th>\n",
       "      <td>EF-022</td>\n",
       "    </tr>\n",
       "    <tr>\n",
       "      <th>5322</th>\n",
       "      <td>EF-011</td>\n",
       "    </tr>\n",
       "    <tr>\n",
       "      <th>6159</th>\n",
       "      <td>EF-006</td>\n",
       "    </tr>\n",
       "    <tr>\n",
       "      <th>7412</th>\n",
       "      <td>EF-014</td>\n",
       "    </tr>\n",
       "  </tbody>\n",
       "</table>\n",
       "</div>"
      ],
      "text/plain": [
       "       end_a\n",
       "0     EF-003\n",
       "1     EF-008\n",
       "9     EF-021\n",
       "12      NONE\n",
       "14    EF-018\n",
       "18    EF-005\n",
       "25    EF-009\n",
       "45    EF-023\n",
       "58    EF-017\n",
       "68    EF-015\n",
       "104   EF-012\n",
       "140   EF-001\n",
       "249   EF-010\n",
       "590   EF-004\n",
       "615   EF-002\n",
       "654   EF-013\n",
       "906   EF-019\n",
       "967   EF-007\n",
       "1386  EF-020\n",
       "2147  EF-025\n",
       "4640  EF-016\n",
       "4779  EF-022\n",
       "5322  EF-011\n",
       "6159  EF-006\n",
       "7412  EF-014"
      ]
     },
     "execution_count": 87,
     "metadata": {},
     "output_type": "execute_result"
    }
   ],
   "source": [
    "tube_df.end_a.drop_duplicates().to_frame()"
   ]
  },
  {
   "cell_type": "code",
   "execution_count": 88,
   "metadata": {
    "collapsed": false
   },
   "outputs": [
    {
     "data": {
      "text/html": [
       "<div>\n",
       "<table border=\"1\" class=\"dataframe\">\n",
       "  <thead>\n",
       "    <tr style=\"text-align: right;\">\n",
       "      <th></th>\n",
       "      <th>end_x</th>\n",
       "    </tr>\n",
       "  </thead>\n",
       "  <tbody>\n",
       "    <tr>\n",
       "      <th>0</th>\n",
       "      <td>EF-003</td>\n",
       "    </tr>\n",
       "    <tr>\n",
       "      <th>1</th>\n",
       "      <td>EF-008</td>\n",
       "    </tr>\n",
       "    <tr>\n",
       "      <th>9</th>\n",
       "      <td>EF-021</td>\n",
       "    </tr>\n",
       "    <tr>\n",
       "      <th>12</th>\n",
       "      <td>NONE</td>\n",
       "    </tr>\n",
       "    <tr>\n",
       "      <th>14</th>\n",
       "      <td>EF-018</td>\n",
       "    </tr>\n",
       "    <tr>\n",
       "      <th>17</th>\n",
       "      <td>EF-009</td>\n",
       "    </tr>\n",
       "    <tr>\n",
       "      <th>18</th>\n",
       "      <td>EF-017</td>\n",
       "    </tr>\n",
       "    <tr>\n",
       "      <th>36</th>\n",
       "      <td>EF-019</td>\n",
       "    </tr>\n",
       "    <tr>\n",
       "      <th>68</th>\n",
       "      <td>EF-015</td>\n",
       "    </tr>\n",
       "    <tr>\n",
       "      <th>104</th>\n",
       "      <td>EF-012</td>\n",
       "    </tr>\n",
       "    <tr>\n",
       "      <th>107</th>\n",
       "      <td>EF-023</td>\n",
       "    </tr>\n",
       "    <tr>\n",
       "      <th>384</th>\n",
       "      <td>EF-002</td>\n",
       "    </tr>\n",
       "    <tr>\n",
       "      <th>654</th>\n",
       "      <td>EF-013</td>\n",
       "    </tr>\n",
       "    <tr>\n",
       "      <th>958</th>\n",
       "      <td>9999</td>\n",
       "    </tr>\n",
       "    <tr>\n",
       "      <th>967</th>\n",
       "      <td>EF-007</td>\n",
       "    </tr>\n",
       "    <tr>\n",
       "      <th>1149</th>\n",
       "      <td>EF-010</td>\n",
       "    </tr>\n",
       "    <tr>\n",
       "      <th>1367</th>\n",
       "      <td>EF-006</td>\n",
       "    </tr>\n",
       "    <tr>\n",
       "      <th>1943</th>\n",
       "      <td>EF-016</td>\n",
       "    </tr>\n",
       "    <tr>\n",
       "      <th>2155</th>\n",
       "      <td>EF-022</td>\n",
       "    </tr>\n",
       "    <tr>\n",
       "      <th>3723</th>\n",
       "      <td>EF-004</td>\n",
       "    </tr>\n",
       "    <tr>\n",
       "      <th>3918</th>\n",
       "      <td>EF-001</td>\n",
       "    </tr>\n",
       "    <tr>\n",
       "      <th>4064</th>\n",
       "      <td>EF-005</td>\n",
       "    </tr>\n",
       "    <tr>\n",
       "      <th>6132</th>\n",
       "      <td>EF-011</td>\n",
       "    </tr>\n",
       "    <tr>\n",
       "      <th>7356</th>\n",
       "      <td>EF-025</td>\n",
       "    </tr>\n",
       "    <tr>\n",
       "      <th>9660</th>\n",
       "      <td>EF-014</td>\n",
       "    </tr>\n",
       "    <tr>\n",
       "      <th>10754</th>\n",
       "      <td>EF-026</td>\n",
       "    </tr>\n",
       "    <tr>\n",
       "      <th>19475</th>\n",
       "      <td>EF-024</td>\n",
       "    </tr>\n",
       "  </tbody>\n",
       "</table>\n",
       "</div>"
      ],
      "text/plain": [
       "        end_x\n",
       "0      EF-003\n",
       "1      EF-008\n",
       "9      EF-021\n",
       "12       NONE\n",
       "14     EF-018\n",
       "17     EF-009\n",
       "18     EF-017\n",
       "36     EF-019\n",
       "68     EF-015\n",
       "104    EF-012\n",
       "107    EF-023\n",
       "384    EF-002\n",
       "654    EF-013\n",
       "958      9999\n",
       "967    EF-007\n",
       "1149   EF-010\n",
       "1367   EF-006\n",
       "1943   EF-016\n",
       "2155   EF-022\n",
       "3723   EF-004\n",
       "3918   EF-001\n",
       "4064   EF-005\n",
       "6132   EF-011\n",
       "7356   EF-025\n",
       "9660   EF-014\n",
       "10754  EF-026\n",
       "19475  EF-024"
      ]
     },
     "execution_count": 88,
     "metadata": {},
     "output_type": "execute_result"
    }
   ],
   "source": [
    "tube_df.end_x.drop_duplicates().to_frame()"
   ]
  },
  {
   "cell_type": "code",
   "execution_count": 89,
   "metadata": {
    "collapsed": false
   },
   "outputs": [
    {
     "data": {
      "text/html": [
       "<div>\n",
       "<table border=\"1\" class=\"dataframe\">\n",
       "  <thead>\n",
       "    <tr style=\"text-align: right;\">\n",
       "      <th></th>\n",
       "      <th>name</th>\n",
       "    </tr>\n",
       "    <tr>\n",
       "      <th>end_form_id</th>\n",
       "      <th></th>\n",
       "    </tr>\n",
       "  </thead>\n",
       "  <tbody>\n",
       "    <tr>\n",
       "      <th>A-001</th>\n",
       "      <td>Male (Stud)</td>\n",
       "    </tr>\n",
       "    <tr>\n",
       "      <th>A-002</th>\n",
       "      <td>Male (Swivel)</td>\n",
       "    </tr>\n",
       "    <tr>\n",
       "      <th>A-003</th>\n",
       "      <td>Braze-Weld Boss</td>\n",
       "    </tr>\n",
       "    <tr>\n",
       "      <th>A-004</th>\n",
       "      <td>Braze-Weld Socket</td>\n",
       "    </tr>\n",
       "    <tr>\n",
       "      <th>A-005</th>\n",
       "      <td>Swivel Nut</td>\n",
       "    </tr>\n",
       "    <tr>\n",
       "      <th>A-006</th>\n",
       "      <td>Bulkhead Male</td>\n",
       "    </tr>\n",
       "    <tr>\n",
       "      <th>A-007</th>\n",
       "      <td>Port</td>\n",
       "    </tr>\n",
       "    <tr>\n",
       "      <th>9999</th>\n",
       "      <td>Other</td>\n",
       "    </tr>\n",
       "  </tbody>\n",
       "</table>\n",
       "</div>"
      ],
      "text/plain": [
       "                          name\n",
       "end_form_id                   \n",
       "A-001              Male (Stud)\n",
       "A-002            Male (Swivel)\n",
       "A-003          Braze-Weld Boss\n",
       "A-004        Braze-Weld Socket\n",
       "A-005               Swivel Nut\n",
       "A-006            Bulkhead Male\n",
       "A-007                     Port\n",
       "9999                     Other"
      ]
     },
     "execution_count": 89,
     "metadata": {},
     "output_type": "execute_result"
    }
   ],
   "source": [
    "type_end_form_df"
   ]
  },
  {
   "cell_type": "code",
   "execution_count": 90,
   "metadata": {
    "collapsed": false
   },
   "outputs": [
    {
     "data": {
      "text/html": [
       "<div>\n",
       "<table border=\"1\" class=\"dataframe\">\n",
       "  <thead>\n",
       "    <tr style=\"text-align: right;\">\n",
       "      <th></th>\n",
       "      <th>end_form_id_1</th>\n",
       "    </tr>\n",
       "  </thead>\n",
       "  <tbody>\n",
       "    <tr>\n",
       "      <th>0</th>\n",
       "      <td>A-001</td>\n",
       "    </tr>\n",
       "    <tr>\n",
       "      <th>2</th>\n",
       "      <td>A-007</td>\n",
       "    </tr>\n",
       "    <tr>\n",
       "      <th>11</th>\n",
       "      <td>A-005</td>\n",
       "    </tr>\n",
       "    <tr>\n",
       "      <th>12</th>\n",
       "      <td>A-002</td>\n",
       "    </tr>\n",
       "  </tbody>\n",
       "</table>\n",
       "</div>"
      ],
      "text/plain": [
       "   end_form_id_1\n",
       "0          A-001\n",
       "2          A-007\n",
       "11         A-005\n",
       "12         A-002"
      ]
     },
     "execution_count": 90,
     "metadata": {},
     "output_type": "execute_result"
    }
   ],
   "source": [
    "comp_adaptor_df.end_form_id_1.drop_duplicates().to_frame()"
   ]
  },
  {
   "cell_type": "code",
   "execution_count": 91,
   "metadata": {
    "collapsed": false
   },
   "outputs": [
    {
     "data": {
      "text/html": [
       "<div>\n",
       "<table border=\"1\" class=\"dataframe\">\n",
       "  <thead>\n",
       "    <tr style=\"text-align: right;\">\n",
       "      <th></th>\n",
       "      <th>end_form_id_2</th>\n",
       "    </tr>\n",
       "  </thead>\n",
       "  <tbody>\n",
       "    <tr>\n",
       "      <th>0</th>\n",
       "      <td>A-001</td>\n",
       "    </tr>\n",
       "    <tr>\n",
       "      <th>4</th>\n",
       "      <td>A-007</td>\n",
       "    </tr>\n",
       "    <tr>\n",
       "      <th>8</th>\n",
       "      <td>9999</td>\n",
       "    </tr>\n",
       "    <tr>\n",
       "      <th>11</th>\n",
       "      <td>A-006</td>\n",
       "    </tr>\n",
       "  </tbody>\n",
       "</table>\n",
       "</div>"
      ],
      "text/plain": [
       "   end_form_id_2\n",
       "0          A-001\n",
       "4          A-007\n",
       "8           9999\n",
       "11         A-006"
      ]
     },
     "execution_count": 91,
     "metadata": {},
     "output_type": "execute_result"
    }
   ],
   "source": [
    "comp_adaptor_df.end_form_id_2.drop_duplicates().to_frame()"
   ]
  },
  {
   "cell_type": "code",
   "execution_count": 92,
   "metadata": {
    "collapsed": false
   },
   "outputs": [
    {
     "data": {
      "text/html": [
       "<div>\n",
       "<table border=\"1\" class=\"dataframe\">\n",
       "  <thead>\n",
       "    <tr style=\"text-align: right;\">\n",
       "      <th></th>\n",
       "      <th>end_form_id_1</th>\n",
       "    </tr>\n",
       "  </thead>\n",
       "  <tbody>\n",
       "    <tr>\n",
       "      <th>0</th>\n",
       "      <td>A-001</td>\n",
       "    </tr>\n",
       "    <tr>\n",
       "      <th>1</th>\n",
       "      <td>A-003</td>\n",
       "    </tr>\n",
       "    <tr>\n",
       "      <th>2</th>\n",
       "      <td>A-004</td>\n",
       "    </tr>\n",
       "    <tr>\n",
       "      <th>11</th>\n",
       "      <td>A-005</td>\n",
       "    </tr>\n",
       "    <tr>\n",
       "      <th>13</th>\n",
       "      <td>A-006</td>\n",
       "    </tr>\n",
       "    <tr>\n",
       "      <th>16</th>\n",
       "      <td>A-007</td>\n",
       "    </tr>\n",
       "  </tbody>\n",
       "</table>\n",
       "</div>"
      ],
      "text/plain": [
       "   end_form_id_1\n",
       "0          A-001\n",
       "1          A-003\n",
       "2          A-004\n",
       "11         A-005\n",
       "13         A-006\n",
       "16         A-007"
      ]
     },
     "execution_count": 92,
     "metadata": {},
     "output_type": "execute_result"
    }
   ],
   "source": [
    "comp_threaded_df.end_form_id_1.drop_duplicates().to_frame()"
   ]
  },
  {
   "cell_type": "code",
   "execution_count": 93,
   "metadata": {
    "collapsed": false
   },
   "outputs": [
    {
     "data": {
      "text/plain": [
       "['component_id',\n",
       " 'name_x',\n",
       " 'component_type_id_x',\n",
       " 'component_type_id_y',\n",
       " 'hose_diameter',\n",
       " 'corresponding_shell',\n",
       " 'coupling_class',\n",
       " 'material',\n",
       " 'plating_x',\n",
       " 'orientation_x',\n",
       " 'weight_x',\n",
       " 'component_type_id_x',\n",
       " 'hex_nut_size',\n",
       " 'seat_angle',\n",
       " 'length_x',\n",
       " 'thread_size',\n",
       " 'thread_pitch',\n",
       " 'diameter',\n",
       " 'blind_hole',\n",
       " 'orientation_y',\n",
       " 'weight_y',\n",
       " 'component_type_id_y',\n",
       " 'adaptor_angle_x',\n",
       " 'overall_length_x',\n",
       " 'end_form_id_1_x',\n",
       " 'connection_type_id_1_x',\n",
       " 'length_1_x',\n",
       " 'thread_size_1_x',\n",
       " 'thread_pitch_1_x',\n",
       " 'nominal_size_1_x',\n",
       " 'end_form_id_2_x',\n",
       " 'connection_type_id_2_x',\n",
       " 'length_2_x',\n",
       " 'thread_size_2_x',\n",
       " 'thread_pitch_2_x',\n",
       " 'nominal_size_2_x',\n",
       " 'hex_size_x',\n",
       " 'unique_feature_x',\n",
       " 'orientation_x',\n",
       " 'weight_x',\n",
       " 'component_type_id_x',\n",
       " 'bolt_pattern_long_x',\n",
       " 'bolt_pattern_wide_x',\n",
       " 'extension_length_x',\n",
       " 'overall_length_y',\n",
       " 'thickness_x',\n",
       " 'drop_length_x',\n",
       " 'elbow_angle',\n",
       " 'mj_class_code_x',\n",
       " 'mj_plug_class_code_x',\n",
       " 'plug_diameter',\n",
       " 'groove_x',\n",
       " 'unique_feature_y',\n",
       " 'orientation_y',\n",
       " 'weight_y',\n",
       " 'component_type_id_y',\n",
       " 'connection_type_id_x',\n",
       " 'length_y',\n",
       " 'intended_nut_thread',\n",
       " 'intended_nut_pitch',\n",
       " 'unique_feature_x',\n",
       " 'plating_y',\n",
       " 'orientation_x',\n",
       " 'weight_x',\n",
       " 'part_name',\n",
       " 'weight_y',\n",
       " 'component_type_id_x',\n",
       " 'adaptor_angle_y',\n",
       " 'overall_length_x',\n",
       " 'hex_size_y',\n",
       " 'end_form_id_1_y',\n",
       " 'connection_type_id_1_y',\n",
       " 'length_1_y',\n",
       " 'thread_size_1_y',\n",
       " 'thread_pitch_1_y',\n",
       " 'nominal_size_1_y',\n",
       " 'end_form_id_2_y',\n",
       " 'connection_type_id_2_y',\n",
       " 'length_2_y',\n",
       " 'thread_size_2_y',\n",
       " 'thread_pitch_2_y',\n",
       " 'nominal_size_2_y',\n",
       " 'end_form_id_3',\n",
       " 'connection_type_id_3',\n",
       " 'length_3',\n",
       " 'thread_size_3',\n",
       " 'thread_pitch_3',\n",
       " 'nominal_size_3',\n",
       " 'end_form_id_4',\n",
       " 'connection_type_id_4',\n",
       " 'length_4',\n",
       " 'thread_size_4',\n",
       " 'thread_pitch_4',\n",
       " 'nominal_size_4',\n",
       " 'unique_feature_y',\n",
       " 'orientation_y',\n",
       " 'weight_x',\n",
       " 'name_y',\n",
       " 'component_type_id_y',\n",
       " 'component_type_id_x',\n",
       " 'bolt_pattern_long_y',\n",
       " 'bolt_pattern_wide_y',\n",
       " 'head_diameter',\n",
       " 'overall_length_y',\n",
       " 'thickness_y',\n",
       " 'mj_class_code_y',\n",
       " 'groove_y',\n",
       " 'unique_feature_x',\n",
       " 'orientation_x',\n",
       " 'weight_y',\n",
       " 'component_type_id_y',\n",
       " 'type',\n",
       " 'connection_type_id_y',\n",
       " 'outside_shape',\n",
       " 'base_type',\n",
       " 'height_over_tube',\n",
       " 'bolt_pattern_long_x',\n",
       " 'bolt_pattern_wide_x',\n",
       " 'groove_x',\n",
       " 'base_diameter',\n",
       " 'shoulder_diameter',\n",
       " 'unique_feature_y',\n",
       " 'orientation_y',\n",
       " 'weight_x',\n",
       " 'component_type_id_x',\n",
       " 'bolt_pattern_long_y',\n",
       " 'bolt_pattern_wide_y',\n",
       " 'thickness_x',\n",
       " 'orientation_x',\n",
       " 'weight_y',\n",
       " 'component_type_id_y',\n",
       " 'bolt_pattern_long',\n",
       " 'bolt_pattern_wide',\n",
       " 'extension_length_y',\n",
       " 'overall_length',\n",
       " 'thickness_y',\n",
       " 'drop_length_y',\n",
       " 'mj_class_code',\n",
       " 'mj_plug_class_code_y',\n",
       " 'groove_y',\n",
       " 'unique_feature',\n",
       " 'orientation_y',\n",
       " 'weight']"
      ]
     },
     "execution_count": 93,
     "metadata": {},
     "output_type": "execute_result"
    }
   ],
   "source": [
    "list(comp_result_df.columns.values)"
   ]
  },
  {
   "cell_type": "code",
   "execution_count": 94,
   "metadata": {
    "collapsed": false
   },
   "outputs": [
    {
     "data": {
      "text/html": [
       "<div>\n",
       "<table border=\"1\" class=\"dataframe\">\n",
       "  <thead>\n",
       "    <tr style=\"text-align: right;\">\n",
       "      <th></th>\n",
       "      <th>name</th>\n",
       "    </tr>\n",
       "    <tr>\n",
       "      <th>component_type_id</th>\n",
       "      <th></th>\n",
       "    </tr>\n",
       "  </thead>\n",
       "  <tbody>\n",
       "    <tr>\n",
       "      <th>CP-001</th>\n",
       "      <td>4-bolt Tig Straight</td>\n",
       "    </tr>\n",
       "    <tr>\n",
       "      <th>CP-002</th>\n",
       "      <td>4-bolt MJ Straight</td>\n",
       "    </tr>\n",
       "    <tr>\n",
       "      <th>CP-003</th>\n",
       "      <td>4-bolt Braze/Weld Straight</td>\n",
       "    </tr>\n",
       "    <tr>\n",
       "      <th>CP-004</th>\n",
       "      <td>2-bolt Braze/Weld Straight</td>\n",
       "    </tr>\n",
       "    <tr>\n",
       "      <th>CP-005</th>\n",
       "      <td>2-bolt MJ Straight</td>\n",
       "    </tr>\n",
       "  </tbody>\n",
       "</table>\n",
       "</div>"
      ],
      "text/plain": [
       "                                         name\n",
       "component_type_id                            \n",
       "CP-001                    4-bolt Tig Straight\n",
       "CP-002                     4-bolt MJ Straight\n",
       "CP-003             4-bolt Braze/Weld Straight\n",
       "CP-004             2-bolt Braze/Weld Straight\n",
       "CP-005                     2-bolt MJ Straight"
      ]
     },
     "execution_count": 94,
     "metadata": {},
     "output_type": "execute_result"
    }
   ],
   "source": [
    "type_component_df.head()"
   ]
  },
  {
   "cell_type": "code",
   "execution_count": 95,
   "metadata": {
    "collapsed": false
   },
   "outputs": [
    {
     "data": {
      "text/html": [
       "<div>\n",
       "<table border=\"1\" class=\"dataframe\">\n",
       "  <thead>\n",
       "    <tr style=\"text-align: right;\">\n",
       "      <th></th>\n",
       "      <th>name</th>\n",
       "    </tr>\n",
       "    <tr>\n",
       "      <th>connection_type_id</th>\n",
       "      <th></th>\n",
       "    </tr>\n",
       "  </thead>\n",
       "  <tbody>\n",
       "    <tr>\n",
       "      <th>B-001</th>\n",
       "      <td>37 deg Flare-SAE J514</td>\n",
       "    </tr>\n",
       "    <tr>\n",
       "      <th>B-002</th>\n",
       "      <td>ORFS-SAE J1453</td>\n",
       "    </tr>\n",
       "    <tr>\n",
       "      <th>B-003</th>\n",
       "      <td>Hi-Duty</td>\n",
       "    </tr>\n",
       "    <tr>\n",
       "      <th>B-004</th>\n",
       "      <td>NPTF-SAE J476/J514</td>\n",
       "    </tr>\n",
       "    <tr>\n",
       "      <th>B-005</th>\n",
       "      <td>SAE STOR-SAE J1926</td>\n",
       "    </tr>\n",
       "  </tbody>\n",
       "</table>\n",
       "</div>"
      ],
      "text/plain": [
       "                                     name\n",
       "connection_type_id                       \n",
       "B-001               37 deg Flare-SAE J514\n",
       "B-002                      ORFS-SAE J1453\n",
       "B-003                             Hi-Duty\n",
       "B-004                  NPTF-SAE J476/J514\n",
       "B-005                  SAE STOR-SAE J1926"
      ]
     },
     "execution_count": 95,
     "metadata": {},
     "output_type": "execute_result"
    }
   ],
   "source": [
    "type_connection_df.head()"
   ]
  },
  {
   "cell_type": "code",
   "execution_count": 96,
   "metadata": {
    "collapsed": false
   },
   "outputs": [
    {
     "data": {
      "text/html": [
       "<div>\n",
       "<table border=\"1\" class=\"dataframe\">\n",
       "  <thead>\n",
       "    <tr style=\"text-align: right;\">\n",
       "      <th></th>\n",
       "      <th>tube_assembly_id</th>\n",
       "      <th>spec1</th>\n",
       "      <th>spec2</th>\n",
       "      <th>spec3</th>\n",
       "      <th>spec4</th>\n",
       "      <th>spec5</th>\n",
       "      <th>spec6</th>\n",
       "      <th>spec7</th>\n",
       "      <th>spec8</th>\n",
       "      <th>spec9</th>\n",
       "      <th>spec10</th>\n",
       "    </tr>\n",
       "  </thead>\n",
       "  <tbody>\n",
       "    <tr>\n",
       "      <th>0</th>\n",
       "      <td>TA-00001</td>\n",
       "      <td>NaN</td>\n",
       "      <td>NaN</td>\n",
       "      <td>NaN</td>\n",
       "      <td>NaN</td>\n",
       "      <td>NaN</td>\n",
       "      <td>NaN</td>\n",
       "      <td>NaN</td>\n",
       "      <td>NaN</td>\n",
       "      <td>NaN</td>\n",
       "      <td>NaN</td>\n",
       "    </tr>\n",
       "    <tr>\n",
       "      <th>1</th>\n",
       "      <td>TA-00002</td>\n",
       "      <td>NaN</td>\n",
       "      <td>NaN</td>\n",
       "      <td>NaN</td>\n",
       "      <td>NaN</td>\n",
       "      <td>NaN</td>\n",
       "      <td>NaN</td>\n",
       "      <td>NaN</td>\n",
       "      <td>NaN</td>\n",
       "      <td>NaN</td>\n",
       "      <td>NaN</td>\n",
       "    </tr>\n",
       "    <tr>\n",
       "      <th>2</th>\n",
       "      <td>TA-00003</td>\n",
       "      <td>NaN</td>\n",
       "      <td>NaN</td>\n",
       "      <td>NaN</td>\n",
       "      <td>NaN</td>\n",
       "      <td>NaN</td>\n",
       "      <td>NaN</td>\n",
       "      <td>NaN</td>\n",
       "      <td>NaN</td>\n",
       "      <td>NaN</td>\n",
       "      <td>NaN</td>\n",
       "    </tr>\n",
       "    <tr>\n",
       "      <th>3</th>\n",
       "      <td>TA-00004</td>\n",
       "      <td>NaN</td>\n",
       "      <td>NaN</td>\n",
       "      <td>NaN</td>\n",
       "      <td>NaN</td>\n",
       "      <td>NaN</td>\n",
       "      <td>NaN</td>\n",
       "      <td>NaN</td>\n",
       "      <td>NaN</td>\n",
       "      <td>NaN</td>\n",
       "      <td>NaN</td>\n",
       "    </tr>\n",
       "    <tr>\n",
       "      <th>4</th>\n",
       "      <td>TA-00005</td>\n",
       "      <td>NaN</td>\n",
       "      <td>NaN</td>\n",
       "      <td>NaN</td>\n",
       "      <td>NaN</td>\n",
       "      <td>NaN</td>\n",
       "      <td>NaN</td>\n",
       "      <td>NaN</td>\n",
       "      <td>NaN</td>\n",
       "      <td>NaN</td>\n",
       "      <td>NaN</td>\n",
       "    </tr>\n",
       "  </tbody>\n",
       "</table>\n",
       "</div>"
      ],
      "text/plain": [
       "  tube_assembly_id spec1 spec2 spec3 spec4 spec5 spec6 spec7 spec8 spec9  \\\n",
       "0         TA-00001   NaN   NaN   NaN   NaN   NaN   NaN   NaN   NaN   NaN   \n",
       "1         TA-00002   NaN   NaN   NaN   NaN   NaN   NaN   NaN   NaN   NaN   \n",
       "2         TA-00003   NaN   NaN   NaN   NaN   NaN   NaN   NaN   NaN   NaN   \n",
       "3         TA-00004   NaN   NaN   NaN   NaN   NaN   NaN   NaN   NaN   NaN   \n",
       "4         TA-00005   NaN   NaN   NaN   NaN   NaN   NaN   NaN   NaN   NaN   \n",
       "\n",
       "  spec10  \n",
       "0    NaN  \n",
       "1    NaN  \n",
       "2    NaN  \n",
       "3    NaN  \n",
       "4    NaN  "
      ]
     },
     "execution_count": 96,
     "metadata": {},
     "output_type": "execute_result"
    }
   ],
   "source": [
    "specs_df.head()"
   ]
  },
  {
   "cell_type": "code",
   "execution_count": 97,
   "metadata": {
    "collapsed": false
   },
   "outputs": [
    {
     "data": {
      "text/html": [
       "<div>\n",
       "<table border=\"1\" class=\"dataframe\">\n",
       "  <thead>\n",
       "    <tr style=\"text-align: right;\">\n",
       "      <th></th>\n",
       "      <th>tube_assembly_id</th>\n",
       "      <th>spec1</th>\n",
       "      <th>spec2</th>\n",
       "      <th>spec3</th>\n",
       "      <th>spec4</th>\n",
       "      <th>spec5</th>\n",
       "      <th>spec6</th>\n",
       "      <th>spec7</th>\n",
       "      <th>spec8</th>\n",
       "      <th>spec9</th>\n",
       "      <th>spec10</th>\n",
       "    </tr>\n",
       "  </thead>\n",
       "  <tbody>\n",
       "    <tr>\n",
       "      <th>12018</th>\n",
       "      <td>TA-12019</td>\n",
       "      <td>SP-0004</td>\n",
       "      <td>SP-0005</td>\n",
       "      <td>SP-0009</td>\n",
       "      <td>SP-0009</td>\n",
       "      <td>SP-0016</td>\n",
       "      <td>SP-0018</td>\n",
       "      <td>SP-0058</td>\n",
       "      <td>SP-0062</td>\n",
       "      <td>SP-0070</td>\n",
       "      <td>SP-0080</td>\n",
       "    </tr>\n",
       "  </tbody>\n",
       "</table>\n",
       "</div>"
      ],
      "text/plain": [
       "      tube_assembly_id    spec1    spec2    spec3    spec4    spec5    spec6  \\\n",
       "12018         TA-12019  SP-0004  SP-0005  SP-0009  SP-0009  SP-0016  SP-0018   \n",
       "\n",
       "         spec7    spec8    spec9   spec10  \n",
       "12018  SP-0058  SP-0062  SP-0070  SP-0080  "
      ]
     },
     "execution_count": 97,
     "metadata": {},
     "output_type": "execute_result"
    }
   ],
   "source": [
    "specs_df[specs_df.spec10.notnull()].head()"
   ]
  },
  {
   "cell_type": "code",
   "execution_count": 98,
   "metadata": {
    "collapsed": false
   },
   "outputs": [
    {
     "data": {
      "text/html": [
       "<div>\n",
       "<table border=\"1\" class=\"dataframe\">\n",
       "  <thead>\n",
       "    <tr style=\"text-align: right;\">\n",
       "      <th></th>\n",
       "      <th>tube_assembly_id</th>\n",
       "      <th>component_id_1</th>\n",
       "      <th>quantity_1</th>\n",
       "      <th>component_id_2</th>\n",
       "      <th>quantity_2</th>\n",
       "      <th>component_id_3</th>\n",
       "      <th>quantity_3</th>\n",
       "      <th>component_id_4</th>\n",
       "      <th>quantity_4</th>\n",
       "      <th>component_id_5</th>\n",
       "      <th>quantity_5</th>\n",
       "      <th>component_id_6</th>\n",
       "      <th>quantity_6</th>\n",
       "      <th>component_id_7</th>\n",
       "      <th>quantity_7</th>\n",
       "      <th>component_id_8</th>\n",
       "      <th>quantity_8</th>\n",
       "    </tr>\n",
       "  </thead>\n",
       "  <tbody>\n",
       "    <tr>\n",
       "      <th>0</th>\n",
       "      <td>TA-00001</td>\n",
       "      <td>C-1622</td>\n",
       "      <td>2</td>\n",
       "      <td>C-1629</td>\n",
       "      <td>2</td>\n",
       "      <td>0</td>\n",
       "      <td>0</td>\n",
       "      <td>0</td>\n",
       "      <td>0</td>\n",
       "      <td>0</td>\n",
       "      <td>0</td>\n",
       "      <td>0</td>\n",
       "      <td>0</td>\n",
       "      <td>0</td>\n",
       "      <td>0</td>\n",
       "      <td>0</td>\n",
       "      <td>0</td>\n",
       "    </tr>\n",
       "    <tr>\n",
       "      <th>1</th>\n",
       "      <td>TA-00002</td>\n",
       "      <td>C-1312</td>\n",
       "      <td>2</td>\n",
       "      <td>0</td>\n",
       "      <td>0</td>\n",
       "      <td>0</td>\n",
       "      <td>0</td>\n",
       "      <td>0</td>\n",
       "      <td>0</td>\n",
       "      <td>0</td>\n",
       "      <td>0</td>\n",
       "      <td>0</td>\n",
       "      <td>0</td>\n",
       "      <td>0</td>\n",
       "      <td>0</td>\n",
       "      <td>0</td>\n",
       "      <td>0</td>\n",
       "    </tr>\n",
       "    <tr>\n",
       "      <th>2</th>\n",
       "      <td>TA-00003</td>\n",
       "      <td>C-1312</td>\n",
       "      <td>2</td>\n",
       "      <td>0</td>\n",
       "      <td>0</td>\n",
       "      <td>0</td>\n",
       "      <td>0</td>\n",
       "      <td>0</td>\n",
       "      <td>0</td>\n",
       "      <td>0</td>\n",
       "      <td>0</td>\n",
       "      <td>0</td>\n",
       "      <td>0</td>\n",
       "      <td>0</td>\n",
       "      <td>0</td>\n",
       "      <td>0</td>\n",
       "      <td>0</td>\n",
       "    </tr>\n",
       "    <tr>\n",
       "      <th>3</th>\n",
       "      <td>TA-00004</td>\n",
       "      <td>C-1312</td>\n",
       "      <td>2</td>\n",
       "      <td>0</td>\n",
       "      <td>0</td>\n",
       "      <td>0</td>\n",
       "      <td>0</td>\n",
       "      <td>0</td>\n",
       "      <td>0</td>\n",
       "      <td>0</td>\n",
       "      <td>0</td>\n",
       "      <td>0</td>\n",
       "      <td>0</td>\n",
       "      <td>0</td>\n",
       "      <td>0</td>\n",
       "      <td>0</td>\n",
       "      <td>0</td>\n",
       "    </tr>\n",
       "    <tr>\n",
       "      <th>4</th>\n",
       "      <td>TA-00005</td>\n",
       "      <td>C-1624</td>\n",
       "      <td>1</td>\n",
       "      <td>C-1631</td>\n",
       "      <td>1</td>\n",
       "      <td>C-1641</td>\n",
       "      <td>1</td>\n",
       "      <td>0</td>\n",
       "      <td>0</td>\n",
       "      <td>0</td>\n",
       "      <td>0</td>\n",
       "      <td>0</td>\n",
       "      <td>0</td>\n",
       "      <td>0</td>\n",
       "      <td>0</td>\n",
       "      <td>0</td>\n",
       "      <td>0</td>\n",
       "    </tr>\n",
       "  </tbody>\n",
       "</table>\n",
       "</div>"
      ],
      "text/plain": [
       "  tube_assembly_id component_id_1  quantity_1 component_id_2  quantity_2  \\\n",
       "0         TA-00001         C-1622           2         C-1629           2   \n",
       "1         TA-00002         C-1312           2              0           0   \n",
       "2         TA-00003         C-1312           2              0           0   \n",
       "3         TA-00004         C-1312           2              0           0   \n",
       "4         TA-00005         C-1624           1         C-1631           1   \n",
       "\n",
       "  component_id_3  quantity_3 component_id_4  quantity_4 component_id_5  \\\n",
       "0              0           0              0           0              0   \n",
       "1              0           0              0           0              0   \n",
       "2              0           0              0           0              0   \n",
       "3              0           0              0           0              0   \n",
       "4         C-1641           1              0           0              0   \n",
       "\n",
       "   quantity_5 component_id_6  quantity_6 component_id_7  quantity_7  \\\n",
       "0           0              0           0              0           0   \n",
       "1           0              0           0              0           0   \n",
       "2           0              0           0              0           0   \n",
       "3           0              0           0              0           0   \n",
       "4           0              0           0              0           0   \n",
       "\n",
       "  component_id_8  quantity_8  \n",
       "0              0           0  \n",
       "1              0           0  \n",
       "2              0           0  \n",
       "3              0           0  \n",
       "4              0           0  "
      ]
     },
     "execution_count": 98,
     "metadata": {},
     "output_type": "execute_result"
    }
   ],
   "source": [
    "bill_of_materials_df[bill_of_materials_df.component_id_8.notnull()].head()"
   ]
  },
  {
   "cell_type": "markdown",
   "metadata": {},
   "source": [
    " "
   ]
  },
  {
   "cell_type": "markdown",
   "metadata": {},
   "source": [
    "## Component dataframes primary key investigation"
   ]
  },
  {
   "cell_type": "markdown",
   "metadata": {},
   "source": [
    "How many **distinct component_id's** are there for each component df?"
   ]
  },
  {
   "cell_type": "code",
   "execution_count": 99,
   "metadata": {
    "collapsed": false
   },
   "outputs": [
    {
     "data": {
      "text/plain": [
       "(2048, 1)"
      ]
     },
     "execution_count": 99,
     "metadata": {},
     "output_type": "execute_result"
    }
   ],
   "source": [
    "components_df.component_id.drop_duplicates().to_frame().shape"
   ]
  },
  {
   "cell_type": "code",
   "execution_count": 100,
   "metadata": {
    "collapsed": false
   },
   "outputs": [
    {
     "data": {
      "text/plain": [
       "(6, 1)"
      ]
     },
     "execution_count": 100,
     "metadata": {},
     "output_type": "execute_result"
    }
   ],
   "source": [
    "comp_hfl_df.component_id.drop_duplicates().to_frame().shape"
   ]
  },
  {
   "cell_type": "code",
   "execution_count": 101,
   "metadata": {
    "collapsed": false
   },
   "outputs": [
    {
     "data": {
      "text/plain": [
       "(65, 1)"
      ]
     },
     "execution_count": 101,
     "metadata": {},
     "output_type": "execute_result"
    }
   ],
   "source": [
    "comp_nut_df.component_id.drop_duplicates().to_frame().shape"
   ]
  },
  {
   "cell_type": "code",
   "execution_count": 102,
   "metadata": {
    "collapsed": false
   },
   "outputs": [
    {
     "data": {
      "text/plain": [
       "(25, 1)"
      ]
     },
     "execution_count": 102,
     "metadata": {},
     "output_type": "execute_result"
    }
   ],
   "source": [
    "comp_adaptor_df.component_id.drop_duplicates().to_frame().shape"
   ]
  },
  {
   "cell_type": "code",
   "execution_count": 103,
   "metadata": {
    "collapsed": false
   },
   "outputs": [
    {
     "data": {
      "text/plain": [
       "(178, 1)"
      ]
     },
     "execution_count": 103,
     "metadata": {},
     "output_type": "execute_result"
    }
   ],
   "source": [
    "comp_elbow_df.component_id.drop_duplicates().to_frame().shape"
   ]
  },
  {
   "cell_type": "code",
   "execution_count": 104,
   "metadata": {
    "collapsed": false
   },
   "outputs": [
    {
     "data": {
      "text/plain": [
       "(50, 1)"
      ]
     },
     "execution_count": 104,
     "metadata": {},
     "output_type": "execute_result"
    }
   ],
   "source": [
    "comp_sleeve_df.component_id.drop_duplicates().to_frame().shape"
   ]
  },
  {
   "cell_type": "code",
   "execution_count": 105,
   "metadata": {
    "collapsed": false
   },
   "outputs": [
    {
     "data": {
      "text/plain": [
       "(1001, 1)"
      ]
     },
     "execution_count": 105,
     "metadata": {},
     "output_type": "execute_result"
    }
   ],
   "source": [
    "comp_other_df.component_id.drop_duplicates().to_frame().shape"
   ]
  },
  {
   "cell_type": "code",
   "execution_count": 106,
   "metadata": {
    "collapsed": false
   },
   "outputs": [
    {
     "data": {
      "text/plain": [
       "(194, 1)"
      ]
     },
     "execution_count": 106,
     "metadata": {},
     "output_type": "execute_result"
    }
   ],
   "source": [
    "comp_threaded_df.component_id.drop_duplicates().to_frame().shape"
   ]
  },
  {
   "cell_type": "code",
   "execution_count": 107,
   "metadata": {
    "collapsed": false
   },
   "outputs": [
    {
     "data": {
      "text/plain": [
       "(361, 1)"
      ]
     },
     "execution_count": 107,
     "metadata": {},
     "output_type": "execute_result"
    }
   ],
   "source": [
    "comp_straight_df.component_id.drop_duplicates().to_frame().shape"
   ]
  },
  {
   "cell_type": "code",
   "execution_count": 108,
   "metadata": {
    "collapsed": false
   },
   "outputs": [
    {
     "data": {
      "text/plain": [
       "(147, 1)"
      ]
     },
     "execution_count": 108,
     "metadata": {},
     "output_type": "execute_result"
    }
   ],
   "source": [
    "comp_boss_df.component_id.drop_duplicates().to_frame().shape"
   ]
  },
  {
   "cell_type": "code",
   "execution_count": 109,
   "metadata": {
    "collapsed": false
   },
   "outputs": [
    {
     "data": {
      "text/plain": [
       "(16, 1)"
      ]
     },
     "execution_count": 109,
     "metadata": {},
     "output_type": "execute_result"
    }
   ],
   "source": [
    "comp_float_df.component_id.drop_duplicates().to_frame().shape"
   ]
  },
  {
   "cell_type": "code",
   "execution_count": 110,
   "metadata": {
    "collapsed": false
   },
   "outputs": [
    {
     "data": {
      "text/plain": [
       "(4, 1)"
      ]
     },
     "execution_count": 110,
     "metadata": {},
     "output_type": "execute_result"
    }
   ],
   "source": [
    "comp_tee_df.component_id.drop_duplicates().to_frame().shape"
   ]
  },
  {
   "cell_type": "markdown",
   "metadata": {},
   "source": [
    "How many **distinct component_type_id's** are there?"
   ]
  },
  {
   "cell_type": "code",
   "execution_count": 111,
   "metadata": {
    "collapsed": false
   },
   "outputs": [
    {
     "data": {
      "text/plain": [
       "(29, 1)"
      ]
     },
     "execution_count": 111,
     "metadata": {},
     "output_type": "execute_result"
    }
   ],
   "source": [
    "components_df.component_type_id.drop_duplicates().to_frame().shape"
   ]
  },
  {
   "cell_type": "code",
   "execution_count": 112,
   "metadata": {
    "collapsed": false
   },
   "outputs": [
    {
     "data": {
      "text/plain": [
       "(1, 1)"
      ]
     },
     "execution_count": 112,
     "metadata": {},
     "output_type": "execute_result"
    }
   ],
   "source": [
    "comp_hfl_df.component_type_id.drop_duplicates().to_frame().shape"
   ]
  },
  {
   "cell_type": "code",
   "execution_count": 113,
   "metadata": {
    "collapsed": false
   },
   "outputs": [
    {
     "data": {
      "text/plain": [
       "(3, 1)"
      ]
     },
     "execution_count": 113,
     "metadata": {},
     "output_type": "execute_result"
    }
   ],
   "source": [
    "comp_nut_df.component_type_id.drop_duplicates().to_frame().shape"
   ]
  },
  {
   "cell_type": "code",
   "execution_count": 114,
   "metadata": {
    "collapsed": false
   },
   "outputs": [
    {
     "data": {
      "text/plain": [
       "(2, 1)"
      ]
     },
     "execution_count": 114,
     "metadata": {},
     "output_type": "execute_result"
    }
   ],
   "source": [
    "comp_adaptor_df.component_type_id.drop_duplicates().to_frame().shape"
   ]
  },
  {
   "cell_type": "code",
   "execution_count": 115,
   "metadata": {
    "collapsed": false
   },
   "outputs": [
    {
     "data": {
      "text/plain": [
       "(5, 1)"
      ]
     },
     "execution_count": 115,
     "metadata": {},
     "output_type": "execute_result"
    }
   ],
   "source": [
    "comp_elbow_df.component_type_id.drop_duplicates().to_frame().shape"
   ]
  },
  {
   "cell_type": "code",
   "execution_count": 116,
   "metadata": {
    "collapsed": false
   },
   "outputs": [
    {
     "data": {
      "text/plain": [
       "(1, 1)"
      ]
     },
     "execution_count": 116,
     "metadata": {},
     "output_type": "execute_result"
    }
   ],
   "source": [
    "comp_sleeve_df.component_type_id.drop_duplicates().to_frame().shape"
   ]
  },
  {
   "cell_type": "code",
   "execution_count": 117,
   "metadata": {
    "collapsed": false
   },
   "outputs": [
    {
     "data": {
      "text/plain": [
       "(4, 1)"
      ]
     },
     "execution_count": 117,
     "metadata": {},
     "output_type": "execute_result"
    }
   ],
   "source": [
    "comp_threaded_df.component_type_id.drop_duplicates().to_frame().shape"
   ]
  },
  {
   "cell_type": "code",
   "execution_count": 118,
   "metadata": {
    "collapsed": false
   },
   "outputs": [
    {
     "data": {
      "text/plain": [
       "(7, 1)"
      ]
     },
     "execution_count": 118,
     "metadata": {},
     "output_type": "execute_result"
    }
   ],
   "source": [
    "comp_straight_df.component_type_id.drop_duplicates().to_frame().shape"
   ]
  },
  {
   "cell_type": "code",
   "execution_count": 119,
   "metadata": {
    "collapsed": false
   },
   "outputs": [
    {
     "data": {
      "text/plain": [
       "(3, 1)"
      ]
     },
     "execution_count": 119,
     "metadata": {},
     "output_type": "execute_result"
    }
   ],
   "source": [
    "comp_boss_df.component_type_id.drop_duplicates().to_frame().shape"
   ]
  },
  {
   "cell_type": "code",
   "execution_count": 120,
   "metadata": {
    "collapsed": false
   },
   "outputs": [
    {
     "data": {
      "text/plain": [
       "(2, 1)"
      ]
     },
     "execution_count": 120,
     "metadata": {},
     "output_type": "execute_result"
    }
   ],
   "source": [
    "comp_float_df.component_type_id.drop_duplicates().to_frame().shape"
   ]
  },
  {
   "cell_type": "code",
   "execution_count": 121,
   "metadata": {
    "collapsed": false
   },
   "outputs": [
    {
     "data": {
      "text/plain": [
       "(1, 1)"
      ]
     },
     "execution_count": 121,
     "metadata": {},
     "output_type": "execute_result"
    }
   ],
   "source": [
    "comp_tee_df.component_type_id.drop_duplicates().to_frame().shape"
   ]
  },
  {
   "cell_type": "markdown",
   "metadata": {},
   "source": [
    "Components_df has the correct number of distinct component_id's and component_type_id's."
   ]
  },
  {
   "cell_type": "markdown",
   "metadata": {},
   "source": [
    "Let's check to see if **all the comp df's component_id's and component_type_id's** are actually in components_df."
   ]
  },
  {
   "cell_type": "code",
   "execution_count": 122,
   "metadata": {
    "collapsed": false,
    "scrolled": true
   },
   "outputs": [
    {
     "data": {
      "text/html": [
       "<div>\n",
       "<table border=\"1\" class=\"dataframe\">\n",
       "  <thead>\n",
       "    <tr style=\"text-align: right;\">\n",
       "      <th></th>\n",
       "      <th>component_id</th>\n",
       "      <th>name</th>\n",
       "      <th>component_type_id_x</th>\n",
       "      <th>component_type_id_y</th>\n",
       "      <th>hose_diameter</th>\n",
       "      <th>corresponding_shell</th>\n",
       "      <th>coupling_class</th>\n",
       "      <th>material</th>\n",
       "      <th>plating</th>\n",
       "      <th>orientation</th>\n",
       "      <th>weight</th>\n",
       "    </tr>\n",
       "  </thead>\n",
       "  <tbody>\n",
       "    <tr>\n",
       "      <th>0</th>\n",
       "      <td>C-0872</td>\n",
       "      <td>NIPPLE-BRAZE</td>\n",
       "      <td>CP-023</td>\n",
       "      <td>CP-023</td>\n",
       "      <td>4.8</td>\n",
       "      <td>C-0855</td>\n",
       "      <td>SP-0098</td>\n",
       "      <td>SP-0016</td>\n",
       "      <td>Yes</td>\n",
       "      <td>No</td>\n",
       "      <td>0.010</td>\n",
       "    </tr>\n",
       "    <tr>\n",
       "      <th>1</th>\n",
       "      <td>C-0873</td>\n",
       "      <td>NIPPLE-BRAZE</td>\n",
       "      <td>CP-023</td>\n",
       "      <td>CP-023</td>\n",
       "      <td>4.8</td>\n",
       "      <td>C-0856</td>\n",
       "      <td>SP-0098</td>\n",
       "      <td>SP-0016</td>\n",
       "      <td>Yes</td>\n",
       "      <td>No</td>\n",
       "      <td>0.010</td>\n",
       "    </tr>\n",
       "    <tr>\n",
       "      <th>2</th>\n",
       "      <td>C-0874</td>\n",
       "      <td>NIPPLE-BRAZE</td>\n",
       "      <td>CP-023</td>\n",
       "      <td>CP-023</td>\n",
       "      <td>4.8</td>\n",
       "      <td>C-0857</td>\n",
       "      <td>SP-0098</td>\n",
       "      <td>SP-0038</td>\n",
       "      <td>Yes</td>\n",
       "      <td>No</td>\n",
       "      <td>0.001</td>\n",
       "    </tr>\n",
       "    <tr>\n",
       "      <th>3</th>\n",
       "      <td>C-1039</td>\n",
       "      <td>STEM-BRAZED</td>\n",
       "      <td>CP-023</td>\n",
       "      <td>CP-023</td>\n",
       "      <td>15.9</td>\n",
       "      <td>C-1040</td>\n",
       "      <td>SP-0097</td>\n",
       "      <td>SP-0095</td>\n",
       "      <td>No</td>\n",
       "      <td>No</td>\n",
       "      <td>0.052</td>\n",
       "    </tr>\n",
       "    <tr>\n",
       "      <th>4</th>\n",
       "      <td>C-1041</td>\n",
       "      <td>STEM-BRAZED</td>\n",
       "      <td>CP-023</td>\n",
       "      <td>CP-023</td>\n",
       "      <td>15.9</td>\n",
       "      <td>C-1042</td>\n",
       "      <td>SP-0099</td>\n",
       "      <td>SP-0095</td>\n",
       "      <td>No</td>\n",
       "      <td>No</td>\n",
       "      <td>0.065</td>\n",
       "    </tr>\n",
       "    <tr>\n",
       "      <th>5</th>\n",
       "      <td>C-1043</td>\n",
       "      <td>STEM-BRAZED</td>\n",
       "      <td>CP-023</td>\n",
       "      <td>CP-023</td>\n",
       "      <td>25.4</td>\n",
       "      <td>C-1044</td>\n",
       "      <td>SP-0099</td>\n",
       "      <td>SP-0095</td>\n",
       "      <td>No</td>\n",
       "      <td>No</td>\n",
       "      <td>0.196</td>\n",
       "    </tr>\n",
       "  </tbody>\n",
       "</table>\n",
       "</div>"
      ],
      "text/plain": [
       "  component_id          name component_type_id_x component_type_id_y  \\\n",
       "0       C-0872  NIPPLE-BRAZE              CP-023              CP-023   \n",
       "1       C-0873  NIPPLE-BRAZE              CP-023              CP-023   \n",
       "2       C-0874  NIPPLE-BRAZE              CP-023              CP-023   \n",
       "3       C-1039   STEM-BRAZED              CP-023              CP-023   \n",
       "4       C-1041   STEM-BRAZED              CP-023              CP-023   \n",
       "5       C-1043   STEM-BRAZED              CP-023              CP-023   \n",
       "\n",
       "   hose_diameter corresponding_shell coupling_class material plating  \\\n",
       "0            4.8              C-0855        SP-0098  SP-0016     Yes   \n",
       "1            4.8              C-0856        SP-0098  SP-0016     Yes   \n",
       "2            4.8              C-0857        SP-0098  SP-0038     Yes   \n",
       "3           15.9              C-1040        SP-0097  SP-0095      No   \n",
       "4           15.9              C-1042        SP-0099  SP-0095      No   \n",
       "5           25.4              C-1044        SP-0099  SP-0095      No   \n",
       "\n",
       "  orientation  weight  \n",
       "0          No   0.010  \n",
       "1          No   0.010  \n",
       "2          No   0.001  \n",
       "3          No   0.052  \n",
       "4          No   0.065  \n",
       "5          No   0.196  "
      ]
     },
     "execution_count": 122,
     "metadata": {},
     "output_type": "execute_result"
    }
   ],
   "source": [
    "components_df.merge(comp_hfl_df, how = 'inner', on = 'component_id')"
   ]
  },
  {
   "cell_type": "code",
   "execution_count": 123,
   "metadata": {
    "collapsed": false
   },
   "outputs": [
    {
     "data": {
      "text/plain": [
       "(65, 13)"
      ]
     },
     "execution_count": 123,
     "metadata": {},
     "output_type": "execute_result"
    }
   ],
   "source": [
    "components_df.merge(comp_nut_df, how = 'inner', on = 'component_id').shape"
   ]
  },
  {
   "cell_type": "code",
   "execution_count": 124,
   "metadata": {
    "collapsed": false
   },
   "outputs": [
    {
     "data": {
      "text/plain": [
       "65"
      ]
     },
     "execution_count": 124,
     "metadata": {},
     "output_type": "execute_result"
    }
   ],
   "source": [
    "result = components_df.merge(comp_nut_df, how = 'inner', on = 'component_id')\n",
    "sum(result.component_type_id_x == result.component_type_id_y)"
   ]
  },
  {
   "cell_type": "code",
   "execution_count": 125,
   "metadata": {
    "collapsed": false
   },
   "outputs": [
    {
     "data": {
      "text/plain": [
       "(25, 22)"
      ]
     },
     "execution_count": 125,
     "metadata": {},
     "output_type": "execute_result"
    }
   ],
   "source": [
    "components_df.merge(comp_adaptor_df, how = 'inner', on = 'component_id').shape"
   ]
  },
  {
   "cell_type": "code",
   "execution_count": 126,
   "metadata": {
    "collapsed": false
   },
   "outputs": [
    {
     "data": {
      "text/plain": [
       "25"
      ]
     },
     "execution_count": 126,
     "metadata": {},
     "output_type": "execute_result"
    }
   ],
   "source": [
    "result = components_df.merge(comp_adaptor_df, how = 'inner', on = 'component_id')\n",
    "sum(result.component_type_id_x == result.component_type_id_y)"
   ]
  },
  {
   "cell_type": "code",
   "execution_count": 127,
   "metadata": {
    "collapsed": false
   },
   "outputs": [
    {
     "data": {
      "text/plain": [
       "(178, 18)"
      ]
     },
     "execution_count": 127,
     "metadata": {},
     "output_type": "execute_result"
    }
   ],
   "source": [
    "components_df.merge(comp_elbow_df, how = 'inner', on = 'component_id').shape"
   ]
  },
  {
   "cell_type": "code",
   "execution_count": 128,
   "metadata": {
    "collapsed": false
   },
   "outputs": [
    {
     "data": {
      "text/plain": [
       "178"
      ]
     },
     "execution_count": 128,
     "metadata": {},
     "output_type": "execute_result"
    }
   ],
   "source": [
    "result = components_df.merge(comp_elbow_df, how = 'inner', on = 'component_id')\n",
    "sum(result.component_type_id_x == result.component_type_id_y)"
   ]
  },
  {
   "cell_type": "code",
   "execution_count": 129,
   "metadata": {
    "collapsed": false
   },
   "outputs": [
    {
     "data": {
      "text/plain": [
       "(50, 12)"
      ]
     },
     "execution_count": 129,
     "metadata": {},
     "output_type": "execute_result"
    }
   ],
   "source": [
    "components_df.merge(comp_sleeve_df, how = 'inner', on = 'component_id').shape"
   ]
  },
  {
   "cell_type": "code",
   "execution_count": 130,
   "metadata": {
    "collapsed": false
   },
   "outputs": [
    {
     "data": {
      "text/plain": [
       "50"
      ]
     },
     "execution_count": 130,
     "metadata": {},
     "output_type": "execute_result"
    }
   ],
   "source": [
    "result = components_df.merge(comp_sleeve_df, how = 'inner', on = 'component_id')\n",
    "sum(result.component_type_id_x == result.component_type_id_y)"
   ]
  },
  {
   "cell_type": "code",
   "execution_count": 131,
   "metadata": {
    "collapsed": false
   },
   "outputs": [
    {
     "data": {
      "text/plain": [
       "(194, 34)"
      ]
     },
     "execution_count": 131,
     "metadata": {},
     "output_type": "execute_result"
    }
   ],
   "source": [
    "components_df.merge(comp_threaded_df, how = 'inner', on = 'component_id').shape"
   ]
  },
  {
   "cell_type": "code",
   "execution_count": 132,
   "metadata": {
    "collapsed": false
   },
   "outputs": [
    {
     "data": {
      "text/plain": [
       "194"
      ]
     },
     "execution_count": 132,
     "metadata": {},
     "output_type": "execute_result"
    }
   ],
   "source": [
    "result = components_df.merge(comp_threaded_df, how = 'inner', on = 'component_id')\n",
    "sum(result.component_type_id_x == result.component_type_id_y)"
   ]
  },
  {
   "cell_type": "code",
   "execution_count": 133,
   "metadata": {
    "collapsed": false
   },
   "outputs": [
    {
     "data": {
      "text/plain": [
       "(361, 14)"
      ]
     },
     "execution_count": 133,
     "metadata": {},
     "output_type": "execute_result"
    }
   ],
   "source": [
    "components_df.merge(comp_straight_df, how = 'inner', on = 'component_id').shape"
   ]
  },
  {
   "cell_type": "code",
   "execution_count": 134,
   "metadata": {
    "collapsed": false
   },
   "outputs": [
    {
     "data": {
      "text/plain": [
       "361"
      ]
     },
     "execution_count": 134,
     "metadata": {},
     "output_type": "execute_result"
    }
   ],
   "source": [
    "result = components_df.merge(comp_straight_df, how = 'inner', on = 'component_id')\n",
    "sum(result.component_type_id_x == result.component_type_id_y)"
   ]
  },
  {
   "cell_type": "code",
   "execution_count": 135,
   "metadata": {
    "collapsed": false
   },
   "outputs": [
    {
     "data": {
      "text/plain": [
       "(147, 17)"
      ]
     },
     "execution_count": 135,
     "metadata": {},
     "output_type": "execute_result"
    }
   ],
   "source": [
    "components_df.merge(comp_boss_df, how = 'inner', on = 'component_id').shape"
   ]
  },
  {
   "cell_type": "code",
   "execution_count": 136,
   "metadata": {
    "collapsed": false
   },
   "outputs": [
    {
     "data": {
      "text/plain": [
       "147"
      ]
     },
     "execution_count": 136,
     "metadata": {},
     "output_type": "execute_result"
    }
   ],
   "source": [
    "result = components_df.merge(comp_boss_df, how = 'inner', on = 'component_id')\n",
    "sum(result.component_type_id_x == result.component_type_id_y)"
   ]
  },
  {
   "cell_type": "code",
   "execution_count": 137,
   "metadata": {
    "collapsed": false
   },
   "outputs": [
    {
     "data": {
      "text/plain": [
       "(16, 9)"
      ]
     },
     "execution_count": 137,
     "metadata": {},
     "output_type": "execute_result"
    }
   ],
   "source": [
    "components_df.merge(comp_float_df, how = 'inner', on = 'component_id').shape"
   ]
  },
  {
   "cell_type": "code",
   "execution_count": 138,
   "metadata": {
    "collapsed": false
   },
   "outputs": [
    {
     "data": {
      "text/plain": [
       "16"
      ]
     },
     "execution_count": 138,
     "metadata": {},
     "output_type": "execute_result"
    }
   ],
   "source": [
    "result = components_df.merge(comp_float_df, how = 'inner', on = 'component_id')\n",
    "sum(result.component_type_id_x == result.component_type_id_y)"
   ]
  },
  {
   "cell_type": "code",
   "execution_count": 139,
   "metadata": {
    "collapsed": false
   },
   "outputs": [
    {
     "data": {
      "text/plain": [
       "(4, 16)"
      ]
     },
     "execution_count": 139,
     "metadata": {},
     "output_type": "execute_result"
    }
   ],
   "source": [
    "components_df.merge(comp_tee_df, how = 'inner', on = 'component_id').shape"
   ]
  },
  {
   "cell_type": "code",
   "execution_count": 140,
   "metadata": {
    "collapsed": false
   },
   "outputs": [
    {
     "data": {
      "text/plain": [
       "4"
      ]
     },
     "execution_count": 140,
     "metadata": {},
     "output_type": "execute_result"
    }
   ],
   "source": [
    "result = components_df.merge(comp_tee_df, how = 'inner', on = 'component_id')\n",
    "sum(result.component_type_id_x == result.component_type_id_y)"
   ]
  },
  {
   "cell_type": "markdown",
   "metadata": {},
   "source": [
    "After joining all the comp df's to components_df on component_id, **it is verified that all component_type_id's match on both \n",
    "the comp df and components_df**, so this means **component_id alone is the primary key for these tables** and component_type_id is a\n",
    "foreign key."
   ]
  },
  {
   "cell_type": "code",
   "execution_count": null,
   "metadata": {
    "collapsed": true
   },
   "outputs": [],
   "source": []
  },
  {
   "cell_type": "code",
   "execution_count": null,
   "metadata": {
    "collapsed": true
   },
   "outputs": [],
   "source": []
  },
  {
   "cell_type": "code",
   "execution_count": null,
   "metadata": {
    "collapsed": true
   },
   "outputs": [],
   "source": []
  },
  {
   "cell_type": "code",
   "execution_count": null,
   "metadata": {
    "collapsed": true
   },
   "outputs": [],
   "source": []
  },
  {
   "cell_type": "code",
   "execution_count": null,
   "metadata": {
    "collapsed": true
   },
   "outputs": [],
   "source": []
  },
  {
   "cell_type": "code",
   "execution_count": null,
   "metadata": {
    "collapsed": true
   },
   "outputs": [],
   "source": []
  },
  {
   "cell_type": "code",
   "execution_count": null,
   "metadata": {
    "collapsed": true
   },
   "outputs": [],
   "source": []
  }
 ],
 "metadata": {
  "celltoolbar": "Raw Cell Format",
  "kernelspec": {
   "display_name": "Python 2",
   "language": "python",
   "name": "python2"
  },
  "language_info": {
   "codemirror_mode": {
    "name": "ipython",
    "version": 2
   },
   "file_extension": ".py",
   "mimetype": "text/x-python",
   "name": "python",
   "nbconvert_exporter": "python",
   "pygments_lexer": "ipython2",
   "version": "2.7.13"
  }
 },
 "nbformat": 4,
 "nbformat_minor": 0
}
