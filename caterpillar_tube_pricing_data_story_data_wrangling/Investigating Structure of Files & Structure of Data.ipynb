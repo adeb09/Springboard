{
 "cells": [
  {
   "cell_type": "markdown",
   "metadata": {},
   "source": [
    "# Investigating Structure of Files & Structure of Data"
   ]
  },
  {
   "cell_type": "markdown",
   "metadata": {},
   "source": [
    "*The purpose of this jupyter notebook was to further investigate the file structure of the caterpillar tube pricing\n",
    "dataset found on [Kaggle](https://www.kaggle.com/c/caterpillar-tube-pricing/data).*"
   ]
  },
  {
   "cell_type": "code",
   "execution_count": 1,
   "metadata": {
    "collapsed": false
   },
   "outputs": [],
   "source": [
    "%matplotlib inline\n",
    "import matplotlib.pyplot as plt\n",
    "import numpy as np\n",
    "import pandas as pd\n",
    "import os\n",
    "import random\n",
    "from IPython.core.display import HTML\n",
    "css = open('style-table.css').read() + open('style-notebook.css').read()\n",
    "HTML('<style>{}</style>'.format(css))\n",
    "\n",
    "import seaborn as sns\n",
    "\n",
    "# special matplotlib argument for improved plots\n",
    "from matplotlib import rcParams\n",
    "sns.set_style(\"whitegrid\")\n",
    "sns.set_context(\"poster\")"
   ]
  },
  {
   "cell_type": "code",
   "execution_count": 2,
   "metadata": {
    "collapsed": false
   },
   "outputs": [],
   "source": [
    "#functions used throughout the analysis in the ipython notebook\n",
    "def load_data(dir):\n",
    "    #LOAD DATA from dir that contains data files in csv format\n",
    "    files = os.listdir(dir)\n",
    "    #initialize a dictionary to store csv files\n",
    "    data_dict = {}\n",
    "    for fil in files:\n",
    "        if fil[-3:] == 'csv':\n",
    "            filePath = dir + '\\\\' + fil\n",
    "            data_dict[fil[:-4]] = pd.DataFrame.from_csv(filePath)\n",
    "    return data_dict\n",
    "\n",
    "\n",
    "def display_loaded_data(dict):\n",
    "    for key in dict.keys():\n",
    "        print key\n",
    "        \n",
    "        \n",
    "def reset_index(df, index):\n",
    "    new_df = df.reset_index(str(index))\n",
    "    return new_df\n",
    "\n",
    "\n",
    "def create_comp_df_lst(data_dict):\n",
    "    #takes the data dictionary of files and returns a list of strings with the name of all comp df's\n",
    "    def add_df(string):\n",
    "        #takes a str and adds '_df' to the end\n",
    "        return string + '_df'\n",
    "    \n",
    "    comp_df_lst = []\n",
    "    for filename in data_dict.keys():\n",
    "        if filename[:4] == 'comp':\n",
    "            comp_df_lst.append(add_df(filename))\n",
    "    return comp_df_lst\n",
    "\n",
    "\n",
    "def join_command_str(df, lst_of_components, join_type, join_column):\n",
    "    #df should be the string of the df to join\n",
    "    to_join = lst_of_components[0]\n",
    "    lst_of_components.remove(to_join) #remove the component to join first\n",
    "    \n",
    "    #first join on first component df in lst_of_components\n",
    "    command = 'comp_result_df = ' + df + '.merge(' + to_join + ', how = \"' + join_type + '\", on = \"' + join_column + '\")'\n",
    "    \n",
    "    #initialize string\n",
    "    command_to_add = ''\n",
    "    for df_to_join in lst_of_components:\n",
    "        #comp_hfl_result_df = df.merge(components_df, how = 'left', on = 'component_id')\n",
    "        command_to_add += '.merge(' + df_to_join + ', how = \"' + join_type + '\", on = \"' + join_column + '\")'\n",
    "    #print command_to_add\n",
    "    return command + command_to_add\n",
    "\n",
    "\n",
    "def join_billofmaterials_to_compresult(bill_of_materials_df, comp_result_df, n):\n",
    "    #this joins bill_of_materials_df to comp_result_df on all n component_id columns\n",
    "    #both of the df's passed should be the string of the variable holding the dataframes to join\n",
    "    \n",
    "    #initialize command string\n",
    "    command = 'bom_result_df = bill_of_materials_df.merge(comp_result_df, how = \"left\", left_on = \"component_id_1\",\\\n",
    "    right_on = \"component_id\")'\n",
    "    \n",
    "    #loop to generate command string that will execute all the joins\n",
    "    for i in range(2, n + 1):\n",
    "        #comp_hfl_result_df = df.merge(components_df, how = 'left', on = 'component_id')\n",
    "        str_to_add = 'component_id_' + str(i)\n",
    "        command += '.merge(comp_result_df, how = \"left\", left_on = \"' + str_to_add + '\", right_on = \"component_id\")'\n",
    "    return command\n",
    "\n",
    "\n",
    "def join_df1_to_df2(df1, df2, n, result_df, join_type, key):\n",
    "    #this joins df1 to df2 on the key using the join type specified\n",
    "    #all inputs are strings except for n\n",
    "    #the left key will be inferred based on n (the number of times the join occurs by using the column's naming convention)\n",
    "    \n",
    "    left_str = key + '_1'\n",
    "    \n",
    "    #initialize command string\n",
    "    command = result_df + ' = ' + df1 + '.merge(' + df2 + ', how = \"' + join_type + '\", left_on = \"' + left_str + \\\n",
    "    '\", right_on = \"' + key + '\")'\n",
    "    \n",
    "    #loop to generate command string that will execute all the joins\n",
    "    for i in range(2, n + 1):\n",
    "        #comp_hfl_result_df = df.merge(components_df, how = 'left', on = 'component_id')\n",
    "        str_to_add = key + '_' + str(i)\n",
    "        command += '.merge(' + df2 + ', how = \"' + join_type + '\", left_on = \"' + str_to_add + '\", right_on = \"' + \\\n",
    "        key + '\")'\n",
    "    return command\n",
    "\n",
    "\n",
    "def writeColumnsToFile(df, filename):\n",
    "    #takes in a dataframe (df) and writes its columns to a csv file for viewing\n",
    "    #filename is a string\n",
    "    import csv\n",
    "    \n",
    "    filename = filename  + '.csv'\n",
    "    f = open(filename, 'w')\n",
    "    for col in df.columns:\n",
    "        f.write(col + '\\n')\n",
    "    f.close()\n",
    "    \n",
    "    \n",
    "def find_comp_df_name(df_str):\n",
    "    '''returns the name of a comp_df in between the '_' in the df_str; the characters in between are used\n",
    "    to give a unique column name to each comp_df so that comp_result_df has unique column names after the joins'''\n",
    "    i = 0; indices = []\n",
    "    while i < len(df_str):\n",
    "        i = df_str.find('_', i)\n",
    "        if i != -1:\n",
    "            indices.append(i)\n",
    "        else:\n",
    "            break\n",
    "        i += 1   #makes sure .find() method doesn't get stuck on an index that contains '_'\n",
    "    start_index = indices[0] + 1\n",
    "    end_index = indices[1]\n",
    "    return df_str[start_index:end_index]\n",
    "\n",
    "\n",
    "def return_col_names(df, str_to_add):\n",
    "    new_cols = []\n",
    "    for col in df.columns:\n",
    "        if col != 'component_id':\n",
    "            new_cols.append(col + '_' + str_to_add)\n",
    "        else:\n",
    "            new_cols.append(col)\n",
    "    return new_cols\n",
    "\n",
    "\n",
    "def remove_xy(df):\n",
    "    #returns a new list of columns that have '_x' and '_y' removed from column names\n",
    "    new_cols = []\n",
    "    for col in df.columns:\n",
    "        if col[-2:] == '_x' or col[-2:] == '_y':\n",
    "            new_cols.append(col[:-2])\n",
    "        else:\n",
    "            new_cols.append(col)\n",
    "    return new_cols\n",
    "\n",
    "\n",
    "def rename_bom_columns(df):\n",
    "    '''\n",
    "    returns a new list of columns for the bom_result_df distinguishing each column with '_1', '_2'...'_8' at\n",
    "    the end of the column name; it tells us which join resulted in those columns since there are 8 joins\n",
    "    to create bom_result_df\n",
    "    '''\n",
    "    i = 0; new_cols = []\n",
    "    for col in df.columns:\n",
    "        if col[-2:] in ['_1', '_2', '_3', '_4', '_5', '_6', '_7', '_8'] or col == 'tube_assembly_id':\n",
    "            new_cols.append(col)\n",
    "            continue\n",
    "        elif col == 'component_id':\n",
    "            i += 1\n",
    "            new_cols.append(col + '_' + str(i) + '_RIGHT')\n",
    "        else:\n",
    "            new_cols.append(col + '_' + str(i))\n",
    "    return new_cols\n",
    "\n",
    "\n",
    "def generate_random_sample_tube_assembly_ids(NUM_TO_GENERATE, df):\n",
    "    '''\n",
    "    generates random tube assembly ID's to ad-hoc QC whether\n",
    "    the final result_2 df has all the feature information\n",
    "    '''\n",
    "    distinct_num_ids = df.tube_assembly_id.drop_duplicates().to_frame().size\n",
    "    random_tube_assembly_ids = []\n",
    "    lst_all_distinct_ids = list(df.tube_assembly_id.drop_duplicates())\n",
    "    \n",
    "    for i in range(NUM_TO_GENERATE):\n",
    "        random_index = random.randint(0, distinct_num_ids - 1)\n",
    "        random_tube_assembly_ids.append(lst_all_distinct_ids[random_index])\n",
    "        \n",
    "    return random_tube_assembly_ids\n",
    "\n",
    "\n",
    "def unmask(lst, mask):\n",
    "    '''\n",
    "    lst and mask are both lists of the same size; unmask returns elements from lst\n",
    "    that had corresponding False value in mask\n",
    "    '''\n",
    "    tuple_to_return = []  #convert to tuple at the end\n",
    "    for i in range(len(lst)):\n",
    "        if mask[i] == True:\n",
    "            tuple_to_return.append(lst[i])\n",
    "    return tuple(tuple_to_return)\n",
    "\n",
    "\n",
    "def create_dist_dict(df):\n",
    "    '''distDict\n",
    "    keys will be a tuple holding features that have no NAs in result_2;\n",
    "    values will be a list; the first entry will be how many rows this feature set contains\n",
    "    and the 2nd entry is the total number of features in this sub feature set\n",
    "    '''\n",
    "    distDict = {}\n",
    "    complete_set_cols = list(df.columns) #complete set of features in result_2 data frame\n",
    "\n",
    "    for lab, row in df.iterrows():\n",
    "        mask = list(row.notnull())\n",
    "        tuple_to_add = unmask(complete_set_cols, mask) #stores the actual column names\n",
    "        if tuple_to_add in distDict.keys():\n",
    "            #increments number of occurrences only and keeps 2nd entry intact\n",
    "            distDict[tuple_to_add] = [ distDict[tuple_to_add][0] + 1, distDict[tuple_to_add][1] ]\n",
    "        else:\n",
    "            #creates any entry in the distDict for new feature set\n",
    "            num_features = sum(mask)\n",
    "            distDict[tuple_to_add] = [1, num_features]\n",
    "        \n",
    "    return distDict\n",
    "\n",
    "\n",
    "def calculate_num_features(distDict):\n",
    "    #return a list containing the number of features for each row contained in distDict\n",
    "    dist_num_features = []\n",
    "    for key in distDict.keys():\n",
    "        num_features = distDict[key][1]\n",
    "        num_occurred = distDict[key][0]\n",
    "\n",
    "        for i in range(num_occurred):\n",
    "            dist_num_features.append(num_features)\n",
    "            \n",
    "    return dist_num_features\n",
    "\n",
    "\n",
    "def return_feature_sets(distDict):\n",
    "    #returns a list of all features from a distDict\n",
    "    \n",
    "    feature_sets = []\n",
    "    for key in distDict.keys():\n",
    "        #last two columns: # of times the feature set occurs and the last column is # of features\n",
    "        feature_sets.append([key, distDict[key][0], distDict[key][1]])\n",
    "        \n",
    "    feature_sets = sorted(feature_sets, key = lambda feature: feature[1], reverse = True)\n",
    "    return feature_sets\n",
    "\n",
    "\n",
    "def compute_sparsity(df):\n",
    "    #sums up the number of null entries and divides by the total number of entries (n x m entries in an n by m matrix)\n",
    "    #returns sparsity as a percentage\n",
    "    cum_sum = 0\n",
    "    for lab, row in df.iterrows():\n",
    "        cum_sum += sum(row.isnull())\n",
    "    \n",
    "    #number of rows and columns in the df\n",
    "    rows = df.shape[0]\n",
    "    cols = df.shape[1]\n",
    "    \n",
    "    return cum_sum / float(rows * cols) * 100"
   ]
  },
  {
   "cell_type": "code",
   "execution_count": 3,
   "metadata": {
    "collapsed": false
   },
   "outputs": [
    {
     "name": "stdout",
     "output_type": "stream",
     "text": [
      "type_end_form\n",
      "bill_of_materials\n",
      "type_connection\n",
      "comp_hfl\n",
      "train_set\n",
      "comp_nut\n",
      "tube\n",
      "comp_adaptor\n",
      "tube_end_form\n",
      "type_component\n",
      "comp_elbow\n",
      "comp_sleeve\n",
      "comp_other\n",
      "comp_threaded\n",
      "components\n",
      "comp_straight\n",
      "comp_boss\n",
      "comp_float\n",
      "specs\n",
      "comp_tee\n",
      "test_set\n"
     ]
    }
   ],
   "source": [
    "currentDir = os.getcwd() + '\\\\competition_data'\n",
    "data_dict = load_data(currentDir)\n",
    "display_loaded_data(data_dict)"
   ]
  },
  {
   "cell_type": "code",
   "execution_count": 4,
   "metadata": {
    "collapsed": true
   },
   "outputs": [],
   "source": [
    "#create all the variables for the dataframes in the data_dict\n",
    "for df in data_dict.keys():\n",
    "    command = str(df) + '_df' + ' = data_dict[\"' + str(df) + '\"]'\n",
    "    #print command\n",
    "    exec(command)"
   ]
  },
  {
   "cell_type": "code",
   "execution_count": 5,
   "metadata": {
    "collapsed": false
   },
   "outputs": [
    {
     "data": {
      "text/html": [
       "<div>\n",
       "<table border=\"1\" class=\"dataframe\">\n",
       "  <thead>\n",
       "    <tr style=\"text-align: right;\">\n",
       "      <th></th>\n",
       "      <th>tube_assembly_id</th>\n",
       "      <th>supplier</th>\n",
       "      <th>quote_date</th>\n",
       "      <th>annual_usage</th>\n",
       "      <th>min_order_quantity</th>\n",
       "      <th>bracket_pricing</th>\n",
       "      <th>quantity</th>\n",
       "      <th>cost</th>\n",
       "    </tr>\n",
       "  </thead>\n",
       "  <tbody>\n",
       "    <tr>\n",
       "      <th>0</th>\n",
       "      <td>TA-00002</td>\n",
       "      <td>S-0066</td>\n",
       "      <td>2013-07-07</td>\n",
       "      <td>0</td>\n",
       "      <td>0</td>\n",
       "      <td>Yes</td>\n",
       "      <td>1</td>\n",
       "      <td>21.905933</td>\n",
       "    </tr>\n",
       "    <tr>\n",
       "      <th>1</th>\n",
       "      <td>TA-00002</td>\n",
       "      <td>S-0066</td>\n",
       "      <td>2013-07-07</td>\n",
       "      <td>0</td>\n",
       "      <td>0</td>\n",
       "      <td>Yes</td>\n",
       "      <td>2</td>\n",
       "      <td>12.341214</td>\n",
       "    </tr>\n",
       "    <tr>\n",
       "      <th>2</th>\n",
       "      <td>TA-00002</td>\n",
       "      <td>S-0066</td>\n",
       "      <td>2013-07-07</td>\n",
       "      <td>0</td>\n",
       "      <td>0</td>\n",
       "      <td>Yes</td>\n",
       "      <td>5</td>\n",
       "      <td>6.601826</td>\n",
       "    </tr>\n",
       "    <tr>\n",
       "      <th>3</th>\n",
       "      <td>TA-00002</td>\n",
       "      <td>S-0066</td>\n",
       "      <td>2013-07-07</td>\n",
       "      <td>0</td>\n",
       "      <td>0</td>\n",
       "      <td>Yes</td>\n",
       "      <td>10</td>\n",
       "      <td>4.687770</td>\n",
       "    </tr>\n",
       "    <tr>\n",
       "      <th>4</th>\n",
       "      <td>TA-00002</td>\n",
       "      <td>S-0066</td>\n",
       "      <td>2013-07-07</td>\n",
       "      <td>0</td>\n",
       "      <td>0</td>\n",
       "      <td>Yes</td>\n",
       "      <td>25</td>\n",
       "      <td>3.541561</td>\n",
       "    </tr>\n",
       "  </tbody>\n",
       "</table>\n",
       "</div>"
      ],
      "text/plain": [
       "  tube_assembly_id supplier  quote_date  annual_usage  min_order_quantity  \\\n",
       "0         TA-00002   S-0066  2013-07-07             0                   0   \n",
       "1         TA-00002   S-0066  2013-07-07             0                   0   \n",
       "2         TA-00002   S-0066  2013-07-07             0                   0   \n",
       "3         TA-00002   S-0066  2013-07-07             0                   0   \n",
       "4         TA-00002   S-0066  2013-07-07             0                   0   \n",
       "\n",
       "  bracket_pricing  quantity       cost  \n",
       "0             Yes         1  21.905933  \n",
       "1             Yes         2  12.341214  \n",
       "2             Yes         5   6.601826  \n",
       "3             Yes        10   4.687770  \n",
       "4             Yes        25   3.541561  "
      ]
     },
     "execution_count": 5,
     "metadata": {},
     "output_type": "execute_result"
    }
   ],
   "source": [
    "train_set_df = train_set_df.reset_index('tube_assembly_id')\n",
    "train_set_df.head()"
   ]
  },
  {
   "cell_type": "code",
   "execution_count": 6,
   "metadata": {
    "collapsed": false
   },
   "outputs": [
    {
     "data": {
      "text/html": [
       "<div>\n",
       "<table border=\"1\" class=\"dataframe\">\n",
       "  <thead>\n",
       "    <tr style=\"text-align: right;\">\n",
       "      <th></th>\n",
       "      <th>tube_assembly_id</th>\n",
       "      <th>supplier</th>\n",
       "      <th>quote_date</th>\n",
       "      <th>annual_usage</th>\n",
       "      <th>min_order_quantity</th>\n",
       "      <th>bracket_pricing</th>\n",
       "      <th>quantity</th>\n",
       "    </tr>\n",
       "    <tr>\n",
       "      <th>id</th>\n",
       "      <th></th>\n",
       "      <th></th>\n",
       "      <th></th>\n",
       "      <th></th>\n",
       "      <th></th>\n",
       "      <th></th>\n",
       "      <th></th>\n",
       "    </tr>\n",
       "  </thead>\n",
       "  <tbody>\n",
       "    <tr>\n",
       "      <th>1</th>\n",
       "      <td>TA-00001</td>\n",
       "      <td>S-0066</td>\n",
       "      <td>2013-06-23</td>\n",
       "      <td>0</td>\n",
       "      <td>0</td>\n",
       "      <td>Yes</td>\n",
       "      <td>1</td>\n",
       "    </tr>\n",
       "    <tr>\n",
       "      <th>2</th>\n",
       "      <td>TA-00001</td>\n",
       "      <td>S-0066</td>\n",
       "      <td>2013-06-23</td>\n",
       "      <td>0</td>\n",
       "      <td>0</td>\n",
       "      <td>Yes</td>\n",
       "      <td>2</td>\n",
       "    </tr>\n",
       "    <tr>\n",
       "      <th>3</th>\n",
       "      <td>TA-00001</td>\n",
       "      <td>S-0066</td>\n",
       "      <td>2013-06-23</td>\n",
       "      <td>0</td>\n",
       "      <td>0</td>\n",
       "      <td>Yes</td>\n",
       "      <td>5</td>\n",
       "    </tr>\n",
       "    <tr>\n",
       "      <th>4</th>\n",
       "      <td>TA-00001</td>\n",
       "      <td>S-0066</td>\n",
       "      <td>2013-06-23</td>\n",
       "      <td>0</td>\n",
       "      <td>0</td>\n",
       "      <td>Yes</td>\n",
       "      <td>10</td>\n",
       "    </tr>\n",
       "    <tr>\n",
       "      <th>5</th>\n",
       "      <td>TA-00001</td>\n",
       "      <td>S-0066</td>\n",
       "      <td>2013-06-23</td>\n",
       "      <td>0</td>\n",
       "      <td>0</td>\n",
       "      <td>Yes</td>\n",
       "      <td>25</td>\n",
       "    </tr>\n",
       "  </tbody>\n",
       "</table>\n",
       "</div>"
      ],
      "text/plain": [
       "   tube_assembly_id supplier  quote_date  annual_usage  min_order_quantity  \\\n",
       "id                                                                           \n",
       "1          TA-00001   S-0066  2013-06-23             0                   0   \n",
       "2          TA-00001   S-0066  2013-06-23             0                   0   \n",
       "3          TA-00001   S-0066  2013-06-23             0                   0   \n",
       "4          TA-00001   S-0066  2013-06-23             0                   0   \n",
       "5          TA-00001   S-0066  2013-06-23             0                   0   \n",
       "\n",
       "   bracket_pricing  quantity  \n",
       "id                            \n",
       "1              Yes         1  \n",
       "2              Yes         2  \n",
       "3              Yes         5  \n",
       "4              Yes        10  \n",
       "5              Yes        25  "
      ]
     },
     "execution_count": 6,
     "metadata": {},
     "output_type": "execute_result"
    }
   ],
   "source": [
    "test_set_df.head()"
   ]
  },
  {
   "cell_type": "code",
   "execution_count": 7,
   "metadata": {
    "collapsed": false
   },
   "outputs": [
    {
     "data": {
      "text/plain": [
       "Series([], Name: supplier, dtype: object)"
      ]
     },
     "execution_count": 7,
     "metadata": {},
     "output_type": "execute_result"
    }
   ],
   "source": [
    "train = train_set_df\n",
    "train[(train.tube_assembly_id == 'TA-00001')]['supplier'].drop_duplicates()"
   ]
  },
  {
   "cell_type": "code",
   "execution_count": 8,
   "metadata": {
    "collapsed": false
   },
   "outputs": [
    {
     "data": {
      "text/plain": [
       "spec1     NaN\n",
       "spec2     NaN\n",
       "spec3     NaN\n",
       "spec4     NaN\n",
       "spec5     NaN\n",
       "spec6     NaN\n",
       "spec7     NaN\n",
       "spec8     NaN\n",
       "spec9     NaN\n",
       "spec10    NaN\n",
       "Name: TA-00001, dtype: object"
      ]
     },
     "execution_count": 8,
     "metadata": {},
     "output_type": "execute_result"
    }
   ],
   "source": [
    "specs_df.loc['TA-00001']"
   ]
  },
  {
   "cell_type": "code",
   "execution_count": 9,
   "metadata": {
    "collapsed": false
   },
   "outputs": [
    {
     "data": {
      "text/plain": [
       "component_id_1    C-1622\n",
       "quantity_1             2\n",
       "component_id_2    C-1629\n",
       "quantity_2             2\n",
       "component_id_3       NaN\n",
       "quantity_3           NaN\n",
       "component_id_4       NaN\n",
       "quantity_4           NaN\n",
       "component_id_5       NaN\n",
       "quantity_5           NaN\n",
       "component_id_6       NaN\n",
       "quantity_6           NaN\n",
       "component_id_7       NaN\n",
       "quantity_7           NaN\n",
       "component_id_8       NaN\n",
       "quantity_8           NaN\n",
       "Name: TA-00001, dtype: object"
      ]
     },
     "execution_count": 9,
     "metadata": {},
     "output_type": "execute_result"
    }
   ],
   "source": [
    "bill_of_materials_df.loc['TA-00001']"
   ]
  },
  {
   "cell_type": "code",
   "execution_count": 10,
   "metadata": {
    "collapsed": false
   },
   "outputs": [
    {
     "data": {
      "text/plain": [
       "component_type_id    CP-025\n",
       "hex_nut_size          23.81\n",
       "seat_angle              NaN\n",
       "length                   20\n",
       "thread_size            .812\n",
       "thread_pitch             16\n",
       "diameter                NaN\n",
       "blind_hole              NaN\n",
       "orientation              No\n",
       "weight                0.036\n",
       "Name: C-1622, dtype: object"
      ]
     },
     "execution_count": 10,
     "metadata": {},
     "output_type": "execute_result"
    }
   ],
   "source": [
    "comp_nut_df.loc['C-1622']"
   ]
  },
  {
   "cell_type": "code",
   "execution_count": 11,
   "metadata": {
    "collapsed": false
   },
   "outputs": [
    {
     "data": {
      "text/plain": [
       "name                 NUT-SWIVEL\n",
       "component_type_id        CP-025\n",
       "Name: C-1622, dtype: object"
      ]
     },
     "execution_count": 11,
     "metadata": {},
     "output_type": "execute_result"
    }
   ],
   "source": [
    "components_df.loc['C-1622']"
   ]
  },
  {
   "cell_type": "code",
   "execution_count": 12,
   "metadata": {
    "collapsed": false
   },
   "outputs": [
    {
     "data": {
      "text/html": [
       "<div>\n",
       "<table border=\"1\" class=\"dataframe\">\n",
       "  <thead>\n",
       "    <tr style=\"text-align: right;\">\n",
       "      <th></th>\n",
       "      <th>name</th>\n",
       "    </tr>\n",
       "    <tr>\n",
       "      <th>end_form_id</th>\n",
       "      <th></th>\n",
       "    </tr>\n",
       "  </thead>\n",
       "  <tbody>\n",
       "    <tr>\n",
       "      <th>A-001</th>\n",
       "      <td>Male (Stud)</td>\n",
       "    </tr>\n",
       "    <tr>\n",
       "      <th>A-002</th>\n",
       "      <td>Male (Swivel)</td>\n",
       "    </tr>\n",
       "    <tr>\n",
       "      <th>A-003</th>\n",
       "      <td>Braze-Weld Boss</td>\n",
       "    </tr>\n",
       "    <tr>\n",
       "      <th>A-004</th>\n",
       "      <td>Braze-Weld Socket</td>\n",
       "    </tr>\n",
       "    <tr>\n",
       "      <th>A-005</th>\n",
       "      <td>Swivel Nut</td>\n",
       "    </tr>\n",
       "  </tbody>\n",
       "</table>\n",
       "</div>"
      ],
      "text/plain": [
       "                          name\n",
       "end_form_id                   \n",
       "A-001              Male (Stud)\n",
       "A-002            Male (Swivel)\n",
       "A-003          Braze-Weld Boss\n",
       "A-004        Braze-Weld Socket\n",
       "A-005               Swivel Nut"
      ]
     },
     "execution_count": 12,
     "metadata": {},
     "output_type": "execute_result"
    }
   ],
   "source": [
    "type_end_form_df.head()"
   ]
  },
  {
   "cell_type": "code",
   "execution_count": 13,
   "metadata": {
    "collapsed": false
   },
   "outputs": [
    {
     "data": {
      "text/plain": [
       "name    ORFS Nut\n",
       "Name: CP-025, dtype: object"
      ]
     },
     "execution_count": 13,
     "metadata": {},
     "output_type": "execute_result"
    }
   ],
   "source": [
    "type_component_df.loc['CP-025']"
   ]
  },
  {
   "cell_type": "code",
   "execution_count": 14,
   "metadata": {
    "collapsed": false
   },
   "outputs": [
    {
     "data": {
      "text/html": [
       "<div>\n",
       "<table border=\"1\" class=\"dataframe\">\n",
       "  <thead>\n",
       "    <tr style=\"text-align: right;\">\n",
       "      <th></th>\n",
       "      <th>name</th>\n",
       "    </tr>\n",
       "    <tr>\n",
       "      <th>component_type_id</th>\n",
       "      <th></th>\n",
       "    </tr>\n",
       "  </thead>\n",
       "  <tbody>\n",
       "    <tr>\n",
       "      <th>CP-001</th>\n",
       "      <td>4-bolt Tig Straight</td>\n",
       "    </tr>\n",
       "    <tr>\n",
       "      <th>CP-002</th>\n",
       "      <td>4-bolt MJ Straight</td>\n",
       "    </tr>\n",
       "    <tr>\n",
       "      <th>CP-003</th>\n",
       "      <td>4-bolt Braze/Weld Straight</td>\n",
       "    </tr>\n",
       "    <tr>\n",
       "      <th>CP-004</th>\n",
       "      <td>2-bolt Braze/Weld Straight</td>\n",
       "    </tr>\n",
       "    <tr>\n",
       "      <th>CP-005</th>\n",
       "      <td>2-bolt MJ Straight</td>\n",
       "    </tr>\n",
       "  </tbody>\n",
       "</table>\n",
       "</div>"
      ],
      "text/plain": [
       "                                         name\n",
       "component_type_id                            \n",
       "CP-001                    4-bolt Tig Straight\n",
       "CP-002                     4-bolt MJ Straight\n",
       "CP-003             4-bolt Braze/Weld Straight\n",
       "CP-004             2-bolt Braze/Weld Straight\n",
       "CP-005                     2-bolt MJ Straight"
      ]
     },
     "execution_count": 14,
     "metadata": {},
     "output_type": "execute_result"
    }
   ],
   "source": [
    "type_component_df.head()"
   ]
  },
  {
   "cell_type": "code",
   "execution_count": 15,
   "metadata": {
    "collapsed": false
   },
   "outputs": [
    {
     "data": {
      "text/plain": [
       "name                 SLEEVE-ORFS\n",
       "component_type_id         CP-024\n",
       "Name: C-1629, dtype: object"
      ]
     },
     "execution_count": 15,
     "metadata": {},
     "output_type": "execute_result"
    }
   ],
   "source": [
    "components_df.loc['C-1629']"
   ]
  },
  {
   "cell_type": "code",
   "execution_count": 16,
   "metadata": {
    "collapsed": false
   },
   "outputs": [
    {
     "data": {
      "text/plain": [
       "component_type_id      CP-024\n",
       "connection_type_id      B-002\n",
       "length                   9999\n",
       "intended_nut_thread     0.812\n",
       "intended_nut_pitch         16\n",
       "unique_feature            Yes\n",
       "plating                    No\n",
       "orientation                No\n",
       "weight                  0.012\n",
       "Name: C-1629, dtype: object"
      ]
     },
     "execution_count": 16,
     "metadata": {},
     "output_type": "execute_result"
    }
   ],
   "source": [
    "comp_sleeve_df.loc['C-1629']"
   ]
  },
  {
   "cell_type": "code",
   "execution_count": 17,
   "metadata": {
    "collapsed": false
   },
   "outputs": [],
   "source": [
    "#type_connection_df.loc['C-1629']\n",
    "#Does not exist"
   ]
  },
  {
   "cell_type": "code",
   "execution_count": 18,
   "metadata": {
    "collapsed": true
   },
   "outputs": [],
   "source": [
    "# comp_boss_df.head()"
   ]
  },
  {
   "cell_type": "markdown",
   "metadata": {
    "collapsed": true
   },
   "source": [
    "# Data Wrangling to create data set"
   ]
  },
  {
   "cell_type": "markdown",
   "metadata": {},
   "source": [
    "#### Adding components information into one data frame"
   ]
  },
  {
   "cell_type": "code",
   "execution_count": 19,
   "metadata": {
    "collapsed": false
   },
   "outputs": [
    {
     "data": {
      "text/plain": [
       "['comp_hfl_df',\n",
       " 'comp_nut_df',\n",
       " 'comp_adaptor_df',\n",
       " 'comp_elbow_df',\n",
       " 'comp_sleeve_df',\n",
       " 'comp_other_df',\n",
       " 'comp_threaded_df',\n",
       " 'components_df',\n",
       " 'comp_straight_df',\n",
       " 'comp_boss_df',\n",
       " 'comp_float_df',\n",
       " 'comp_tee_df']"
      ]
     },
     "execution_count": 19,
     "metadata": {},
     "output_type": "execute_result"
    }
   ],
   "source": [
    "comp_df_lst = create_comp_df_lst(data_dict)\n",
    "comp_df_lst"
   ]
  },
  {
   "cell_type": "markdown",
   "metadata": {},
   "source": [
    "resetting indices from **component_id**"
   ]
  },
  {
   "cell_type": "code",
   "execution_count": 20,
   "metadata": {
    "collapsed": false
   },
   "outputs": [],
   "source": [
    "for df in comp_df_lst:\n",
    "    command = df + ' = reset_index(' + df + ', \"component_id\")'\n",
    "    exec(command)"
   ]
  },
  {
   "cell_type": "markdown",
   "metadata": {},
   "source": [
    "resetting index for **type_component_df**"
   ]
  },
  {
   "cell_type": "code",
   "execution_count": 21,
   "metadata": {
    "collapsed": false
   },
   "outputs": [
    {
     "data": {
      "text/html": [
       "<div>\n",
       "<table border=\"1\" class=\"dataframe\">\n",
       "  <thead>\n",
       "    <tr style=\"text-align: right;\">\n",
       "      <th></th>\n",
       "      <th>component_type_id</th>\n",
       "      <th>name</th>\n",
       "    </tr>\n",
       "  </thead>\n",
       "  <tbody>\n",
       "    <tr>\n",
       "      <th>0</th>\n",
       "      <td>CP-001</td>\n",
       "      <td>4-bolt Tig Straight</td>\n",
       "    </tr>\n",
       "    <tr>\n",
       "      <th>1</th>\n",
       "      <td>CP-002</td>\n",
       "      <td>4-bolt MJ Straight</td>\n",
       "    </tr>\n",
       "    <tr>\n",
       "      <th>2</th>\n",
       "      <td>CP-003</td>\n",
       "      <td>4-bolt Braze/Weld Straight</td>\n",
       "    </tr>\n",
       "    <tr>\n",
       "      <th>3</th>\n",
       "      <td>CP-004</td>\n",
       "      <td>2-bolt Braze/Weld Straight</td>\n",
       "    </tr>\n",
       "    <tr>\n",
       "      <th>4</th>\n",
       "      <td>CP-005</td>\n",
       "      <td>2-bolt MJ Straight</td>\n",
       "    </tr>\n",
       "  </tbody>\n",
       "</table>\n",
       "</div>"
      ],
      "text/plain": [
       "  component_type_id                        name\n",
       "0            CP-001         4-bolt Tig Straight\n",
       "1            CP-002          4-bolt MJ Straight\n",
       "2            CP-003  4-bolt Braze/Weld Straight\n",
       "3            CP-004  2-bolt Braze/Weld Straight\n",
       "4            CP-005          2-bolt MJ Straight"
      ]
     },
     "execution_count": 21,
     "metadata": {},
     "output_type": "execute_result"
    }
   ],
   "source": [
    "type_component_df = type_component_df.reset_index()\n",
    "type_component_df.head()"
   ]
  },
  {
   "cell_type": "markdown",
   "metadata": {},
   "source": [
    " "
   ]
  },
  {
   "cell_type": "code",
   "execution_count": 22,
   "metadata": {
    "collapsed": false
   },
   "outputs": [],
   "source": [
    "#write all the column names for each dataframe\n",
    "for df in data_dict.keys():\n",
    "    command = 'writeColumnsToFile(' + df + '_df, \"' + df + '_columns\")'\n",
    "    exec(command)"
   ]
  },
  {
   "cell_type": "markdown",
   "metadata": {},
   "source": [
    "**Join** *type_component_df* to give a *component_type* column to all comp dataframes that have *component_type_id* as a column."
   ]
  },
  {
   "cell_type": "code",
   "execution_count": 23,
   "metadata": {
    "collapsed": false
   },
   "outputs": [],
   "source": [
    "for df in comp_df_lst:\n",
    "    if df != 'comp_other_df' and df != 'components_df': #since comp_other_df doesn't have component_type_id column\n",
    "        command1 = df + ' = ' + df + '.merge(type_component_df, how = \"left\", on = \"component_type_id\")'\n",
    "        command2 = df + ' = ' + df + '.drop(\"component_type_id\", 1)'\n",
    "        command3 = df + ' = ' + df + '.rename(index = str, columns = {\"name\":\"component_type\"})'\n",
    "        command4 = 'writeColumnsToFile(' + df + ', \"' + df + '_1\")'\n",
    "        exec(command1)\n",
    "        exec(command2)\n",
    "        exec(command3)\n",
    "        exec(command4)"
   ]
  },
  {
   "cell_type": "code",
   "execution_count": 24,
   "metadata": {
    "collapsed": false
   },
   "outputs": [
    {
     "name": "stdout",
     "output_type": "stream",
     "text": [
      "['comp_hfl_df', 'comp_nut_df', 'comp_adaptor_df', 'comp_elbow_df', 'comp_sleeve_df', 'comp_other_df', 'comp_threaded_df', 'components_df', 'comp_straight_df', 'comp_boss_df', 'comp_float_df', 'comp_tee_df']\n"
     ]
    }
   ],
   "source": [
    "print comp_df_lst"
   ]
  },
  {
   "cell_type": "code",
   "execution_count": 25,
   "metadata": {
    "collapsed": false
   },
   "outputs": [
    {
     "data": {
      "text/html": [
       "<div>\n",
       "<table border=\"1\" class=\"dataframe\">\n",
       "  <thead>\n",
       "    <tr style=\"text-align: right;\">\n",
       "      <th></th>\n",
       "      <th>component_id</th>\n",
       "      <th>connection_type_id</th>\n",
       "      <th>length</th>\n",
       "      <th>intended_nut_thread</th>\n",
       "      <th>intended_nut_pitch</th>\n",
       "      <th>unique_feature</th>\n",
       "      <th>plating</th>\n",
       "      <th>orientation</th>\n",
       "      <th>weight</th>\n",
       "      <th>component_type</th>\n",
       "    </tr>\n",
       "  </thead>\n",
       "  <tbody>\n",
       "    <tr>\n",
       "      <th>0</th>\n",
       "      <td>C-0001</td>\n",
       "      <td>B-001</td>\n",
       "      <td>17.3</td>\n",
       "      <td>1.062</td>\n",
       "      <td>12</td>\n",
       "      <td>No</td>\n",
       "      <td>No</td>\n",
       "      <td>No</td>\n",
       "      <td>0.013</td>\n",
       "      <td>Sleeves</td>\n",
       "    </tr>\n",
       "    <tr>\n",
       "      <th>1</th>\n",
       "      <td>C-0002</td>\n",
       "      <td>B-001</td>\n",
       "      <td>11.2</td>\n",
       "      <td>0.500</td>\n",
       "      <td>20</td>\n",
       "      <td>No</td>\n",
       "      <td>No</td>\n",
       "      <td>No</td>\n",
       "      <td>0.005</td>\n",
       "      <td>Sleeves</td>\n",
       "    </tr>\n",
       "    <tr>\n",
       "      <th>2</th>\n",
       "      <td>C-0003</td>\n",
       "      <td>B-001</td>\n",
       "      <td>19.3</td>\n",
       "      <td>1.187</td>\n",
       "      <td>12</td>\n",
       "      <td>No</td>\n",
       "      <td>No</td>\n",
       "      <td>No</td>\n",
       "      <td>0.014</td>\n",
       "      <td>Sleeves</td>\n",
       "    </tr>\n",
       "    <tr>\n",
       "      <th>3</th>\n",
       "      <td>C-0048</td>\n",
       "      <td>B-002</td>\n",
       "      <td>9.5</td>\n",
       "      <td>0.562</td>\n",
       "      <td>18</td>\n",
       "      <td>No</td>\n",
       "      <td>No</td>\n",
       "      <td>No</td>\n",
       "      <td>0.006</td>\n",
       "      <td>Sleeves</td>\n",
       "    </tr>\n",
       "    <tr>\n",
       "      <th>4</th>\n",
       "      <td>C-0049</td>\n",
       "      <td>B-002</td>\n",
       "      <td>9.5</td>\n",
       "      <td>0.812</td>\n",
       "      <td>16</td>\n",
       "      <td>No</td>\n",
       "      <td>No</td>\n",
       "      <td>No</td>\n",
       "      <td>0.012</td>\n",
       "      <td>Sleeves</td>\n",
       "    </tr>\n",
       "  </tbody>\n",
       "</table>\n",
       "</div>"
      ],
      "text/plain": [
       "  component_id connection_type_id  length  intended_nut_thread  \\\n",
       "0       C-0001              B-001    17.3                1.062   \n",
       "1       C-0002              B-001    11.2                0.500   \n",
       "2       C-0003              B-001    19.3                1.187   \n",
       "3       C-0048              B-002     9.5                0.562   \n",
       "4       C-0049              B-002     9.5                0.812   \n",
       "\n",
       "   intended_nut_pitch unique_feature plating orientation  weight  \\\n",
       "0                  12             No      No          No   0.013   \n",
       "1                  20             No      No          No   0.005   \n",
       "2                  12             No      No          No   0.014   \n",
       "3                  18             No      No          No   0.006   \n",
       "4                  16             No      No          No   0.012   \n",
       "\n",
       "  component_type  \n",
       "0        Sleeves  \n",
       "1        Sleeves  \n",
       "2        Sleeves  \n",
       "3        Sleeves  \n",
       "4        Sleeves  "
      ]
     },
     "execution_count": 25,
     "metadata": {},
     "output_type": "execute_result"
    }
   ],
   "source": [
    "comp_sleeve_df.head()"
   ]
  },
  {
   "cell_type": "code",
   "execution_count": 26,
   "metadata": {
    "collapsed": false
   },
   "outputs": [
    {
     "data": {
      "text/html": [
       "<div>\n",
       "<table border=\"1\" class=\"dataframe\">\n",
       "  <thead>\n",
       "    <tr style=\"text-align: right;\">\n",
       "      <th></th>\n",
       "      <th>component_type_id</th>\n",
       "      <th>name</th>\n",
       "    </tr>\n",
       "  </thead>\n",
       "  <tbody>\n",
       "    <tr>\n",
       "      <th>0</th>\n",
       "      <td>CP-001</td>\n",
       "      <td>4-bolt Tig Straight</td>\n",
       "    </tr>\n",
       "    <tr>\n",
       "      <th>1</th>\n",
       "      <td>CP-002</td>\n",
       "      <td>4-bolt MJ Straight</td>\n",
       "    </tr>\n",
       "    <tr>\n",
       "      <th>2</th>\n",
       "      <td>CP-003</td>\n",
       "      <td>4-bolt Braze/Weld Straight</td>\n",
       "    </tr>\n",
       "    <tr>\n",
       "      <th>3</th>\n",
       "      <td>CP-004</td>\n",
       "      <td>2-bolt Braze/Weld Straight</td>\n",
       "    </tr>\n",
       "    <tr>\n",
       "      <th>4</th>\n",
       "      <td>CP-005</td>\n",
       "      <td>2-bolt MJ Straight</td>\n",
       "    </tr>\n",
       "  </tbody>\n",
       "</table>\n",
       "</div>"
      ],
      "text/plain": [
       "  component_type_id                        name\n",
       "0            CP-001         4-bolt Tig Straight\n",
       "1            CP-002          4-bolt MJ Straight\n",
       "2            CP-003  4-bolt Braze/Weld Straight\n",
       "3            CP-004  2-bolt Braze/Weld Straight\n",
       "4            CP-005          2-bolt MJ Straight"
      ]
     },
     "execution_count": 26,
     "metadata": {},
     "output_type": "execute_result"
    }
   ],
   "source": [
    "type_component_df.head()"
   ]
  },
  {
   "cell_type": "markdown",
   "metadata": {},
   "source": [
    " "
   ]
  },
  {
   "cell_type": "code",
   "execution_count": 27,
   "metadata": {
    "collapsed": false
   },
   "outputs": [
    {
     "data": {
      "text/html": [
       "<div>\n",
       "<table border=\"1\" class=\"dataframe\">\n",
       "  <thead>\n",
       "    <tr style=\"text-align: right;\">\n",
       "      <th></th>\n",
       "      <th>component_id</th>\n",
       "      <th>name</th>\n",
       "      <th>component_type_id</th>\n",
       "    </tr>\n",
       "  </thead>\n",
       "  <tbody>\n",
       "    <tr>\n",
       "      <th>2043</th>\n",
       "      <td>C-2043</td>\n",
       "      <td>FLANGE</td>\n",
       "      <td>CP-004</td>\n",
       "    </tr>\n",
       "    <tr>\n",
       "      <th>2044</th>\n",
       "      <td>C-2044</td>\n",
       "      <td>ADAPTER-INLET</td>\n",
       "      <td>CP-006</td>\n",
       "    </tr>\n",
       "    <tr>\n",
       "      <th>2045</th>\n",
       "      <td>C-2045</td>\n",
       "      <td>ADAPTER-INLET</td>\n",
       "      <td>OTHER</td>\n",
       "    </tr>\n",
       "    <tr>\n",
       "      <th>2046</th>\n",
       "      <td>C-2046</td>\n",
       "      <td>SLEEVE</td>\n",
       "      <td>OTHER</td>\n",
       "    </tr>\n",
       "    <tr>\n",
       "      <th>2047</th>\n",
       "      <td>C-2047</td>\n",
       "      <td>FLANGE</td>\n",
       "      <td>OTHER</td>\n",
       "    </tr>\n",
       "  </tbody>\n",
       "</table>\n",
       "</div>"
      ],
      "text/plain": [
       "     component_id           name component_type_id\n",
       "2043       C-2043         FLANGE            CP-004\n",
       "2044       C-2044  ADAPTER-INLET            CP-006\n",
       "2045       C-2045  ADAPTER-INLET             OTHER\n",
       "2046       C-2046         SLEEVE             OTHER\n",
       "2047       C-2047         FLANGE             OTHER"
      ]
     },
     "execution_count": 27,
     "metadata": {},
     "output_type": "execute_result"
    }
   ],
   "source": [
    "components_df.tail()"
   ]
  },
  {
   "cell_type": "code",
   "execution_count": 28,
   "metadata": {
    "collapsed": false
   },
   "outputs": [
    {
     "data": {
      "text/html": [
       "<div>\n",
       "<table border=\"1\" class=\"dataframe\">\n",
       "  <thead>\n",
       "    <tr style=\"text-align: right;\">\n",
       "      <th></th>\n",
       "      <th>component_id</th>\n",
       "      <th>hose_diameter</th>\n",
       "      <th>corresponding_shell</th>\n",
       "      <th>coupling_class</th>\n",
       "      <th>material</th>\n",
       "      <th>plating</th>\n",
       "      <th>orientation</th>\n",
       "      <th>weight</th>\n",
       "      <th>component_type</th>\n",
       "    </tr>\n",
       "  </thead>\n",
       "  <tbody>\n",
       "    <tr>\n",
       "      <th>0</th>\n",
       "      <td>C-0872</td>\n",
       "      <td>4.8</td>\n",
       "      <td>C-0855</td>\n",
       "      <td>SP-0098</td>\n",
       "      <td>SP-0016</td>\n",
       "      <td>Yes</td>\n",
       "      <td>No</td>\n",
       "      <td>0.010</td>\n",
       "      <td>Stems and Shells</td>\n",
       "    </tr>\n",
       "    <tr>\n",
       "      <th>1</th>\n",
       "      <td>C-0873</td>\n",
       "      <td>4.8</td>\n",
       "      <td>C-0856</td>\n",
       "      <td>SP-0098</td>\n",
       "      <td>SP-0016</td>\n",
       "      <td>Yes</td>\n",
       "      <td>No</td>\n",
       "      <td>0.010</td>\n",
       "      <td>Stems and Shells</td>\n",
       "    </tr>\n",
       "    <tr>\n",
       "      <th>2</th>\n",
       "      <td>C-0874</td>\n",
       "      <td>4.8</td>\n",
       "      <td>C-0857</td>\n",
       "      <td>SP-0098</td>\n",
       "      <td>SP-0038</td>\n",
       "      <td>Yes</td>\n",
       "      <td>No</td>\n",
       "      <td>0.001</td>\n",
       "      <td>Stems and Shells</td>\n",
       "    </tr>\n",
       "    <tr>\n",
       "      <th>3</th>\n",
       "      <td>C-1039</td>\n",
       "      <td>15.9</td>\n",
       "      <td>C-1040</td>\n",
       "      <td>SP-0097</td>\n",
       "      <td>SP-0095</td>\n",
       "      <td>No</td>\n",
       "      <td>No</td>\n",
       "      <td>0.052</td>\n",
       "      <td>Stems and Shells</td>\n",
       "    </tr>\n",
       "    <tr>\n",
       "      <th>4</th>\n",
       "      <td>C-1041</td>\n",
       "      <td>15.9</td>\n",
       "      <td>C-1042</td>\n",
       "      <td>SP-0099</td>\n",
       "      <td>SP-0095</td>\n",
       "      <td>No</td>\n",
       "      <td>No</td>\n",
       "      <td>0.065</td>\n",
       "      <td>Stems and Shells</td>\n",
       "    </tr>\n",
       "  </tbody>\n",
       "</table>\n",
       "</div>"
      ],
      "text/plain": [
       "  component_id  hose_diameter corresponding_shell coupling_class material  \\\n",
       "0       C-0872            4.8              C-0855        SP-0098  SP-0016   \n",
       "1       C-0873            4.8              C-0856        SP-0098  SP-0016   \n",
       "2       C-0874            4.8              C-0857        SP-0098  SP-0038   \n",
       "3       C-1039           15.9              C-1040        SP-0097  SP-0095   \n",
       "4       C-1041           15.9              C-1042        SP-0099  SP-0095   \n",
       "\n",
       "  plating orientation  weight    component_type  \n",
       "0     Yes          No   0.010  Stems and Shells  \n",
       "1     Yes          No   0.010  Stems and Shells  \n",
       "2     Yes          No   0.001  Stems and Shells  \n",
       "3      No          No   0.052  Stems and Shells  \n",
       "4      No          No   0.065  Stems and Shells  "
      ]
     },
     "execution_count": 28,
     "metadata": {},
     "output_type": "execute_result"
    }
   ],
   "source": [
    "comp_hfl_df.head()"
   ]
  },
  {
   "cell_type": "code",
   "execution_count": 29,
   "metadata": {
    "collapsed": false
   },
   "outputs": [
    {
     "data": {
      "text/html": [
       "<div>\n",
       "<table border=\"1\" class=\"dataframe\">\n",
       "  <thead>\n",
       "    <tr style=\"text-align: right;\">\n",
       "      <th></th>\n",
       "      <th>name</th>\n",
       "    </tr>\n",
       "    <tr>\n",
       "      <th>end_form_id</th>\n",
       "      <th></th>\n",
       "    </tr>\n",
       "  </thead>\n",
       "  <tbody>\n",
       "    <tr>\n",
       "      <th>A-001</th>\n",
       "      <td>Male (Stud)</td>\n",
       "    </tr>\n",
       "    <tr>\n",
       "      <th>A-002</th>\n",
       "      <td>Male (Swivel)</td>\n",
       "    </tr>\n",
       "    <tr>\n",
       "      <th>A-003</th>\n",
       "      <td>Braze-Weld Boss</td>\n",
       "    </tr>\n",
       "    <tr>\n",
       "      <th>A-004</th>\n",
       "      <td>Braze-Weld Socket</td>\n",
       "    </tr>\n",
       "    <tr>\n",
       "      <th>A-005</th>\n",
       "      <td>Swivel Nut</td>\n",
       "    </tr>\n",
       "  </tbody>\n",
       "</table>\n",
       "</div>"
      ],
      "text/plain": [
       "                          name\n",
       "end_form_id                   \n",
       "A-001              Male (Stud)\n",
       "A-002            Male (Swivel)\n",
       "A-003          Braze-Weld Boss\n",
       "A-004        Braze-Weld Socket\n",
       "A-005               Swivel Nut"
      ]
     },
     "execution_count": 29,
     "metadata": {},
     "output_type": "execute_result"
    }
   ],
   "source": [
    "type_end_form_df.head()"
   ]
  },
  {
   "cell_type": "code",
   "execution_count": 30,
   "metadata": {
    "collapsed": false
   },
   "outputs": [
    {
     "data": {
      "text/html": [
       "<div>\n",
       "<table border=\"1\" class=\"dataframe\">\n",
       "  <thead>\n",
       "    <tr style=\"text-align: right;\">\n",
       "      <th></th>\n",
       "      <th>forming</th>\n",
       "    </tr>\n",
       "    <tr>\n",
       "      <th>end_form_id</th>\n",
       "      <th></th>\n",
       "    </tr>\n",
       "  </thead>\n",
       "  <tbody>\n",
       "    <tr>\n",
       "      <th>EF-001</th>\n",
       "      <td>Yes</td>\n",
       "    </tr>\n",
       "    <tr>\n",
       "      <th>EF-002</th>\n",
       "      <td>No</td>\n",
       "    </tr>\n",
       "    <tr>\n",
       "      <th>EF-003</th>\n",
       "      <td>No</td>\n",
       "    </tr>\n",
       "    <tr>\n",
       "      <th>EF-004</th>\n",
       "      <td>No</td>\n",
       "    </tr>\n",
       "    <tr>\n",
       "      <th>EF-005</th>\n",
       "      <td>Yes</td>\n",
       "    </tr>\n",
       "  </tbody>\n",
       "</table>\n",
       "</div>"
      ],
      "text/plain": [
       "            forming\n",
       "end_form_id        \n",
       "EF-001          Yes\n",
       "EF-002           No\n",
       "EF-003           No\n",
       "EF-004           No\n",
       "EF-005          Yes"
      ]
     },
     "execution_count": 30,
     "metadata": {},
     "output_type": "execute_result"
    }
   ],
   "source": [
    "tube_end_form_df.head()"
   ]
  },
  {
   "cell_type": "code",
   "execution_count": 31,
   "metadata": {
    "collapsed": false
   },
   "outputs": [
    {
     "data": {
      "text/html": [
       "<div>\n",
       "<table border=\"1\" class=\"dataframe\">\n",
       "  <thead>\n",
       "    <tr style=\"text-align: right;\">\n",
       "      <th></th>\n",
       "      <th>material_id</th>\n",
       "      <th>diameter</th>\n",
       "      <th>wall</th>\n",
       "      <th>length</th>\n",
       "      <th>num_bends</th>\n",
       "      <th>bend_radius</th>\n",
       "      <th>end_a_1x</th>\n",
       "      <th>end_a_2x</th>\n",
       "      <th>end_x_1x</th>\n",
       "      <th>end_x_2x</th>\n",
       "      <th>end_a</th>\n",
       "      <th>end_x</th>\n",
       "      <th>num_boss</th>\n",
       "      <th>num_bracket</th>\n",
       "      <th>other</th>\n",
       "    </tr>\n",
       "    <tr>\n",
       "      <th>tube_assembly_id</th>\n",
       "      <th></th>\n",
       "      <th></th>\n",
       "      <th></th>\n",
       "      <th></th>\n",
       "      <th></th>\n",
       "      <th></th>\n",
       "      <th></th>\n",
       "      <th></th>\n",
       "      <th></th>\n",
       "      <th></th>\n",
       "      <th></th>\n",
       "      <th></th>\n",
       "      <th></th>\n",
       "      <th></th>\n",
       "      <th></th>\n",
       "    </tr>\n",
       "  </thead>\n",
       "  <tbody>\n",
       "    <tr>\n",
       "      <th>TA-00001</th>\n",
       "      <td>SP-0035</td>\n",
       "      <td>12.70</td>\n",
       "      <td>1.65</td>\n",
       "      <td>164</td>\n",
       "      <td>5</td>\n",
       "      <td>38.10</td>\n",
       "      <td>N</td>\n",
       "      <td>N</td>\n",
       "      <td>N</td>\n",
       "      <td>N</td>\n",
       "      <td>EF-003</td>\n",
       "      <td>EF-003</td>\n",
       "      <td>0</td>\n",
       "      <td>0</td>\n",
       "      <td>0</td>\n",
       "    </tr>\n",
       "    <tr>\n",
       "      <th>TA-00002</th>\n",
       "      <td>SP-0019</td>\n",
       "      <td>6.35</td>\n",
       "      <td>0.71</td>\n",
       "      <td>137</td>\n",
       "      <td>8</td>\n",
       "      <td>19.05</td>\n",
       "      <td>N</td>\n",
       "      <td>N</td>\n",
       "      <td>N</td>\n",
       "      <td>N</td>\n",
       "      <td>EF-008</td>\n",
       "      <td>EF-008</td>\n",
       "      <td>0</td>\n",
       "      <td>0</td>\n",
       "      <td>0</td>\n",
       "    </tr>\n",
       "    <tr>\n",
       "      <th>TA-00003</th>\n",
       "      <td>SP-0019</td>\n",
       "      <td>6.35</td>\n",
       "      <td>0.71</td>\n",
       "      <td>127</td>\n",
       "      <td>7</td>\n",
       "      <td>19.05</td>\n",
       "      <td>N</td>\n",
       "      <td>N</td>\n",
       "      <td>N</td>\n",
       "      <td>N</td>\n",
       "      <td>EF-008</td>\n",
       "      <td>EF-008</td>\n",
       "      <td>0</td>\n",
       "      <td>0</td>\n",
       "      <td>0</td>\n",
       "    </tr>\n",
       "    <tr>\n",
       "      <th>TA-00004</th>\n",
       "      <td>SP-0019</td>\n",
       "      <td>6.35</td>\n",
       "      <td>0.71</td>\n",
       "      <td>137</td>\n",
       "      <td>9</td>\n",
       "      <td>19.05</td>\n",
       "      <td>N</td>\n",
       "      <td>N</td>\n",
       "      <td>N</td>\n",
       "      <td>N</td>\n",
       "      <td>EF-008</td>\n",
       "      <td>EF-008</td>\n",
       "      <td>0</td>\n",
       "      <td>0</td>\n",
       "      <td>0</td>\n",
       "    </tr>\n",
       "    <tr>\n",
       "      <th>TA-00005</th>\n",
       "      <td>SP-0029</td>\n",
       "      <td>19.05</td>\n",
       "      <td>1.24</td>\n",
       "      <td>109</td>\n",
       "      <td>4</td>\n",
       "      <td>50.80</td>\n",
       "      <td>N</td>\n",
       "      <td>N</td>\n",
       "      <td>N</td>\n",
       "      <td>N</td>\n",
       "      <td>EF-003</td>\n",
       "      <td>EF-003</td>\n",
       "      <td>0</td>\n",
       "      <td>0</td>\n",
       "      <td>0</td>\n",
       "    </tr>\n",
       "  </tbody>\n",
       "</table>\n",
       "</div>"
      ],
      "text/plain": [
       "                 material_id  diameter  wall  length  num_bends  bend_radius  \\\n",
       "tube_assembly_id                                                               \n",
       "TA-00001             SP-0035     12.70  1.65     164          5        38.10   \n",
       "TA-00002             SP-0019      6.35  0.71     137          8        19.05   \n",
       "TA-00003             SP-0019      6.35  0.71     127          7        19.05   \n",
       "TA-00004             SP-0019      6.35  0.71     137          9        19.05   \n",
       "TA-00005             SP-0029     19.05  1.24     109          4        50.80   \n",
       "\n",
       "                 end_a_1x end_a_2x end_x_1x end_x_2x   end_a   end_x  \\\n",
       "tube_assembly_id                                                       \n",
       "TA-00001                N        N        N        N  EF-003  EF-003   \n",
       "TA-00002                N        N        N        N  EF-008  EF-008   \n",
       "TA-00003                N        N        N        N  EF-008  EF-008   \n",
       "TA-00004                N        N        N        N  EF-008  EF-008   \n",
       "TA-00005                N        N        N        N  EF-003  EF-003   \n",
       "\n",
       "                  num_boss  num_bracket  other  \n",
       "tube_assembly_id                                \n",
       "TA-00001                 0            0      0  \n",
       "TA-00002                 0            0      0  \n",
       "TA-00003                 0            0      0  \n",
       "TA-00004                 0            0      0  \n",
       "TA-00005                 0            0      0  "
      ]
     },
     "execution_count": 31,
     "metadata": {},
     "output_type": "execute_result"
    }
   ],
   "source": [
    "tube_df.head()"
   ]
  },
  {
   "cell_type": "markdown",
   "metadata": {},
   "source": [
    " "
   ]
  },
  {
   "cell_type": "markdown",
   "metadata": {},
   "source": [
    "Does *end_a* & *end_x* ever differ in **tube_df**?"
   ]
  },
  {
   "cell_type": "code",
   "execution_count": 32,
   "metadata": {
    "collapsed": false
   },
   "outputs": [
    {
     "data": {
      "text/html": [
       "<div>\n",
       "<table border=\"1\" class=\"dataframe\">\n",
       "  <thead>\n",
       "    <tr style=\"text-align: right;\">\n",
       "      <th></th>\n",
       "      <th>material_id</th>\n",
       "      <th>diameter</th>\n",
       "      <th>wall</th>\n",
       "      <th>length</th>\n",
       "      <th>num_bends</th>\n",
       "      <th>bend_radius</th>\n",
       "      <th>end_a_1x</th>\n",
       "      <th>end_a_2x</th>\n",
       "      <th>end_x_1x</th>\n",
       "      <th>end_x_2x</th>\n",
       "      <th>end_a</th>\n",
       "      <th>end_x</th>\n",
       "      <th>num_boss</th>\n",
       "      <th>num_bracket</th>\n",
       "      <th>other</th>\n",
       "    </tr>\n",
       "    <tr>\n",
       "      <th>tube_assembly_id</th>\n",
       "      <th></th>\n",
       "      <th></th>\n",
       "      <th></th>\n",
       "      <th></th>\n",
       "      <th></th>\n",
       "      <th></th>\n",
       "      <th></th>\n",
       "      <th></th>\n",
       "      <th></th>\n",
       "      <th></th>\n",
       "      <th></th>\n",
       "      <th></th>\n",
       "      <th></th>\n",
       "      <th></th>\n",
       "      <th></th>\n",
       "    </tr>\n",
       "  </thead>\n",
       "  <tbody>\n",
       "    <tr>\n",
       "      <th>TA-00018</th>\n",
       "      <td>SP-0028</td>\n",
       "      <td>25.40</td>\n",
       "      <td>1.65</td>\n",
       "      <td>81</td>\n",
       "      <td>3</td>\n",
       "      <td>63.5</td>\n",
       "      <td>N</td>\n",
       "      <td>N</td>\n",
       "      <td>N</td>\n",
       "      <td>N</td>\n",
       "      <td>EF-003</td>\n",
       "      <td>EF-009</td>\n",
       "      <td>0</td>\n",
       "      <td>0</td>\n",
       "      <td>0</td>\n",
       "    </tr>\n",
       "    <tr>\n",
       "      <th>TA-00019</th>\n",
       "      <td>SP-0028</td>\n",
       "      <td>50.80</td>\n",
       "      <td>2.11</td>\n",
       "      <td>84</td>\n",
       "      <td>2</td>\n",
       "      <td>127.0</td>\n",
       "      <td>N</td>\n",
       "      <td>Y</td>\n",
       "      <td>N</td>\n",
       "      <td>N</td>\n",
       "      <td>EF-005</td>\n",
       "      <td>EF-017</td>\n",
       "      <td>0</td>\n",
       "      <td>0</td>\n",
       "      <td>0</td>\n",
       "    </tr>\n",
       "    <tr>\n",
       "      <th>TA-00026</th>\n",
       "      <td>SP-0028</td>\n",
       "      <td>25.40</td>\n",
       "      <td>1.65</td>\n",
       "      <td>48</td>\n",
       "      <td>2</td>\n",
       "      <td>50.8</td>\n",
       "      <td>N</td>\n",
       "      <td>N</td>\n",
       "      <td>Y</td>\n",
       "      <td>Y</td>\n",
       "      <td>EF-009</td>\n",
       "      <td>EF-003</td>\n",
       "      <td>0</td>\n",
       "      <td>0</td>\n",
       "      <td>0</td>\n",
       "    </tr>\n",
       "    <tr>\n",
       "      <th>TA-00028</th>\n",
       "      <td>SP-0028</td>\n",
       "      <td>12.70</td>\n",
       "      <td>1.65</td>\n",
       "      <td>104</td>\n",
       "      <td>3</td>\n",
       "      <td>127.0</td>\n",
       "      <td>N</td>\n",
       "      <td>N</td>\n",
       "      <td>N</td>\n",
       "      <td>N</td>\n",
       "      <td>EF-003</td>\n",
       "      <td>NONE</td>\n",
       "      <td>1</td>\n",
       "      <td>0</td>\n",
       "      <td>0</td>\n",
       "    </tr>\n",
       "    <tr>\n",
       "      <th>TA-00029</th>\n",
       "      <td>SP-0035</td>\n",
       "      <td>15.88</td>\n",
       "      <td>1.24</td>\n",
       "      <td>94</td>\n",
       "      <td>2</td>\n",
       "      <td>50.8</td>\n",
       "      <td>N</td>\n",
       "      <td>N</td>\n",
       "      <td>N</td>\n",
       "      <td>N</td>\n",
       "      <td>EF-018</td>\n",
       "      <td>EF-017</td>\n",
       "      <td>0</td>\n",
       "      <td>0</td>\n",
       "      <td>0</td>\n",
       "    </tr>\n",
       "  </tbody>\n",
       "</table>\n",
       "</div>"
      ],
      "text/plain": [
       "                 material_id  diameter  wall  length  num_bends  bend_radius  \\\n",
       "tube_assembly_id                                                               \n",
       "TA-00018             SP-0028     25.40  1.65      81          3         63.5   \n",
       "TA-00019             SP-0028     50.80  2.11      84          2        127.0   \n",
       "TA-00026             SP-0028     25.40  1.65      48          2         50.8   \n",
       "TA-00028             SP-0028     12.70  1.65     104          3        127.0   \n",
       "TA-00029             SP-0035     15.88  1.24      94          2         50.8   \n",
       "\n",
       "                 end_a_1x end_a_2x end_x_1x end_x_2x   end_a   end_x  \\\n",
       "tube_assembly_id                                                       \n",
       "TA-00018                N        N        N        N  EF-003  EF-009   \n",
       "TA-00019                N        Y        N        N  EF-005  EF-017   \n",
       "TA-00026                N        N        Y        Y  EF-009  EF-003   \n",
       "TA-00028                N        N        N        N  EF-003    NONE   \n",
       "TA-00029                N        N        N        N  EF-018  EF-017   \n",
       "\n",
       "                  num_boss  num_bracket  other  \n",
       "tube_assembly_id                                \n",
       "TA-00018                 0            0      0  \n",
       "TA-00019                 0            0      0  \n",
       "TA-00026                 0            0      0  \n",
       "TA-00028                 1            0      0  \n",
       "TA-00029                 0            0      0  "
      ]
     },
     "execution_count": 32,
     "metadata": {},
     "output_type": "execute_result"
    }
   ],
   "source": [
    "tube_df[tube_df.end_a != tube_df.end_x].head()"
   ]
  },
  {
   "cell_type": "code",
   "execution_count": 33,
   "metadata": {
    "collapsed": false
   },
   "outputs": [
    {
     "data": {
      "text/plain": [
       "3207"
      ]
     },
     "execution_count": 33,
     "metadata": {},
     "output_type": "execute_result"
    }
   ],
   "source": [
    "sum(tube_df.end_a != tube_df.end_x)"
   ]
  },
  {
   "cell_type": "code",
   "execution_count": 34,
   "metadata": {
    "collapsed": false
   },
   "outputs": [
    {
     "data": {
      "text/plain": [
       "(21198, 15)"
      ]
     },
     "execution_count": 34,
     "metadata": {},
     "output_type": "execute_result"
    }
   ],
   "source": [
    "tube_df.shape"
   ]
  },
  {
   "cell_type": "markdown",
   "metadata": {},
   "source": [
    "*end_a* and *end_x* differ in tube_df **3,207 times out of 21,198 rows**."
   ]
  },
  {
   "cell_type": "code",
   "execution_count": 35,
   "metadata": {
    "collapsed": false
   },
   "outputs": [
    {
     "data": {
      "text/html": [
       "<div>\n",
       "<table border=\"1\" class=\"dataframe\">\n",
       "  <thead>\n",
       "    <tr style=\"text-align: right;\">\n",
       "      <th></th>\n",
       "      <th>forming</th>\n",
       "    </tr>\n",
       "    <tr>\n",
       "      <th>end_form_id</th>\n",
       "      <th></th>\n",
       "    </tr>\n",
       "  </thead>\n",
       "  <tbody>\n",
       "    <tr>\n",
       "      <th>EF-001</th>\n",
       "      <td>Yes</td>\n",
       "    </tr>\n",
       "    <tr>\n",
       "      <th>EF-002</th>\n",
       "      <td>No</td>\n",
       "    </tr>\n",
       "    <tr>\n",
       "      <th>EF-003</th>\n",
       "      <td>No</td>\n",
       "    </tr>\n",
       "    <tr>\n",
       "      <th>EF-004</th>\n",
       "      <td>No</td>\n",
       "    </tr>\n",
       "    <tr>\n",
       "      <th>EF-005</th>\n",
       "      <td>Yes</td>\n",
       "    </tr>\n",
       "    <tr>\n",
       "      <th>EF-006</th>\n",
       "      <td>Yes</td>\n",
       "    </tr>\n",
       "    <tr>\n",
       "      <th>EF-007</th>\n",
       "      <td>Yes</td>\n",
       "    </tr>\n",
       "    <tr>\n",
       "      <th>EF-008</th>\n",
       "      <td>Yes</td>\n",
       "    </tr>\n",
       "    <tr>\n",
       "      <th>EF-009</th>\n",
       "      <td>Yes</td>\n",
       "    </tr>\n",
       "    <tr>\n",
       "      <th>EF-010</th>\n",
       "      <td>Yes</td>\n",
       "    </tr>\n",
       "    <tr>\n",
       "      <th>EF-011</th>\n",
       "      <td>No</td>\n",
       "    </tr>\n",
       "    <tr>\n",
       "      <th>EF-012</th>\n",
       "      <td>No</td>\n",
       "    </tr>\n",
       "    <tr>\n",
       "      <th>EF-013</th>\n",
       "      <td>Yes</td>\n",
       "    </tr>\n",
       "    <tr>\n",
       "      <th>EF-014</th>\n",
       "      <td>Yes</td>\n",
       "    </tr>\n",
       "    <tr>\n",
       "      <th>EF-015</th>\n",
       "      <td>No</td>\n",
       "    </tr>\n",
       "    <tr>\n",
       "      <th>EF-016</th>\n",
       "      <td>Yes</td>\n",
       "    </tr>\n",
       "    <tr>\n",
       "      <th>EF-017</th>\n",
       "      <td>Yes</td>\n",
       "    </tr>\n",
       "    <tr>\n",
       "      <th>EF-018</th>\n",
       "      <td>Yes</td>\n",
       "    </tr>\n",
       "    <tr>\n",
       "      <th>EF-019</th>\n",
       "      <td>Yes</td>\n",
       "    </tr>\n",
       "    <tr>\n",
       "      <th>EF-020</th>\n",
       "      <td>No</td>\n",
       "    </tr>\n",
       "    <tr>\n",
       "      <th>EF-021</th>\n",
       "      <td>No</td>\n",
       "    </tr>\n",
       "    <tr>\n",
       "      <th>EF-022</th>\n",
       "      <td>Yes</td>\n",
       "    </tr>\n",
       "    <tr>\n",
       "      <th>EF-023</th>\n",
       "      <td>No</td>\n",
       "    </tr>\n",
       "    <tr>\n",
       "      <th>EF-024</th>\n",
       "      <td>No</td>\n",
       "    </tr>\n",
       "    <tr>\n",
       "      <th>EF-025</th>\n",
       "      <td>No</td>\n",
       "    </tr>\n",
       "    <tr>\n",
       "      <th>EF-026</th>\n",
       "      <td>No</td>\n",
       "    </tr>\n",
       "    <tr>\n",
       "      <th>9999</th>\n",
       "      <td>No</td>\n",
       "    </tr>\n",
       "  </tbody>\n",
       "</table>\n",
       "</div>"
      ],
      "text/plain": [
       "            forming\n",
       "end_form_id        \n",
       "EF-001          Yes\n",
       "EF-002           No\n",
       "EF-003           No\n",
       "EF-004           No\n",
       "EF-005          Yes\n",
       "EF-006          Yes\n",
       "EF-007          Yes\n",
       "EF-008          Yes\n",
       "EF-009          Yes\n",
       "EF-010          Yes\n",
       "EF-011           No\n",
       "EF-012           No\n",
       "EF-013          Yes\n",
       "EF-014          Yes\n",
       "EF-015           No\n",
       "EF-016          Yes\n",
       "EF-017          Yes\n",
       "EF-018          Yes\n",
       "EF-019          Yes\n",
       "EF-020           No\n",
       "EF-021           No\n",
       "EF-022          Yes\n",
       "EF-023           No\n",
       "EF-024           No\n",
       "EF-025           No\n",
       "EF-026           No\n",
       "9999             No"
      ]
     },
     "execution_count": 35,
     "metadata": {},
     "output_type": "execute_result"
    }
   ],
   "source": [
    "tube_end_form_df"
   ]
  },
  {
   "cell_type": "code",
   "execution_count": 36,
   "metadata": {
    "collapsed": false
   },
   "outputs": [
    {
     "data": {
      "text/html": [
       "<div>\n",
       "<table border=\"1\" class=\"dataframe\">\n",
       "  <thead>\n",
       "    <tr style=\"text-align: right;\">\n",
       "      <th></th>\n",
       "      <th>end_a</th>\n",
       "    </tr>\n",
       "    <tr>\n",
       "      <th>tube_assembly_id</th>\n",
       "      <th></th>\n",
       "    </tr>\n",
       "  </thead>\n",
       "  <tbody>\n",
       "    <tr>\n",
       "      <th>TA-00001</th>\n",
       "      <td>EF-003</td>\n",
       "    </tr>\n",
       "    <tr>\n",
       "      <th>TA-00002</th>\n",
       "      <td>EF-008</td>\n",
       "    </tr>\n",
       "    <tr>\n",
       "      <th>TA-00010</th>\n",
       "      <td>EF-021</td>\n",
       "    </tr>\n",
       "    <tr>\n",
       "      <th>TA-00013</th>\n",
       "      <td>NONE</td>\n",
       "    </tr>\n",
       "    <tr>\n",
       "      <th>TA-00015</th>\n",
       "      <td>EF-018</td>\n",
       "    </tr>\n",
       "    <tr>\n",
       "      <th>TA-00019</th>\n",
       "      <td>EF-005</td>\n",
       "    </tr>\n",
       "    <tr>\n",
       "      <th>TA-00026</th>\n",
       "      <td>EF-009</td>\n",
       "    </tr>\n",
       "    <tr>\n",
       "      <th>TA-00046</th>\n",
       "      <td>EF-023</td>\n",
       "    </tr>\n",
       "    <tr>\n",
       "      <th>TA-00059</th>\n",
       "      <td>EF-017</td>\n",
       "    </tr>\n",
       "    <tr>\n",
       "      <th>TA-00069</th>\n",
       "      <td>EF-015</td>\n",
       "    </tr>\n",
       "    <tr>\n",
       "      <th>TA-00105</th>\n",
       "      <td>EF-012</td>\n",
       "    </tr>\n",
       "    <tr>\n",
       "      <th>TA-00141</th>\n",
       "      <td>EF-001</td>\n",
       "    </tr>\n",
       "    <tr>\n",
       "      <th>TA-00250</th>\n",
       "      <td>EF-010</td>\n",
       "    </tr>\n",
       "    <tr>\n",
       "      <th>TA-00591</th>\n",
       "      <td>EF-004</td>\n",
       "    </tr>\n",
       "    <tr>\n",
       "      <th>TA-00616</th>\n",
       "      <td>EF-002</td>\n",
       "    </tr>\n",
       "    <tr>\n",
       "      <th>TA-00655</th>\n",
       "      <td>EF-013</td>\n",
       "    </tr>\n",
       "    <tr>\n",
       "      <th>TA-00907</th>\n",
       "      <td>EF-019</td>\n",
       "    </tr>\n",
       "    <tr>\n",
       "      <th>TA-00968</th>\n",
       "      <td>EF-007</td>\n",
       "    </tr>\n",
       "    <tr>\n",
       "      <th>TA-01387</th>\n",
       "      <td>EF-020</td>\n",
       "    </tr>\n",
       "    <tr>\n",
       "      <th>TA-02148</th>\n",
       "      <td>EF-025</td>\n",
       "    </tr>\n",
       "    <tr>\n",
       "      <th>TA-04641</th>\n",
       "      <td>EF-016</td>\n",
       "    </tr>\n",
       "    <tr>\n",
       "      <th>TA-04780</th>\n",
       "      <td>EF-022</td>\n",
       "    </tr>\n",
       "    <tr>\n",
       "      <th>TA-05323</th>\n",
       "      <td>EF-011</td>\n",
       "    </tr>\n",
       "    <tr>\n",
       "      <th>TA-06160</th>\n",
       "      <td>EF-006</td>\n",
       "    </tr>\n",
       "    <tr>\n",
       "      <th>TA-07413</th>\n",
       "      <td>EF-014</td>\n",
       "    </tr>\n",
       "  </tbody>\n",
       "</table>\n",
       "</div>"
      ],
      "text/plain": [
       "                   end_a\n",
       "tube_assembly_id        \n",
       "TA-00001          EF-003\n",
       "TA-00002          EF-008\n",
       "TA-00010          EF-021\n",
       "TA-00013            NONE\n",
       "TA-00015          EF-018\n",
       "TA-00019          EF-005\n",
       "TA-00026          EF-009\n",
       "TA-00046          EF-023\n",
       "TA-00059          EF-017\n",
       "TA-00069          EF-015\n",
       "TA-00105          EF-012\n",
       "TA-00141          EF-001\n",
       "TA-00250          EF-010\n",
       "TA-00591          EF-004\n",
       "TA-00616          EF-002\n",
       "TA-00655          EF-013\n",
       "TA-00907          EF-019\n",
       "TA-00968          EF-007\n",
       "TA-01387          EF-020\n",
       "TA-02148          EF-025\n",
       "TA-04641          EF-016\n",
       "TA-04780          EF-022\n",
       "TA-05323          EF-011\n",
       "TA-06160          EF-006\n",
       "TA-07413          EF-014"
      ]
     },
     "execution_count": 36,
     "metadata": {},
     "output_type": "execute_result"
    }
   ],
   "source": [
    "tube_df.end_a.drop_duplicates().to_frame()"
   ]
  },
  {
   "cell_type": "code",
   "execution_count": 37,
   "metadata": {
    "collapsed": false
   },
   "outputs": [
    {
     "data": {
      "text/html": [
       "<div>\n",
       "<table border=\"1\" class=\"dataframe\">\n",
       "  <thead>\n",
       "    <tr style=\"text-align: right;\">\n",
       "      <th></th>\n",
       "      <th>end_x</th>\n",
       "    </tr>\n",
       "    <tr>\n",
       "      <th>tube_assembly_id</th>\n",
       "      <th></th>\n",
       "    </tr>\n",
       "  </thead>\n",
       "  <tbody>\n",
       "    <tr>\n",
       "      <th>TA-00001</th>\n",
       "      <td>EF-003</td>\n",
       "    </tr>\n",
       "    <tr>\n",
       "      <th>TA-00002</th>\n",
       "      <td>EF-008</td>\n",
       "    </tr>\n",
       "    <tr>\n",
       "      <th>TA-00010</th>\n",
       "      <td>EF-021</td>\n",
       "    </tr>\n",
       "    <tr>\n",
       "      <th>TA-00013</th>\n",
       "      <td>NONE</td>\n",
       "    </tr>\n",
       "    <tr>\n",
       "      <th>TA-00015</th>\n",
       "      <td>EF-018</td>\n",
       "    </tr>\n",
       "    <tr>\n",
       "      <th>TA-00018</th>\n",
       "      <td>EF-009</td>\n",
       "    </tr>\n",
       "    <tr>\n",
       "      <th>TA-00019</th>\n",
       "      <td>EF-017</td>\n",
       "    </tr>\n",
       "    <tr>\n",
       "      <th>TA-00037</th>\n",
       "      <td>EF-019</td>\n",
       "    </tr>\n",
       "    <tr>\n",
       "      <th>TA-00069</th>\n",
       "      <td>EF-015</td>\n",
       "    </tr>\n",
       "    <tr>\n",
       "      <th>TA-00105</th>\n",
       "      <td>EF-012</td>\n",
       "    </tr>\n",
       "    <tr>\n",
       "      <th>TA-00108</th>\n",
       "      <td>EF-023</td>\n",
       "    </tr>\n",
       "    <tr>\n",
       "      <th>TA-00385</th>\n",
       "      <td>EF-002</td>\n",
       "    </tr>\n",
       "    <tr>\n",
       "      <th>TA-00655</th>\n",
       "      <td>EF-013</td>\n",
       "    </tr>\n",
       "    <tr>\n",
       "      <th>TA-00959</th>\n",
       "      <td>9999</td>\n",
       "    </tr>\n",
       "    <tr>\n",
       "      <th>TA-00968</th>\n",
       "      <td>EF-007</td>\n",
       "    </tr>\n",
       "    <tr>\n",
       "      <th>TA-01150</th>\n",
       "      <td>EF-010</td>\n",
       "    </tr>\n",
       "    <tr>\n",
       "      <th>TA-01368</th>\n",
       "      <td>EF-006</td>\n",
       "    </tr>\n",
       "    <tr>\n",
       "      <th>TA-01944</th>\n",
       "      <td>EF-016</td>\n",
       "    </tr>\n",
       "    <tr>\n",
       "      <th>TA-02156</th>\n",
       "      <td>EF-022</td>\n",
       "    </tr>\n",
       "    <tr>\n",
       "      <th>TA-03724</th>\n",
       "      <td>EF-004</td>\n",
       "    </tr>\n",
       "    <tr>\n",
       "      <th>TA-03919</th>\n",
       "      <td>EF-001</td>\n",
       "    </tr>\n",
       "    <tr>\n",
       "      <th>TA-04065</th>\n",
       "      <td>EF-005</td>\n",
       "    </tr>\n",
       "    <tr>\n",
       "      <th>TA-06133</th>\n",
       "      <td>EF-011</td>\n",
       "    </tr>\n",
       "    <tr>\n",
       "      <th>TA-07357</th>\n",
       "      <td>EF-025</td>\n",
       "    </tr>\n",
       "    <tr>\n",
       "      <th>TA-09661</th>\n",
       "      <td>EF-014</td>\n",
       "    </tr>\n",
       "    <tr>\n",
       "      <th>TA-10755</th>\n",
       "      <td>EF-026</td>\n",
       "    </tr>\n",
       "    <tr>\n",
       "      <th>TA-19476</th>\n",
       "      <td>EF-024</td>\n",
       "    </tr>\n",
       "  </tbody>\n",
       "</table>\n",
       "</div>"
      ],
      "text/plain": [
       "                   end_x\n",
       "tube_assembly_id        \n",
       "TA-00001          EF-003\n",
       "TA-00002          EF-008\n",
       "TA-00010          EF-021\n",
       "TA-00013            NONE\n",
       "TA-00015          EF-018\n",
       "TA-00018          EF-009\n",
       "TA-00019          EF-017\n",
       "TA-00037          EF-019\n",
       "TA-00069          EF-015\n",
       "TA-00105          EF-012\n",
       "TA-00108          EF-023\n",
       "TA-00385          EF-002\n",
       "TA-00655          EF-013\n",
       "TA-00959            9999\n",
       "TA-00968          EF-007\n",
       "TA-01150          EF-010\n",
       "TA-01368          EF-006\n",
       "TA-01944          EF-016\n",
       "TA-02156          EF-022\n",
       "TA-03724          EF-004\n",
       "TA-03919          EF-001\n",
       "TA-04065          EF-005\n",
       "TA-06133          EF-011\n",
       "TA-07357          EF-025\n",
       "TA-09661          EF-014\n",
       "TA-10755          EF-026\n",
       "TA-19476          EF-024"
      ]
     },
     "execution_count": 37,
     "metadata": {},
     "output_type": "execute_result"
    }
   ],
   "source": [
    "tube_df.end_x.drop_duplicates().to_frame()"
   ]
  },
  {
   "cell_type": "markdown",
   "metadata": {},
   "source": [
    " "
   ]
  },
  {
   "cell_type": "markdown",
   "metadata": {},
   "source": [
    "**Left Join** *tube_df* to *tube_end_form_df* on **end_form_id = end_a** then again on **end_form_id = end_x**"
   ]
  },
  {
   "cell_type": "code",
   "execution_count": 38,
   "metadata": {
    "collapsed": false
   },
   "outputs": [],
   "source": [
    "#reset_index for tube_end_form_df first before applying join\n",
    "tube_end_form_df = reset_index(tube_end_form_df, 'end_form_id')\n",
    "\n",
    "#reset_index for tube_df\n",
    "tube_df = reset_index(tube_df, 'tube_assembly_id')\n",
    "\n",
    "#now apply 2 left joins as described above\n",
    "tube_df = tube_df.merge(tube_end_form_df, how = 'left', left_on = 'end_a', right_on = 'end_form_id')\\\n",
    "                .merge(tube_end_form_df, how = 'left', left_on = 'end_x', right_on = 'end_form_id')"
   ]
  },
  {
   "cell_type": "code",
   "execution_count": 39,
   "metadata": {
    "collapsed": false
   },
   "outputs": [
    {
     "data": {
      "text/html": [
       "<div>\n",
       "<table border=\"1\" class=\"dataframe\">\n",
       "  <thead>\n",
       "    <tr style=\"text-align: right;\">\n",
       "      <th></th>\n",
       "      <th>tube_assembly_id</th>\n",
       "      <th>material_id</th>\n",
       "      <th>diameter</th>\n",
       "      <th>wall</th>\n",
       "      <th>length</th>\n",
       "      <th>num_bends</th>\n",
       "      <th>bend_radius</th>\n",
       "      <th>end_a_1x</th>\n",
       "      <th>end_a_2x</th>\n",
       "      <th>end_x_1x</th>\n",
       "      <th>end_x_2x</th>\n",
       "      <th>end_a</th>\n",
       "      <th>end_x</th>\n",
       "      <th>num_boss</th>\n",
       "      <th>num_bracket</th>\n",
       "      <th>other</th>\n",
       "      <th>end_form_id_x</th>\n",
       "      <th>forming_x</th>\n",
       "      <th>end_form_id_y</th>\n",
       "      <th>forming_y</th>\n",
       "    </tr>\n",
       "  </thead>\n",
       "  <tbody>\n",
       "    <tr>\n",
       "      <th>0</th>\n",
       "      <td>TA-00001</td>\n",
       "      <td>SP-0035</td>\n",
       "      <td>12.70</td>\n",
       "      <td>1.65</td>\n",
       "      <td>164</td>\n",
       "      <td>5</td>\n",
       "      <td>38.10</td>\n",
       "      <td>N</td>\n",
       "      <td>N</td>\n",
       "      <td>N</td>\n",
       "      <td>N</td>\n",
       "      <td>EF-003</td>\n",
       "      <td>EF-003</td>\n",
       "      <td>0</td>\n",
       "      <td>0</td>\n",
       "      <td>0</td>\n",
       "      <td>EF-003</td>\n",
       "      <td>No</td>\n",
       "      <td>EF-003</td>\n",
       "      <td>No</td>\n",
       "    </tr>\n",
       "    <tr>\n",
       "      <th>1</th>\n",
       "      <td>TA-00002</td>\n",
       "      <td>SP-0019</td>\n",
       "      <td>6.35</td>\n",
       "      <td>0.71</td>\n",
       "      <td>137</td>\n",
       "      <td>8</td>\n",
       "      <td>19.05</td>\n",
       "      <td>N</td>\n",
       "      <td>N</td>\n",
       "      <td>N</td>\n",
       "      <td>N</td>\n",
       "      <td>EF-008</td>\n",
       "      <td>EF-008</td>\n",
       "      <td>0</td>\n",
       "      <td>0</td>\n",
       "      <td>0</td>\n",
       "      <td>EF-008</td>\n",
       "      <td>Yes</td>\n",
       "      <td>EF-008</td>\n",
       "      <td>Yes</td>\n",
       "    </tr>\n",
       "    <tr>\n",
       "      <th>2</th>\n",
       "      <td>TA-00003</td>\n",
       "      <td>SP-0019</td>\n",
       "      <td>6.35</td>\n",
       "      <td>0.71</td>\n",
       "      <td>127</td>\n",
       "      <td>7</td>\n",
       "      <td>19.05</td>\n",
       "      <td>N</td>\n",
       "      <td>N</td>\n",
       "      <td>N</td>\n",
       "      <td>N</td>\n",
       "      <td>EF-008</td>\n",
       "      <td>EF-008</td>\n",
       "      <td>0</td>\n",
       "      <td>0</td>\n",
       "      <td>0</td>\n",
       "      <td>EF-008</td>\n",
       "      <td>Yes</td>\n",
       "      <td>EF-008</td>\n",
       "      <td>Yes</td>\n",
       "    </tr>\n",
       "    <tr>\n",
       "      <th>3</th>\n",
       "      <td>TA-00004</td>\n",
       "      <td>SP-0019</td>\n",
       "      <td>6.35</td>\n",
       "      <td>0.71</td>\n",
       "      <td>137</td>\n",
       "      <td>9</td>\n",
       "      <td>19.05</td>\n",
       "      <td>N</td>\n",
       "      <td>N</td>\n",
       "      <td>N</td>\n",
       "      <td>N</td>\n",
       "      <td>EF-008</td>\n",
       "      <td>EF-008</td>\n",
       "      <td>0</td>\n",
       "      <td>0</td>\n",
       "      <td>0</td>\n",
       "      <td>EF-008</td>\n",
       "      <td>Yes</td>\n",
       "      <td>EF-008</td>\n",
       "      <td>Yes</td>\n",
       "    </tr>\n",
       "    <tr>\n",
       "      <th>4</th>\n",
       "      <td>TA-00005</td>\n",
       "      <td>SP-0029</td>\n",
       "      <td>19.05</td>\n",
       "      <td>1.24</td>\n",
       "      <td>109</td>\n",
       "      <td>4</td>\n",
       "      <td>50.80</td>\n",
       "      <td>N</td>\n",
       "      <td>N</td>\n",
       "      <td>N</td>\n",
       "      <td>N</td>\n",
       "      <td>EF-003</td>\n",
       "      <td>EF-003</td>\n",
       "      <td>0</td>\n",
       "      <td>0</td>\n",
       "      <td>0</td>\n",
       "      <td>EF-003</td>\n",
       "      <td>No</td>\n",
       "      <td>EF-003</td>\n",
       "      <td>No</td>\n",
       "    </tr>\n",
       "  </tbody>\n",
       "</table>\n",
       "</div>"
      ],
      "text/plain": [
       "  tube_assembly_id material_id  diameter  wall  length  num_bends  \\\n",
       "0         TA-00001     SP-0035     12.70  1.65     164          5   \n",
       "1         TA-00002     SP-0019      6.35  0.71     137          8   \n",
       "2         TA-00003     SP-0019      6.35  0.71     127          7   \n",
       "3         TA-00004     SP-0019      6.35  0.71     137          9   \n",
       "4         TA-00005     SP-0029     19.05  1.24     109          4   \n",
       "\n",
       "   bend_radius end_a_1x end_a_2x end_x_1x end_x_2x   end_a   end_x  num_boss  \\\n",
       "0        38.10        N        N        N        N  EF-003  EF-003         0   \n",
       "1        19.05        N        N        N        N  EF-008  EF-008         0   \n",
       "2        19.05        N        N        N        N  EF-008  EF-008         0   \n",
       "3        19.05        N        N        N        N  EF-008  EF-008         0   \n",
       "4        50.80        N        N        N        N  EF-003  EF-003         0   \n",
       "\n",
       "   num_bracket  other end_form_id_x forming_x end_form_id_y forming_y  \n",
       "0            0      0        EF-003        No        EF-003        No  \n",
       "1            0      0        EF-008       Yes        EF-008       Yes  \n",
       "2            0      0        EF-008       Yes        EF-008       Yes  \n",
       "3            0      0        EF-008       Yes        EF-008       Yes  \n",
       "4            0      0        EF-003        No        EF-003        No  "
      ]
     },
     "execution_count": 39,
     "metadata": {},
     "output_type": "execute_result"
    }
   ],
   "source": [
    "tube_df.head()"
   ]
  },
  {
   "cell_type": "code",
   "execution_count": 40,
   "metadata": {
    "collapsed": false,
    "scrolled": true
   },
   "outputs": [
    {
     "data": {
      "text/html": [
       "<div>\n",
       "<table border=\"1\" class=\"dataframe\">\n",
       "  <thead>\n",
       "    <tr style=\"text-align: right;\">\n",
       "      <th></th>\n",
       "      <th>tube_assembly_id</th>\n",
       "      <th>material_id</th>\n",
       "      <th>diameter</th>\n",
       "      <th>wall</th>\n",
       "      <th>length</th>\n",
       "      <th>num_bends</th>\n",
       "      <th>bend_radius</th>\n",
       "      <th>end_a_1x</th>\n",
       "      <th>end_a_2x</th>\n",
       "      <th>end_x_1x</th>\n",
       "      <th>end_x_2x</th>\n",
       "      <th>end_a</th>\n",
       "      <th>end_x</th>\n",
       "      <th>num_boss</th>\n",
       "      <th>num_bracket</th>\n",
       "      <th>other</th>\n",
       "      <th>forming_x</th>\n",
       "      <th>forming_y</th>\n",
       "    </tr>\n",
       "  </thead>\n",
       "  <tbody>\n",
       "    <tr>\n",
       "      <th>0</th>\n",
       "      <td>TA-00001</td>\n",
       "      <td>SP-0035</td>\n",
       "      <td>12.70</td>\n",
       "      <td>1.65</td>\n",
       "      <td>164</td>\n",
       "      <td>5</td>\n",
       "      <td>38.10</td>\n",
       "      <td>N</td>\n",
       "      <td>N</td>\n",
       "      <td>N</td>\n",
       "      <td>N</td>\n",
       "      <td>EF-003</td>\n",
       "      <td>EF-003</td>\n",
       "      <td>0</td>\n",
       "      <td>0</td>\n",
       "      <td>0</td>\n",
       "      <td>No</td>\n",
       "      <td>No</td>\n",
       "    </tr>\n",
       "    <tr>\n",
       "      <th>1</th>\n",
       "      <td>TA-00002</td>\n",
       "      <td>SP-0019</td>\n",
       "      <td>6.35</td>\n",
       "      <td>0.71</td>\n",
       "      <td>137</td>\n",
       "      <td>8</td>\n",
       "      <td>19.05</td>\n",
       "      <td>N</td>\n",
       "      <td>N</td>\n",
       "      <td>N</td>\n",
       "      <td>N</td>\n",
       "      <td>EF-008</td>\n",
       "      <td>EF-008</td>\n",
       "      <td>0</td>\n",
       "      <td>0</td>\n",
       "      <td>0</td>\n",
       "      <td>Yes</td>\n",
       "      <td>Yes</td>\n",
       "    </tr>\n",
       "    <tr>\n",
       "      <th>2</th>\n",
       "      <td>TA-00003</td>\n",
       "      <td>SP-0019</td>\n",
       "      <td>6.35</td>\n",
       "      <td>0.71</td>\n",
       "      <td>127</td>\n",
       "      <td>7</td>\n",
       "      <td>19.05</td>\n",
       "      <td>N</td>\n",
       "      <td>N</td>\n",
       "      <td>N</td>\n",
       "      <td>N</td>\n",
       "      <td>EF-008</td>\n",
       "      <td>EF-008</td>\n",
       "      <td>0</td>\n",
       "      <td>0</td>\n",
       "      <td>0</td>\n",
       "      <td>Yes</td>\n",
       "      <td>Yes</td>\n",
       "    </tr>\n",
       "    <tr>\n",
       "      <th>3</th>\n",
       "      <td>TA-00004</td>\n",
       "      <td>SP-0019</td>\n",
       "      <td>6.35</td>\n",
       "      <td>0.71</td>\n",
       "      <td>137</td>\n",
       "      <td>9</td>\n",
       "      <td>19.05</td>\n",
       "      <td>N</td>\n",
       "      <td>N</td>\n",
       "      <td>N</td>\n",
       "      <td>N</td>\n",
       "      <td>EF-008</td>\n",
       "      <td>EF-008</td>\n",
       "      <td>0</td>\n",
       "      <td>0</td>\n",
       "      <td>0</td>\n",
       "      <td>Yes</td>\n",
       "      <td>Yes</td>\n",
       "    </tr>\n",
       "    <tr>\n",
       "      <th>4</th>\n",
       "      <td>TA-00005</td>\n",
       "      <td>SP-0029</td>\n",
       "      <td>19.05</td>\n",
       "      <td>1.24</td>\n",
       "      <td>109</td>\n",
       "      <td>4</td>\n",
       "      <td>50.80</td>\n",
       "      <td>N</td>\n",
       "      <td>N</td>\n",
       "      <td>N</td>\n",
       "      <td>N</td>\n",
       "      <td>EF-003</td>\n",
       "      <td>EF-003</td>\n",
       "      <td>0</td>\n",
       "      <td>0</td>\n",
       "      <td>0</td>\n",
       "      <td>No</td>\n",
       "      <td>No</td>\n",
       "    </tr>\n",
       "  </tbody>\n",
       "</table>\n",
       "</div>"
      ],
      "text/plain": [
       "  tube_assembly_id material_id  diameter  wall  length  num_bends  \\\n",
       "0         TA-00001     SP-0035     12.70  1.65     164          5   \n",
       "1         TA-00002     SP-0019      6.35  0.71     137          8   \n",
       "2         TA-00003     SP-0019      6.35  0.71     127          7   \n",
       "3         TA-00004     SP-0019      6.35  0.71     137          9   \n",
       "4         TA-00005     SP-0029     19.05  1.24     109          4   \n",
       "\n",
       "   bend_radius end_a_1x end_a_2x end_x_1x end_x_2x   end_a   end_x  num_boss  \\\n",
       "0        38.10        N        N        N        N  EF-003  EF-003         0   \n",
       "1        19.05        N        N        N        N  EF-008  EF-008         0   \n",
       "2        19.05        N        N        N        N  EF-008  EF-008         0   \n",
       "3        19.05        N        N        N        N  EF-008  EF-008         0   \n",
       "4        50.80        N        N        N        N  EF-003  EF-003         0   \n",
       "\n",
       "   num_bracket  other forming_x forming_y  \n",
       "0            0      0        No        No  \n",
       "1            0      0       Yes       Yes  \n",
       "2            0      0       Yes       Yes  \n",
       "3            0      0       Yes       Yes  \n",
       "4            0      0        No        No  "
      ]
     },
     "execution_count": 40,
     "metadata": {},
     "output_type": "execute_result"
    }
   ],
   "source": [
    "#remove end_form_id_x and end_form_id_y as they are just duplicate info. from columns end_a and end_x\n",
    "tube_df = tube_df.drop('end_form_id_x', 1).drop('end_form_id_y', 1)\n",
    "tube_df.head()"
   ]
  },
  {
   "cell_type": "code",
   "execution_count": 41,
   "metadata": {
    "collapsed": false
   },
   "outputs": [
    {
     "data": {
      "text/html": [
       "<div>\n",
       "<table border=\"1\" class=\"dataframe\">\n",
       "  <thead>\n",
       "    <tr style=\"text-align: right;\">\n",
       "      <th></th>\n",
       "      <th>tube_assembly_id</th>\n",
       "      <th>material_id</th>\n",
       "      <th>diameter</th>\n",
       "      <th>wall</th>\n",
       "      <th>length</th>\n",
       "      <th>num_bends</th>\n",
       "      <th>bend_radius</th>\n",
       "      <th>end_a_1x</th>\n",
       "      <th>end_a_2x</th>\n",
       "      <th>end_x_1x</th>\n",
       "      <th>end_x_2x</th>\n",
       "      <th>end_a</th>\n",
       "      <th>end_x</th>\n",
       "      <th>num_boss</th>\n",
       "      <th>num_bracket</th>\n",
       "      <th>other</th>\n",
       "      <th>end_a_forming</th>\n",
       "      <th>end_x_forming</th>\n",
       "    </tr>\n",
       "  </thead>\n",
       "  <tbody>\n",
       "    <tr>\n",
       "      <th>0</th>\n",
       "      <td>TA-00001</td>\n",
       "      <td>SP-0035</td>\n",
       "      <td>12.70</td>\n",
       "      <td>1.65</td>\n",
       "      <td>164</td>\n",
       "      <td>5</td>\n",
       "      <td>38.10</td>\n",
       "      <td>N</td>\n",
       "      <td>N</td>\n",
       "      <td>N</td>\n",
       "      <td>N</td>\n",
       "      <td>EF-003</td>\n",
       "      <td>EF-003</td>\n",
       "      <td>0</td>\n",
       "      <td>0</td>\n",
       "      <td>0</td>\n",
       "      <td>No</td>\n",
       "      <td>No</td>\n",
       "    </tr>\n",
       "    <tr>\n",
       "      <th>1</th>\n",
       "      <td>TA-00002</td>\n",
       "      <td>SP-0019</td>\n",
       "      <td>6.35</td>\n",
       "      <td>0.71</td>\n",
       "      <td>137</td>\n",
       "      <td>8</td>\n",
       "      <td>19.05</td>\n",
       "      <td>N</td>\n",
       "      <td>N</td>\n",
       "      <td>N</td>\n",
       "      <td>N</td>\n",
       "      <td>EF-008</td>\n",
       "      <td>EF-008</td>\n",
       "      <td>0</td>\n",
       "      <td>0</td>\n",
       "      <td>0</td>\n",
       "      <td>Yes</td>\n",
       "      <td>Yes</td>\n",
       "    </tr>\n",
       "    <tr>\n",
       "      <th>2</th>\n",
       "      <td>TA-00003</td>\n",
       "      <td>SP-0019</td>\n",
       "      <td>6.35</td>\n",
       "      <td>0.71</td>\n",
       "      <td>127</td>\n",
       "      <td>7</td>\n",
       "      <td>19.05</td>\n",
       "      <td>N</td>\n",
       "      <td>N</td>\n",
       "      <td>N</td>\n",
       "      <td>N</td>\n",
       "      <td>EF-008</td>\n",
       "      <td>EF-008</td>\n",
       "      <td>0</td>\n",
       "      <td>0</td>\n",
       "      <td>0</td>\n",
       "      <td>Yes</td>\n",
       "      <td>Yes</td>\n",
       "    </tr>\n",
       "    <tr>\n",
       "      <th>3</th>\n",
       "      <td>TA-00004</td>\n",
       "      <td>SP-0019</td>\n",
       "      <td>6.35</td>\n",
       "      <td>0.71</td>\n",
       "      <td>137</td>\n",
       "      <td>9</td>\n",
       "      <td>19.05</td>\n",
       "      <td>N</td>\n",
       "      <td>N</td>\n",
       "      <td>N</td>\n",
       "      <td>N</td>\n",
       "      <td>EF-008</td>\n",
       "      <td>EF-008</td>\n",
       "      <td>0</td>\n",
       "      <td>0</td>\n",
       "      <td>0</td>\n",
       "      <td>Yes</td>\n",
       "      <td>Yes</td>\n",
       "    </tr>\n",
       "    <tr>\n",
       "      <th>4</th>\n",
       "      <td>TA-00005</td>\n",
       "      <td>SP-0029</td>\n",
       "      <td>19.05</td>\n",
       "      <td>1.24</td>\n",
       "      <td>109</td>\n",
       "      <td>4</td>\n",
       "      <td>50.80</td>\n",
       "      <td>N</td>\n",
       "      <td>N</td>\n",
       "      <td>N</td>\n",
       "      <td>N</td>\n",
       "      <td>EF-003</td>\n",
       "      <td>EF-003</td>\n",
       "      <td>0</td>\n",
       "      <td>0</td>\n",
       "      <td>0</td>\n",
       "      <td>No</td>\n",
       "      <td>No</td>\n",
       "    </tr>\n",
       "  </tbody>\n",
       "</table>\n",
       "</div>"
      ],
      "text/plain": [
       "  tube_assembly_id material_id  diameter  wall  length  num_bends  \\\n",
       "0         TA-00001     SP-0035     12.70  1.65     164          5   \n",
       "1         TA-00002     SP-0019      6.35  0.71     137          8   \n",
       "2         TA-00003     SP-0019      6.35  0.71     127          7   \n",
       "3         TA-00004     SP-0019      6.35  0.71     137          9   \n",
       "4         TA-00005     SP-0029     19.05  1.24     109          4   \n",
       "\n",
       "   bend_radius end_a_1x end_a_2x end_x_1x end_x_2x   end_a   end_x  num_boss  \\\n",
       "0        38.10        N        N        N        N  EF-003  EF-003         0   \n",
       "1        19.05        N        N        N        N  EF-008  EF-008         0   \n",
       "2        19.05        N        N        N        N  EF-008  EF-008         0   \n",
       "3        19.05        N        N        N        N  EF-008  EF-008         0   \n",
       "4        50.80        N        N        N        N  EF-003  EF-003         0   \n",
       "\n",
       "   num_bracket  other end_a_forming end_x_forming  \n",
       "0            0      0            No            No  \n",
       "1            0      0           Yes           Yes  \n",
       "2            0      0           Yes           Yes  \n",
       "3            0      0           Yes           Yes  \n",
       "4            0      0            No            No  "
      ]
     },
     "execution_count": 41,
     "metadata": {},
     "output_type": "execute_result"
    }
   ],
   "source": [
    "#let's rename the new columns forming_x and forming_y\n",
    "tube_df = tube_df.rename(index = str, columns={\"forming_x\": \"end_a_forming\", \"forming_y\": \"end_x_forming\"})\n",
    "tube_df.head()"
   ]
  },
  {
   "cell_type": "code",
   "execution_count": 42,
   "metadata": {
    "collapsed": true
   },
   "outputs": [],
   "source": [
    "#write columns out of new tube_df\n",
    "writeColumnsToFile(tube_df, 'tube_columns_2')"
   ]
  },
  {
   "cell_type": "code",
   "execution_count": 43,
   "metadata": {
    "collapsed": false
   },
   "outputs": [
    {
     "data": {
      "text/html": [
       "<div>\n",
       "<table border=\"1\" class=\"dataframe\">\n",
       "  <thead>\n",
       "    <tr style=\"text-align: right;\">\n",
       "      <th></th>\n",
       "      <th>name</th>\n",
       "    </tr>\n",
       "    <tr>\n",
       "      <th>end_form_id</th>\n",
       "      <th></th>\n",
       "    </tr>\n",
       "  </thead>\n",
       "  <tbody>\n",
       "    <tr>\n",
       "      <th>A-001</th>\n",
       "      <td>Male (Stud)</td>\n",
       "    </tr>\n",
       "    <tr>\n",
       "      <th>A-002</th>\n",
       "      <td>Male (Swivel)</td>\n",
       "    </tr>\n",
       "    <tr>\n",
       "      <th>A-003</th>\n",
       "      <td>Braze-Weld Boss</td>\n",
       "    </tr>\n",
       "    <tr>\n",
       "      <th>A-004</th>\n",
       "      <td>Braze-Weld Socket</td>\n",
       "    </tr>\n",
       "    <tr>\n",
       "      <th>A-005</th>\n",
       "      <td>Swivel Nut</td>\n",
       "    </tr>\n",
       "    <tr>\n",
       "      <th>A-006</th>\n",
       "      <td>Bulkhead Male</td>\n",
       "    </tr>\n",
       "    <tr>\n",
       "      <th>A-007</th>\n",
       "      <td>Port</td>\n",
       "    </tr>\n",
       "    <tr>\n",
       "      <th>9999</th>\n",
       "      <td>Other</td>\n",
       "    </tr>\n",
       "  </tbody>\n",
       "</table>\n",
       "</div>"
      ],
      "text/plain": [
       "                          name\n",
       "end_form_id                   \n",
       "A-001              Male (Stud)\n",
       "A-002            Male (Swivel)\n",
       "A-003          Braze-Weld Boss\n",
       "A-004        Braze-Weld Socket\n",
       "A-005               Swivel Nut\n",
       "A-006            Bulkhead Male\n",
       "A-007                     Port\n",
       "9999                     Other"
      ]
     },
     "execution_count": 43,
     "metadata": {},
     "output_type": "execute_result"
    }
   ],
   "source": [
    "type_end_form_df"
   ]
  },
  {
   "cell_type": "code",
   "execution_count": 44,
   "metadata": {
    "collapsed": true
   },
   "outputs": [],
   "source": [
    "#reset_index for type_end_form_df\n",
    "type_end_form_df = reset_index(type_end_form_df, 'end_form_id')"
   ]
  },
  {
   "cell_type": "markdown",
   "metadata": {},
   "source": [
    " "
   ]
  },
  {
   "cell_type": "markdown",
   "metadata": {},
   "source": [
    "let's effectively replace *end_form_id_1* and *end_form_id_2* in **comp_adaptor_df** with its end form name taken from **type_end_form_df**"
   ]
  },
  {
   "cell_type": "code",
   "execution_count": 45,
   "metadata": {
    "collapsed": false
   },
   "outputs": [
    {
     "name": "stdout",
     "output_type": "stream",
     "text": [
      "comp_adaptor_df = comp_adaptor_df.merge(type_end_form_df, how = \"left\", left_on = \"end_form_id_1\", right_on = \"end_form_id\").merge(type_end_form_df, how = \"left\", left_on = \"end_form_id_2\", right_on = \"end_form_id\")\n"
     ]
    }
   ],
   "source": [
    "#left join comp_adaptor_df to type_end_form_df on end_form_id_1\n",
    "#then left join comp_adaptor_df again to type_end_form_df on end_form_id_2\n",
    "comp_adaptor_join = join_df1_to_df2('comp_adaptor_df', 'type_end_form_df', 2, 'comp_adaptor_df', 'left', 'end_form_id')\n",
    "print comp_adaptor_join\n",
    "exec(comp_adaptor_join)"
   ]
  },
  {
   "cell_type": "code",
   "execution_count": 46,
   "metadata": {
    "collapsed": false,
    "scrolled": true
   },
   "outputs": [
    {
     "data": {
      "text/html": [
       "<div>\n",
       "<table border=\"1\" class=\"dataframe\">\n",
       "  <thead>\n",
       "    <tr style=\"text-align: right;\">\n",
       "      <th></th>\n",
       "      <th>component_id</th>\n",
       "      <th>adaptor_angle</th>\n",
       "      <th>overall_length</th>\n",
       "      <th>end_form_id_1</th>\n",
       "      <th>connection_type_id_1</th>\n",
       "      <th>length_1</th>\n",
       "      <th>thread_size_1</th>\n",
       "      <th>thread_pitch_1</th>\n",
       "      <th>nominal_size_1</th>\n",
       "      <th>end_form_id_2</th>\n",
       "      <th>...</th>\n",
       "      <th>nominal_size_2</th>\n",
       "      <th>hex_size</th>\n",
       "      <th>unique_feature</th>\n",
       "      <th>orientation</th>\n",
       "      <th>weight</th>\n",
       "      <th>component_type</th>\n",
       "      <th>end_form_id_x</th>\n",
       "      <th>name_x</th>\n",
       "      <th>end_form_id_y</th>\n",
       "      <th>name_y</th>\n",
       "    </tr>\n",
       "  </thead>\n",
       "  <tbody>\n",
       "    <tr>\n",
       "      <th>0</th>\n",
       "      <td>C-0005</td>\n",
       "      <td>NaN</td>\n",
       "      <td>58.4</td>\n",
       "      <td>A-001</td>\n",
       "      <td>B-001</td>\n",
       "      <td>NaN</td>\n",
       "      <td>1.312</td>\n",
       "      <td>12</td>\n",
       "      <td>NaN</td>\n",
       "      <td>A-001</td>\n",
       "      <td>...</td>\n",
       "      <td>NaN</td>\n",
       "      <td>34.93</td>\n",
       "      <td>No</td>\n",
       "      <td>No</td>\n",
       "      <td>0.206</td>\n",
       "      <td>Straight Adapter</td>\n",
       "      <td>A-001</td>\n",
       "      <td>Male (Stud)</td>\n",
       "      <td>A-001</td>\n",
       "      <td>Male (Stud)</td>\n",
       "    </tr>\n",
       "    <tr>\n",
       "      <th>1</th>\n",
       "      <td>C-0006</td>\n",
       "      <td>NaN</td>\n",
       "      <td>34.8</td>\n",
       "      <td>A-001</td>\n",
       "      <td>B-001</td>\n",
       "      <td>NaN</td>\n",
       "      <td>0.437</td>\n",
       "      <td>20</td>\n",
       "      <td>NaN</td>\n",
       "      <td>A-001</td>\n",
       "      <td>...</td>\n",
       "      <td>NaN</td>\n",
       "      <td>22.20</td>\n",
       "      <td>No</td>\n",
       "      <td>No</td>\n",
       "      <td>0.083</td>\n",
       "      <td>Straight Adapter</td>\n",
       "      <td>A-001</td>\n",
       "      <td>Male (Stud)</td>\n",
       "      <td>A-001</td>\n",
       "      <td>Male (Stud)</td>\n",
       "    </tr>\n",
       "    <tr>\n",
       "      <th>2</th>\n",
       "      <td>C-1435</td>\n",
       "      <td>NaN</td>\n",
       "      <td>20.3</td>\n",
       "      <td>A-007</td>\n",
       "      <td>B-004</td>\n",
       "      <td>NaN</td>\n",
       "      <td>NaN</td>\n",
       "      <td>NaN</td>\n",
       "      <td>15.88</td>\n",
       "      <td>A-001</td>\n",
       "      <td>...</td>\n",
       "      <td>NaN</td>\n",
       "      <td>22.22</td>\n",
       "      <td>No</td>\n",
       "      <td>No</td>\n",
       "      <td>0.023</td>\n",
       "      <td>Straight Adapter</td>\n",
       "      <td>A-007</td>\n",
       "      <td>Port</td>\n",
       "      <td>A-001</td>\n",
       "      <td>Male (Stud)</td>\n",
       "    </tr>\n",
       "    <tr>\n",
       "      <th>3</th>\n",
       "      <td>C-1546</td>\n",
       "      <td>NaN</td>\n",
       "      <td>26.4</td>\n",
       "      <td>A-007</td>\n",
       "      <td>B-004</td>\n",
       "      <td>NaN</td>\n",
       "      <td>0.125</td>\n",
       "      <td>27</td>\n",
       "      <td>NaN</td>\n",
       "      <td>A-001</td>\n",
       "      <td>...</td>\n",
       "      <td>NaN</td>\n",
       "      <td>15.88</td>\n",
       "      <td>No</td>\n",
       "      <td>No</td>\n",
       "      <td>0.026</td>\n",
       "      <td>Straight Adapter</td>\n",
       "      <td>A-007</td>\n",
       "      <td>Port</td>\n",
       "      <td>A-001</td>\n",
       "      <td>Male (Stud)</td>\n",
       "    </tr>\n",
       "    <tr>\n",
       "      <th>4</th>\n",
       "      <td>C-1583</td>\n",
       "      <td>NaN</td>\n",
       "      <td>44.5</td>\n",
       "      <td>A-001</td>\n",
       "      <td>B-005</td>\n",
       "      <td>NaN</td>\n",
       "      <td>1.312</td>\n",
       "      <td>12</td>\n",
       "      <td>NaN</td>\n",
       "      <td>A-007</td>\n",
       "      <td>...</td>\n",
       "      <td>NaN</td>\n",
       "      <td>38.10</td>\n",
       "      <td>No</td>\n",
       "      <td>No</td>\n",
       "      <td>0.256</td>\n",
       "      <td>Straight Adapter</td>\n",
       "      <td>A-001</td>\n",
       "      <td>Male (Stud)</td>\n",
       "      <td>A-007</td>\n",
       "      <td>Port</td>\n",
       "    </tr>\n",
       "  </tbody>\n",
       "</table>\n",
       "<p>5 rows × 24 columns</p>\n",
       "</div>"
      ],
      "text/plain": [
       "  component_id  adaptor_angle  overall_length end_form_id_1  \\\n",
       "0       C-0005            NaN            58.4         A-001   \n",
       "1       C-0006            NaN            34.8         A-001   \n",
       "2       C-1435            NaN            20.3         A-007   \n",
       "3       C-1546            NaN            26.4         A-007   \n",
       "4       C-1583            NaN            44.5         A-001   \n",
       "\n",
       "  connection_type_id_1  length_1  thread_size_1  thread_pitch_1  \\\n",
       "0                B-001       NaN          1.312              12   \n",
       "1                B-001       NaN          0.437              20   \n",
       "2                B-004       NaN            NaN             NaN   \n",
       "3                B-004       NaN          0.125              27   \n",
       "4                B-005       NaN          1.312              12   \n",
       "\n",
       "   nominal_size_1 end_form_id_2     ...      nominal_size_2  hex_size  \\\n",
       "0             NaN         A-001     ...                 NaN     34.93   \n",
       "1             NaN         A-001     ...                 NaN     22.20   \n",
       "2           15.88         A-001     ...                 NaN     22.22   \n",
       "3             NaN         A-001     ...                 NaN     15.88   \n",
       "4             NaN         A-007     ...                 NaN     38.10   \n",
       "\n",
       "   unique_feature  orientation  weight    component_type end_form_id_x  \\\n",
       "0              No           No   0.206  Straight Adapter         A-001   \n",
       "1              No           No   0.083  Straight Adapter         A-001   \n",
       "2              No           No   0.023  Straight Adapter         A-007   \n",
       "3              No           No   0.026  Straight Adapter         A-007   \n",
       "4              No           No   0.256  Straight Adapter         A-001   \n",
       "\n",
       "        name_x  end_form_id_y       name_y  \n",
       "0  Male (Stud)          A-001  Male (Stud)  \n",
       "1  Male (Stud)          A-001  Male (Stud)  \n",
       "2         Port          A-001  Male (Stud)  \n",
       "3         Port          A-001  Male (Stud)  \n",
       "4  Male (Stud)          A-007         Port  \n",
       "\n",
       "[5 rows x 24 columns]"
      ]
     },
     "execution_count": 46,
     "metadata": {},
     "output_type": "execute_result"
    }
   ],
   "source": [
    "comp_adaptor_df.head()"
   ]
  },
  {
   "cell_type": "code",
   "execution_count": 47,
   "metadata": {
    "collapsed": true
   },
   "outputs": [],
   "source": [
    "#remove end_form_id_x and end_form_id_y as they do not give any new information for each row\n",
    "comp_adaptor_df = comp_adaptor_df.drop('end_form_id_x', 1).drop('end_form_id_y', 1)"
   ]
  },
  {
   "cell_type": "code",
   "execution_count": 48,
   "metadata": {
    "collapsed": false,
    "scrolled": true
   },
   "outputs": [
    {
     "data": {
      "text/html": [
       "<div>\n",
       "<table border=\"1\" class=\"dataframe\">\n",
       "  <thead>\n",
       "    <tr style=\"text-align: right;\">\n",
       "      <th></th>\n",
       "      <th>component_id</th>\n",
       "      <th>adaptor_angle</th>\n",
       "      <th>overall_length</th>\n",
       "      <th>end_form_id_1</th>\n",
       "      <th>connection_type_id_1</th>\n",
       "      <th>length_1</th>\n",
       "      <th>thread_size_1</th>\n",
       "      <th>thread_pitch_1</th>\n",
       "      <th>nominal_size_1</th>\n",
       "      <th>end_form_id_2</th>\n",
       "      <th>...</th>\n",
       "      <th>thread_size_2</th>\n",
       "      <th>thread_pitch_2</th>\n",
       "      <th>nominal_size_2</th>\n",
       "      <th>hex_size</th>\n",
       "      <th>unique_feature</th>\n",
       "      <th>orientation</th>\n",
       "      <th>weight</th>\n",
       "      <th>component_type</th>\n",
       "      <th>end_form_1</th>\n",
       "      <th>end_form_2</th>\n",
       "    </tr>\n",
       "  </thead>\n",
       "  <tbody>\n",
       "    <tr>\n",
       "      <th>0</th>\n",
       "      <td>C-0005</td>\n",
       "      <td>NaN</td>\n",
       "      <td>58.4</td>\n",
       "      <td>A-001</td>\n",
       "      <td>B-001</td>\n",
       "      <td>NaN</td>\n",
       "      <td>1.312</td>\n",
       "      <td>12</td>\n",
       "      <td>NaN</td>\n",
       "      <td>A-001</td>\n",
       "      <td>...</td>\n",
       "      <td>1.000</td>\n",
       "      <td>11.5</td>\n",
       "      <td>NaN</td>\n",
       "      <td>34.93</td>\n",
       "      <td>No</td>\n",
       "      <td>No</td>\n",
       "      <td>0.206</td>\n",
       "      <td>Straight Adapter</td>\n",
       "      <td>Male (Stud)</td>\n",
       "      <td>Male (Stud)</td>\n",
       "    </tr>\n",
       "    <tr>\n",
       "      <th>1</th>\n",
       "      <td>C-0006</td>\n",
       "      <td>NaN</td>\n",
       "      <td>34.8</td>\n",
       "      <td>A-001</td>\n",
       "      <td>B-001</td>\n",
       "      <td>NaN</td>\n",
       "      <td>0.437</td>\n",
       "      <td>20</td>\n",
       "      <td>NaN</td>\n",
       "      <td>A-001</td>\n",
       "      <td>...</td>\n",
       "      <td>0.750</td>\n",
       "      <td>16.0</td>\n",
       "      <td>NaN</td>\n",
       "      <td>22.20</td>\n",
       "      <td>No</td>\n",
       "      <td>No</td>\n",
       "      <td>0.083</td>\n",
       "      <td>Straight Adapter</td>\n",
       "      <td>Male (Stud)</td>\n",
       "      <td>Male (Stud)</td>\n",
       "    </tr>\n",
       "    <tr>\n",
       "      <th>2</th>\n",
       "      <td>C-1435</td>\n",
       "      <td>NaN</td>\n",
       "      <td>20.3</td>\n",
       "      <td>A-007</td>\n",
       "      <td>B-004</td>\n",
       "      <td>NaN</td>\n",
       "      <td>NaN</td>\n",
       "      <td>NaN</td>\n",
       "      <td>15.88</td>\n",
       "      <td>A-001</td>\n",
       "      <td>...</td>\n",
       "      <td>0.875</td>\n",
       "      <td>18.0</td>\n",
       "      <td>NaN</td>\n",
       "      <td>22.22</td>\n",
       "      <td>No</td>\n",
       "      <td>No</td>\n",
       "      <td>0.023</td>\n",
       "      <td>Straight Adapter</td>\n",
       "      <td>Port</td>\n",
       "      <td>Male (Stud)</td>\n",
       "    </tr>\n",
       "    <tr>\n",
       "      <th>3</th>\n",
       "      <td>C-1546</td>\n",
       "      <td>NaN</td>\n",
       "      <td>26.4</td>\n",
       "      <td>A-007</td>\n",
       "      <td>B-004</td>\n",
       "      <td>NaN</td>\n",
       "      <td>0.125</td>\n",
       "      <td>27</td>\n",
       "      <td>NaN</td>\n",
       "      <td>A-001</td>\n",
       "      <td>...</td>\n",
       "      <td>0.125</td>\n",
       "      <td>27.0</td>\n",
       "      <td>NaN</td>\n",
       "      <td>15.88</td>\n",
       "      <td>No</td>\n",
       "      <td>No</td>\n",
       "      <td>0.026</td>\n",
       "      <td>Straight Adapter</td>\n",
       "      <td>Port</td>\n",
       "      <td>Male (Stud)</td>\n",
       "    </tr>\n",
       "    <tr>\n",
       "      <th>4</th>\n",
       "      <td>C-1583</td>\n",
       "      <td>NaN</td>\n",
       "      <td>44.5</td>\n",
       "      <td>A-001</td>\n",
       "      <td>B-005</td>\n",
       "      <td>NaN</td>\n",
       "      <td>1.312</td>\n",
       "      <td>12</td>\n",
       "      <td>NaN</td>\n",
       "      <td>A-007</td>\n",
       "      <td>...</td>\n",
       "      <td>1.062</td>\n",
       "      <td>12.0</td>\n",
       "      <td>NaN</td>\n",
       "      <td>38.10</td>\n",
       "      <td>No</td>\n",
       "      <td>No</td>\n",
       "      <td>0.256</td>\n",
       "      <td>Straight Adapter</td>\n",
       "      <td>Male (Stud)</td>\n",
       "      <td>Port</td>\n",
       "    </tr>\n",
       "  </tbody>\n",
       "</table>\n",
       "<p>5 rows × 22 columns</p>\n",
       "</div>"
      ],
      "text/plain": [
       "  component_id  adaptor_angle  overall_length end_form_id_1  \\\n",
       "0       C-0005            NaN            58.4         A-001   \n",
       "1       C-0006            NaN            34.8         A-001   \n",
       "2       C-1435            NaN            20.3         A-007   \n",
       "3       C-1546            NaN            26.4         A-007   \n",
       "4       C-1583            NaN            44.5         A-001   \n",
       "\n",
       "  connection_type_id_1  length_1  thread_size_1  thread_pitch_1  \\\n",
       "0                B-001       NaN          1.312              12   \n",
       "1                B-001       NaN          0.437              20   \n",
       "2                B-004       NaN            NaN             NaN   \n",
       "3                B-004       NaN          0.125              27   \n",
       "4                B-005       NaN          1.312              12   \n",
       "\n",
       "   nominal_size_1 end_form_id_2     ...      thread_size_2  thread_pitch_2  \\\n",
       "0             NaN         A-001     ...              1.000            11.5   \n",
       "1             NaN         A-001     ...              0.750            16.0   \n",
       "2           15.88         A-001     ...              0.875            18.0   \n",
       "3             NaN         A-001     ...              0.125            27.0   \n",
       "4             NaN         A-007     ...              1.062            12.0   \n",
       "\n",
       "   nominal_size_2  hex_size  unique_feature  orientation weight  \\\n",
       "0             NaN     34.93              No           No  0.206   \n",
       "1             NaN     22.20              No           No  0.083   \n",
       "2             NaN     22.22              No           No  0.023   \n",
       "3             NaN     15.88              No           No  0.026   \n",
       "4             NaN     38.10              No           No  0.256   \n",
       "\n",
       "     component_type   end_form_1   end_form_2  \n",
       "0  Straight Adapter  Male (Stud)  Male (Stud)  \n",
       "1  Straight Adapter  Male (Stud)  Male (Stud)  \n",
       "2  Straight Adapter         Port  Male (Stud)  \n",
       "3  Straight Adapter         Port  Male (Stud)  \n",
       "4  Straight Adapter  Male (Stud)         Port  \n",
       "\n",
       "[5 rows x 22 columns]"
      ]
     },
     "execution_count": 48,
     "metadata": {},
     "output_type": "execute_result"
    }
   ],
   "source": [
    "#let's rename the new columns name_x and name_y\n",
    "comp_adaptor_df = comp_adaptor_df.rename(index = str, columns={\"name_x\": \"end_form_1\", \"name_y\": \"end_form_2\"})\n",
    "comp_adaptor_df.head()"
   ]
  },
  {
   "cell_type": "code",
   "execution_count": 49,
   "metadata": {
    "collapsed": true
   },
   "outputs": [],
   "source": [
    "#write columns out of new comp_adaptor_df\n",
    "writeColumnsToFile(comp_adaptor_df, 'comp_adaptor_columns_3')"
   ]
  },
  {
   "cell_type": "markdown",
   "metadata": {},
   "source": [
    " "
   ]
  },
  {
   "cell_type": "markdown",
   "metadata": {},
   "source": [
    "Left join **comp_threaded_df** to **type_end_form_df** and effectively replace *end_form_id_1...end_form_id_4* with its\n",
    "respective end form name."
   ]
  },
  {
   "cell_type": "code",
   "execution_count": 50,
   "metadata": {
    "collapsed": false
   },
   "outputs": [
    {
     "name": "stdout",
     "output_type": "stream",
     "text": [
      "comp_threaded_df = comp_threaded_df.merge(type_end_form_df, how = \"left\", left_on = \"end_form_id_1\", right_on = \"end_form_id\").merge(type_end_form_df, how = \"left\", left_on = \"end_form_id_2\", right_on = \"end_form_id\").merge(type_end_form_df, how = \"left\", left_on = \"end_form_id_3\", right_on = \"end_form_id\").merge(type_end_form_df, how = \"left\", left_on = \"end_form_id_4\", right_on = \"end_form_id\")\n"
     ]
    }
   ],
   "source": [
    "comp_threaded_join = join_df1_to_df2('comp_threaded_df', 'type_end_form_df', 4, 'comp_threaded_df', 'left', 'end_form_id')\n",
    "print comp_threaded_join\n",
    "exec(comp_threaded_join)"
   ]
  },
  {
   "cell_type": "code",
   "execution_count": 51,
   "metadata": {
    "collapsed": false
   },
   "outputs": [],
   "source": [
    "#remove end_form_id_x and end_form_id_y as they do not give any new information for each row\n",
    "comp_threaded_df = comp_threaded_df.drop('end_form_id_x', 1).drop('end_form_id_y', 1)"
   ]
  },
  {
   "cell_type": "code",
   "execution_count": 52,
   "metadata": {
    "collapsed": false
   },
   "outputs": [
    {
     "data": {
      "text/html": [
       "<div>\n",
       "<table border=\"1\" class=\"dataframe\">\n",
       "  <thead>\n",
       "    <tr style=\"text-align: right;\">\n",
       "      <th></th>\n",
       "      <th>component_id</th>\n",
       "      <th>adaptor_angle</th>\n",
       "      <th>overall_length</th>\n",
       "      <th>hex_size</th>\n",
       "      <th>end_form_id_1</th>\n",
       "      <th>connection_type_id_1</th>\n",
       "      <th>length_1</th>\n",
       "      <th>thread_size_1</th>\n",
       "      <th>thread_pitch_1</th>\n",
       "      <th>nominal_size_1</th>\n",
       "      <th>...</th>\n",
       "      <th>thread_pitch_4</th>\n",
       "      <th>nominal_size_4</th>\n",
       "      <th>unique_feature</th>\n",
       "      <th>orientation</th>\n",
       "      <th>weight</th>\n",
       "      <th>component_type</th>\n",
       "      <th>name_x</th>\n",
       "      <th>name_y</th>\n",
       "      <th>name_x</th>\n",
       "      <th>name_y</th>\n",
       "    </tr>\n",
       "  </thead>\n",
       "  <tbody>\n",
       "    <tr>\n",
       "      <th>0</th>\n",
       "      <td>C-0007</td>\n",
       "      <td>NaN</td>\n",
       "      <td>24.4</td>\n",
       "      <td>12.70</td>\n",
       "      <td>A-001</td>\n",
       "      <td>B-001</td>\n",
       "      <td>NaN</td>\n",
       "      <td>0.437</td>\n",
       "      <td>20</td>\n",
       "      <td>NaN</td>\n",
       "      <td>...</td>\n",
       "      <td>NaN</td>\n",
       "      <td>NaN</td>\n",
       "      <td>No</td>\n",
       "      <td>No</td>\n",
       "      <td>0.028</td>\n",
       "      <td>Threaded Straight</td>\n",
       "      <td>Male (Stud)</td>\n",
       "      <td>Braze-Weld Socket</td>\n",
       "      <td>NaN</td>\n",
       "      <td>NaN</td>\n",
       "    </tr>\n",
       "    <tr>\n",
       "      <th>1</th>\n",
       "      <td>C-0030</td>\n",
       "      <td>90</td>\n",
       "      <td>NaN</td>\n",
       "      <td>NaN</td>\n",
       "      <td>A-003</td>\n",
       "      <td>NaN</td>\n",
       "      <td>47</td>\n",
       "      <td>NaN</td>\n",
       "      <td>NaN</td>\n",
       "      <td>42</td>\n",
       "      <td>...</td>\n",
       "      <td>NaN</td>\n",
       "      <td>NaN</td>\n",
       "      <td>No</td>\n",
       "      <td>Yes</td>\n",
       "      <td>0.914</td>\n",
       "      <td>Threaded Elbow</td>\n",
       "      <td>Braze-Weld Boss</td>\n",
       "      <td>Braze-Weld Boss</td>\n",
       "      <td>NaN</td>\n",
       "      <td>NaN</td>\n",
       "    </tr>\n",
       "    <tr>\n",
       "      <th>2</th>\n",
       "      <td>C-0041</td>\n",
       "      <td>NaN</td>\n",
       "      <td>28.0</td>\n",
       "      <td>32.00</td>\n",
       "      <td>A-004</td>\n",
       "      <td>NaN</td>\n",
       "      <td>NaN</td>\n",
       "      <td>NaN</td>\n",
       "      <td>NaN</td>\n",
       "      <td>21.7</td>\n",
       "      <td>...</td>\n",
       "      <td>NaN</td>\n",
       "      <td>NaN</td>\n",
       "      <td>No</td>\n",
       "      <td>No</td>\n",
       "      <td>0.120</td>\n",
       "      <td>Threaded Straight</td>\n",
       "      <td>Braze-Weld Socket</td>\n",
       "      <td>Male (Stud)</td>\n",
       "      <td>NaN</td>\n",
       "      <td>NaN</td>\n",
       "    </tr>\n",
       "    <tr>\n",
       "      <th>3</th>\n",
       "      <td>C-0043</td>\n",
       "      <td>NaN</td>\n",
       "      <td>38.0</td>\n",
       "      <td>27.00</td>\n",
       "      <td>A-003</td>\n",
       "      <td>NaN</td>\n",
       "      <td>NaN</td>\n",
       "      <td>NaN</td>\n",
       "      <td>NaN</td>\n",
       "      <td>21.7</td>\n",
       "      <td>...</td>\n",
       "      <td>NaN</td>\n",
       "      <td>NaN</td>\n",
       "      <td>No</td>\n",
       "      <td>No</td>\n",
       "      <td>0.090</td>\n",
       "      <td>Threaded Straight</td>\n",
       "      <td>Braze-Weld Boss</td>\n",
       "      <td>Male (Stud)</td>\n",
       "      <td>NaN</td>\n",
       "      <td>NaN</td>\n",
       "    </tr>\n",
       "    <tr>\n",
       "      <th>4</th>\n",
       "      <td>C-0044</td>\n",
       "      <td>NaN</td>\n",
       "      <td>30.5</td>\n",
       "      <td>41.28</td>\n",
       "      <td>A-004</td>\n",
       "      <td>NaN</td>\n",
       "      <td>NaN</td>\n",
       "      <td>NaN</td>\n",
       "      <td>NaN</td>\n",
       "      <td>34</td>\n",
       "      <td>...</td>\n",
       "      <td>NaN</td>\n",
       "      <td>NaN</td>\n",
       "      <td>No</td>\n",
       "      <td>No</td>\n",
       "      <td>0.182</td>\n",
       "      <td>Threaded Straight</td>\n",
       "      <td>Braze-Weld Socket</td>\n",
       "      <td>Male (Stud)</td>\n",
       "      <td>NaN</td>\n",
       "      <td>NaN</td>\n",
       "    </tr>\n",
       "  </tbody>\n",
       "</table>\n",
       "<p>5 rows × 36 columns</p>\n",
       "</div>"
      ],
      "text/plain": [
       "  component_id  adaptor_angle  overall_length  hex_size end_form_id_1  \\\n",
       "0       C-0007            NaN            24.4     12.70         A-001   \n",
       "1       C-0030             90             NaN       NaN         A-003   \n",
       "2       C-0041            NaN            28.0     32.00         A-004   \n",
       "3       C-0043            NaN            38.0     27.00         A-003   \n",
       "4       C-0044            NaN            30.5     41.28         A-004   \n",
       "\n",
       "  connection_type_id_1  length_1  thread_size_1  thread_pitch_1  \\\n",
       "0                B-001       NaN          0.437              20   \n",
       "1                  NaN        47            NaN             NaN   \n",
       "2                  NaN       NaN            NaN             NaN   \n",
       "3                  NaN       NaN            NaN             NaN   \n",
       "4                  NaN       NaN            NaN             NaN   \n",
       "\n",
       "  nominal_size_1   ...   thread_pitch_4 nominal_size_4  unique_feature  \\\n",
       "0            NaN   ...              NaN            NaN              No   \n",
       "1             42   ...              NaN            NaN              No   \n",
       "2           21.7   ...              NaN            NaN              No   \n",
       "3           21.7   ...              NaN            NaN              No   \n",
       "4             34   ...              NaN            NaN              No   \n",
       "\n",
       "   orientation  weight     component_type             name_x  \\\n",
       "0           No   0.028  Threaded Straight        Male (Stud)   \n",
       "1          Yes   0.914     Threaded Elbow    Braze-Weld Boss   \n",
       "2           No   0.120  Threaded Straight  Braze-Weld Socket   \n",
       "3           No   0.090  Threaded Straight    Braze-Weld Boss   \n",
       "4           No   0.182  Threaded Straight  Braze-Weld Socket   \n",
       "\n",
       "              name_y  name_x  name_y  \n",
       "0  Braze-Weld Socket     NaN     NaN  \n",
       "1    Braze-Weld Boss     NaN     NaN  \n",
       "2        Male (Stud)     NaN     NaN  \n",
       "3        Male (Stud)     NaN     NaN  \n",
       "4        Male (Stud)     NaN     NaN  \n",
       "\n",
       "[5 rows x 36 columns]"
      ]
     },
     "execution_count": 52,
     "metadata": {},
     "output_type": "execute_result"
    }
   ],
   "source": [
    "comp_threaded_df.head()"
   ]
  },
  {
   "cell_type": "code",
   "execution_count": 53,
   "metadata": {
    "collapsed": false
   },
   "outputs": [],
   "source": [
    "#reset column names to proper naming convention\n",
    "new_columns_lst = []\n",
    "for i in range(len(comp_threaded_df.columns) - 4):\n",
    "    new_columns_lst.append(comp_threaded_df.columns[i])\n",
    "\n",
    "#change the new name columns with proper naming convention\n",
    "for i in range(4):\n",
    "    col_name = 'end_form_' + str(i + 1) \n",
    "    new_columns_lst.append(col_name)\n",
    "    \n",
    "comp_threaded_df.columns = new_columns_lst[:]\n",
    "\n",
    "#remove end_form_id_1 to end_form_id_4\n",
    "for i in range(4):\n",
    "    column_string = '\"end_form_id_' + str(i + 1) + '\"'\n",
    "    command = 'comp_threaded_df = comp_threaded_df.drop(' + column_string + ', 1)'\n",
    "    exec(command)"
   ]
  },
  {
   "cell_type": "code",
   "execution_count": 54,
   "metadata": {
    "collapsed": false,
    "scrolled": true
   },
   "outputs": [
    {
     "data": {
      "text/html": [
       "<div>\n",
       "<table border=\"1\" class=\"dataframe\">\n",
       "  <thead>\n",
       "    <tr style=\"text-align: right;\">\n",
       "      <th></th>\n",
       "      <th>component_id</th>\n",
       "      <th>adaptor_angle</th>\n",
       "      <th>overall_length</th>\n",
       "      <th>hex_size</th>\n",
       "      <th>connection_type_id_1</th>\n",
       "      <th>length_1</th>\n",
       "      <th>thread_size_1</th>\n",
       "      <th>thread_pitch_1</th>\n",
       "      <th>nominal_size_1</th>\n",
       "      <th>connection_type_id_2</th>\n",
       "      <th>...</th>\n",
       "      <th>thread_pitch_4</th>\n",
       "      <th>nominal_size_4</th>\n",
       "      <th>unique_feature</th>\n",
       "      <th>orientation</th>\n",
       "      <th>weight</th>\n",
       "      <th>component_type</th>\n",
       "      <th>end_form_1</th>\n",
       "      <th>end_form_2</th>\n",
       "      <th>end_form_3</th>\n",
       "      <th>end_form_4</th>\n",
       "    </tr>\n",
       "  </thead>\n",
       "  <tbody>\n",
       "    <tr>\n",
       "      <th>0</th>\n",
       "      <td>C-0007</td>\n",
       "      <td>NaN</td>\n",
       "      <td>24.4</td>\n",
       "      <td>12.70</td>\n",
       "      <td>B-001</td>\n",
       "      <td>NaN</td>\n",
       "      <td>0.437</td>\n",
       "      <td>20</td>\n",
       "      <td>NaN</td>\n",
       "      <td>NaN</td>\n",
       "      <td>...</td>\n",
       "      <td>NaN</td>\n",
       "      <td>NaN</td>\n",
       "      <td>No</td>\n",
       "      <td>No</td>\n",
       "      <td>0.028</td>\n",
       "      <td>Threaded Straight</td>\n",
       "      <td>Male (Stud)</td>\n",
       "      <td>Braze-Weld Socket</td>\n",
       "      <td>NaN</td>\n",
       "      <td>NaN</td>\n",
       "    </tr>\n",
       "    <tr>\n",
       "      <th>1</th>\n",
       "      <td>C-0030</td>\n",
       "      <td>90</td>\n",
       "      <td>NaN</td>\n",
       "      <td>NaN</td>\n",
       "      <td>NaN</td>\n",
       "      <td>47</td>\n",
       "      <td>NaN</td>\n",
       "      <td>NaN</td>\n",
       "      <td>42</td>\n",
       "      <td>NaN</td>\n",
       "      <td>...</td>\n",
       "      <td>NaN</td>\n",
       "      <td>NaN</td>\n",
       "      <td>No</td>\n",
       "      <td>Yes</td>\n",
       "      <td>0.914</td>\n",
       "      <td>Threaded Elbow</td>\n",
       "      <td>Braze-Weld Boss</td>\n",
       "      <td>Braze-Weld Boss</td>\n",
       "      <td>NaN</td>\n",
       "      <td>NaN</td>\n",
       "    </tr>\n",
       "    <tr>\n",
       "      <th>2</th>\n",
       "      <td>C-0041</td>\n",
       "      <td>NaN</td>\n",
       "      <td>28.0</td>\n",
       "      <td>32.00</td>\n",
       "      <td>NaN</td>\n",
       "      <td>NaN</td>\n",
       "      <td>NaN</td>\n",
       "      <td>NaN</td>\n",
       "      <td>21.7</td>\n",
       "      <td>B-002</td>\n",
       "      <td>...</td>\n",
       "      <td>NaN</td>\n",
       "      <td>NaN</td>\n",
       "      <td>No</td>\n",
       "      <td>No</td>\n",
       "      <td>0.120</td>\n",
       "      <td>Threaded Straight</td>\n",
       "      <td>Braze-Weld Socket</td>\n",
       "      <td>Male (Stud)</td>\n",
       "      <td>NaN</td>\n",
       "      <td>NaN</td>\n",
       "    </tr>\n",
       "    <tr>\n",
       "      <th>3</th>\n",
       "      <td>C-0043</td>\n",
       "      <td>NaN</td>\n",
       "      <td>38.0</td>\n",
       "      <td>27.00</td>\n",
       "      <td>NaN</td>\n",
       "      <td>NaN</td>\n",
       "      <td>NaN</td>\n",
       "      <td>NaN</td>\n",
       "      <td>21.7</td>\n",
       "      <td>B-002</td>\n",
       "      <td>...</td>\n",
       "      <td>NaN</td>\n",
       "      <td>NaN</td>\n",
       "      <td>No</td>\n",
       "      <td>No</td>\n",
       "      <td>0.090</td>\n",
       "      <td>Threaded Straight</td>\n",
       "      <td>Braze-Weld Boss</td>\n",
       "      <td>Male (Stud)</td>\n",
       "      <td>NaN</td>\n",
       "      <td>NaN</td>\n",
       "    </tr>\n",
       "    <tr>\n",
       "      <th>4</th>\n",
       "      <td>C-0044</td>\n",
       "      <td>NaN</td>\n",
       "      <td>30.5</td>\n",
       "      <td>41.28</td>\n",
       "      <td>NaN</td>\n",
       "      <td>NaN</td>\n",
       "      <td>NaN</td>\n",
       "      <td>NaN</td>\n",
       "      <td>34</td>\n",
       "      <td>B-002</td>\n",
       "      <td>...</td>\n",
       "      <td>NaN</td>\n",
       "      <td>NaN</td>\n",
       "      <td>No</td>\n",
       "      <td>No</td>\n",
       "      <td>0.182</td>\n",
       "      <td>Threaded Straight</td>\n",
       "      <td>Braze-Weld Socket</td>\n",
       "      <td>Male (Stud)</td>\n",
       "      <td>NaN</td>\n",
       "      <td>NaN</td>\n",
       "    </tr>\n",
       "  </tbody>\n",
       "</table>\n",
       "<p>5 rows × 32 columns</p>\n",
       "</div>"
      ],
      "text/plain": [
       "  component_id  adaptor_angle  overall_length  hex_size connection_type_id_1  \\\n",
       "0       C-0007            NaN            24.4     12.70                B-001   \n",
       "1       C-0030             90             NaN       NaN                  NaN   \n",
       "2       C-0041            NaN            28.0     32.00                  NaN   \n",
       "3       C-0043            NaN            38.0     27.00                  NaN   \n",
       "4       C-0044            NaN            30.5     41.28                  NaN   \n",
       "\n",
       "   length_1  thread_size_1  thread_pitch_1 nominal_size_1  \\\n",
       "0       NaN          0.437              20            NaN   \n",
       "1        47            NaN             NaN             42   \n",
       "2       NaN            NaN             NaN           21.7   \n",
       "3       NaN            NaN             NaN           21.7   \n",
       "4       NaN            NaN             NaN             34   \n",
       "\n",
       "  connection_type_id_2    ...      thread_pitch_4  nominal_size_4  \\\n",
       "0                  NaN    ...                 NaN             NaN   \n",
       "1                  NaN    ...                 NaN             NaN   \n",
       "2                B-002    ...                 NaN             NaN   \n",
       "3                B-002    ...                 NaN             NaN   \n",
       "4                B-002    ...                 NaN             NaN   \n",
       "\n",
       "   unique_feature  orientation weight     component_type         end_form_1  \\\n",
       "0              No           No  0.028  Threaded Straight        Male (Stud)   \n",
       "1              No          Yes  0.914     Threaded Elbow    Braze-Weld Boss   \n",
       "2              No           No  0.120  Threaded Straight  Braze-Weld Socket   \n",
       "3              No           No  0.090  Threaded Straight    Braze-Weld Boss   \n",
       "4              No           No  0.182  Threaded Straight  Braze-Weld Socket   \n",
       "\n",
       "          end_form_2  end_form_3 end_form_4  \n",
       "0  Braze-Weld Socket         NaN        NaN  \n",
       "1    Braze-Weld Boss         NaN        NaN  \n",
       "2        Male (Stud)         NaN        NaN  \n",
       "3        Male (Stud)         NaN        NaN  \n",
       "4        Male (Stud)         NaN        NaN  \n",
       "\n",
       "[5 rows x 32 columns]"
      ]
     },
     "execution_count": 54,
     "metadata": {},
     "output_type": "execute_result"
    }
   ],
   "source": [
    "comp_threaded_df.head()"
   ]
  },
  {
   "cell_type": "code",
   "execution_count": 55,
   "metadata": {
    "collapsed": true
   },
   "outputs": [],
   "source": [
    "#write columns out of new comp_threaded_df\n",
    "writeColumnsToFile(comp_threaded_df, 'comp_threaded_4')"
   ]
  },
  {
   "cell_type": "markdown",
   "metadata": {},
   "source": [
    " "
   ]
  },
  {
   "cell_type": "markdown",
   "metadata": {},
   "source": [
    "Left join **comp_adaptor_df** to **type_connection_df** on *connection_type_id_1 = connection_type_id* and again for\n",
    "*connection_type_id_2 = connection_type_id*"
   ]
  },
  {
   "cell_type": "code",
   "execution_count": 56,
   "metadata": {
    "collapsed": false
   },
   "outputs": [
    {
     "name": "stdout",
     "output_type": "stream",
     "text": [
      "comp_adaptor_df = comp_adaptor_df.merge(type_connection_df, how = \"left\", left_on = \"connection_type_id_1\", right_on = \"connection_type_id\").merge(type_connection_df, how = \"left\", left_on = \"connection_type_id_2\", right_on = \"connection_type_id\")\n"
     ]
    }
   ],
   "source": [
    "#first rest the index for type_connection_df\n",
    "type_connection_df = type_connection_df.reset_index('connection_type_id')\n",
    "comp_adaptor_join = join_df1_to_df2('comp_adaptor_df', 'type_connection_df', 2, 'comp_adaptor_df', 'left', 'connection_type_id')\n",
    "print comp_adaptor_join\n",
    "exec(comp_adaptor_join)"
   ]
  },
  {
   "cell_type": "code",
   "execution_count": 57,
   "metadata": {
    "collapsed": false
   },
   "outputs": [],
   "source": [
    "#remove connection_type_id_x and connection_type_id_y since they are essentially duplicate columns\n",
    "comp_adaptor_df = comp_adaptor_df.drop('connection_type_id_x', 1).drop('connection_type_id_y', 1)"
   ]
  },
  {
   "cell_type": "code",
   "execution_count": 58,
   "metadata": {
    "collapsed": false,
    "scrolled": true
   },
   "outputs": [
    {
     "data": {
      "text/html": [
       "<div>\n",
       "<table border=\"1\" class=\"dataframe\">\n",
       "  <thead>\n",
       "    <tr style=\"text-align: right;\">\n",
       "      <th></th>\n",
       "      <th>component_id</th>\n",
       "      <th>adaptor_angle</th>\n",
       "      <th>overall_length</th>\n",
       "      <th>end_form_id_1</th>\n",
       "      <th>connection_type_id_1</th>\n",
       "      <th>length_1</th>\n",
       "      <th>thread_size_1</th>\n",
       "      <th>thread_pitch_1</th>\n",
       "      <th>nominal_size_1</th>\n",
       "      <th>end_form_id_2</th>\n",
       "      <th>...</th>\n",
       "      <th>nominal_size_2</th>\n",
       "      <th>hex_size</th>\n",
       "      <th>unique_feature</th>\n",
       "      <th>orientation</th>\n",
       "      <th>weight</th>\n",
       "      <th>component_type</th>\n",
       "      <th>end_form_1</th>\n",
       "      <th>end_form_2</th>\n",
       "      <th>name_x</th>\n",
       "      <th>name_y</th>\n",
       "    </tr>\n",
       "  </thead>\n",
       "  <tbody>\n",
       "    <tr>\n",
       "      <th>0</th>\n",
       "      <td>C-0005</td>\n",
       "      <td>NaN</td>\n",
       "      <td>58.4</td>\n",
       "      <td>A-001</td>\n",
       "      <td>B-001</td>\n",
       "      <td>NaN</td>\n",
       "      <td>1.312</td>\n",
       "      <td>12</td>\n",
       "      <td>NaN</td>\n",
       "      <td>A-001</td>\n",
       "      <td>...</td>\n",
       "      <td>NaN</td>\n",
       "      <td>34.93</td>\n",
       "      <td>No</td>\n",
       "      <td>No</td>\n",
       "      <td>0.206</td>\n",
       "      <td>Straight Adapter</td>\n",
       "      <td>Male (Stud)</td>\n",
       "      <td>Male (Stud)</td>\n",
       "      <td>37 deg Flare-SAE J514</td>\n",
       "      <td>NPTF-SAE J476/J514</td>\n",
       "    </tr>\n",
       "    <tr>\n",
       "      <th>1</th>\n",
       "      <td>C-0006</td>\n",
       "      <td>NaN</td>\n",
       "      <td>34.8</td>\n",
       "      <td>A-001</td>\n",
       "      <td>B-001</td>\n",
       "      <td>NaN</td>\n",
       "      <td>0.437</td>\n",
       "      <td>20</td>\n",
       "      <td>NaN</td>\n",
       "      <td>A-001</td>\n",
       "      <td>...</td>\n",
       "      <td>NaN</td>\n",
       "      <td>22.20</td>\n",
       "      <td>No</td>\n",
       "      <td>No</td>\n",
       "      <td>0.083</td>\n",
       "      <td>Straight Adapter</td>\n",
       "      <td>Male (Stud)</td>\n",
       "      <td>Male (Stud)</td>\n",
       "      <td>37 deg Flare-SAE J514</td>\n",
       "      <td>SAE STOR-SAE J1926</td>\n",
       "    </tr>\n",
       "    <tr>\n",
       "      <th>2</th>\n",
       "      <td>C-1435</td>\n",
       "      <td>NaN</td>\n",
       "      <td>20.3</td>\n",
       "      <td>A-007</td>\n",
       "      <td>B-004</td>\n",
       "      <td>NaN</td>\n",
       "      <td>NaN</td>\n",
       "      <td>NaN</td>\n",
       "      <td>15.88</td>\n",
       "      <td>A-001</td>\n",
       "      <td>...</td>\n",
       "      <td>NaN</td>\n",
       "      <td>22.22</td>\n",
       "      <td>No</td>\n",
       "      <td>No</td>\n",
       "      <td>0.023</td>\n",
       "      <td>Straight Adapter</td>\n",
       "      <td>Port</td>\n",
       "      <td>Male (Stud)</td>\n",
       "      <td>NPTF-SAE J476/J514</td>\n",
       "      <td>45 deg Inv Flare-SAE J512</td>\n",
       "    </tr>\n",
       "    <tr>\n",
       "      <th>3</th>\n",
       "      <td>C-1546</td>\n",
       "      <td>NaN</td>\n",
       "      <td>26.4</td>\n",
       "      <td>A-007</td>\n",
       "      <td>B-004</td>\n",
       "      <td>NaN</td>\n",
       "      <td>0.125</td>\n",
       "      <td>27</td>\n",
       "      <td>NaN</td>\n",
       "      <td>A-001</td>\n",
       "      <td>...</td>\n",
       "      <td>NaN</td>\n",
       "      <td>15.88</td>\n",
       "      <td>No</td>\n",
       "      <td>No</td>\n",
       "      <td>0.026</td>\n",
       "      <td>Straight Adapter</td>\n",
       "      <td>Port</td>\n",
       "      <td>Male (Stud)</td>\n",
       "      <td>NPTF-SAE J476/J514</td>\n",
       "      <td>NPTF-SAE J476/J514</td>\n",
       "    </tr>\n",
       "    <tr>\n",
       "      <th>4</th>\n",
       "      <td>C-1583</td>\n",
       "      <td>NaN</td>\n",
       "      <td>44.5</td>\n",
       "      <td>A-001</td>\n",
       "      <td>B-005</td>\n",
       "      <td>NaN</td>\n",
       "      <td>1.312</td>\n",
       "      <td>12</td>\n",
       "      <td>NaN</td>\n",
       "      <td>A-007</td>\n",
       "      <td>...</td>\n",
       "      <td>NaN</td>\n",
       "      <td>38.10</td>\n",
       "      <td>No</td>\n",
       "      <td>No</td>\n",
       "      <td>0.256</td>\n",
       "      <td>Straight Adapter</td>\n",
       "      <td>Male (Stud)</td>\n",
       "      <td>Port</td>\n",
       "      <td>SAE STOR-SAE J1926</td>\n",
       "      <td>SAE STOR-SAE J1926</td>\n",
       "    </tr>\n",
       "  </tbody>\n",
       "</table>\n",
       "<p>5 rows × 24 columns</p>\n",
       "</div>"
      ],
      "text/plain": [
       "  component_id  adaptor_angle  overall_length end_form_id_1  \\\n",
       "0       C-0005            NaN            58.4         A-001   \n",
       "1       C-0006            NaN            34.8         A-001   \n",
       "2       C-1435            NaN            20.3         A-007   \n",
       "3       C-1546            NaN            26.4         A-007   \n",
       "4       C-1583            NaN            44.5         A-001   \n",
       "\n",
       "  connection_type_id_1  length_1  thread_size_1  thread_pitch_1  \\\n",
       "0                B-001       NaN          1.312              12   \n",
       "1                B-001       NaN          0.437              20   \n",
       "2                B-004       NaN            NaN             NaN   \n",
       "3                B-004       NaN          0.125              27   \n",
       "4                B-005       NaN          1.312              12   \n",
       "\n",
       "   nominal_size_1 end_form_id_2            ...             nominal_size_2  \\\n",
       "0             NaN         A-001            ...                        NaN   \n",
       "1             NaN         A-001            ...                        NaN   \n",
       "2           15.88         A-001            ...                        NaN   \n",
       "3             NaN         A-001            ...                        NaN   \n",
       "4             NaN         A-007            ...                        NaN   \n",
       "\n",
       "   hex_size  unique_feature  orientation  weight    component_type  \\\n",
       "0     34.93              No           No   0.206  Straight Adapter   \n",
       "1     22.20              No           No   0.083  Straight Adapter   \n",
       "2     22.22              No           No   0.023  Straight Adapter   \n",
       "3     15.88              No           No   0.026  Straight Adapter   \n",
       "4     38.10              No           No   0.256  Straight Adapter   \n",
       "\n",
       "    end_form_1   end_form_2                 name_x                     name_y  \n",
       "0  Male (Stud)  Male (Stud)  37 deg Flare-SAE J514         NPTF-SAE J476/J514  \n",
       "1  Male (Stud)  Male (Stud)  37 deg Flare-SAE J514         SAE STOR-SAE J1926  \n",
       "2         Port  Male (Stud)     NPTF-SAE J476/J514  45 deg Inv Flare-SAE J512  \n",
       "3         Port  Male (Stud)     NPTF-SAE J476/J514         NPTF-SAE J476/J514  \n",
       "4  Male (Stud)         Port     SAE STOR-SAE J1926         SAE STOR-SAE J1926  \n",
       "\n",
       "[5 rows x 24 columns]"
      ]
     },
     "execution_count": 58,
     "metadata": {},
     "output_type": "execute_result"
    }
   ],
   "source": [
    "comp_adaptor_df.head()"
   ]
  },
  {
   "cell_type": "code",
   "execution_count": 59,
   "metadata": {
    "collapsed": true
   },
   "outputs": [],
   "source": [
    "#rename columns name_x and name_y\n",
    "comp_adaptor_df = comp_adaptor_df.rename(index = str, columns = {\"name_x\":\"connection_type_1\", \"name_y\":\"connection_type_2\"})"
   ]
  },
  {
   "cell_type": "code",
   "execution_count": 60,
   "metadata": {
    "collapsed": false
   },
   "outputs": [
    {
     "data": {
      "text/html": [
       "<div>\n",
       "<table border=\"1\" class=\"dataframe\">\n",
       "  <thead>\n",
       "    <tr style=\"text-align: right;\">\n",
       "      <th></th>\n",
       "      <th>component_id</th>\n",
       "      <th>adaptor_angle</th>\n",
       "      <th>overall_length</th>\n",
       "      <th>end_form_id_1</th>\n",
       "      <th>connection_type_id_1</th>\n",
       "      <th>length_1</th>\n",
       "      <th>thread_size_1</th>\n",
       "      <th>thread_pitch_1</th>\n",
       "      <th>nominal_size_1</th>\n",
       "      <th>end_form_id_2</th>\n",
       "      <th>...</th>\n",
       "      <th>nominal_size_2</th>\n",
       "      <th>hex_size</th>\n",
       "      <th>unique_feature</th>\n",
       "      <th>orientation</th>\n",
       "      <th>weight</th>\n",
       "      <th>component_type</th>\n",
       "      <th>end_form_1</th>\n",
       "      <th>end_form_2</th>\n",
       "      <th>connection_type_1</th>\n",
       "      <th>connection_type_2</th>\n",
       "    </tr>\n",
       "  </thead>\n",
       "  <tbody>\n",
       "    <tr>\n",
       "      <th>0</th>\n",
       "      <td>C-0005</td>\n",
       "      <td>NaN</td>\n",
       "      <td>58.4</td>\n",
       "      <td>A-001</td>\n",
       "      <td>B-001</td>\n",
       "      <td>NaN</td>\n",
       "      <td>1.312</td>\n",
       "      <td>12</td>\n",
       "      <td>NaN</td>\n",
       "      <td>A-001</td>\n",
       "      <td>...</td>\n",
       "      <td>NaN</td>\n",
       "      <td>34.93</td>\n",
       "      <td>No</td>\n",
       "      <td>No</td>\n",
       "      <td>0.206</td>\n",
       "      <td>Straight Adapter</td>\n",
       "      <td>Male (Stud)</td>\n",
       "      <td>Male (Stud)</td>\n",
       "      <td>37 deg Flare-SAE J514</td>\n",
       "      <td>NPTF-SAE J476/J514</td>\n",
       "    </tr>\n",
       "    <tr>\n",
       "      <th>1</th>\n",
       "      <td>C-0006</td>\n",
       "      <td>NaN</td>\n",
       "      <td>34.8</td>\n",
       "      <td>A-001</td>\n",
       "      <td>B-001</td>\n",
       "      <td>NaN</td>\n",
       "      <td>0.437</td>\n",
       "      <td>20</td>\n",
       "      <td>NaN</td>\n",
       "      <td>A-001</td>\n",
       "      <td>...</td>\n",
       "      <td>NaN</td>\n",
       "      <td>22.20</td>\n",
       "      <td>No</td>\n",
       "      <td>No</td>\n",
       "      <td>0.083</td>\n",
       "      <td>Straight Adapter</td>\n",
       "      <td>Male (Stud)</td>\n",
       "      <td>Male (Stud)</td>\n",
       "      <td>37 deg Flare-SAE J514</td>\n",
       "      <td>SAE STOR-SAE J1926</td>\n",
       "    </tr>\n",
       "    <tr>\n",
       "      <th>2</th>\n",
       "      <td>C-1435</td>\n",
       "      <td>NaN</td>\n",
       "      <td>20.3</td>\n",
       "      <td>A-007</td>\n",
       "      <td>B-004</td>\n",
       "      <td>NaN</td>\n",
       "      <td>NaN</td>\n",
       "      <td>NaN</td>\n",
       "      <td>15.88</td>\n",
       "      <td>A-001</td>\n",
       "      <td>...</td>\n",
       "      <td>NaN</td>\n",
       "      <td>22.22</td>\n",
       "      <td>No</td>\n",
       "      <td>No</td>\n",
       "      <td>0.023</td>\n",
       "      <td>Straight Adapter</td>\n",
       "      <td>Port</td>\n",
       "      <td>Male (Stud)</td>\n",
       "      <td>NPTF-SAE J476/J514</td>\n",
       "      <td>45 deg Inv Flare-SAE J512</td>\n",
       "    </tr>\n",
       "    <tr>\n",
       "      <th>3</th>\n",
       "      <td>C-1546</td>\n",
       "      <td>NaN</td>\n",
       "      <td>26.4</td>\n",
       "      <td>A-007</td>\n",
       "      <td>B-004</td>\n",
       "      <td>NaN</td>\n",
       "      <td>0.125</td>\n",
       "      <td>27</td>\n",
       "      <td>NaN</td>\n",
       "      <td>A-001</td>\n",
       "      <td>...</td>\n",
       "      <td>NaN</td>\n",
       "      <td>15.88</td>\n",
       "      <td>No</td>\n",
       "      <td>No</td>\n",
       "      <td>0.026</td>\n",
       "      <td>Straight Adapter</td>\n",
       "      <td>Port</td>\n",
       "      <td>Male (Stud)</td>\n",
       "      <td>NPTF-SAE J476/J514</td>\n",
       "      <td>NPTF-SAE J476/J514</td>\n",
       "    </tr>\n",
       "    <tr>\n",
       "      <th>4</th>\n",
       "      <td>C-1583</td>\n",
       "      <td>NaN</td>\n",
       "      <td>44.5</td>\n",
       "      <td>A-001</td>\n",
       "      <td>B-005</td>\n",
       "      <td>NaN</td>\n",
       "      <td>1.312</td>\n",
       "      <td>12</td>\n",
       "      <td>NaN</td>\n",
       "      <td>A-007</td>\n",
       "      <td>...</td>\n",
       "      <td>NaN</td>\n",
       "      <td>38.10</td>\n",
       "      <td>No</td>\n",
       "      <td>No</td>\n",
       "      <td>0.256</td>\n",
       "      <td>Straight Adapter</td>\n",
       "      <td>Male (Stud)</td>\n",
       "      <td>Port</td>\n",
       "      <td>SAE STOR-SAE J1926</td>\n",
       "      <td>SAE STOR-SAE J1926</td>\n",
       "    </tr>\n",
       "  </tbody>\n",
       "</table>\n",
       "<p>5 rows × 24 columns</p>\n",
       "</div>"
      ],
      "text/plain": [
       "  component_id  adaptor_angle  overall_length end_form_id_1  \\\n",
       "0       C-0005            NaN            58.4         A-001   \n",
       "1       C-0006            NaN            34.8         A-001   \n",
       "2       C-1435            NaN            20.3         A-007   \n",
       "3       C-1546            NaN            26.4         A-007   \n",
       "4       C-1583            NaN            44.5         A-001   \n",
       "\n",
       "  connection_type_id_1  length_1  thread_size_1  thread_pitch_1  \\\n",
       "0                B-001       NaN          1.312              12   \n",
       "1                B-001       NaN          0.437              20   \n",
       "2                B-004       NaN            NaN             NaN   \n",
       "3                B-004       NaN          0.125              27   \n",
       "4                B-005       NaN          1.312              12   \n",
       "\n",
       "   nominal_size_1 end_form_id_2            ...             nominal_size_2  \\\n",
       "0             NaN         A-001            ...                        NaN   \n",
       "1             NaN         A-001            ...                        NaN   \n",
       "2           15.88         A-001            ...                        NaN   \n",
       "3             NaN         A-001            ...                        NaN   \n",
       "4             NaN         A-007            ...                        NaN   \n",
       "\n",
       "   hex_size  unique_feature  orientation  weight    component_type  \\\n",
       "0     34.93              No           No   0.206  Straight Adapter   \n",
       "1     22.20              No           No   0.083  Straight Adapter   \n",
       "2     22.22              No           No   0.023  Straight Adapter   \n",
       "3     15.88              No           No   0.026  Straight Adapter   \n",
       "4     38.10              No           No   0.256  Straight Adapter   \n",
       "\n",
       "    end_form_1   end_form_2      connection_type_1          connection_type_2  \n",
       "0  Male (Stud)  Male (Stud)  37 deg Flare-SAE J514         NPTF-SAE J476/J514  \n",
       "1  Male (Stud)  Male (Stud)  37 deg Flare-SAE J514         SAE STOR-SAE J1926  \n",
       "2         Port  Male (Stud)     NPTF-SAE J476/J514  45 deg Inv Flare-SAE J512  \n",
       "3         Port  Male (Stud)     NPTF-SAE J476/J514         NPTF-SAE J476/J514  \n",
       "4  Male (Stud)         Port     SAE STOR-SAE J1926         SAE STOR-SAE J1926  \n",
       "\n",
       "[5 rows x 24 columns]"
      ]
     },
     "execution_count": 60,
     "metadata": {},
     "output_type": "execute_result"
    }
   ],
   "source": [
    "comp_adaptor_df.head()"
   ]
  },
  {
   "cell_type": "code",
   "execution_count": 61,
   "metadata": {
    "collapsed": true
   },
   "outputs": [],
   "source": [
    "#write columns out of new comp_adaptor_df\n",
    "writeColumnsToFile(comp_adaptor_df, 'comp_adaptor_columns_5')"
   ]
  },
  {
   "cell_type": "code",
   "execution_count": 62,
   "metadata": {
    "collapsed": false
   },
   "outputs": [
    {
     "name": "stdout",
     "output_type": "stream",
     "text": [
      "comp_threaded_df = comp_threaded_df.merge(type_connection_df, how = \"left\", left_on = \"connection_type_id_1\", right_on = \"connection_type_id\").merge(type_connection_df, how = \"left\", left_on = \"connection_type_id_2\", right_on = \"connection_type_id\").merge(type_connection_df, how = \"left\", left_on = \"connection_type_id_3\", right_on = \"connection_type_id\").merge(type_connection_df, how = \"left\", left_on = \"connection_type_id_4\", right_on = \"connection_type_id\")\n"
     ]
    }
   ],
   "source": [
    "comp_threaded_join = join_df1_to_df2('comp_threaded_df', 'type_connection_df', 4, 'comp_threaded_df', 'left', 'connection_type_id')\n",
    "print comp_threaded_join\n",
    "exec(comp_threaded_join)"
   ]
  },
  {
   "cell_type": "code",
   "execution_count": 63,
   "metadata": {
    "collapsed": false,
    "scrolled": true
   },
   "outputs": [
    {
     "data": {
      "text/html": [
       "<div>\n",
       "<table border=\"1\" class=\"dataframe\">\n",
       "  <thead>\n",
       "    <tr style=\"text-align: right;\">\n",
       "      <th></th>\n",
       "      <th>component_id</th>\n",
       "      <th>adaptor_angle</th>\n",
       "      <th>overall_length</th>\n",
       "      <th>hex_size</th>\n",
       "      <th>connection_type_id_1</th>\n",
       "      <th>length_1</th>\n",
       "      <th>thread_size_1</th>\n",
       "      <th>thread_pitch_1</th>\n",
       "      <th>nominal_size_1</th>\n",
       "      <th>connection_type_id_2</th>\n",
       "      <th>...</th>\n",
       "      <th>end_form_3</th>\n",
       "      <th>end_form_4</th>\n",
       "      <th>connection_type_id_x</th>\n",
       "      <th>name_x</th>\n",
       "      <th>connection_type_id_y</th>\n",
       "      <th>name_y</th>\n",
       "      <th>connection_type_id_x</th>\n",
       "      <th>name_x</th>\n",
       "      <th>connection_type_id_y</th>\n",
       "      <th>name_y</th>\n",
       "    </tr>\n",
       "  </thead>\n",
       "  <tbody>\n",
       "    <tr>\n",
       "      <th>0</th>\n",
       "      <td>C-0007</td>\n",
       "      <td>NaN</td>\n",
       "      <td>24.4</td>\n",
       "      <td>12.70</td>\n",
       "      <td>B-001</td>\n",
       "      <td>NaN</td>\n",
       "      <td>0.437</td>\n",
       "      <td>20</td>\n",
       "      <td>NaN</td>\n",
       "      <td>NaN</td>\n",
       "      <td>...</td>\n",
       "      <td>NaN</td>\n",
       "      <td>NaN</td>\n",
       "      <td>B-001</td>\n",
       "      <td>37 deg Flare-SAE J514</td>\n",
       "      <td>NaN</td>\n",
       "      <td>NaN</td>\n",
       "      <td>NaN</td>\n",
       "      <td>NaN</td>\n",
       "      <td>NaN</td>\n",
       "      <td>NaN</td>\n",
       "    </tr>\n",
       "    <tr>\n",
       "      <th>1</th>\n",
       "      <td>C-0030</td>\n",
       "      <td>90</td>\n",
       "      <td>NaN</td>\n",
       "      <td>NaN</td>\n",
       "      <td>NaN</td>\n",
       "      <td>47</td>\n",
       "      <td>NaN</td>\n",
       "      <td>NaN</td>\n",
       "      <td>42</td>\n",
       "      <td>NaN</td>\n",
       "      <td>...</td>\n",
       "      <td>NaN</td>\n",
       "      <td>NaN</td>\n",
       "      <td>NaN</td>\n",
       "      <td>NaN</td>\n",
       "      <td>NaN</td>\n",
       "      <td>NaN</td>\n",
       "      <td>NaN</td>\n",
       "      <td>NaN</td>\n",
       "      <td>NaN</td>\n",
       "      <td>NaN</td>\n",
       "    </tr>\n",
       "    <tr>\n",
       "      <th>2</th>\n",
       "      <td>C-0041</td>\n",
       "      <td>NaN</td>\n",
       "      <td>28.0</td>\n",
       "      <td>32.00</td>\n",
       "      <td>NaN</td>\n",
       "      <td>NaN</td>\n",
       "      <td>NaN</td>\n",
       "      <td>NaN</td>\n",
       "      <td>21.7</td>\n",
       "      <td>B-002</td>\n",
       "      <td>...</td>\n",
       "      <td>NaN</td>\n",
       "      <td>NaN</td>\n",
       "      <td>NaN</td>\n",
       "      <td>NaN</td>\n",
       "      <td>B-002</td>\n",
       "      <td>ORFS-SAE J1453</td>\n",
       "      <td>NaN</td>\n",
       "      <td>NaN</td>\n",
       "      <td>NaN</td>\n",
       "      <td>NaN</td>\n",
       "    </tr>\n",
       "    <tr>\n",
       "      <th>3</th>\n",
       "      <td>C-0043</td>\n",
       "      <td>NaN</td>\n",
       "      <td>38.0</td>\n",
       "      <td>27.00</td>\n",
       "      <td>NaN</td>\n",
       "      <td>NaN</td>\n",
       "      <td>NaN</td>\n",
       "      <td>NaN</td>\n",
       "      <td>21.7</td>\n",
       "      <td>B-002</td>\n",
       "      <td>...</td>\n",
       "      <td>NaN</td>\n",
       "      <td>NaN</td>\n",
       "      <td>NaN</td>\n",
       "      <td>NaN</td>\n",
       "      <td>B-002</td>\n",
       "      <td>ORFS-SAE J1453</td>\n",
       "      <td>NaN</td>\n",
       "      <td>NaN</td>\n",
       "      <td>NaN</td>\n",
       "      <td>NaN</td>\n",
       "    </tr>\n",
       "    <tr>\n",
       "      <th>4</th>\n",
       "      <td>C-0044</td>\n",
       "      <td>NaN</td>\n",
       "      <td>30.5</td>\n",
       "      <td>41.28</td>\n",
       "      <td>NaN</td>\n",
       "      <td>NaN</td>\n",
       "      <td>NaN</td>\n",
       "      <td>NaN</td>\n",
       "      <td>34</td>\n",
       "      <td>B-002</td>\n",
       "      <td>...</td>\n",
       "      <td>NaN</td>\n",
       "      <td>NaN</td>\n",
       "      <td>NaN</td>\n",
       "      <td>NaN</td>\n",
       "      <td>B-002</td>\n",
       "      <td>ORFS-SAE J1453</td>\n",
       "      <td>NaN</td>\n",
       "      <td>NaN</td>\n",
       "      <td>NaN</td>\n",
       "      <td>NaN</td>\n",
       "    </tr>\n",
       "  </tbody>\n",
       "</table>\n",
       "<p>5 rows × 40 columns</p>\n",
       "</div>"
      ],
      "text/plain": [
       "  component_id  adaptor_angle  overall_length  hex_size connection_type_id_1  \\\n",
       "0       C-0007            NaN            24.4     12.70                B-001   \n",
       "1       C-0030             90             NaN       NaN                  NaN   \n",
       "2       C-0041            NaN            28.0     32.00                  NaN   \n",
       "3       C-0043            NaN            38.0     27.00                  NaN   \n",
       "4       C-0044            NaN            30.5     41.28                  NaN   \n",
       "\n",
       "   length_1  thread_size_1  thread_pitch_1 nominal_size_1  \\\n",
       "0       NaN          0.437              20            NaN   \n",
       "1        47            NaN             NaN             42   \n",
       "2       NaN            NaN             NaN           21.7   \n",
       "3       NaN            NaN             NaN           21.7   \n",
       "4       NaN            NaN             NaN             34   \n",
       "\n",
       "  connection_type_id_2  ...    end_form_3  end_form_4  connection_type_id_x  \\\n",
       "0                  NaN  ...           NaN         NaN                 B-001   \n",
       "1                  NaN  ...           NaN         NaN                   NaN   \n",
       "2                B-002  ...           NaN         NaN                   NaN   \n",
       "3                B-002  ...           NaN         NaN                   NaN   \n",
       "4                B-002  ...           NaN         NaN                   NaN   \n",
       "\n",
       "                  name_x  connection_type_id_y          name_y  \\\n",
       "0  37 deg Flare-SAE J514                   NaN             NaN   \n",
       "1                    NaN                   NaN             NaN   \n",
       "2                    NaN                 B-002  ORFS-SAE J1453   \n",
       "3                    NaN                 B-002  ORFS-SAE J1453   \n",
       "4                    NaN                 B-002  ORFS-SAE J1453   \n",
       "\n",
       "   connection_type_id_x  name_x  connection_type_id_y name_y  \n",
       "0                   NaN     NaN                   NaN    NaN  \n",
       "1                   NaN     NaN                   NaN    NaN  \n",
       "2                   NaN     NaN                   NaN    NaN  \n",
       "3                   NaN     NaN                   NaN    NaN  \n",
       "4                   NaN     NaN                   NaN    NaN  \n",
       "\n",
       "[5 rows x 40 columns]"
      ]
     },
     "execution_count": 63,
     "metadata": {},
     "output_type": "execute_result"
    }
   ],
   "source": [
    "comp_threaded_df.head()"
   ]
  },
  {
   "cell_type": "code",
   "execution_count": 64,
   "metadata": {
    "collapsed": true
   },
   "outputs": [],
   "source": [
    "#remove connection_type_id_x and connection_type_id_y since they are essentially duplicate columns\n",
    "comp_threaded_df = comp_threaded_df.drop('connection_type_id_x', 1).drop('connection_type_id_y', 1)"
   ]
  },
  {
   "cell_type": "code",
   "execution_count": 65,
   "metadata": {
    "collapsed": false
   },
   "outputs": [
    {
     "data": {
      "text/html": [
       "<div>\n",
       "<table border=\"1\" class=\"dataframe\">\n",
       "  <thead>\n",
       "    <tr style=\"text-align: right;\">\n",
       "      <th></th>\n",
       "      <th>component_id</th>\n",
       "      <th>adaptor_angle</th>\n",
       "      <th>overall_length</th>\n",
       "      <th>hex_size</th>\n",
       "      <th>connection_type_id_1</th>\n",
       "      <th>length_1</th>\n",
       "      <th>thread_size_1</th>\n",
       "      <th>thread_pitch_1</th>\n",
       "      <th>nominal_size_1</th>\n",
       "      <th>connection_type_id_2</th>\n",
       "      <th>...</th>\n",
       "      <th>weight</th>\n",
       "      <th>component_type</th>\n",
       "      <th>end_form_1</th>\n",
       "      <th>end_form_2</th>\n",
       "      <th>end_form_3</th>\n",
       "      <th>end_form_4</th>\n",
       "      <th>name_x</th>\n",
       "      <th>name_y</th>\n",
       "      <th>name_x</th>\n",
       "      <th>name_y</th>\n",
       "    </tr>\n",
       "  </thead>\n",
       "  <tbody>\n",
       "    <tr>\n",
       "      <th>0</th>\n",
       "      <td>C-0007</td>\n",
       "      <td>NaN</td>\n",
       "      <td>24.4</td>\n",
       "      <td>12.70</td>\n",
       "      <td>B-001</td>\n",
       "      <td>NaN</td>\n",
       "      <td>0.437</td>\n",
       "      <td>20</td>\n",
       "      <td>NaN</td>\n",
       "      <td>NaN</td>\n",
       "      <td>...</td>\n",
       "      <td>0.028</td>\n",
       "      <td>Threaded Straight</td>\n",
       "      <td>Male (Stud)</td>\n",
       "      <td>Braze-Weld Socket</td>\n",
       "      <td>NaN</td>\n",
       "      <td>NaN</td>\n",
       "      <td>37 deg Flare-SAE J514</td>\n",
       "      <td>NaN</td>\n",
       "      <td>NaN</td>\n",
       "      <td>NaN</td>\n",
       "    </tr>\n",
       "    <tr>\n",
       "      <th>1</th>\n",
       "      <td>C-0030</td>\n",
       "      <td>90</td>\n",
       "      <td>NaN</td>\n",
       "      <td>NaN</td>\n",
       "      <td>NaN</td>\n",
       "      <td>47</td>\n",
       "      <td>NaN</td>\n",
       "      <td>NaN</td>\n",
       "      <td>42</td>\n",
       "      <td>NaN</td>\n",
       "      <td>...</td>\n",
       "      <td>0.914</td>\n",
       "      <td>Threaded Elbow</td>\n",
       "      <td>Braze-Weld Boss</td>\n",
       "      <td>Braze-Weld Boss</td>\n",
       "      <td>NaN</td>\n",
       "      <td>NaN</td>\n",
       "      <td>NaN</td>\n",
       "      <td>NaN</td>\n",
       "      <td>NaN</td>\n",
       "      <td>NaN</td>\n",
       "    </tr>\n",
       "    <tr>\n",
       "      <th>2</th>\n",
       "      <td>C-0041</td>\n",
       "      <td>NaN</td>\n",
       "      <td>28.0</td>\n",
       "      <td>32.00</td>\n",
       "      <td>NaN</td>\n",
       "      <td>NaN</td>\n",
       "      <td>NaN</td>\n",
       "      <td>NaN</td>\n",
       "      <td>21.7</td>\n",
       "      <td>B-002</td>\n",
       "      <td>...</td>\n",
       "      <td>0.120</td>\n",
       "      <td>Threaded Straight</td>\n",
       "      <td>Braze-Weld Socket</td>\n",
       "      <td>Male (Stud)</td>\n",
       "      <td>NaN</td>\n",
       "      <td>NaN</td>\n",
       "      <td>NaN</td>\n",
       "      <td>ORFS-SAE J1453</td>\n",
       "      <td>NaN</td>\n",
       "      <td>NaN</td>\n",
       "    </tr>\n",
       "    <tr>\n",
       "      <th>3</th>\n",
       "      <td>C-0043</td>\n",
       "      <td>NaN</td>\n",
       "      <td>38.0</td>\n",
       "      <td>27.00</td>\n",
       "      <td>NaN</td>\n",
       "      <td>NaN</td>\n",
       "      <td>NaN</td>\n",
       "      <td>NaN</td>\n",
       "      <td>21.7</td>\n",
       "      <td>B-002</td>\n",
       "      <td>...</td>\n",
       "      <td>0.090</td>\n",
       "      <td>Threaded Straight</td>\n",
       "      <td>Braze-Weld Boss</td>\n",
       "      <td>Male (Stud)</td>\n",
       "      <td>NaN</td>\n",
       "      <td>NaN</td>\n",
       "      <td>NaN</td>\n",
       "      <td>ORFS-SAE J1453</td>\n",
       "      <td>NaN</td>\n",
       "      <td>NaN</td>\n",
       "    </tr>\n",
       "    <tr>\n",
       "      <th>4</th>\n",
       "      <td>C-0044</td>\n",
       "      <td>NaN</td>\n",
       "      <td>30.5</td>\n",
       "      <td>41.28</td>\n",
       "      <td>NaN</td>\n",
       "      <td>NaN</td>\n",
       "      <td>NaN</td>\n",
       "      <td>NaN</td>\n",
       "      <td>34</td>\n",
       "      <td>B-002</td>\n",
       "      <td>...</td>\n",
       "      <td>0.182</td>\n",
       "      <td>Threaded Straight</td>\n",
       "      <td>Braze-Weld Socket</td>\n",
       "      <td>Male (Stud)</td>\n",
       "      <td>NaN</td>\n",
       "      <td>NaN</td>\n",
       "      <td>NaN</td>\n",
       "      <td>ORFS-SAE J1453</td>\n",
       "      <td>NaN</td>\n",
       "      <td>NaN</td>\n",
       "    </tr>\n",
       "  </tbody>\n",
       "</table>\n",
       "<p>5 rows × 36 columns</p>\n",
       "</div>"
      ],
      "text/plain": [
       "  component_id  adaptor_angle  overall_length  hex_size connection_type_id_1  \\\n",
       "0       C-0007            NaN            24.4     12.70                B-001   \n",
       "1       C-0030             90             NaN       NaN                  NaN   \n",
       "2       C-0041            NaN            28.0     32.00                  NaN   \n",
       "3       C-0043            NaN            38.0     27.00                  NaN   \n",
       "4       C-0044            NaN            30.5     41.28                  NaN   \n",
       "\n",
       "   length_1  thread_size_1  thread_pitch_1 nominal_size_1  \\\n",
       "0       NaN          0.437              20            NaN   \n",
       "1        47            NaN             NaN             42   \n",
       "2       NaN            NaN             NaN           21.7   \n",
       "3       NaN            NaN             NaN           21.7   \n",
       "4       NaN            NaN             NaN             34   \n",
       "\n",
       "  connection_type_id_2  ...    weight     component_type         end_form_1  \\\n",
       "0                  NaN  ...     0.028  Threaded Straight        Male (Stud)   \n",
       "1                  NaN  ...     0.914     Threaded Elbow    Braze-Weld Boss   \n",
       "2                B-002  ...     0.120  Threaded Straight  Braze-Weld Socket   \n",
       "3                B-002  ...     0.090  Threaded Straight    Braze-Weld Boss   \n",
       "4                B-002  ...     0.182  Threaded Straight  Braze-Weld Socket   \n",
       "\n",
       "          end_form_2 end_form_3  end_form_4                 name_x  \\\n",
       "0  Braze-Weld Socket        NaN         NaN  37 deg Flare-SAE J514   \n",
       "1    Braze-Weld Boss        NaN         NaN                    NaN   \n",
       "2        Male (Stud)        NaN         NaN                    NaN   \n",
       "3        Male (Stud)        NaN         NaN                    NaN   \n",
       "4        Male (Stud)        NaN         NaN                    NaN   \n",
       "\n",
       "           name_y  name_x name_y  \n",
       "0             NaN     NaN    NaN  \n",
       "1             NaN     NaN    NaN  \n",
       "2  ORFS-SAE J1453     NaN    NaN  \n",
       "3  ORFS-SAE J1453     NaN    NaN  \n",
       "4  ORFS-SAE J1453     NaN    NaN  \n",
       "\n",
       "[5 rows x 36 columns]"
      ]
     },
     "execution_count": 65,
     "metadata": {},
     "output_type": "execute_result"
    }
   ],
   "source": [
    "comp_threaded_df.head()"
   ]
  },
  {
   "cell_type": "code",
   "execution_count": 66,
   "metadata": {
    "collapsed": true
   },
   "outputs": [],
   "source": [
    "#reset column names to proper naming convention\n",
    "new_columns_lst = []\n",
    "for i in range(len(comp_threaded_df.columns) - 4):\n",
    "    new_columns_lst.append(comp_threaded_df.columns[i])\n",
    "\n",
    "#change the new name columns with proper naming convention\n",
    "for i in range(4):\n",
    "    col_name = 'connection_type_' + str(i + 1) \n",
    "    new_columns_lst.append(col_name)\n",
    "    \n",
    "comp_threaded_df.columns = new_columns_lst[:]\n",
    "\n",
    "#remove connection_type_id_1 to connection_type_id_4\n",
    "for i in range(4):\n",
    "    column_string = '\"connection_type_id_' + str(i + 1) + '\"'\n",
    "    command = 'comp_threaded_df = comp_threaded_df.drop(' + column_string + ', 1)'\n",
    "    exec(command)"
   ]
  },
  {
   "cell_type": "code",
   "execution_count": 67,
   "metadata": {
    "collapsed": false,
    "scrolled": true
   },
   "outputs": [
    {
     "data": {
      "text/html": [
       "<div>\n",
       "<table border=\"1\" class=\"dataframe\">\n",
       "  <thead>\n",
       "    <tr style=\"text-align: right;\">\n",
       "      <th></th>\n",
       "      <th>component_id</th>\n",
       "      <th>adaptor_angle</th>\n",
       "      <th>overall_length</th>\n",
       "      <th>hex_size</th>\n",
       "      <th>length_1</th>\n",
       "      <th>thread_size_1</th>\n",
       "      <th>thread_pitch_1</th>\n",
       "      <th>nominal_size_1</th>\n",
       "      <th>length_2</th>\n",
       "      <th>thread_size_2</th>\n",
       "      <th>...</th>\n",
       "      <th>weight</th>\n",
       "      <th>component_type</th>\n",
       "      <th>end_form_1</th>\n",
       "      <th>end_form_2</th>\n",
       "      <th>end_form_3</th>\n",
       "      <th>end_form_4</th>\n",
       "      <th>connection_type_1</th>\n",
       "      <th>connection_type_2</th>\n",
       "      <th>connection_type_3</th>\n",
       "      <th>connection_type_4</th>\n",
       "    </tr>\n",
       "  </thead>\n",
       "  <tbody>\n",
       "    <tr>\n",
       "      <th>0</th>\n",
       "      <td>C-0007</td>\n",
       "      <td>NaN</td>\n",
       "      <td>24.4</td>\n",
       "      <td>12.70</td>\n",
       "      <td>NaN</td>\n",
       "      <td>0.437</td>\n",
       "      <td>20</td>\n",
       "      <td>NaN</td>\n",
       "      <td>NaN</td>\n",
       "      <td>NaN</td>\n",
       "      <td>...</td>\n",
       "      <td>0.028</td>\n",
       "      <td>Threaded Straight</td>\n",
       "      <td>Male (Stud)</td>\n",
       "      <td>Braze-Weld Socket</td>\n",
       "      <td>NaN</td>\n",
       "      <td>NaN</td>\n",
       "      <td>37 deg Flare-SAE J514</td>\n",
       "      <td>NaN</td>\n",
       "      <td>NaN</td>\n",
       "      <td>NaN</td>\n",
       "    </tr>\n",
       "    <tr>\n",
       "      <th>1</th>\n",
       "      <td>C-0030</td>\n",
       "      <td>90</td>\n",
       "      <td>NaN</td>\n",
       "      <td>NaN</td>\n",
       "      <td>47</td>\n",
       "      <td>NaN</td>\n",
       "      <td>NaN</td>\n",
       "      <td>42</td>\n",
       "      <td>47</td>\n",
       "      <td>NaN</td>\n",
       "      <td>...</td>\n",
       "      <td>0.914</td>\n",
       "      <td>Threaded Elbow</td>\n",
       "      <td>Braze-Weld Boss</td>\n",
       "      <td>Braze-Weld Boss</td>\n",
       "      <td>NaN</td>\n",
       "      <td>NaN</td>\n",
       "      <td>NaN</td>\n",
       "      <td>NaN</td>\n",
       "      <td>NaN</td>\n",
       "      <td>NaN</td>\n",
       "    </tr>\n",
       "    <tr>\n",
       "      <th>2</th>\n",
       "      <td>C-0041</td>\n",
       "      <td>NaN</td>\n",
       "      <td>28.0</td>\n",
       "      <td>32.00</td>\n",
       "      <td>NaN</td>\n",
       "      <td>NaN</td>\n",
       "      <td>NaN</td>\n",
       "      <td>21.7</td>\n",
       "      <td>NaN</td>\n",
       "      <td>0.812</td>\n",
       "      <td>...</td>\n",
       "      <td>0.120</td>\n",
       "      <td>Threaded Straight</td>\n",
       "      <td>Braze-Weld Socket</td>\n",
       "      <td>Male (Stud)</td>\n",
       "      <td>NaN</td>\n",
       "      <td>NaN</td>\n",
       "      <td>NaN</td>\n",
       "      <td>ORFS-SAE J1453</td>\n",
       "      <td>NaN</td>\n",
       "      <td>NaN</td>\n",
       "    </tr>\n",
       "    <tr>\n",
       "      <th>3</th>\n",
       "      <td>C-0043</td>\n",
       "      <td>NaN</td>\n",
       "      <td>38.0</td>\n",
       "      <td>27.00</td>\n",
       "      <td>NaN</td>\n",
       "      <td>NaN</td>\n",
       "      <td>NaN</td>\n",
       "      <td>21.7</td>\n",
       "      <td>NaN</td>\n",
       "      <td>0.812</td>\n",
       "      <td>...</td>\n",
       "      <td>0.090</td>\n",
       "      <td>Threaded Straight</td>\n",
       "      <td>Braze-Weld Boss</td>\n",
       "      <td>Male (Stud)</td>\n",
       "      <td>NaN</td>\n",
       "      <td>NaN</td>\n",
       "      <td>NaN</td>\n",
       "      <td>ORFS-SAE J1453</td>\n",
       "      <td>NaN</td>\n",
       "      <td>NaN</td>\n",
       "    </tr>\n",
       "    <tr>\n",
       "      <th>4</th>\n",
       "      <td>C-0044</td>\n",
       "      <td>NaN</td>\n",
       "      <td>30.5</td>\n",
       "      <td>41.28</td>\n",
       "      <td>NaN</td>\n",
       "      <td>NaN</td>\n",
       "      <td>NaN</td>\n",
       "      <td>34</td>\n",
       "      <td>NaN</td>\n",
       "      <td>1.437</td>\n",
       "      <td>...</td>\n",
       "      <td>0.182</td>\n",
       "      <td>Threaded Straight</td>\n",
       "      <td>Braze-Weld Socket</td>\n",
       "      <td>Male (Stud)</td>\n",
       "      <td>NaN</td>\n",
       "      <td>NaN</td>\n",
       "      <td>NaN</td>\n",
       "      <td>ORFS-SAE J1453</td>\n",
       "      <td>NaN</td>\n",
       "      <td>NaN</td>\n",
       "    </tr>\n",
       "  </tbody>\n",
       "</table>\n",
       "<p>5 rows × 32 columns</p>\n",
       "</div>"
      ],
      "text/plain": [
       "  component_id  adaptor_angle  overall_length  hex_size  length_1  \\\n",
       "0       C-0007            NaN            24.4     12.70       NaN   \n",
       "1       C-0030             90             NaN       NaN        47   \n",
       "2       C-0041            NaN            28.0     32.00       NaN   \n",
       "3       C-0043            NaN            38.0     27.00       NaN   \n",
       "4       C-0044            NaN            30.5     41.28       NaN   \n",
       "\n",
       "   thread_size_1  thread_pitch_1 nominal_size_1  length_2  thread_size_2  \\\n",
       "0          0.437              20            NaN       NaN            NaN   \n",
       "1            NaN             NaN             42        47            NaN   \n",
       "2            NaN             NaN           21.7       NaN          0.812   \n",
       "3            NaN             NaN           21.7       NaN          0.812   \n",
       "4            NaN             NaN             34       NaN          1.437   \n",
       "\n",
       "         ...          weight     component_type         end_form_1  \\\n",
       "0        ...           0.028  Threaded Straight        Male (Stud)   \n",
       "1        ...           0.914     Threaded Elbow    Braze-Weld Boss   \n",
       "2        ...           0.120  Threaded Straight  Braze-Weld Socket   \n",
       "3        ...           0.090  Threaded Straight    Braze-Weld Boss   \n",
       "4        ...           0.182  Threaded Straight  Braze-Weld Socket   \n",
       "\n",
       "          end_form_2  end_form_3  end_form_4      connection_type_1  \\\n",
       "0  Braze-Weld Socket         NaN         NaN  37 deg Flare-SAE J514   \n",
       "1    Braze-Weld Boss         NaN         NaN                    NaN   \n",
       "2        Male (Stud)         NaN         NaN                    NaN   \n",
       "3        Male (Stud)         NaN         NaN                    NaN   \n",
       "4        Male (Stud)         NaN         NaN                    NaN   \n",
       "\n",
       "   connection_type_2  connection_type_3  connection_type_4  \n",
       "0                NaN                NaN                NaN  \n",
       "1                NaN                NaN                NaN  \n",
       "2     ORFS-SAE J1453                NaN                NaN  \n",
       "3     ORFS-SAE J1453                NaN                NaN  \n",
       "4     ORFS-SAE J1453                NaN                NaN  \n",
       "\n",
       "[5 rows x 32 columns]"
      ]
     },
     "execution_count": 67,
     "metadata": {},
     "output_type": "execute_result"
    }
   ],
   "source": [
    "comp_threaded_df.head()"
   ]
  },
  {
   "cell_type": "code",
   "execution_count": 68,
   "metadata": {
    "collapsed": true
   },
   "outputs": [],
   "source": [
    "#write columns out of new comp_threaded_df\n",
    "writeColumnsToFile(comp_threaded_df, 'comp_threaded_columns_6')"
   ]
  },
  {
   "cell_type": "markdown",
   "metadata": {},
   "source": [
    " "
   ]
  },
  {
   "cell_type": "markdown",
   "metadata": {},
   "source": [
    "**Left join** *comp_sleeve_df* to *type_connection_df*"
   ]
  },
  {
   "cell_type": "code",
   "execution_count": 69,
   "metadata": {
    "collapsed": true
   },
   "outputs": [],
   "source": [
    "comp_sleeve_df = comp_sleeve_df.merge(type_connection_df, how = 'left', on = 'connection_type_id')"
   ]
  },
  {
   "cell_type": "code",
   "execution_count": 70,
   "metadata": {
    "collapsed": false,
    "scrolled": true
   },
   "outputs": [
    {
     "data": {
      "text/html": [
       "<div>\n",
       "<table border=\"1\" class=\"dataframe\">\n",
       "  <thead>\n",
       "    <tr style=\"text-align: right;\">\n",
       "      <th></th>\n",
       "      <th>component_id</th>\n",
       "      <th>connection_type_id</th>\n",
       "      <th>length</th>\n",
       "      <th>intended_nut_thread</th>\n",
       "      <th>intended_nut_pitch</th>\n",
       "      <th>unique_feature</th>\n",
       "      <th>plating</th>\n",
       "      <th>orientation</th>\n",
       "      <th>weight</th>\n",
       "      <th>component_type</th>\n",
       "      <th>name</th>\n",
       "    </tr>\n",
       "  </thead>\n",
       "  <tbody>\n",
       "    <tr>\n",
       "      <th>0</th>\n",
       "      <td>C-0001</td>\n",
       "      <td>B-001</td>\n",
       "      <td>17.3</td>\n",
       "      <td>1.062</td>\n",
       "      <td>12</td>\n",
       "      <td>No</td>\n",
       "      <td>No</td>\n",
       "      <td>No</td>\n",
       "      <td>0.013</td>\n",
       "      <td>Sleeves</td>\n",
       "      <td>37 deg Flare-SAE J514</td>\n",
       "    </tr>\n",
       "    <tr>\n",
       "      <th>1</th>\n",
       "      <td>C-0002</td>\n",
       "      <td>B-001</td>\n",
       "      <td>11.2</td>\n",
       "      <td>0.500</td>\n",
       "      <td>20</td>\n",
       "      <td>No</td>\n",
       "      <td>No</td>\n",
       "      <td>No</td>\n",
       "      <td>0.005</td>\n",
       "      <td>Sleeves</td>\n",
       "      <td>37 deg Flare-SAE J514</td>\n",
       "    </tr>\n",
       "    <tr>\n",
       "      <th>2</th>\n",
       "      <td>C-0003</td>\n",
       "      <td>B-001</td>\n",
       "      <td>19.3</td>\n",
       "      <td>1.187</td>\n",
       "      <td>12</td>\n",
       "      <td>No</td>\n",
       "      <td>No</td>\n",
       "      <td>No</td>\n",
       "      <td>0.014</td>\n",
       "      <td>Sleeves</td>\n",
       "      <td>37 deg Flare-SAE J514</td>\n",
       "    </tr>\n",
       "    <tr>\n",
       "      <th>3</th>\n",
       "      <td>C-0048</td>\n",
       "      <td>B-002</td>\n",
       "      <td>9.5</td>\n",
       "      <td>0.562</td>\n",
       "      <td>18</td>\n",
       "      <td>No</td>\n",
       "      <td>No</td>\n",
       "      <td>No</td>\n",
       "      <td>0.006</td>\n",
       "      <td>Sleeves</td>\n",
       "      <td>ORFS-SAE J1453</td>\n",
       "    </tr>\n",
       "    <tr>\n",
       "      <th>4</th>\n",
       "      <td>C-0049</td>\n",
       "      <td>B-002</td>\n",
       "      <td>9.5</td>\n",
       "      <td>0.812</td>\n",
       "      <td>16</td>\n",
       "      <td>No</td>\n",
       "      <td>No</td>\n",
       "      <td>No</td>\n",
       "      <td>0.012</td>\n",
       "      <td>Sleeves</td>\n",
       "      <td>ORFS-SAE J1453</td>\n",
       "    </tr>\n",
       "  </tbody>\n",
       "</table>\n",
       "</div>"
      ],
      "text/plain": [
       "  component_id connection_type_id  length  intended_nut_thread  \\\n",
       "0       C-0001              B-001    17.3                1.062   \n",
       "1       C-0002              B-001    11.2                0.500   \n",
       "2       C-0003              B-001    19.3                1.187   \n",
       "3       C-0048              B-002     9.5                0.562   \n",
       "4       C-0049              B-002     9.5                0.812   \n",
       "\n",
       "   intended_nut_pitch unique_feature plating orientation  weight  \\\n",
       "0                  12             No      No          No   0.013   \n",
       "1                  20             No      No          No   0.005   \n",
       "2                  12             No      No          No   0.014   \n",
       "3                  18             No      No          No   0.006   \n",
       "4                  16             No      No          No   0.012   \n",
       "\n",
       "  component_type                   name  \n",
       "0        Sleeves  37 deg Flare-SAE J514  \n",
       "1        Sleeves  37 deg Flare-SAE J514  \n",
       "2        Sleeves  37 deg Flare-SAE J514  \n",
       "3        Sleeves         ORFS-SAE J1453  \n",
       "4        Sleeves         ORFS-SAE J1453  "
      ]
     },
     "execution_count": 70,
     "metadata": {},
     "output_type": "execute_result"
    }
   ],
   "source": [
    "comp_sleeve_df.head()"
   ]
  },
  {
   "cell_type": "code",
   "execution_count": 71,
   "metadata": {
    "collapsed": true
   },
   "outputs": [],
   "source": [
    "#remove connection_type_id and rename new column to proper name\n",
    "comp_sleeve_df = comp_sleeve_df.drop('connection_type_id', 1)\n",
    "comp_sleeve_df = comp_sleeve_df.rename(index = str, columns = {\"name\":\"connection_type\"})"
   ]
  },
  {
   "cell_type": "code",
   "execution_count": 72,
   "metadata": {
    "collapsed": false,
    "scrolled": false
   },
   "outputs": [
    {
     "data": {
      "text/html": [
       "<div>\n",
       "<table border=\"1\" class=\"dataframe\">\n",
       "  <thead>\n",
       "    <tr style=\"text-align: right;\">\n",
       "      <th></th>\n",
       "      <th>component_id</th>\n",
       "      <th>length</th>\n",
       "      <th>intended_nut_thread</th>\n",
       "      <th>intended_nut_pitch</th>\n",
       "      <th>unique_feature</th>\n",
       "      <th>plating</th>\n",
       "      <th>orientation</th>\n",
       "      <th>weight</th>\n",
       "      <th>component_type</th>\n",
       "      <th>connection_type</th>\n",
       "    </tr>\n",
       "  </thead>\n",
       "  <tbody>\n",
       "    <tr>\n",
       "      <th>0</th>\n",
       "      <td>C-0001</td>\n",
       "      <td>17.3</td>\n",
       "      <td>1.062</td>\n",
       "      <td>12</td>\n",
       "      <td>No</td>\n",
       "      <td>No</td>\n",
       "      <td>No</td>\n",
       "      <td>0.013</td>\n",
       "      <td>Sleeves</td>\n",
       "      <td>37 deg Flare-SAE J514</td>\n",
       "    </tr>\n",
       "    <tr>\n",
       "      <th>1</th>\n",
       "      <td>C-0002</td>\n",
       "      <td>11.2</td>\n",
       "      <td>0.500</td>\n",
       "      <td>20</td>\n",
       "      <td>No</td>\n",
       "      <td>No</td>\n",
       "      <td>No</td>\n",
       "      <td>0.005</td>\n",
       "      <td>Sleeves</td>\n",
       "      <td>37 deg Flare-SAE J514</td>\n",
       "    </tr>\n",
       "    <tr>\n",
       "      <th>2</th>\n",
       "      <td>C-0003</td>\n",
       "      <td>19.3</td>\n",
       "      <td>1.187</td>\n",
       "      <td>12</td>\n",
       "      <td>No</td>\n",
       "      <td>No</td>\n",
       "      <td>No</td>\n",
       "      <td>0.014</td>\n",
       "      <td>Sleeves</td>\n",
       "      <td>37 deg Flare-SAE J514</td>\n",
       "    </tr>\n",
       "    <tr>\n",
       "      <th>3</th>\n",
       "      <td>C-0048</td>\n",
       "      <td>9.5</td>\n",
       "      <td>0.562</td>\n",
       "      <td>18</td>\n",
       "      <td>No</td>\n",
       "      <td>No</td>\n",
       "      <td>No</td>\n",
       "      <td>0.006</td>\n",
       "      <td>Sleeves</td>\n",
       "      <td>ORFS-SAE J1453</td>\n",
       "    </tr>\n",
       "    <tr>\n",
       "      <th>4</th>\n",
       "      <td>C-0049</td>\n",
       "      <td>9.5</td>\n",
       "      <td>0.812</td>\n",
       "      <td>16</td>\n",
       "      <td>No</td>\n",
       "      <td>No</td>\n",
       "      <td>No</td>\n",
       "      <td>0.012</td>\n",
       "      <td>Sleeves</td>\n",
       "      <td>ORFS-SAE J1453</td>\n",
       "    </tr>\n",
       "  </tbody>\n",
       "</table>\n",
       "</div>"
      ],
      "text/plain": [
       "  component_id  length  intended_nut_thread  intended_nut_pitch  \\\n",
       "0       C-0001    17.3                1.062                  12   \n",
       "1       C-0002    11.2                0.500                  20   \n",
       "2       C-0003    19.3                1.187                  12   \n",
       "3       C-0048     9.5                0.562                  18   \n",
       "4       C-0049     9.5                0.812                  16   \n",
       "\n",
       "  unique_feature plating orientation  weight component_type  \\\n",
       "0             No      No          No   0.013        Sleeves   \n",
       "1             No      No          No   0.005        Sleeves   \n",
       "2             No      No          No   0.014        Sleeves   \n",
       "3             No      No          No   0.006        Sleeves   \n",
       "4             No      No          No   0.012        Sleeves   \n",
       "\n",
       "         connection_type  \n",
       "0  37 deg Flare-SAE J514  \n",
       "1  37 deg Flare-SAE J514  \n",
       "2  37 deg Flare-SAE J514  \n",
       "3         ORFS-SAE J1453  \n",
       "4         ORFS-SAE J1453  "
      ]
     },
     "execution_count": 72,
     "metadata": {},
     "output_type": "execute_result"
    }
   ],
   "source": [
    "comp_sleeve_df.head()"
   ]
  },
  {
   "cell_type": "code",
   "execution_count": 73,
   "metadata": {
    "collapsed": false
   },
   "outputs": [],
   "source": [
    "#write columns out of new comp_sleeve_df\n",
    "writeColumnsToFile(comp_sleeve_df, 'comp_sleeve_columns_7')"
   ]
  },
  {
   "cell_type": "markdown",
   "metadata": {},
   "source": [
    " "
   ]
  },
  {
   "cell_type": "code",
   "execution_count": 74,
   "metadata": {
    "collapsed": false
   },
   "outputs": [],
   "source": [
    "#rempove components_df from comp_lst_df so it doesn't join to itself\n",
    "comp_df_lst.remove('components_df')"
   ]
  },
  {
   "cell_type": "code",
   "execution_count": 75,
   "metadata": {
    "collapsed": false
   },
   "outputs": [],
   "source": [
    "#rename columns before joining them together so that it is evident which row came from which comp_df\n",
    "#e.g 'length_sleeve' for a length column in comp_sleeve_df\n",
    "for df in comp_df_lst:\n",
    "    command1 = 'str_to_add = find_comp_df_name(\"' + df + '\")'\n",
    "    command2 = 'new_cols = return_col_names(' + df + ', str_to_add)'\n",
    "    command3 = df + '.columns = new_cols[:]'\n",
    "    #command1 = 'lst = [col + \"_\" + df[start_index:end_index] for col in ' + df + '.columns]'\n",
    "    exec(command1)\n",
    "    exec(command2)\n",
    "    exec(command3)"
   ]
  },
  {
   "cell_type": "markdown",
   "metadata": {
    "collapsed": true
   },
   "source": [
    "join all the components together into one data frame"
   ]
  },
  {
   "cell_type": "code",
   "execution_count": 76,
   "metadata": {
    "collapsed": false
   },
   "outputs": [
    {
     "name": "stdout",
     "output_type": "stream",
     "text": [
      "comp_result_df = components_df.merge(comp_hfl_df, how = \"left\", on = \"component_id\").merge(comp_nut_df, how = \"left\", on = \"component_id\").merge(comp_adaptor_df, how = \"left\", on = \"component_id\").merge(comp_elbow_df, how = \"left\", on = \"component_id\").merge(comp_sleeve_df, how = \"left\", on = \"component_id\").merge(comp_other_df, how = \"left\", on = \"component_id\").merge(comp_threaded_df, how = \"left\", on = \"component_id\").merge(comp_straight_df, how = \"left\", on = \"component_id\").merge(comp_boss_df, how = \"left\", on = \"component_id\").merge(comp_float_df, how = \"left\", on = \"component_id\").merge(comp_tee_df, how = \"left\", on = \"component_id\")\n"
     ]
    }
   ],
   "source": [
    "join_command = join_command_str('components_df', comp_df_lst, 'left', 'component_id')\n",
    "print join_command\n",
    "exec(join_command) #actually executes the join commands"
   ]
  },
  {
   "cell_type": "code",
   "execution_count": 77,
   "metadata": {
    "collapsed": false
   },
   "outputs": [],
   "source": [
    "#write the columns to a file for further review\n",
    "writeColumnsToFile(comp_result_df, 'comp_result_columns_8')"
   ]
  },
  {
   "cell_type": "code",
   "execution_count": 78,
   "metadata": {
    "collapsed": false
   },
   "outputs": [
    {
     "data": {
      "text/plain": [
       "(2048, 145)"
      ]
     },
     "execution_count": 78,
     "metadata": {},
     "output_type": "execute_result"
    }
   ],
   "source": [
    "comp_result_df.shape"
   ]
  },
  {
   "cell_type": "code",
   "execution_count": 79,
   "metadata": {
    "collapsed": false
   },
   "outputs": [
    {
     "data": {
      "text/plain": [
       "['component_id',\n",
       " 'name',\n",
       " 'component_type_id',\n",
       " 'hose_diameter_hfl',\n",
       " 'corresponding_shell_hfl',\n",
       " 'coupling_class_hfl',\n",
       " 'material_hfl',\n",
       " 'plating_hfl',\n",
       " 'orientation_hfl',\n",
       " 'weight_hfl',\n",
       " 'component_type_hfl',\n",
       " 'hex_nut_size_nut',\n",
       " 'seat_angle_nut',\n",
       " 'length_nut',\n",
       " 'thread_size_nut',\n",
       " 'thread_pitch_nut',\n",
       " 'diameter_nut',\n",
       " 'blind_hole_nut',\n",
       " 'orientation_nut',\n",
       " 'weight_nut',\n",
       " 'component_type_nut',\n",
       " 'adaptor_angle_adaptor',\n",
       " 'overall_length_adaptor',\n",
       " 'end_form_id_1_adaptor',\n",
       " 'connection_type_id_1_adaptor',\n",
       " 'length_1_adaptor',\n",
       " 'thread_size_1_adaptor',\n",
       " 'thread_pitch_1_adaptor',\n",
       " 'nominal_size_1_adaptor',\n",
       " 'end_form_id_2_adaptor',\n",
       " 'connection_type_id_2_adaptor',\n",
       " 'length_2_adaptor',\n",
       " 'thread_size_2_adaptor',\n",
       " 'thread_pitch_2_adaptor',\n",
       " 'nominal_size_2_adaptor',\n",
       " 'hex_size_adaptor',\n",
       " 'unique_feature_adaptor',\n",
       " 'orientation_adaptor',\n",
       " 'weight_adaptor',\n",
       " 'component_type_adaptor',\n",
       " 'end_form_1_adaptor',\n",
       " 'end_form_2_adaptor',\n",
       " 'connection_type_1_adaptor',\n",
       " 'connection_type_2_adaptor',\n",
       " 'bolt_pattern_long_elbow',\n",
       " 'bolt_pattern_wide_elbow',\n",
       " 'extension_length_elbow',\n",
       " 'overall_length_elbow',\n",
       " 'thickness_elbow',\n",
       " 'drop_length_elbow',\n",
       " 'elbow_angle_elbow',\n",
       " 'mj_class_code_elbow',\n",
       " 'mj_plug_class_code_elbow',\n",
       " 'plug_diameter_elbow',\n",
       " 'groove_elbow',\n",
       " 'unique_feature_elbow',\n",
       " 'orientation_elbow',\n",
       " 'weight_elbow',\n",
       " 'component_type_elbow',\n",
       " 'length_sleeve',\n",
       " 'intended_nut_thread_sleeve',\n",
       " 'intended_nut_pitch_sleeve',\n",
       " 'unique_feature_sleeve',\n",
       " 'plating_sleeve',\n",
       " 'orientation_sleeve',\n",
       " 'weight_sleeve',\n",
       " 'component_type_sleeve',\n",
       " 'connection_type_sleeve',\n",
       " 'part_name_other',\n",
       " 'weight_other',\n",
       " 'adaptor_angle_threaded',\n",
       " 'overall_length_threaded',\n",
       " 'hex_size_threaded',\n",
       " 'length_1_threaded',\n",
       " 'thread_size_1_threaded',\n",
       " 'thread_pitch_1_threaded',\n",
       " 'nominal_size_1_threaded',\n",
       " 'length_2_threaded',\n",
       " 'thread_size_2_threaded',\n",
       " 'thread_pitch_2_threaded',\n",
       " 'nominal_size_2_threaded',\n",
       " 'length_3_threaded',\n",
       " 'thread_size_3_threaded',\n",
       " 'thread_pitch_3_threaded',\n",
       " 'nominal_size_3_threaded',\n",
       " 'length_4_threaded',\n",
       " 'thread_size_4_threaded',\n",
       " 'thread_pitch_4_threaded',\n",
       " 'nominal_size_4_threaded',\n",
       " 'unique_feature_threaded',\n",
       " 'orientation_threaded',\n",
       " 'weight_threaded',\n",
       " 'component_type_threaded',\n",
       " 'end_form_1_threaded',\n",
       " 'end_form_2_threaded',\n",
       " 'end_form_3_threaded',\n",
       " 'end_form_4_threaded',\n",
       " 'connection_type_1_threaded',\n",
       " 'connection_type_2_threaded',\n",
       " 'connection_type_3_threaded',\n",
       " 'connection_type_4_threaded',\n",
       " 'bolt_pattern_long_straight',\n",
       " 'bolt_pattern_wide_straight',\n",
       " 'head_diameter_straight',\n",
       " 'overall_length_straight',\n",
       " 'thickness_straight',\n",
       " 'mj_class_code_straight',\n",
       " 'groove_straight',\n",
       " 'unique_feature_straight',\n",
       " 'orientation_straight',\n",
       " 'weight_straight',\n",
       " 'component_type_straight',\n",
       " 'type_boss',\n",
       " 'connection_type_id_boss',\n",
       " 'outside_shape_boss',\n",
       " 'base_type_boss',\n",
       " 'height_over_tube_boss',\n",
       " 'bolt_pattern_long_boss',\n",
       " 'bolt_pattern_wide_boss',\n",
       " 'groove_boss',\n",
       " 'base_diameter_boss',\n",
       " 'shoulder_diameter_boss',\n",
       " 'unique_feature_boss',\n",
       " 'orientation_boss',\n",
       " 'weight_boss',\n",
       " 'component_type_boss',\n",
       " 'bolt_pattern_long_float',\n",
       " 'bolt_pattern_wide_float',\n",
       " 'thickness_float',\n",
       " 'orientation_float',\n",
       " 'weight_float',\n",
       " 'component_type_float',\n",
       " 'bolt_pattern_long_tee',\n",
       " 'bolt_pattern_wide_tee',\n",
       " 'extension_length_tee',\n",
       " 'overall_length_tee',\n",
       " 'thickness_tee',\n",
       " 'drop_length_tee',\n",
       " 'mj_class_code_tee',\n",
       " 'mj_plug_class_code_tee',\n",
       " 'groove_tee',\n",
       " 'unique_feature_tee',\n",
       " 'orientation_tee',\n",
       " 'weight_tee',\n",
       " 'component_type_tee']"
      ]
     },
     "execution_count": 79,
     "metadata": {},
     "output_type": "execute_result"
    }
   ],
   "source": [
    "list(comp_result_df.columns.values)"
   ]
  },
  {
   "cell_type": "code",
   "execution_count": 80,
   "metadata": {
    "collapsed": false
   },
   "outputs": [
    {
     "data": {
      "text/html": [
       "<div>\n",
       "<table border=\"1\" class=\"dataframe\">\n",
       "  <thead>\n",
       "    <tr style=\"text-align: right;\">\n",
       "      <th></th>\n",
       "      <th>component_type_id</th>\n",
       "      <th>name</th>\n",
       "    </tr>\n",
       "  </thead>\n",
       "  <tbody>\n",
       "    <tr>\n",
       "      <th>0</th>\n",
       "      <td>CP-001</td>\n",
       "      <td>4-bolt Tig Straight</td>\n",
       "    </tr>\n",
       "    <tr>\n",
       "      <th>1</th>\n",
       "      <td>CP-002</td>\n",
       "      <td>4-bolt MJ Straight</td>\n",
       "    </tr>\n",
       "    <tr>\n",
       "      <th>2</th>\n",
       "      <td>CP-003</td>\n",
       "      <td>4-bolt Braze/Weld Straight</td>\n",
       "    </tr>\n",
       "    <tr>\n",
       "      <th>3</th>\n",
       "      <td>CP-004</td>\n",
       "      <td>2-bolt Braze/Weld Straight</td>\n",
       "    </tr>\n",
       "    <tr>\n",
       "      <th>4</th>\n",
       "      <td>CP-005</td>\n",
       "      <td>2-bolt MJ Straight</td>\n",
       "    </tr>\n",
       "  </tbody>\n",
       "</table>\n",
       "</div>"
      ],
      "text/plain": [
       "  component_type_id                        name\n",
       "0            CP-001         4-bolt Tig Straight\n",
       "1            CP-002          4-bolt MJ Straight\n",
       "2            CP-003  4-bolt Braze/Weld Straight\n",
       "3            CP-004  2-bolt Braze/Weld Straight\n",
       "4            CP-005          2-bolt MJ Straight"
      ]
     },
     "execution_count": 80,
     "metadata": {},
     "output_type": "execute_result"
    }
   ],
   "source": [
    "type_component_df.head()"
   ]
  },
  {
   "cell_type": "code",
   "execution_count": 81,
   "metadata": {
    "collapsed": false
   },
   "outputs": [
    {
     "data": {
      "text/html": [
       "<div>\n",
       "<table border=\"1\" class=\"dataframe\">\n",
       "  <thead>\n",
       "    <tr style=\"text-align: right;\">\n",
       "      <th></th>\n",
       "      <th>spec1</th>\n",
       "      <th>spec2</th>\n",
       "      <th>spec3</th>\n",
       "      <th>spec4</th>\n",
       "      <th>spec5</th>\n",
       "      <th>spec6</th>\n",
       "      <th>spec7</th>\n",
       "      <th>spec8</th>\n",
       "      <th>spec9</th>\n",
       "      <th>spec10</th>\n",
       "    </tr>\n",
       "    <tr>\n",
       "      <th>tube_assembly_id</th>\n",
       "      <th></th>\n",
       "      <th></th>\n",
       "      <th></th>\n",
       "      <th></th>\n",
       "      <th></th>\n",
       "      <th></th>\n",
       "      <th></th>\n",
       "      <th></th>\n",
       "      <th></th>\n",
       "      <th></th>\n",
       "    </tr>\n",
       "  </thead>\n",
       "  <tbody>\n",
       "    <tr>\n",
       "      <th>TA-00001</th>\n",
       "      <td>NaN</td>\n",
       "      <td>NaN</td>\n",
       "      <td>NaN</td>\n",
       "      <td>NaN</td>\n",
       "      <td>NaN</td>\n",
       "      <td>NaN</td>\n",
       "      <td>NaN</td>\n",
       "      <td>NaN</td>\n",
       "      <td>NaN</td>\n",
       "      <td>NaN</td>\n",
       "    </tr>\n",
       "    <tr>\n",
       "      <th>TA-00002</th>\n",
       "      <td>NaN</td>\n",
       "      <td>NaN</td>\n",
       "      <td>NaN</td>\n",
       "      <td>NaN</td>\n",
       "      <td>NaN</td>\n",
       "      <td>NaN</td>\n",
       "      <td>NaN</td>\n",
       "      <td>NaN</td>\n",
       "      <td>NaN</td>\n",
       "      <td>NaN</td>\n",
       "    </tr>\n",
       "    <tr>\n",
       "      <th>TA-00003</th>\n",
       "      <td>NaN</td>\n",
       "      <td>NaN</td>\n",
       "      <td>NaN</td>\n",
       "      <td>NaN</td>\n",
       "      <td>NaN</td>\n",
       "      <td>NaN</td>\n",
       "      <td>NaN</td>\n",
       "      <td>NaN</td>\n",
       "      <td>NaN</td>\n",
       "      <td>NaN</td>\n",
       "    </tr>\n",
       "    <tr>\n",
       "      <th>TA-00004</th>\n",
       "      <td>NaN</td>\n",
       "      <td>NaN</td>\n",
       "      <td>NaN</td>\n",
       "      <td>NaN</td>\n",
       "      <td>NaN</td>\n",
       "      <td>NaN</td>\n",
       "      <td>NaN</td>\n",
       "      <td>NaN</td>\n",
       "      <td>NaN</td>\n",
       "      <td>NaN</td>\n",
       "    </tr>\n",
       "    <tr>\n",
       "      <th>TA-00005</th>\n",
       "      <td>NaN</td>\n",
       "      <td>NaN</td>\n",
       "      <td>NaN</td>\n",
       "      <td>NaN</td>\n",
       "      <td>NaN</td>\n",
       "      <td>NaN</td>\n",
       "      <td>NaN</td>\n",
       "      <td>NaN</td>\n",
       "      <td>NaN</td>\n",
       "      <td>NaN</td>\n",
       "    </tr>\n",
       "  </tbody>\n",
       "</table>\n",
       "</div>"
      ],
      "text/plain": [
       "                 spec1 spec2 spec3 spec4 spec5 spec6 spec7 spec8 spec9 spec10\n",
       "tube_assembly_id                                                             \n",
       "TA-00001           NaN   NaN   NaN   NaN   NaN   NaN   NaN   NaN   NaN    NaN\n",
       "TA-00002           NaN   NaN   NaN   NaN   NaN   NaN   NaN   NaN   NaN    NaN\n",
       "TA-00003           NaN   NaN   NaN   NaN   NaN   NaN   NaN   NaN   NaN    NaN\n",
       "TA-00004           NaN   NaN   NaN   NaN   NaN   NaN   NaN   NaN   NaN    NaN\n",
       "TA-00005           NaN   NaN   NaN   NaN   NaN   NaN   NaN   NaN   NaN    NaN"
      ]
     },
     "execution_count": 81,
     "metadata": {},
     "output_type": "execute_result"
    }
   ],
   "source": [
    "specs_df.head()"
   ]
  },
  {
   "cell_type": "code",
   "execution_count": 82,
   "metadata": {
    "collapsed": false
   },
   "outputs": [
    {
     "data": {
      "text/html": [
       "<div>\n",
       "<table border=\"1\" class=\"dataframe\">\n",
       "  <thead>\n",
       "    <tr style=\"text-align: right;\">\n",
       "      <th></th>\n",
       "      <th>spec1</th>\n",
       "      <th>spec2</th>\n",
       "      <th>spec3</th>\n",
       "      <th>spec4</th>\n",
       "      <th>spec5</th>\n",
       "      <th>spec6</th>\n",
       "      <th>spec7</th>\n",
       "      <th>spec8</th>\n",
       "      <th>spec9</th>\n",
       "      <th>spec10</th>\n",
       "    </tr>\n",
       "    <tr>\n",
       "      <th>tube_assembly_id</th>\n",
       "      <th></th>\n",
       "      <th></th>\n",
       "      <th></th>\n",
       "      <th></th>\n",
       "      <th></th>\n",
       "      <th></th>\n",
       "      <th></th>\n",
       "      <th></th>\n",
       "      <th></th>\n",
       "      <th></th>\n",
       "    </tr>\n",
       "  </thead>\n",
       "  <tbody>\n",
       "    <tr>\n",
       "      <th>TA-00013</th>\n",
       "      <td>SP-0004</td>\n",
       "      <td>SP-0069</td>\n",
       "      <td>SP-0080</td>\n",
       "      <td>NaN</td>\n",
       "      <td>NaN</td>\n",
       "      <td>NaN</td>\n",
       "      <td>NaN</td>\n",
       "      <td>NaN</td>\n",
       "      <td>NaN</td>\n",
       "      <td>NaN</td>\n",
       "    </tr>\n",
       "    <tr>\n",
       "      <th>TA-00015</th>\n",
       "      <td>SP-0063</td>\n",
       "      <td>SP-0069</td>\n",
       "      <td>SP-0080</td>\n",
       "      <td>NaN</td>\n",
       "      <td>NaN</td>\n",
       "      <td>NaN</td>\n",
       "      <td>NaN</td>\n",
       "      <td>NaN</td>\n",
       "      <td>NaN</td>\n",
       "      <td>NaN</td>\n",
       "    </tr>\n",
       "    <tr>\n",
       "      <th>TA-00018</th>\n",
       "      <td>SP-0007</td>\n",
       "      <td>SP-0058</td>\n",
       "      <td>SP-0070</td>\n",
       "      <td>SP-0080</td>\n",
       "      <td>NaN</td>\n",
       "      <td>NaN</td>\n",
       "      <td>NaN</td>\n",
       "      <td>NaN</td>\n",
       "      <td>NaN</td>\n",
       "      <td>NaN</td>\n",
       "    </tr>\n",
       "    <tr>\n",
       "      <th>TA-00019</th>\n",
       "      <td>SP-0080</td>\n",
       "      <td>NaN</td>\n",
       "      <td>NaN</td>\n",
       "      <td>NaN</td>\n",
       "      <td>NaN</td>\n",
       "      <td>NaN</td>\n",
       "      <td>NaN</td>\n",
       "      <td>NaN</td>\n",
       "      <td>NaN</td>\n",
       "      <td>NaN</td>\n",
       "    </tr>\n",
       "    <tr>\n",
       "      <th>TA-00020</th>\n",
       "      <td>SP-0057</td>\n",
       "      <td>SP-0067</td>\n",
       "      <td>SP-0080</td>\n",
       "      <td>NaN</td>\n",
       "      <td>NaN</td>\n",
       "      <td>NaN</td>\n",
       "      <td>NaN</td>\n",
       "      <td>NaN</td>\n",
       "      <td>NaN</td>\n",
       "      <td>NaN</td>\n",
       "    </tr>\n",
       "  </tbody>\n",
       "</table>\n",
       "</div>"
      ],
      "text/plain": [
       "                    spec1    spec2    spec3    spec4 spec5 spec6 spec7 spec8  \\\n",
       "tube_assembly_id                                                               \n",
       "TA-00013          SP-0004  SP-0069  SP-0080      NaN   NaN   NaN   NaN   NaN   \n",
       "TA-00015          SP-0063  SP-0069  SP-0080      NaN   NaN   NaN   NaN   NaN   \n",
       "TA-00018          SP-0007  SP-0058  SP-0070  SP-0080   NaN   NaN   NaN   NaN   \n",
       "TA-00019          SP-0080      NaN      NaN      NaN   NaN   NaN   NaN   NaN   \n",
       "TA-00020          SP-0057  SP-0067  SP-0080      NaN   NaN   NaN   NaN   NaN   \n",
       "\n",
       "                 spec9 spec10  \n",
       "tube_assembly_id               \n",
       "TA-00013           NaN    NaN  \n",
       "TA-00015           NaN    NaN  \n",
       "TA-00018           NaN    NaN  \n",
       "TA-00019           NaN    NaN  \n",
       "TA-00020           NaN    NaN  "
      ]
     },
     "execution_count": 82,
     "metadata": {},
     "output_type": "execute_result"
    }
   ],
   "source": [
    "specs_df[specs_df.spec1.notnull()].head()"
   ]
  },
  {
   "cell_type": "code",
   "execution_count": 83,
   "metadata": {
    "collapsed": false
   },
   "outputs": [
    {
     "data": {
      "text/html": [
       "<div>\n",
       "<table border=\"1\" class=\"dataframe\">\n",
       "  <thead>\n",
       "    <tr style=\"text-align: right;\">\n",
       "      <th></th>\n",
       "      <th>spec1</th>\n",
       "      <th>spec2</th>\n",
       "      <th>spec3</th>\n",
       "      <th>spec4</th>\n",
       "      <th>spec5</th>\n",
       "      <th>spec6</th>\n",
       "      <th>spec7</th>\n",
       "      <th>spec8</th>\n",
       "      <th>spec9</th>\n",
       "      <th>spec10</th>\n",
       "    </tr>\n",
       "    <tr>\n",
       "      <th>tube_assembly_id</th>\n",
       "      <th></th>\n",
       "      <th></th>\n",
       "      <th></th>\n",
       "      <th></th>\n",
       "      <th></th>\n",
       "      <th></th>\n",
       "      <th></th>\n",
       "      <th></th>\n",
       "      <th></th>\n",
       "      <th></th>\n",
       "    </tr>\n",
       "  </thead>\n",
       "  <tbody>\n",
       "    <tr>\n",
       "      <th>TA-12019</th>\n",
       "      <td>SP-0004</td>\n",
       "      <td>SP-0005</td>\n",
       "      <td>SP-0009</td>\n",
       "      <td>SP-0009</td>\n",
       "      <td>SP-0016</td>\n",
       "      <td>SP-0018</td>\n",
       "      <td>SP-0058</td>\n",
       "      <td>SP-0062</td>\n",
       "      <td>SP-0070</td>\n",
       "      <td>SP-0080</td>\n",
       "    </tr>\n",
       "  </tbody>\n",
       "</table>\n",
       "</div>"
      ],
      "text/plain": [
       "                    spec1    spec2    spec3    spec4    spec5    spec6  \\\n",
       "tube_assembly_id                                                         \n",
       "TA-12019          SP-0004  SP-0005  SP-0009  SP-0009  SP-0016  SP-0018   \n",
       "\n",
       "                    spec7    spec8    spec9   spec10  \n",
       "tube_assembly_id                                      \n",
       "TA-12019          SP-0058  SP-0062  SP-0070  SP-0080  "
      ]
     },
     "execution_count": 83,
     "metadata": {},
     "output_type": "execute_result"
    }
   ],
   "source": [
    "specs_df[specs_df.spec10.notnull()].head()"
   ]
  },
  {
   "cell_type": "code",
   "execution_count": 84,
   "metadata": {
    "collapsed": false,
    "scrolled": false
   },
   "outputs": [
    {
     "data": {
      "text/html": [
       "<div>\n",
       "<table border=\"1\" class=\"dataframe\">\n",
       "  <thead>\n",
       "    <tr style=\"text-align: right;\">\n",
       "      <th></th>\n",
       "      <th>component_id_1</th>\n",
       "      <th>quantity_1</th>\n",
       "      <th>component_id_2</th>\n",
       "      <th>quantity_2</th>\n",
       "      <th>component_id_3</th>\n",
       "      <th>quantity_3</th>\n",
       "      <th>component_id_4</th>\n",
       "      <th>quantity_4</th>\n",
       "      <th>component_id_5</th>\n",
       "      <th>quantity_5</th>\n",
       "      <th>component_id_6</th>\n",
       "      <th>quantity_6</th>\n",
       "      <th>component_id_7</th>\n",
       "      <th>quantity_7</th>\n",
       "      <th>component_id_8</th>\n",
       "      <th>quantity_8</th>\n",
       "    </tr>\n",
       "    <tr>\n",
       "      <th>tube_assembly_id</th>\n",
       "      <th></th>\n",
       "      <th></th>\n",
       "      <th></th>\n",
       "      <th></th>\n",
       "      <th></th>\n",
       "      <th></th>\n",
       "      <th></th>\n",
       "      <th></th>\n",
       "      <th></th>\n",
       "      <th></th>\n",
       "      <th></th>\n",
       "      <th></th>\n",
       "      <th></th>\n",
       "      <th></th>\n",
       "      <th></th>\n",
       "      <th></th>\n",
       "    </tr>\n",
       "  </thead>\n",
       "  <tbody>\n",
       "    <tr>\n",
       "      <th>TA-11524</th>\n",
       "      <td>C-1253</td>\n",
       "      <td>1</td>\n",
       "      <td>C-1496</td>\n",
       "      <td>2</td>\n",
       "      <td>C-1500</td>\n",
       "      <td>1</td>\n",
       "      <td>C-1708</td>\n",
       "      <td>1</td>\n",
       "      <td>C-1811</td>\n",
       "      <td>1</td>\n",
       "      <td>C-1920</td>\n",
       "      <td>1</td>\n",
       "      <td>C-1921</td>\n",
       "      <td>1</td>\n",
       "      <td>C-1981</td>\n",
       "      <td>1</td>\n",
       "    </tr>\n",
       "  </tbody>\n",
       "</table>\n",
       "</div>"
      ],
      "text/plain": [
       "                 component_id_1  quantity_1 component_id_2  quantity_2  \\\n",
       "tube_assembly_id                                                         \n",
       "TA-11524                 C-1253           1         C-1496           2   \n",
       "\n",
       "                 component_id_3  quantity_3 component_id_4  quantity_4  \\\n",
       "tube_assembly_id                                                         \n",
       "TA-11524                 C-1500           1         C-1708           1   \n",
       "\n",
       "                 component_id_5  quantity_5 component_id_6  quantity_6  \\\n",
       "tube_assembly_id                                                         \n",
       "TA-11524                 C-1811           1         C-1920           1   \n",
       "\n",
       "                 component_id_7  quantity_7 component_id_8  quantity_8  \n",
       "tube_assembly_id                                                        \n",
       "TA-11524                 C-1921           1         C-1981           1  "
      ]
     },
     "execution_count": 84,
     "metadata": {},
     "output_type": "execute_result"
    }
   ],
   "source": [
    "bill_of_materials_df[bill_of_materials_df.component_id_8.notnull()].head()"
   ]
  },
  {
   "cell_type": "code",
   "execution_count": 85,
   "metadata": {
    "collapsed": false
   },
   "outputs": [],
   "source": [
    "#reset index\n",
    "bill_of_materials_df = reset_index(bill_of_materials_df, 'tube_assembly_id')"
   ]
  },
  {
   "cell_type": "markdown",
   "metadata": {},
   "source": [
    " "
   ]
  },
  {
   "cell_type": "markdown",
   "metadata": {
    "collapsed": true
   },
   "source": [
    "Left Join **bill_of_materials_df** to **comp_result_df** to **component_id = component_id_1....component_id_8** (join will happen 8 times)"
   ]
  },
  {
   "cell_type": "code",
   "execution_count": 86,
   "metadata": {
    "collapsed": false
   },
   "outputs": [
    {
     "name": "stdout",
     "output_type": "stream",
     "text": [
      "bom_result_df = bill_of_materials_df.merge(comp_result_df, how = \"left\", left_on = \"component_id_1\", right_on = \"component_id\").merge(comp_result_df, how = \"left\", left_on = \"component_id_2\", right_on = \"component_id\").merge(comp_result_df, how = \"left\", left_on = \"component_id_3\", right_on = \"component_id\").merge(comp_result_df, how = \"left\", left_on = \"component_id_4\", right_on = \"component_id\").merge(comp_result_df, how = \"left\", left_on = \"component_id_5\", right_on = \"component_id\").merge(comp_result_df, how = \"left\", left_on = \"component_id_6\", right_on = \"component_id\").merge(comp_result_df, how = \"left\", left_on = \"component_id_7\", right_on = \"component_id\").merge(comp_result_df, how = \"left\", left_on = \"component_id_8\", right_on = \"component_id\")\n"
     ]
    }
   ],
   "source": [
    "#bom_join = join_billofmaterials_to_compresult(bill_of_materials_df, comp_result_df, 8)\n",
    "bom_join = join_df1_to_df2('bill_of_materials_df', 'comp_result_df', 8, 'bom_result_df', 'left', 'component_id')\n",
    "print bom_join\n",
    "exec(bom_join)"
   ]
  },
  {
   "cell_type": "code",
   "execution_count": 87,
   "metadata": {
    "collapsed": true
   },
   "outputs": [],
   "source": [
    "#removes the '_x' and '_y' from column names in bom_result_df\n",
    "new_cols = remove_xy(bom_result_df)\n",
    "bom_result_df.columns = new_cols\n",
    "\n",
    "#rename columns with suffix '_1', '_2'...'_8' to signify which join number it resulted from (1 or 2 or...8th join)\n",
    "new_cols = rename_bom_columns(bom_result_df)\n",
    "bom_result_df.columns = new_cols\n",
    "\n",
    "#remove redundant component_id columns\n",
    "NUM_OF_JOINS = 8\n",
    "for i in range(NUM_OF_JOINS):\n",
    "    col_to_remove = 'component_id_' + str(i + 1) + '_RIGHT'\n",
    "    bom_result_df = bom_result_df.drop(col_to_remove, 1)"
   ]
  },
  {
   "cell_type": "code",
   "execution_count": 88,
   "metadata": {
    "collapsed": false
   },
   "outputs": [
    {
     "data": {
      "text/plain": [
       "(21198, 1169)"
      ]
     },
     "execution_count": 88,
     "metadata": {},
     "output_type": "execute_result"
    }
   ],
   "source": [
    "bom_result_df.shape"
   ]
  },
  {
   "cell_type": "code",
   "execution_count": 89,
   "metadata": {
    "collapsed": true
   },
   "outputs": [],
   "source": [
    "bill_of_materials_df = bom_result_df"
   ]
  },
  {
   "cell_type": "code",
   "execution_count": 90,
   "metadata": {
    "collapsed": false
   },
   "outputs": [
    {
     "data": {
      "text/html": [
       "<div>\n",
       "<table border=\"1\" class=\"dataframe\">\n",
       "  <thead>\n",
       "    <tr style=\"text-align: right;\">\n",
       "      <th></th>\n",
       "      <th>tube_assembly_id</th>\n",
       "      <th>component_id_1</th>\n",
       "      <th>quantity_1</th>\n",
       "      <th>component_id_2</th>\n",
       "      <th>quantity_2</th>\n",
       "      <th>component_id_3</th>\n",
       "      <th>quantity_3</th>\n",
       "      <th>component_id_4</th>\n",
       "      <th>quantity_4</th>\n",
       "      <th>component_id_5</th>\n",
       "      <th>...</th>\n",
       "      <th>overall_length_tee_8</th>\n",
       "      <th>thickness_tee_8</th>\n",
       "      <th>drop_length_tee_8</th>\n",
       "      <th>mj_class_code_tee_8</th>\n",
       "      <th>mj_plug_class_code_tee_8</th>\n",
       "      <th>groove_tee_8</th>\n",
       "      <th>unique_feature_tee_8</th>\n",
       "      <th>orientation_tee_8</th>\n",
       "      <th>weight_tee_8</th>\n",
       "      <th>component_type_tee_8</th>\n",
       "    </tr>\n",
       "  </thead>\n",
       "  <tbody>\n",
       "    <tr>\n",
       "      <th>0</th>\n",
       "      <td>TA-00001</td>\n",
       "      <td>C-1622</td>\n",
       "      <td>2</td>\n",
       "      <td>C-1629</td>\n",
       "      <td>2</td>\n",
       "      <td>NaN</td>\n",
       "      <td>NaN</td>\n",
       "      <td>NaN</td>\n",
       "      <td>NaN</td>\n",
       "      <td>NaN</td>\n",
       "      <td>...</td>\n",
       "      <td>NaN</td>\n",
       "      <td>NaN</td>\n",
       "      <td>NaN</td>\n",
       "      <td>NaN</td>\n",
       "      <td>NaN</td>\n",
       "      <td>NaN</td>\n",
       "      <td>NaN</td>\n",
       "      <td>NaN</td>\n",
       "      <td>NaN</td>\n",
       "      <td>NaN</td>\n",
       "    </tr>\n",
       "    <tr>\n",
       "      <th>1</th>\n",
       "      <td>TA-00002</td>\n",
       "      <td>C-1312</td>\n",
       "      <td>2</td>\n",
       "      <td>NaN</td>\n",
       "      <td>NaN</td>\n",
       "      <td>NaN</td>\n",
       "      <td>NaN</td>\n",
       "      <td>NaN</td>\n",
       "      <td>NaN</td>\n",
       "      <td>NaN</td>\n",
       "      <td>...</td>\n",
       "      <td>NaN</td>\n",
       "      <td>NaN</td>\n",
       "      <td>NaN</td>\n",
       "      <td>NaN</td>\n",
       "      <td>NaN</td>\n",
       "      <td>NaN</td>\n",
       "      <td>NaN</td>\n",
       "      <td>NaN</td>\n",
       "      <td>NaN</td>\n",
       "      <td>NaN</td>\n",
       "    </tr>\n",
       "    <tr>\n",
       "      <th>2</th>\n",
       "      <td>TA-00003</td>\n",
       "      <td>C-1312</td>\n",
       "      <td>2</td>\n",
       "      <td>NaN</td>\n",
       "      <td>NaN</td>\n",
       "      <td>NaN</td>\n",
       "      <td>NaN</td>\n",
       "      <td>NaN</td>\n",
       "      <td>NaN</td>\n",
       "      <td>NaN</td>\n",
       "      <td>...</td>\n",
       "      <td>NaN</td>\n",
       "      <td>NaN</td>\n",
       "      <td>NaN</td>\n",
       "      <td>NaN</td>\n",
       "      <td>NaN</td>\n",
       "      <td>NaN</td>\n",
       "      <td>NaN</td>\n",
       "      <td>NaN</td>\n",
       "      <td>NaN</td>\n",
       "      <td>NaN</td>\n",
       "    </tr>\n",
       "    <tr>\n",
       "      <th>3</th>\n",
       "      <td>TA-00004</td>\n",
       "      <td>C-1312</td>\n",
       "      <td>2</td>\n",
       "      <td>NaN</td>\n",
       "      <td>NaN</td>\n",
       "      <td>NaN</td>\n",
       "      <td>NaN</td>\n",
       "      <td>NaN</td>\n",
       "      <td>NaN</td>\n",
       "      <td>NaN</td>\n",
       "      <td>...</td>\n",
       "      <td>NaN</td>\n",
       "      <td>NaN</td>\n",
       "      <td>NaN</td>\n",
       "      <td>NaN</td>\n",
       "      <td>NaN</td>\n",
       "      <td>NaN</td>\n",
       "      <td>NaN</td>\n",
       "      <td>NaN</td>\n",
       "      <td>NaN</td>\n",
       "      <td>NaN</td>\n",
       "    </tr>\n",
       "    <tr>\n",
       "      <th>4</th>\n",
       "      <td>TA-00005</td>\n",
       "      <td>C-1624</td>\n",
       "      <td>1</td>\n",
       "      <td>C-1631</td>\n",
       "      <td>1</td>\n",
       "      <td>C-1641</td>\n",
       "      <td>1</td>\n",
       "      <td>NaN</td>\n",
       "      <td>NaN</td>\n",
       "      <td>NaN</td>\n",
       "      <td>...</td>\n",
       "      <td>NaN</td>\n",
       "      <td>NaN</td>\n",
       "      <td>NaN</td>\n",
       "      <td>NaN</td>\n",
       "      <td>NaN</td>\n",
       "      <td>NaN</td>\n",
       "      <td>NaN</td>\n",
       "      <td>NaN</td>\n",
       "      <td>NaN</td>\n",
       "      <td>NaN</td>\n",
       "    </tr>\n",
       "  </tbody>\n",
       "</table>\n",
       "<p>5 rows × 1169 columns</p>\n",
       "</div>"
      ],
      "text/plain": [
       "  tube_assembly_id component_id_1  quantity_1 component_id_2  quantity_2  \\\n",
       "0         TA-00001         C-1622           2         C-1629           2   \n",
       "1         TA-00002         C-1312           2            NaN         NaN   \n",
       "2         TA-00003         C-1312           2            NaN         NaN   \n",
       "3         TA-00004         C-1312           2            NaN         NaN   \n",
       "4         TA-00005         C-1624           1         C-1631           1   \n",
       "\n",
       "  component_id_3  quantity_3 component_id_4  quantity_4 component_id_5  \\\n",
       "0            NaN         NaN            NaN         NaN            NaN   \n",
       "1            NaN         NaN            NaN         NaN            NaN   \n",
       "2            NaN         NaN            NaN         NaN            NaN   \n",
       "3            NaN         NaN            NaN         NaN            NaN   \n",
       "4         C-1641           1            NaN         NaN            NaN   \n",
       "\n",
       "           ...           overall_length_tee_8 thickness_tee_8  \\\n",
       "0          ...                            NaN             NaN   \n",
       "1          ...                            NaN             NaN   \n",
       "2          ...                            NaN             NaN   \n",
       "3          ...                            NaN             NaN   \n",
       "4          ...                            NaN             NaN   \n",
       "\n",
       "   drop_length_tee_8 mj_class_code_tee_8  mj_plug_class_code_tee_8  \\\n",
       "0                NaN                 NaN                       NaN   \n",
       "1                NaN                 NaN                       NaN   \n",
       "2                NaN                 NaN                       NaN   \n",
       "3                NaN                 NaN                       NaN   \n",
       "4                NaN                 NaN                       NaN   \n",
       "\n",
       "  groove_tee_8  unique_feature_tee_8 orientation_tee_8 weight_tee_8  \\\n",
       "0          NaN                   NaN               NaN          NaN   \n",
       "1          NaN                   NaN               NaN          NaN   \n",
       "2          NaN                   NaN               NaN          NaN   \n",
       "3          NaN                   NaN               NaN          NaN   \n",
       "4          NaN                   NaN               NaN          NaN   \n",
       "\n",
       "   component_type_tee_8  \n",
       "0                   NaN  \n",
       "1                   NaN  \n",
       "2                   NaN  \n",
       "3                   NaN  \n",
       "4                   NaN  \n",
       "\n",
       "[5 rows x 1169 columns]"
      ]
     },
     "execution_count": 90,
     "metadata": {},
     "output_type": "execute_result"
    }
   ],
   "source": [
    "bom_result_df.head()"
   ]
  },
  {
   "cell_type": "code",
   "execution_count": 91,
   "metadata": {
    "collapsed": false
   },
   "outputs": [
    {
     "data": {
      "text/plain": [
       "['tube_assembly_id',\n",
       " 'component_id_1',\n",
       " 'quantity_1',\n",
       " 'component_id_2',\n",
       " 'quantity_2',\n",
       " 'component_id_3',\n",
       " 'quantity_3',\n",
       " 'component_id_4',\n",
       " 'quantity_4',\n",
       " 'component_id_5',\n",
       " 'quantity_5',\n",
       " 'component_id_6',\n",
       " 'quantity_6',\n",
       " 'component_id_7',\n",
       " 'quantity_7',\n",
       " 'component_id_8',\n",
       " 'quantity_8',\n",
       " 'name_1',\n",
       " 'component_type_id_1',\n",
       " 'hose_diameter_hfl_1',\n",
       " 'corresponding_shell_hfl_1',\n",
       " 'coupling_class_hfl_1',\n",
       " 'material_hfl_1',\n",
       " 'plating_hfl_1',\n",
       " 'orientation_hfl_1',\n",
       " 'weight_hfl_1',\n",
       " 'component_type_hfl_1',\n",
       " 'hex_nut_size_nut_1',\n",
       " 'seat_angle_nut_1',\n",
       " 'length_nut_1',\n",
       " 'thread_size_nut_1',\n",
       " 'thread_pitch_nut_1',\n",
       " 'diameter_nut_1',\n",
       " 'blind_hole_nut_1',\n",
       " 'orientation_nut_1',\n",
       " 'weight_nut_1',\n",
       " 'component_type_nut_1',\n",
       " 'adaptor_angle_adaptor_1',\n",
       " 'overall_length_adaptor_1',\n",
       " 'end_form_id_1_adaptor_1',\n",
       " 'connection_type_id_1_adaptor_1',\n",
       " 'length_1_adaptor_1',\n",
       " 'thread_size_1_adaptor_1',\n",
       " 'thread_pitch_1_adaptor_1',\n",
       " 'nominal_size_1_adaptor_1',\n",
       " 'end_form_id_2_adaptor_1',\n",
       " 'connection_type_id_2_adaptor_1',\n",
       " 'length_2_adaptor_1',\n",
       " 'thread_size_2_adaptor_1',\n",
       " 'thread_pitch_2_adaptor_1',\n",
       " 'nominal_size_2_adaptor_1',\n",
       " 'hex_size_adaptor_1',\n",
       " 'unique_feature_adaptor_1',\n",
       " 'orientation_adaptor_1',\n",
       " 'weight_adaptor_1',\n",
       " 'component_type_adaptor_1',\n",
       " 'end_form_1_adaptor_1',\n",
       " 'end_form_2_adaptor_1',\n",
       " 'connection_type_1_adaptor_1',\n",
       " 'connection_type_2_adaptor_1',\n",
       " 'bolt_pattern_long_elbow_1',\n",
       " 'bolt_pattern_wide_elbow_1',\n",
       " 'extension_length_elbow_1',\n",
       " 'overall_length_elbow_1',\n",
       " 'thickness_elbow_1',\n",
       " 'drop_length_elbow_1',\n",
       " 'elbow_angle_elbow_1',\n",
       " 'mj_class_code_elbow_1',\n",
       " 'mj_plug_class_code_elbow_1',\n",
       " 'plug_diameter_elbow_1',\n",
       " 'groove_elbow_1',\n",
       " 'unique_feature_elbow_1',\n",
       " 'orientation_elbow_1',\n",
       " 'weight_elbow_1',\n",
       " 'component_type_elbow_1',\n",
       " 'length_sleeve_1',\n",
       " 'intended_nut_thread_sleeve_1',\n",
       " 'intended_nut_pitch_sleeve_1',\n",
       " 'unique_feature_sleeve_1',\n",
       " 'plating_sleeve_1',\n",
       " 'orientation_sleeve_1',\n",
       " 'weight_sleeve_1',\n",
       " 'component_type_sleeve_1',\n",
       " 'connection_type_sleeve_1',\n",
       " 'part_name_other_1',\n",
       " 'weight_other_1',\n",
       " 'adaptor_angle_threaded_1',\n",
       " 'overall_length_threaded_1',\n",
       " 'hex_size_threaded_1',\n",
       " 'length_1_threaded_1',\n",
       " 'thread_size_1_threaded_1',\n",
       " 'thread_pitch_1_threaded_1',\n",
       " 'nominal_size_1_threaded_1',\n",
       " 'length_2_threaded_1',\n",
       " 'thread_size_2_threaded_1',\n",
       " 'thread_pitch_2_threaded_1',\n",
       " 'nominal_size_2_threaded_1',\n",
       " 'length_3_threaded_1',\n",
       " 'thread_size_3_threaded_1',\n",
       " 'thread_pitch_3_threaded_1',\n",
       " 'nominal_size_3_threaded_1',\n",
       " 'length_4_threaded_1',\n",
       " 'thread_size_4_threaded_1',\n",
       " 'thread_pitch_4_threaded_1',\n",
       " 'nominal_size_4_threaded_1',\n",
       " 'unique_feature_threaded_1',\n",
       " 'orientation_threaded_1',\n",
       " 'weight_threaded_1',\n",
       " 'component_type_threaded_1',\n",
       " 'end_form_1_threaded_1',\n",
       " 'end_form_2_threaded_1',\n",
       " 'end_form_3_threaded_1',\n",
       " 'end_form_4_threaded_1',\n",
       " 'connection_type_1_threaded_1',\n",
       " 'connection_type_2_threaded_1',\n",
       " 'connection_type_3_threaded_1',\n",
       " 'connection_type_4_threaded_1',\n",
       " 'bolt_pattern_long_straight_1',\n",
       " 'bolt_pattern_wide_straight_1',\n",
       " 'head_diameter_straight_1',\n",
       " 'overall_length_straight_1',\n",
       " 'thickness_straight_1',\n",
       " 'mj_class_code_straight_1',\n",
       " 'groove_straight_1',\n",
       " 'unique_feature_straight_1',\n",
       " 'orientation_straight_1',\n",
       " 'weight_straight_1',\n",
       " 'component_type_straight_1',\n",
       " 'type_boss_1',\n",
       " 'connection_type_id_boss_1',\n",
       " 'outside_shape_boss_1',\n",
       " 'base_type_boss_1',\n",
       " 'height_over_tube_boss_1',\n",
       " 'bolt_pattern_long_boss_1',\n",
       " 'bolt_pattern_wide_boss_1',\n",
       " 'groove_boss_1',\n",
       " 'base_diameter_boss_1',\n",
       " 'shoulder_diameter_boss_1',\n",
       " 'unique_feature_boss_1',\n",
       " 'orientation_boss_1',\n",
       " 'weight_boss_1',\n",
       " 'component_type_boss_1',\n",
       " 'bolt_pattern_long_float_1',\n",
       " 'bolt_pattern_wide_float_1',\n",
       " 'thickness_float_1',\n",
       " 'orientation_float_1',\n",
       " 'weight_float_1',\n",
       " 'component_type_float_1',\n",
       " 'bolt_pattern_long_tee_1',\n",
       " 'bolt_pattern_wide_tee_1',\n",
       " 'extension_length_tee_1',\n",
       " 'overall_length_tee_1',\n",
       " 'thickness_tee_1',\n",
       " 'drop_length_tee_1',\n",
       " 'mj_class_code_tee_1',\n",
       " 'mj_plug_class_code_tee_1',\n",
       " 'groove_tee_1',\n",
       " 'unique_feature_tee_1',\n",
       " 'orientation_tee_1',\n",
       " 'weight_tee_1',\n",
       " 'component_type_tee_1',\n",
       " 'name_2',\n",
       " 'component_type_id_2',\n",
       " 'hose_diameter_hfl_2',\n",
       " 'corresponding_shell_hfl_2',\n",
       " 'coupling_class_hfl_2',\n",
       " 'material_hfl_2',\n",
       " 'plating_hfl_2',\n",
       " 'orientation_hfl_2',\n",
       " 'weight_hfl_2',\n",
       " 'component_type_hfl_2',\n",
       " 'hex_nut_size_nut_2',\n",
       " 'seat_angle_nut_2',\n",
       " 'length_nut_2',\n",
       " 'thread_size_nut_2',\n",
       " 'thread_pitch_nut_2',\n",
       " 'diameter_nut_2',\n",
       " 'blind_hole_nut_2',\n",
       " 'orientation_nut_2',\n",
       " 'weight_nut_2',\n",
       " 'component_type_nut_2',\n",
       " 'adaptor_angle_adaptor_2',\n",
       " 'overall_length_adaptor_2',\n",
       " 'end_form_id_1_adaptor_2',\n",
       " 'connection_type_id_1_adaptor_2',\n",
       " 'length_1_adaptor_2',\n",
       " 'thread_size_1_adaptor_2',\n",
       " 'thread_pitch_1_adaptor_2',\n",
       " 'nominal_size_1_adaptor_2',\n",
       " 'end_form_id_2_adaptor_2',\n",
       " 'connection_type_id_2_adaptor_2',\n",
       " 'length_2_adaptor_2',\n",
       " 'thread_size_2_adaptor_2',\n",
       " 'thread_pitch_2_adaptor_2',\n",
       " 'nominal_size_2_adaptor_2',\n",
       " 'hex_size_adaptor_2',\n",
       " 'unique_feature_adaptor_2',\n",
       " 'orientation_adaptor_2',\n",
       " 'weight_adaptor_2',\n",
       " 'component_type_adaptor_2',\n",
       " 'end_form_1_adaptor_2',\n",
       " 'end_form_2_adaptor_2',\n",
       " 'connection_type_1_adaptor_2',\n",
       " 'connection_type_2_adaptor_2',\n",
       " 'bolt_pattern_long_elbow_2',\n",
       " 'bolt_pattern_wide_elbow_2',\n",
       " 'extension_length_elbow_2',\n",
       " 'overall_length_elbow_2',\n",
       " 'thickness_elbow_2',\n",
       " 'drop_length_elbow_2',\n",
       " 'elbow_angle_elbow_2',\n",
       " 'mj_class_code_elbow_2',\n",
       " 'mj_plug_class_code_elbow_2',\n",
       " 'plug_diameter_elbow_2',\n",
       " 'groove_elbow_2',\n",
       " 'unique_feature_elbow_2',\n",
       " 'orientation_elbow_2',\n",
       " 'weight_elbow_2',\n",
       " 'component_type_elbow_2',\n",
       " 'length_sleeve_2',\n",
       " 'intended_nut_thread_sleeve_2',\n",
       " 'intended_nut_pitch_sleeve_2',\n",
       " 'unique_feature_sleeve_2',\n",
       " 'plating_sleeve_2',\n",
       " 'orientation_sleeve_2',\n",
       " 'weight_sleeve_2',\n",
       " 'component_type_sleeve_2',\n",
       " 'connection_type_sleeve_2',\n",
       " 'part_name_other_2',\n",
       " 'weight_other_2',\n",
       " 'adaptor_angle_threaded_2',\n",
       " 'overall_length_threaded_2',\n",
       " 'hex_size_threaded_2',\n",
       " 'length_1_threaded_2',\n",
       " 'thread_size_1_threaded_2',\n",
       " 'thread_pitch_1_threaded_2',\n",
       " 'nominal_size_1_threaded_2',\n",
       " 'length_2_threaded_2',\n",
       " 'thread_size_2_threaded_2',\n",
       " 'thread_pitch_2_threaded_2',\n",
       " 'nominal_size_2_threaded_2',\n",
       " 'length_3_threaded_2',\n",
       " 'thread_size_3_threaded_2',\n",
       " 'thread_pitch_3_threaded_2',\n",
       " 'nominal_size_3_threaded_2',\n",
       " 'length_4_threaded_2',\n",
       " 'thread_size_4_threaded_2',\n",
       " 'thread_pitch_4_threaded_2',\n",
       " 'nominal_size_4_threaded_2',\n",
       " 'unique_feature_threaded_2',\n",
       " 'orientation_threaded_2',\n",
       " 'weight_threaded_2',\n",
       " 'component_type_threaded_2',\n",
       " 'end_form_1_threaded_2',\n",
       " 'end_form_2_threaded_2',\n",
       " 'end_form_3_threaded_2',\n",
       " 'end_form_4_threaded_2',\n",
       " 'connection_type_1_threaded_2',\n",
       " 'connection_type_2_threaded_2',\n",
       " 'connection_type_3_threaded_2',\n",
       " 'connection_type_4_threaded_2',\n",
       " 'bolt_pattern_long_straight_2',\n",
       " 'bolt_pattern_wide_straight_2',\n",
       " 'head_diameter_straight_2',\n",
       " 'overall_length_straight_2',\n",
       " 'thickness_straight_2',\n",
       " 'mj_class_code_straight_2',\n",
       " 'groove_straight_2',\n",
       " 'unique_feature_straight_2',\n",
       " 'orientation_straight_2',\n",
       " 'weight_straight_2',\n",
       " 'component_type_straight_2',\n",
       " 'type_boss_2',\n",
       " 'connection_type_id_boss_2',\n",
       " 'outside_shape_boss_2',\n",
       " 'base_type_boss_2',\n",
       " 'height_over_tube_boss_2',\n",
       " 'bolt_pattern_long_boss_2',\n",
       " 'bolt_pattern_wide_boss_2',\n",
       " 'groove_boss_2',\n",
       " 'base_diameter_boss_2',\n",
       " 'shoulder_diameter_boss_2',\n",
       " 'unique_feature_boss_2',\n",
       " 'orientation_boss_2',\n",
       " 'weight_boss_2',\n",
       " 'component_type_boss_2',\n",
       " 'bolt_pattern_long_float_2',\n",
       " 'bolt_pattern_wide_float_2',\n",
       " 'thickness_float_2',\n",
       " 'orientation_float_2',\n",
       " 'weight_float_2',\n",
       " 'component_type_float_2',\n",
       " 'bolt_pattern_long_tee_2',\n",
       " 'bolt_pattern_wide_tee_2',\n",
       " 'extension_length_tee_2',\n",
       " 'overall_length_tee_2',\n",
       " 'thickness_tee_2',\n",
       " 'drop_length_tee_2',\n",
       " 'mj_class_code_tee_2',\n",
       " 'mj_plug_class_code_tee_2',\n",
       " 'groove_tee_2',\n",
       " 'unique_feature_tee_2',\n",
       " 'orientation_tee_2',\n",
       " 'weight_tee_2',\n",
       " 'component_type_tee_2',\n",
       " 'name_3',\n",
       " 'component_type_id_3',\n",
       " 'hose_diameter_hfl_3',\n",
       " 'corresponding_shell_hfl_3',\n",
       " 'coupling_class_hfl_3',\n",
       " 'material_hfl_3',\n",
       " 'plating_hfl_3',\n",
       " 'orientation_hfl_3',\n",
       " 'weight_hfl_3',\n",
       " 'component_type_hfl_3',\n",
       " 'hex_nut_size_nut_3',\n",
       " 'seat_angle_nut_3',\n",
       " 'length_nut_3',\n",
       " 'thread_size_nut_3',\n",
       " 'thread_pitch_nut_3',\n",
       " 'diameter_nut_3',\n",
       " 'blind_hole_nut_3',\n",
       " 'orientation_nut_3',\n",
       " 'weight_nut_3',\n",
       " 'component_type_nut_3',\n",
       " 'adaptor_angle_adaptor_3',\n",
       " 'overall_length_adaptor_3',\n",
       " 'end_form_id_1_adaptor_3',\n",
       " 'connection_type_id_1_adaptor_3',\n",
       " 'length_1_adaptor_3',\n",
       " 'thread_size_1_adaptor_3',\n",
       " 'thread_pitch_1_adaptor_3',\n",
       " 'nominal_size_1_adaptor_3',\n",
       " 'end_form_id_2_adaptor_3',\n",
       " 'connection_type_id_2_adaptor_3',\n",
       " 'length_2_adaptor_3',\n",
       " 'thread_size_2_adaptor_3',\n",
       " 'thread_pitch_2_adaptor_3',\n",
       " 'nominal_size_2_adaptor_3',\n",
       " 'hex_size_adaptor_3',\n",
       " 'unique_feature_adaptor_3',\n",
       " 'orientation_adaptor_3',\n",
       " 'weight_adaptor_3',\n",
       " 'component_type_adaptor_3',\n",
       " 'end_form_1_adaptor_3',\n",
       " 'end_form_2_adaptor_3',\n",
       " 'connection_type_1_adaptor_3',\n",
       " 'connection_type_2_adaptor_3',\n",
       " 'bolt_pattern_long_elbow_3',\n",
       " 'bolt_pattern_wide_elbow_3',\n",
       " 'extension_length_elbow_3',\n",
       " 'overall_length_elbow_3',\n",
       " 'thickness_elbow_3',\n",
       " 'drop_length_elbow_3',\n",
       " 'elbow_angle_elbow_3',\n",
       " 'mj_class_code_elbow_3',\n",
       " 'mj_plug_class_code_elbow_3',\n",
       " 'plug_diameter_elbow_3',\n",
       " 'groove_elbow_3',\n",
       " 'unique_feature_elbow_3',\n",
       " 'orientation_elbow_3',\n",
       " 'weight_elbow_3',\n",
       " 'component_type_elbow_3',\n",
       " 'length_sleeve_3',\n",
       " 'intended_nut_thread_sleeve_3',\n",
       " 'intended_nut_pitch_sleeve_3',\n",
       " 'unique_feature_sleeve_3',\n",
       " 'plating_sleeve_3',\n",
       " 'orientation_sleeve_3',\n",
       " 'weight_sleeve_3',\n",
       " 'component_type_sleeve_3',\n",
       " 'connection_type_sleeve_3',\n",
       " 'part_name_other_3',\n",
       " 'weight_other_3',\n",
       " 'adaptor_angle_threaded_3',\n",
       " 'overall_length_threaded_3',\n",
       " 'hex_size_threaded_3',\n",
       " 'length_1_threaded_3',\n",
       " 'thread_size_1_threaded_3',\n",
       " 'thread_pitch_1_threaded_3',\n",
       " 'nominal_size_1_threaded_3',\n",
       " 'length_2_threaded_3',\n",
       " 'thread_size_2_threaded_3',\n",
       " 'thread_pitch_2_threaded_3',\n",
       " 'nominal_size_2_threaded_3',\n",
       " 'length_3_threaded_3',\n",
       " 'thread_size_3_threaded_3',\n",
       " 'thread_pitch_3_threaded_3',\n",
       " 'nominal_size_3_threaded_3',\n",
       " 'length_4_threaded_3',\n",
       " 'thread_size_4_threaded_3',\n",
       " 'thread_pitch_4_threaded_3',\n",
       " 'nominal_size_4_threaded_3',\n",
       " 'unique_feature_threaded_3',\n",
       " 'orientation_threaded_3',\n",
       " 'weight_threaded_3',\n",
       " 'component_type_threaded_3',\n",
       " 'end_form_1_threaded_3',\n",
       " 'end_form_2_threaded_3',\n",
       " 'end_form_3_threaded_3',\n",
       " 'end_form_4_threaded_3',\n",
       " 'connection_type_1_threaded_3',\n",
       " 'connection_type_2_threaded_3',\n",
       " 'connection_type_3_threaded_3',\n",
       " 'connection_type_4_threaded_3',\n",
       " 'bolt_pattern_long_straight_3',\n",
       " 'bolt_pattern_wide_straight_3',\n",
       " 'head_diameter_straight_3',\n",
       " 'overall_length_straight_3',\n",
       " 'thickness_straight_3',\n",
       " 'mj_class_code_straight_3',\n",
       " 'groove_straight_3',\n",
       " 'unique_feature_straight_3',\n",
       " 'orientation_straight_3',\n",
       " 'weight_straight_3',\n",
       " 'component_type_straight_3',\n",
       " 'type_boss_3',\n",
       " 'connection_type_id_boss_3',\n",
       " 'outside_shape_boss_3',\n",
       " 'base_type_boss_3',\n",
       " 'height_over_tube_boss_3',\n",
       " 'bolt_pattern_long_boss_3',\n",
       " 'bolt_pattern_wide_boss_3',\n",
       " 'groove_boss_3',\n",
       " 'base_diameter_boss_3',\n",
       " 'shoulder_diameter_boss_3',\n",
       " 'unique_feature_boss_3',\n",
       " 'orientation_boss_3',\n",
       " 'weight_boss_3',\n",
       " 'component_type_boss_3',\n",
       " 'bolt_pattern_long_float_3',\n",
       " 'bolt_pattern_wide_float_3',\n",
       " 'thickness_float_3',\n",
       " 'orientation_float_3',\n",
       " 'weight_float_3',\n",
       " 'component_type_float_3',\n",
       " 'bolt_pattern_long_tee_3',\n",
       " 'bolt_pattern_wide_tee_3',\n",
       " 'extension_length_tee_3',\n",
       " 'overall_length_tee_3',\n",
       " 'thickness_tee_3',\n",
       " 'drop_length_tee_3',\n",
       " 'mj_class_code_tee_3',\n",
       " 'mj_plug_class_code_tee_3',\n",
       " 'groove_tee_3',\n",
       " 'unique_feature_tee_3',\n",
       " 'orientation_tee_3',\n",
       " 'weight_tee_3',\n",
       " 'component_type_tee_3',\n",
       " 'name_4',\n",
       " 'component_type_id_4',\n",
       " 'hose_diameter_hfl_4',\n",
       " 'corresponding_shell_hfl_4',\n",
       " 'coupling_class_hfl_4',\n",
       " 'material_hfl_4',\n",
       " 'plating_hfl_4',\n",
       " 'orientation_hfl_4',\n",
       " 'weight_hfl_4',\n",
       " 'component_type_hfl_4',\n",
       " 'hex_nut_size_nut_4',\n",
       " 'seat_angle_nut_4',\n",
       " 'length_nut_4',\n",
       " 'thread_size_nut_4',\n",
       " 'thread_pitch_nut_4',\n",
       " 'diameter_nut_4',\n",
       " 'blind_hole_nut_4',\n",
       " 'orientation_nut_4',\n",
       " 'weight_nut_4',\n",
       " 'component_type_nut_4',\n",
       " 'adaptor_angle_adaptor_4',\n",
       " 'overall_length_adaptor_4',\n",
       " 'end_form_id_1_adaptor_4',\n",
       " 'connection_type_id_1_adaptor_4',\n",
       " 'length_1_adaptor_4',\n",
       " 'thread_size_1_adaptor_4',\n",
       " 'thread_pitch_1_adaptor_4',\n",
       " 'nominal_size_1_adaptor_4',\n",
       " 'end_form_id_2_adaptor_4',\n",
       " 'connection_type_id_2_adaptor_4',\n",
       " 'length_2_adaptor_4',\n",
       " 'thread_size_2_adaptor_4',\n",
       " 'thread_pitch_2_adaptor_4',\n",
       " 'nominal_size_2_adaptor_4',\n",
       " 'hex_size_adaptor_4',\n",
       " 'unique_feature_adaptor_4',\n",
       " 'orientation_adaptor_4',\n",
       " 'weight_adaptor_4',\n",
       " 'component_type_adaptor_4',\n",
       " 'end_form_1_adaptor_4',\n",
       " 'end_form_2_adaptor_4',\n",
       " 'connection_type_1_adaptor_4',\n",
       " 'connection_type_2_adaptor_4',\n",
       " 'bolt_pattern_long_elbow_4',\n",
       " 'bolt_pattern_wide_elbow_4',\n",
       " 'extension_length_elbow_4',\n",
       " 'overall_length_elbow_4',\n",
       " 'thickness_elbow_4',\n",
       " 'drop_length_elbow_4',\n",
       " 'elbow_angle_elbow_4',\n",
       " 'mj_class_code_elbow_4',\n",
       " 'mj_plug_class_code_elbow_4',\n",
       " 'plug_diameter_elbow_4',\n",
       " 'groove_elbow_4',\n",
       " 'unique_feature_elbow_4',\n",
       " 'orientation_elbow_4',\n",
       " 'weight_elbow_4',\n",
       " 'component_type_elbow_4',\n",
       " 'length_sleeve_4',\n",
       " 'intended_nut_thread_sleeve_4',\n",
       " 'intended_nut_pitch_sleeve_4',\n",
       " 'unique_feature_sleeve_4',\n",
       " 'plating_sleeve_4',\n",
       " 'orientation_sleeve_4',\n",
       " 'weight_sleeve_4',\n",
       " 'component_type_sleeve_4',\n",
       " 'connection_type_sleeve_4',\n",
       " 'part_name_other_4',\n",
       " 'weight_other_4',\n",
       " 'adaptor_angle_threaded_4',\n",
       " 'overall_length_threaded_4',\n",
       " 'hex_size_threaded_4',\n",
       " 'length_1_threaded_4',\n",
       " 'thread_size_1_threaded_4',\n",
       " 'thread_pitch_1_threaded_4',\n",
       " 'nominal_size_1_threaded_4',\n",
       " 'length_2_threaded_4',\n",
       " 'thread_size_2_threaded_4',\n",
       " 'thread_pitch_2_threaded_4',\n",
       " 'nominal_size_2_threaded_4',\n",
       " 'length_3_threaded_4',\n",
       " 'thread_size_3_threaded_4',\n",
       " 'thread_pitch_3_threaded_4',\n",
       " 'nominal_size_3_threaded_4',\n",
       " 'length_4_threaded_4',\n",
       " 'thread_size_4_threaded_4',\n",
       " 'thread_pitch_4_threaded_4',\n",
       " 'nominal_size_4_threaded_4',\n",
       " 'unique_feature_threaded_4',\n",
       " 'orientation_threaded_4',\n",
       " 'weight_threaded_4',\n",
       " 'component_type_threaded_4',\n",
       " 'end_form_1_threaded_4',\n",
       " 'end_form_2_threaded_4',\n",
       " 'end_form_3_threaded_4',\n",
       " 'end_form_4_threaded_4',\n",
       " 'connection_type_1_threaded_4',\n",
       " 'connection_type_2_threaded_4',\n",
       " 'connection_type_3_threaded_4',\n",
       " 'connection_type_4_threaded_4',\n",
       " 'bolt_pattern_long_straight_4',\n",
       " 'bolt_pattern_wide_straight_4',\n",
       " 'head_diameter_straight_4',\n",
       " 'overall_length_straight_4',\n",
       " 'thickness_straight_4',\n",
       " 'mj_class_code_straight_4',\n",
       " 'groove_straight_4',\n",
       " 'unique_feature_straight_4',\n",
       " 'orientation_straight_4',\n",
       " 'weight_straight_4',\n",
       " 'component_type_straight_4',\n",
       " 'type_boss_4',\n",
       " 'connection_type_id_boss_4',\n",
       " 'outside_shape_boss_4',\n",
       " 'base_type_boss_4',\n",
       " 'height_over_tube_boss_4',\n",
       " 'bolt_pattern_long_boss_4',\n",
       " 'bolt_pattern_wide_boss_4',\n",
       " 'groove_boss_4',\n",
       " 'base_diameter_boss_4',\n",
       " 'shoulder_diameter_boss_4',\n",
       " 'unique_feature_boss_4',\n",
       " 'orientation_boss_4',\n",
       " 'weight_boss_4',\n",
       " 'component_type_boss_4',\n",
       " 'bolt_pattern_long_float_4',\n",
       " 'bolt_pattern_wide_float_4',\n",
       " 'thickness_float_4',\n",
       " 'orientation_float_4',\n",
       " 'weight_float_4',\n",
       " 'component_type_float_4',\n",
       " 'bolt_pattern_long_tee_4',\n",
       " 'bolt_pattern_wide_tee_4',\n",
       " 'extension_length_tee_4',\n",
       " 'overall_length_tee_4',\n",
       " 'thickness_tee_4',\n",
       " 'drop_length_tee_4',\n",
       " 'mj_class_code_tee_4',\n",
       " 'mj_plug_class_code_tee_4',\n",
       " 'groove_tee_4',\n",
       " 'unique_feature_tee_4',\n",
       " 'orientation_tee_4',\n",
       " 'weight_tee_4',\n",
       " 'component_type_tee_4',\n",
       " 'name_5',\n",
       " 'component_type_id_5',\n",
       " 'hose_diameter_hfl_5',\n",
       " 'corresponding_shell_hfl_5',\n",
       " 'coupling_class_hfl_5',\n",
       " 'material_hfl_5',\n",
       " 'plating_hfl_5',\n",
       " 'orientation_hfl_5',\n",
       " 'weight_hfl_5',\n",
       " 'component_type_hfl_5',\n",
       " 'hex_nut_size_nut_5',\n",
       " 'seat_angle_nut_5',\n",
       " 'length_nut_5',\n",
       " 'thread_size_nut_5',\n",
       " 'thread_pitch_nut_5',\n",
       " 'diameter_nut_5',\n",
       " 'blind_hole_nut_5',\n",
       " 'orientation_nut_5',\n",
       " 'weight_nut_5',\n",
       " 'component_type_nut_5',\n",
       " 'adaptor_angle_adaptor_5',\n",
       " 'overall_length_adaptor_5',\n",
       " 'end_form_id_1_adaptor_5',\n",
       " 'connection_type_id_1_adaptor_5',\n",
       " 'length_1_adaptor_5',\n",
       " 'thread_size_1_adaptor_5',\n",
       " 'thread_pitch_1_adaptor_5',\n",
       " 'nominal_size_1_adaptor_5',\n",
       " 'end_form_id_2_adaptor_5',\n",
       " 'connection_type_id_2_adaptor_5',\n",
       " 'length_2_adaptor_5',\n",
       " 'thread_size_2_adaptor_5',\n",
       " 'thread_pitch_2_adaptor_5',\n",
       " 'nominal_size_2_adaptor_5',\n",
       " 'hex_size_adaptor_5',\n",
       " 'unique_feature_adaptor_5',\n",
       " 'orientation_adaptor_5',\n",
       " 'weight_adaptor_5',\n",
       " 'component_type_adaptor_5',\n",
       " 'end_form_1_adaptor_5',\n",
       " 'end_form_2_adaptor_5',\n",
       " 'connection_type_1_adaptor_5',\n",
       " 'connection_type_2_adaptor_5',\n",
       " 'bolt_pattern_long_elbow_5',\n",
       " 'bolt_pattern_wide_elbow_5',\n",
       " 'extension_length_elbow_5',\n",
       " 'overall_length_elbow_5',\n",
       " 'thickness_elbow_5',\n",
       " 'drop_length_elbow_5',\n",
       " 'elbow_angle_elbow_5',\n",
       " 'mj_class_code_elbow_5',\n",
       " 'mj_plug_class_code_elbow_5',\n",
       " 'plug_diameter_elbow_5',\n",
       " 'groove_elbow_5',\n",
       " 'unique_feature_elbow_5',\n",
       " 'orientation_elbow_5',\n",
       " 'weight_elbow_5',\n",
       " 'component_type_elbow_5',\n",
       " 'length_sleeve_5',\n",
       " 'intended_nut_thread_sleeve_5',\n",
       " 'intended_nut_pitch_sleeve_5',\n",
       " 'unique_feature_sleeve_5',\n",
       " 'plating_sleeve_5',\n",
       " 'orientation_sleeve_5',\n",
       " 'weight_sleeve_5',\n",
       " 'component_type_sleeve_5',\n",
       " 'connection_type_sleeve_5',\n",
       " 'part_name_other_5',\n",
       " 'weight_other_5',\n",
       " 'adaptor_angle_threaded_5',\n",
       " 'overall_length_threaded_5',\n",
       " 'hex_size_threaded_5',\n",
       " 'length_1_threaded_5',\n",
       " 'thread_size_1_threaded_5',\n",
       " 'thread_pitch_1_threaded_5',\n",
       " 'nominal_size_1_threaded_5',\n",
       " 'length_2_threaded_5',\n",
       " 'thread_size_2_threaded_5',\n",
       " 'thread_pitch_2_threaded_5',\n",
       " 'nominal_size_2_threaded_5',\n",
       " 'length_3_threaded_5',\n",
       " 'thread_size_3_threaded_5',\n",
       " 'thread_pitch_3_threaded_5',\n",
       " 'nominal_size_3_threaded_5',\n",
       " 'length_4_threaded_5',\n",
       " 'thread_size_4_threaded_5',\n",
       " 'thread_pitch_4_threaded_5',\n",
       " 'nominal_size_4_threaded_5',\n",
       " 'unique_feature_threaded_5',\n",
       " 'orientation_threaded_5',\n",
       " 'weight_threaded_5',\n",
       " 'component_type_threaded_5',\n",
       " 'end_form_1_threaded_5',\n",
       " 'end_form_2_threaded_5',\n",
       " 'end_form_3_threaded_5',\n",
       " 'end_form_4_threaded_5',\n",
       " 'connection_type_1_threaded_5',\n",
       " 'connection_type_2_threaded_5',\n",
       " 'connection_type_3_threaded_5',\n",
       " 'connection_type_4_threaded_5',\n",
       " 'bolt_pattern_long_straight_5',\n",
       " 'bolt_pattern_wide_straight_5',\n",
       " 'head_diameter_straight_5',\n",
       " 'overall_length_straight_5',\n",
       " 'thickness_straight_5',\n",
       " 'mj_class_code_straight_5',\n",
       " 'groove_straight_5',\n",
       " 'unique_feature_straight_5',\n",
       " 'orientation_straight_5',\n",
       " 'weight_straight_5',\n",
       " 'component_type_straight_5',\n",
       " 'type_boss_5',\n",
       " 'connection_type_id_boss_5',\n",
       " 'outside_shape_boss_5',\n",
       " 'base_type_boss_5',\n",
       " 'height_over_tube_boss_5',\n",
       " 'bolt_pattern_long_boss_5',\n",
       " 'bolt_pattern_wide_boss_5',\n",
       " 'groove_boss_5',\n",
       " 'base_diameter_boss_5',\n",
       " 'shoulder_diameter_boss_5',\n",
       " 'unique_feature_boss_5',\n",
       " 'orientation_boss_5',\n",
       " 'weight_boss_5',\n",
       " 'component_type_boss_5',\n",
       " 'bolt_pattern_long_float_5',\n",
       " 'bolt_pattern_wide_float_5',\n",
       " 'thickness_float_5',\n",
       " 'orientation_float_5',\n",
       " 'weight_float_5',\n",
       " 'component_type_float_5',\n",
       " 'bolt_pattern_long_tee_5',\n",
       " 'bolt_pattern_wide_tee_5',\n",
       " 'extension_length_tee_5',\n",
       " 'overall_length_tee_5',\n",
       " 'thickness_tee_5',\n",
       " 'drop_length_tee_5',\n",
       " 'mj_class_code_tee_5',\n",
       " 'mj_plug_class_code_tee_5',\n",
       " 'groove_tee_5',\n",
       " 'unique_feature_tee_5',\n",
       " 'orientation_tee_5',\n",
       " 'weight_tee_5',\n",
       " 'component_type_tee_5',\n",
       " 'name_6',\n",
       " 'component_type_id_6',\n",
       " 'hose_diameter_hfl_6',\n",
       " 'corresponding_shell_hfl_6',\n",
       " 'coupling_class_hfl_6',\n",
       " 'material_hfl_6',\n",
       " 'plating_hfl_6',\n",
       " 'orientation_hfl_6',\n",
       " 'weight_hfl_6',\n",
       " 'component_type_hfl_6',\n",
       " 'hex_nut_size_nut_6',\n",
       " 'seat_angle_nut_6',\n",
       " 'length_nut_6',\n",
       " 'thread_size_nut_6',\n",
       " 'thread_pitch_nut_6',\n",
       " 'diameter_nut_6',\n",
       " 'blind_hole_nut_6',\n",
       " 'orientation_nut_6',\n",
       " 'weight_nut_6',\n",
       " 'component_type_nut_6',\n",
       " 'adaptor_angle_adaptor_6',\n",
       " 'overall_length_adaptor_6',\n",
       " 'end_form_id_1_adaptor_6',\n",
       " 'connection_type_id_1_adaptor_6',\n",
       " 'length_1_adaptor_6',\n",
       " 'thread_size_1_adaptor_6',\n",
       " 'thread_pitch_1_adaptor_6',\n",
       " 'nominal_size_1_adaptor_6',\n",
       " 'end_form_id_2_adaptor_6',\n",
       " 'connection_type_id_2_adaptor_6',\n",
       " 'length_2_adaptor_6',\n",
       " 'thread_size_2_adaptor_6',\n",
       " 'thread_pitch_2_adaptor_6',\n",
       " 'nominal_size_2_adaptor_6',\n",
       " 'hex_size_adaptor_6',\n",
       " 'unique_feature_adaptor_6',\n",
       " 'orientation_adaptor_6',\n",
       " 'weight_adaptor_6',\n",
       " 'component_type_adaptor_6',\n",
       " 'end_form_1_adaptor_6',\n",
       " 'end_form_2_adaptor_6',\n",
       " 'connection_type_1_adaptor_6',\n",
       " 'connection_type_2_adaptor_6',\n",
       " 'bolt_pattern_long_elbow_6',\n",
       " 'bolt_pattern_wide_elbow_6',\n",
       " 'extension_length_elbow_6',\n",
       " 'overall_length_elbow_6',\n",
       " 'thickness_elbow_6',\n",
       " 'drop_length_elbow_6',\n",
       " 'elbow_angle_elbow_6',\n",
       " 'mj_class_code_elbow_6',\n",
       " 'mj_plug_class_code_elbow_6',\n",
       " 'plug_diameter_elbow_6',\n",
       " 'groove_elbow_6',\n",
       " 'unique_feature_elbow_6',\n",
       " 'orientation_elbow_6',\n",
       " 'weight_elbow_6',\n",
       " 'component_type_elbow_6',\n",
       " 'length_sleeve_6',\n",
       " 'intended_nut_thread_sleeve_6',\n",
       " 'intended_nut_pitch_sleeve_6',\n",
       " 'unique_feature_sleeve_6',\n",
       " 'plating_sleeve_6',\n",
       " 'orientation_sleeve_6',\n",
       " 'weight_sleeve_6',\n",
       " 'component_type_sleeve_6',\n",
       " 'connection_type_sleeve_6',\n",
       " 'part_name_other_6',\n",
       " 'weight_other_6',\n",
       " 'adaptor_angle_threaded_6',\n",
       " 'overall_length_threaded_6',\n",
       " 'hex_size_threaded_6',\n",
       " 'length_1_threaded_6',\n",
       " 'thread_size_1_threaded_6',\n",
       " 'thread_pitch_1_threaded_6',\n",
       " 'nominal_size_1_threaded_6',\n",
       " 'length_2_threaded_6',\n",
       " 'thread_size_2_threaded_6',\n",
       " 'thread_pitch_2_threaded_6',\n",
       " 'nominal_size_2_threaded_6',\n",
       " 'length_3_threaded_6',\n",
       " 'thread_size_3_threaded_6',\n",
       " 'thread_pitch_3_threaded_6',\n",
       " 'nominal_size_3_threaded_6',\n",
       " 'length_4_threaded_6',\n",
       " 'thread_size_4_threaded_6',\n",
       " 'thread_pitch_4_threaded_6',\n",
       " 'nominal_size_4_threaded_6',\n",
       " 'unique_feature_threaded_6',\n",
       " 'orientation_threaded_6',\n",
       " 'weight_threaded_6',\n",
       " 'component_type_threaded_6',\n",
       " 'end_form_1_threaded_6',\n",
       " 'end_form_2_threaded_6',\n",
       " 'end_form_3_threaded_6',\n",
       " 'end_form_4_threaded_6',\n",
       " 'connection_type_1_threaded_6',\n",
       " 'connection_type_2_threaded_6',\n",
       " 'connection_type_3_threaded_6',\n",
       " 'connection_type_4_threaded_6',\n",
       " 'bolt_pattern_long_straight_6',\n",
       " 'bolt_pattern_wide_straight_6',\n",
       " 'head_diameter_straight_6',\n",
       " 'overall_length_straight_6',\n",
       " 'thickness_straight_6',\n",
       " 'mj_class_code_straight_6',\n",
       " 'groove_straight_6',\n",
       " 'unique_feature_straight_6',\n",
       " 'orientation_straight_6',\n",
       " 'weight_straight_6',\n",
       " 'component_type_straight_6',\n",
       " 'type_boss_6',\n",
       " 'connection_type_id_boss_6',\n",
       " 'outside_shape_boss_6',\n",
       " 'base_type_boss_6',\n",
       " 'height_over_tube_boss_6',\n",
       " 'bolt_pattern_long_boss_6',\n",
       " 'bolt_pattern_wide_boss_6',\n",
       " 'groove_boss_6',\n",
       " 'base_diameter_boss_6',\n",
       " 'shoulder_diameter_boss_6',\n",
       " 'unique_feature_boss_6',\n",
       " 'orientation_boss_6',\n",
       " 'weight_boss_6',\n",
       " 'component_type_boss_6',\n",
       " 'bolt_pattern_long_float_6',\n",
       " 'bolt_pattern_wide_float_6',\n",
       " 'thickness_float_6',\n",
       " 'orientation_float_6',\n",
       " 'weight_float_6',\n",
       " 'component_type_float_6',\n",
       " 'bolt_pattern_long_tee_6',\n",
       " 'bolt_pattern_wide_tee_6',\n",
       " 'extension_length_tee_6',\n",
       " 'overall_length_tee_6',\n",
       " 'thickness_tee_6',\n",
       " 'drop_length_tee_6',\n",
       " 'mj_class_code_tee_6',\n",
       " 'mj_plug_class_code_tee_6',\n",
       " 'groove_tee_6',\n",
       " 'unique_feature_tee_6',\n",
       " 'orientation_tee_6',\n",
       " 'weight_tee_6',\n",
       " 'component_type_tee_6',\n",
       " 'name_7',\n",
       " 'component_type_id_7',\n",
       " 'hose_diameter_hfl_7',\n",
       " 'corresponding_shell_hfl_7',\n",
       " 'coupling_class_hfl_7',\n",
       " 'material_hfl_7',\n",
       " 'plating_hfl_7',\n",
       " 'orientation_hfl_7',\n",
       " 'weight_hfl_7',\n",
       " 'component_type_hfl_7',\n",
       " 'hex_nut_size_nut_7',\n",
       " 'seat_angle_nut_7',\n",
       " 'length_nut_7',\n",
       " 'thread_size_nut_7',\n",
       " 'thread_pitch_nut_7',\n",
       " 'diameter_nut_7',\n",
       " 'blind_hole_nut_7',\n",
       " 'orientation_nut_7',\n",
       " 'weight_nut_7',\n",
       " 'component_type_nut_7',\n",
       " 'adaptor_angle_adaptor_7',\n",
       " 'overall_length_adaptor_7',\n",
       " 'end_form_id_1_adaptor_7',\n",
       " 'connection_type_id_1_adaptor_7',\n",
       " 'length_1_adaptor_7',\n",
       " 'thread_size_1_adaptor_7',\n",
       " 'thread_pitch_1_adaptor_7',\n",
       " 'nominal_size_1_adaptor_7',\n",
       " 'end_form_id_2_adaptor_7',\n",
       " 'connection_type_id_2_adaptor_7',\n",
       " 'length_2_adaptor_7',\n",
       " 'thread_size_2_adaptor_7',\n",
       " 'thread_pitch_2_adaptor_7',\n",
       " 'nominal_size_2_adaptor_7',\n",
       " 'hex_size_adaptor_7',\n",
       " 'unique_feature_adaptor_7',\n",
       " 'orientation_adaptor_7',\n",
       " 'weight_adaptor_7',\n",
       " 'component_type_adaptor_7',\n",
       " 'end_form_1_adaptor_7',\n",
       " 'end_form_2_adaptor_7',\n",
       " 'connection_type_1_adaptor_7',\n",
       " 'connection_type_2_adaptor_7',\n",
       " 'bolt_pattern_long_elbow_7',\n",
       " 'bolt_pattern_wide_elbow_7',\n",
       " 'extension_length_elbow_7',\n",
       " 'overall_length_elbow_7',\n",
       " 'thickness_elbow_7',\n",
       " 'drop_length_elbow_7',\n",
       " 'elbow_angle_elbow_7',\n",
       " 'mj_class_code_elbow_7',\n",
       " 'mj_plug_class_code_elbow_7',\n",
       " 'plug_diameter_elbow_7',\n",
       " 'groove_elbow_7',\n",
       " 'unique_feature_elbow_7',\n",
       " 'orientation_elbow_7',\n",
       " 'weight_elbow_7',\n",
       " 'component_type_elbow_7',\n",
       " 'length_sleeve_7',\n",
       " 'intended_nut_thread_sleeve_7',\n",
       " 'intended_nut_pitch_sleeve_7',\n",
       " 'unique_feature_sleeve_7',\n",
       " 'plating_sleeve_7',\n",
       " 'orientation_sleeve_7',\n",
       " 'weight_sleeve_7',\n",
       " 'component_type_sleeve_7',\n",
       " 'connection_type_sleeve_7',\n",
       " 'part_name_other_7',\n",
       " 'weight_other_7',\n",
       " 'adaptor_angle_threaded_7',\n",
       " 'overall_length_threaded_7',\n",
       " 'hex_size_threaded_7',\n",
       " 'length_1_threaded_7',\n",
       " 'thread_size_1_threaded_7',\n",
       " 'thread_pitch_1_threaded_7',\n",
       " 'nominal_size_1_threaded_7',\n",
       " 'length_2_threaded_7',\n",
       " 'thread_size_2_threaded_7',\n",
       " 'thread_pitch_2_threaded_7',\n",
       " 'nominal_size_2_threaded_7',\n",
       " 'length_3_threaded_7',\n",
       " 'thread_size_3_threaded_7',\n",
       " 'thread_pitch_3_threaded_7',\n",
       " 'nominal_size_3_threaded_7',\n",
       " 'length_4_threaded_7',\n",
       " 'thread_size_4_threaded_7',\n",
       " 'thread_pitch_4_threaded_7',\n",
       " 'nominal_size_4_threaded_7',\n",
       " 'unique_feature_threaded_7',\n",
       " 'orientation_threaded_7',\n",
       " 'weight_threaded_7',\n",
       " 'component_type_threaded_7',\n",
       " 'end_form_1_threaded_7',\n",
       " 'end_form_2_threaded_7',\n",
       " 'end_form_3_threaded_7',\n",
       " 'end_form_4_threaded_7',\n",
       " 'connection_type_1_threaded_7',\n",
       " 'connection_type_2_threaded_7',\n",
       " 'connection_type_3_threaded_7',\n",
       " 'connection_type_4_threaded_7',\n",
       " 'bolt_pattern_long_straight_7',\n",
       " 'bolt_pattern_wide_straight_7',\n",
       " 'head_diameter_straight_7',\n",
       " 'overall_length_straight_7',\n",
       " 'thickness_straight_7',\n",
       " 'mj_class_code_straight_7',\n",
       " 'groove_straight_7',\n",
       " 'unique_feature_straight_7',\n",
       " 'orientation_straight_7',\n",
       " 'weight_straight_7',\n",
       " 'component_type_straight_7',\n",
       " 'type_boss_7',\n",
       " 'connection_type_id_boss_7',\n",
       " 'outside_shape_boss_7',\n",
       " 'base_type_boss_7',\n",
       " 'height_over_tube_boss_7',\n",
       " 'bolt_pattern_long_boss_7',\n",
       " 'bolt_pattern_wide_boss_7',\n",
       " 'groove_boss_7',\n",
       " ...]"
      ]
     },
     "execution_count": 91,
     "metadata": {},
     "output_type": "execute_result"
    }
   ],
   "source": [
    "list(bom_result_df.columns.values)"
   ]
  },
  {
   "cell_type": "code",
   "execution_count": 92,
   "metadata": {
    "collapsed": true
   },
   "outputs": [],
   "source": [
    "#write out column names for bom_result_df\n",
    "writeColumnsToFile(bom_result_df, 'bom_result_df_9')"
   ]
  },
  {
   "cell_type": "code",
   "execution_count": 93,
   "metadata": {
    "collapsed": false
   },
   "outputs": [
    {
     "data": {
      "text/plain": [
       "(30213, 8)"
      ]
     },
     "execution_count": 93,
     "metadata": {},
     "output_type": "execute_result"
    }
   ],
   "source": [
    "# check dimensions before join operations\n",
    "train_set_df.shape"
   ]
  },
  {
   "cell_type": "code",
   "execution_count": 94,
   "metadata": {
    "collapsed": false
   },
   "outputs": [
    {
     "data": {
      "text/plain": [
       "(21198, 18)"
      ]
     },
     "execution_count": 94,
     "metadata": {},
     "output_type": "execute_result"
    }
   ],
   "source": [
    "tube_df.shape"
   ]
  },
  {
   "cell_type": "markdown",
   "metadata": {},
   "source": [
    " "
   ]
  },
  {
   "cell_type": "markdown",
   "metadata": {},
   "source": [
    "*left join* between **train_set_df** and **tube_df**"
   ]
  },
  {
   "cell_type": "code",
   "execution_count": 95,
   "metadata": {
    "collapsed": false
   },
   "outputs": [
    {
     "data": {
      "text/html": [
       "<div>\n",
       "<table border=\"1\" class=\"dataframe\">\n",
       "  <thead>\n",
       "    <tr style=\"text-align: right;\">\n",
       "      <th></th>\n",
       "      <th>tube_assembly_id</th>\n",
       "      <th>material_id</th>\n",
       "      <th>diameter</th>\n",
       "      <th>wall</th>\n",
       "      <th>length</th>\n",
       "      <th>num_bends</th>\n",
       "      <th>bend_radius</th>\n",
       "      <th>end_a_1x</th>\n",
       "      <th>end_a_2x</th>\n",
       "      <th>end_x_1x</th>\n",
       "      <th>end_x_2x</th>\n",
       "      <th>end_a</th>\n",
       "      <th>end_x</th>\n",
       "      <th>num_boss</th>\n",
       "      <th>num_bracket</th>\n",
       "      <th>other</th>\n",
       "      <th>end_a_forming</th>\n",
       "      <th>end_x_forming</th>\n",
       "    </tr>\n",
       "  </thead>\n",
       "  <tbody>\n",
       "    <tr>\n",
       "      <th>0</th>\n",
       "      <td>TA-00001</td>\n",
       "      <td>SP-0035</td>\n",
       "      <td>12.70</td>\n",
       "      <td>1.65</td>\n",
       "      <td>164</td>\n",
       "      <td>5</td>\n",
       "      <td>38.10</td>\n",
       "      <td>N</td>\n",
       "      <td>N</td>\n",
       "      <td>N</td>\n",
       "      <td>N</td>\n",
       "      <td>EF-003</td>\n",
       "      <td>EF-003</td>\n",
       "      <td>0</td>\n",
       "      <td>0</td>\n",
       "      <td>0</td>\n",
       "      <td>No</td>\n",
       "      <td>No</td>\n",
       "    </tr>\n",
       "    <tr>\n",
       "      <th>1</th>\n",
       "      <td>TA-00002</td>\n",
       "      <td>SP-0019</td>\n",
       "      <td>6.35</td>\n",
       "      <td>0.71</td>\n",
       "      <td>137</td>\n",
       "      <td>8</td>\n",
       "      <td>19.05</td>\n",
       "      <td>N</td>\n",
       "      <td>N</td>\n",
       "      <td>N</td>\n",
       "      <td>N</td>\n",
       "      <td>EF-008</td>\n",
       "      <td>EF-008</td>\n",
       "      <td>0</td>\n",
       "      <td>0</td>\n",
       "      <td>0</td>\n",
       "      <td>Yes</td>\n",
       "      <td>Yes</td>\n",
       "    </tr>\n",
       "    <tr>\n",
       "      <th>2</th>\n",
       "      <td>TA-00003</td>\n",
       "      <td>SP-0019</td>\n",
       "      <td>6.35</td>\n",
       "      <td>0.71</td>\n",
       "      <td>127</td>\n",
       "      <td>7</td>\n",
       "      <td>19.05</td>\n",
       "      <td>N</td>\n",
       "      <td>N</td>\n",
       "      <td>N</td>\n",
       "      <td>N</td>\n",
       "      <td>EF-008</td>\n",
       "      <td>EF-008</td>\n",
       "      <td>0</td>\n",
       "      <td>0</td>\n",
       "      <td>0</td>\n",
       "      <td>Yes</td>\n",
       "      <td>Yes</td>\n",
       "    </tr>\n",
       "    <tr>\n",
       "      <th>3</th>\n",
       "      <td>TA-00004</td>\n",
       "      <td>SP-0019</td>\n",
       "      <td>6.35</td>\n",
       "      <td>0.71</td>\n",
       "      <td>137</td>\n",
       "      <td>9</td>\n",
       "      <td>19.05</td>\n",
       "      <td>N</td>\n",
       "      <td>N</td>\n",
       "      <td>N</td>\n",
       "      <td>N</td>\n",
       "      <td>EF-008</td>\n",
       "      <td>EF-008</td>\n",
       "      <td>0</td>\n",
       "      <td>0</td>\n",
       "      <td>0</td>\n",
       "      <td>Yes</td>\n",
       "      <td>Yes</td>\n",
       "    </tr>\n",
       "    <tr>\n",
       "      <th>4</th>\n",
       "      <td>TA-00005</td>\n",
       "      <td>SP-0029</td>\n",
       "      <td>19.05</td>\n",
       "      <td>1.24</td>\n",
       "      <td>109</td>\n",
       "      <td>4</td>\n",
       "      <td>50.80</td>\n",
       "      <td>N</td>\n",
       "      <td>N</td>\n",
       "      <td>N</td>\n",
       "      <td>N</td>\n",
       "      <td>EF-003</td>\n",
       "      <td>EF-003</td>\n",
       "      <td>0</td>\n",
       "      <td>0</td>\n",
       "      <td>0</td>\n",
       "      <td>No</td>\n",
       "      <td>No</td>\n",
       "    </tr>\n",
       "  </tbody>\n",
       "</table>\n",
       "</div>"
      ],
      "text/plain": [
       "  tube_assembly_id material_id  diameter  wall  length  num_bends  \\\n",
       "0         TA-00001     SP-0035     12.70  1.65     164          5   \n",
       "1         TA-00002     SP-0019      6.35  0.71     137          8   \n",
       "2         TA-00003     SP-0019      6.35  0.71     127          7   \n",
       "3         TA-00004     SP-0019      6.35  0.71     137          9   \n",
       "4         TA-00005     SP-0029     19.05  1.24     109          4   \n",
       "\n",
       "   bend_radius end_a_1x end_a_2x end_x_1x end_x_2x   end_a   end_x  num_boss  \\\n",
       "0        38.10        N        N        N        N  EF-003  EF-003         0   \n",
       "1        19.05        N        N        N        N  EF-008  EF-008         0   \n",
       "2        19.05        N        N        N        N  EF-008  EF-008         0   \n",
       "3        19.05        N        N        N        N  EF-008  EF-008         0   \n",
       "4        50.80        N        N        N        N  EF-003  EF-003         0   \n",
       "\n",
       "   num_bracket  other end_a_forming end_x_forming  \n",
       "0            0      0            No            No  \n",
       "1            0      0           Yes           Yes  \n",
       "2            0      0           Yes           Yes  \n",
       "3            0      0           Yes           Yes  \n",
       "4            0      0            No            No  "
      ]
     },
     "execution_count": 95,
     "metadata": {},
     "output_type": "execute_result"
    }
   ],
   "source": [
    "tube_df.head()"
   ]
  },
  {
   "cell_type": "code",
   "execution_count": 96,
   "metadata": {
    "collapsed": false
   },
   "outputs": [
    {
     "data": {
      "text/plain": [
       "(30213, 8)"
      ]
     },
     "execution_count": 96,
     "metadata": {},
     "output_type": "execute_result"
    }
   ],
   "source": [
    "train_set_df.shape"
   ]
  },
  {
   "cell_type": "code",
   "execution_count": 97,
   "metadata": {
    "collapsed": false
   },
   "outputs": [
    {
     "data": {
      "text/plain": [
       "(21198, 18)"
      ]
     },
     "execution_count": 97,
     "metadata": {},
     "output_type": "execute_result"
    }
   ],
   "source": [
    "tube_df.shape"
   ]
  },
  {
   "cell_type": "code",
   "execution_count": 98,
   "metadata": {
    "collapsed": false
   },
   "outputs": [
    {
     "data": {
      "text/plain": [
       "8855"
      ]
     },
     "execution_count": 98,
     "metadata": {},
     "output_type": "execute_result"
    }
   ],
   "source": [
    "train_set_df.tube_assembly_id.drop_duplicates().to_frame().size"
   ]
  },
  {
   "cell_type": "code",
   "execution_count": 99,
   "metadata": {
    "collapsed": false
   },
   "outputs": [
    {
     "data": {
      "text/plain": [
       "21198"
      ]
     },
     "execution_count": 99,
     "metadata": {},
     "output_type": "execute_result"
    }
   ],
   "source": [
    "tube_df.tube_assembly_id.drop_duplicates().to_frame().size"
   ]
  },
  {
   "cell_type": "code",
   "execution_count": 100,
   "metadata": {
    "collapsed": false
   },
   "outputs": [],
   "source": [
    "# join the tables on tube_assembly_id (primary key)\n",
    "result = train_set_df.merge(tube_df, how = 'left', on = 'tube_assembly_id')"
   ]
  },
  {
   "cell_type": "code",
   "execution_count": 101,
   "metadata": {
    "collapsed": false
   },
   "outputs": [
    {
     "data": {
      "text/plain": [
       "8855"
      ]
     },
     "execution_count": 101,
     "metadata": {},
     "output_type": "execute_result"
    }
   ],
   "source": [
    "result.tube_assembly_id.drop_duplicates().to_frame().size"
   ]
  },
  {
   "cell_type": "code",
   "execution_count": 102,
   "metadata": {
    "collapsed": true
   },
   "outputs": [],
   "source": [
    "#write columns out of result\n",
    "writeColumnsToFile(result, 'result_columns_10')"
   ]
  },
  {
   "cell_type": "code",
   "execution_count": 103,
   "metadata": {
    "collapsed": false
   },
   "outputs": [
    {
     "data": {
      "text/plain": [
       "(30213, 25)"
      ]
     },
     "execution_count": 103,
     "metadata": {},
     "output_type": "execute_result"
    }
   ],
   "source": [
    "result.shape"
   ]
  },
  {
   "cell_type": "code",
   "execution_count": 104,
   "metadata": {
    "collapsed": false,
    "scrolled": true
   },
   "outputs": [
    {
     "data": {
      "text/html": [
       "<div>\n",
       "<table border=\"1\" class=\"dataframe\">\n",
       "  <thead>\n",
       "    <tr style=\"text-align: right;\">\n",
       "      <th></th>\n",
       "      <th>tube_assembly_id</th>\n",
       "      <th>component_id_1</th>\n",
       "      <th>quantity_1</th>\n",
       "      <th>component_id_2</th>\n",
       "      <th>quantity_2</th>\n",
       "      <th>component_id_3</th>\n",
       "      <th>quantity_3</th>\n",
       "      <th>component_id_4</th>\n",
       "      <th>quantity_4</th>\n",
       "      <th>component_id_5</th>\n",
       "      <th>...</th>\n",
       "      <th>overall_length_tee_8</th>\n",
       "      <th>thickness_tee_8</th>\n",
       "      <th>drop_length_tee_8</th>\n",
       "      <th>mj_class_code_tee_8</th>\n",
       "      <th>mj_plug_class_code_tee_8</th>\n",
       "      <th>groove_tee_8</th>\n",
       "      <th>unique_feature_tee_8</th>\n",
       "      <th>orientation_tee_8</th>\n",
       "      <th>weight_tee_8</th>\n",
       "      <th>component_type_tee_8</th>\n",
       "    </tr>\n",
       "  </thead>\n",
       "  <tbody>\n",
       "    <tr>\n",
       "      <th>0</th>\n",
       "      <td>TA-00001</td>\n",
       "      <td>C-1622</td>\n",
       "      <td>2</td>\n",
       "      <td>C-1629</td>\n",
       "      <td>2</td>\n",
       "      <td>NaN</td>\n",
       "      <td>NaN</td>\n",
       "      <td>NaN</td>\n",
       "      <td>NaN</td>\n",
       "      <td>NaN</td>\n",
       "      <td>...</td>\n",
       "      <td>NaN</td>\n",
       "      <td>NaN</td>\n",
       "      <td>NaN</td>\n",
       "      <td>NaN</td>\n",
       "      <td>NaN</td>\n",
       "      <td>NaN</td>\n",
       "      <td>NaN</td>\n",
       "      <td>NaN</td>\n",
       "      <td>NaN</td>\n",
       "      <td>NaN</td>\n",
       "    </tr>\n",
       "    <tr>\n",
       "      <th>1</th>\n",
       "      <td>TA-00002</td>\n",
       "      <td>C-1312</td>\n",
       "      <td>2</td>\n",
       "      <td>NaN</td>\n",
       "      <td>NaN</td>\n",
       "      <td>NaN</td>\n",
       "      <td>NaN</td>\n",
       "      <td>NaN</td>\n",
       "      <td>NaN</td>\n",
       "      <td>NaN</td>\n",
       "      <td>...</td>\n",
       "      <td>NaN</td>\n",
       "      <td>NaN</td>\n",
       "      <td>NaN</td>\n",
       "      <td>NaN</td>\n",
       "      <td>NaN</td>\n",
       "      <td>NaN</td>\n",
       "      <td>NaN</td>\n",
       "      <td>NaN</td>\n",
       "      <td>NaN</td>\n",
       "      <td>NaN</td>\n",
       "    </tr>\n",
       "    <tr>\n",
       "      <th>2</th>\n",
       "      <td>TA-00003</td>\n",
       "      <td>C-1312</td>\n",
       "      <td>2</td>\n",
       "      <td>NaN</td>\n",
       "      <td>NaN</td>\n",
       "      <td>NaN</td>\n",
       "      <td>NaN</td>\n",
       "      <td>NaN</td>\n",
       "      <td>NaN</td>\n",
       "      <td>NaN</td>\n",
       "      <td>...</td>\n",
       "      <td>NaN</td>\n",
       "      <td>NaN</td>\n",
       "      <td>NaN</td>\n",
       "      <td>NaN</td>\n",
       "      <td>NaN</td>\n",
       "      <td>NaN</td>\n",
       "      <td>NaN</td>\n",
       "      <td>NaN</td>\n",
       "      <td>NaN</td>\n",
       "      <td>NaN</td>\n",
       "    </tr>\n",
       "    <tr>\n",
       "      <th>3</th>\n",
       "      <td>TA-00004</td>\n",
       "      <td>C-1312</td>\n",
       "      <td>2</td>\n",
       "      <td>NaN</td>\n",
       "      <td>NaN</td>\n",
       "      <td>NaN</td>\n",
       "      <td>NaN</td>\n",
       "      <td>NaN</td>\n",
       "      <td>NaN</td>\n",
       "      <td>NaN</td>\n",
       "      <td>...</td>\n",
       "      <td>NaN</td>\n",
       "      <td>NaN</td>\n",
       "      <td>NaN</td>\n",
       "      <td>NaN</td>\n",
       "      <td>NaN</td>\n",
       "      <td>NaN</td>\n",
       "      <td>NaN</td>\n",
       "      <td>NaN</td>\n",
       "      <td>NaN</td>\n",
       "      <td>NaN</td>\n",
       "    </tr>\n",
       "    <tr>\n",
       "      <th>4</th>\n",
       "      <td>TA-00005</td>\n",
       "      <td>C-1624</td>\n",
       "      <td>1</td>\n",
       "      <td>C-1631</td>\n",
       "      <td>1</td>\n",
       "      <td>C-1641</td>\n",
       "      <td>1</td>\n",
       "      <td>NaN</td>\n",
       "      <td>NaN</td>\n",
       "      <td>NaN</td>\n",
       "      <td>...</td>\n",
       "      <td>NaN</td>\n",
       "      <td>NaN</td>\n",
       "      <td>NaN</td>\n",
       "      <td>NaN</td>\n",
       "      <td>NaN</td>\n",
       "      <td>NaN</td>\n",
       "      <td>NaN</td>\n",
       "      <td>NaN</td>\n",
       "      <td>NaN</td>\n",
       "      <td>NaN</td>\n",
       "    </tr>\n",
       "  </tbody>\n",
       "</table>\n",
       "<p>5 rows × 1169 columns</p>\n",
       "</div>"
      ],
      "text/plain": [
       "  tube_assembly_id component_id_1  quantity_1 component_id_2  quantity_2  \\\n",
       "0         TA-00001         C-1622           2         C-1629           2   \n",
       "1         TA-00002         C-1312           2            NaN         NaN   \n",
       "2         TA-00003         C-1312           2            NaN         NaN   \n",
       "3         TA-00004         C-1312           2            NaN         NaN   \n",
       "4         TA-00005         C-1624           1         C-1631           1   \n",
       "\n",
       "  component_id_3  quantity_3 component_id_4  quantity_4 component_id_5  \\\n",
       "0            NaN         NaN            NaN         NaN            NaN   \n",
       "1            NaN         NaN            NaN         NaN            NaN   \n",
       "2            NaN         NaN            NaN         NaN            NaN   \n",
       "3            NaN         NaN            NaN         NaN            NaN   \n",
       "4         C-1641           1            NaN         NaN            NaN   \n",
       "\n",
       "           ...           overall_length_tee_8 thickness_tee_8  \\\n",
       "0          ...                            NaN             NaN   \n",
       "1          ...                            NaN             NaN   \n",
       "2          ...                            NaN             NaN   \n",
       "3          ...                            NaN             NaN   \n",
       "4          ...                            NaN             NaN   \n",
       "\n",
       "   drop_length_tee_8 mj_class_code_tee_8  mj_plug_class_code_tee_8  \\\n",
       "0                NaN                 NaN                       NaN   \n",
       "1                NaN                 NaN                       NaN   \n",
       "2                NaN                 NaN                       NaN   \n",
       "3                NaN                 NaN                       NaN   \n",
       "4                NaN                 NaN                       NaN   \n",
       "\n",
       "  groove_tee_8  unique_feature_tee_8 orientation_tee_8 weight_tee_8  \\\n",
       "0          NaN                   NaN               NaN          NaN   \n",
       "1          NaN                   NaN               NaN          NaN   \n",
       "2          NaN                   NaN               NaN          NaN   \n",
       "3          NaN                   NaN               NaN          NaN   \n",
       "4          NaN                   NaN               NaN          NaN   \n",
       "\n",
       "   component_type_tee_8  \n",
       "0                   NaN  \n",
       "1                   NaN  \n",
       "2                   NaN  \n",
       "3                   NaN  \n",
       "4                   NaN  \n",
       "\n",
       "[5 rows x 1169 columns]"
      ]
     },
     "execution_count": 104,
     "metadata": {},
     "output_type": "execute_result"
    }
   ],
   "source": [
    "bill_of_materials_df.head()"
   ]
  },
  {
   "cell_type": "code",
   "execution_count": 105,
   "metadata": {
    "collapsed": false
   },
   "outputs": [
    {
     "data": {
      "text/plain": [
       "(21198, 1169)"
      ]
     },
     "execution_count": 105,
     "metadata": {},
     "output_type": "execute_result"
    }
   ],
   "source": [
    "bill_of_materials_df.shape"
   ]
  },
  {
   "cell_type": "markdown",
   "metadata": {},
   "source": [
    " "
   ]
  },
  {
   "cell_type": "markdown",
   "metadata": {},
   "source": [
    "*left join* between **result** and **bill_of_materials_df**"
   ]
  },
  {
   "cell_type": "code",
   "execution_count": 106,
   "metadata": {
    "collapsed": false
   },
   "outputs": [],
   "source": [
    "result_1 = result.merge(bill_of_materials_df, how = 'left', on = 'tube_assembly_id')"
   ]
  },
  {
   "cell_type": "code",
   "execution_count": 107,
   "metadata": {
    "collapsed": true
   },
   "outputs": [],
   "source": [
    "#write columns out of result\n",
    "writeColumnsToFile(result_1, 'result_1_columns_11')"
   ]
  },
  {
   "cell_type": "code",
   "execution_count": 108,
   "metadata": {
    "collapsed": false
   },
   "outputs": [
    {
     "data": {
      "text/plain": [
       "(30213, 1193)"
      ]
     },
     "execution_count": 108,
     "metadata": {},
     "output_type": "execute_result"
    }
   ],
   "source": [
    "result_1.shape"
   ]
  },
  {
   "cell_type": "code",
   "execution_count": 109,
   "metadata": {
    "collapsed": false
   },
   "outputs": [],
   "source": [
    "specs_df = reset_index(specs_df, 'tube_assembly_id')"
   ]
  },
  {
   "cell_type": "code",
   "execution_count": 110,
   "metadata": {
    "collapsed": false
   },
   "outputs": [
    {
     "data": {
      "text/plain": [
       "(21198, 11)"
      ]
     },
     "execution_count": 110,
     "metadata": {},
     "output_type": "execute_result"
    }
   ],
   "source": [
    "specs_df.shape"
   ]
  },
  {
   "cell_type": "markdown",
   "metadata": {},
   "source": [
    " "
   ]
  },
  {
   "cell_type": "markdown",
   "metadata": {},
   "source": [
    "*left join* between **result_1** and **specs_df**"
   ]
  },
  {
   "cell_type": "code",
   "execution_count": 111,
   "metadata": {
    "collapsed": true
   },
   "outputs": [],
   "source": [
    "result_2 = result_1.merge(specs_df, how = 'left', on = 'tube_assembly_id')"
   ]
  },
  {
   "cell_type": "code",
   "execution_count": 112,
   "metadata": {
    "collapsed": false
   },
   "outputs": [
    {
     "data": {
      "text/plain": [
       "(30213, 1203)"
      ]
     },
     "execution_count": 112,
     "metadata": {},
     "output_type": "execute_result"
    }
   ],
   "source": [
    "result_2.shape"
   ]
  },
  {
   "cell_type": "code",
   "execution_count": 113,
   "metadata": {
    "collapsed": false
   },
   "outputs": [
    {
     "data": {
      "text/plain": [
       "(30213, 8)"
      ]
     },
     "execution_count": 113,
     "metadata": {},
     "output_type": "execute_result"
    }
   ],
   "source": [
    "train_set_df.shape"
   ]
  },
  {
   "cell_type": "code",
   "execution_count": 114,
   "metadata": {
    "collapsed": false
   },
   "outputs": [
    {
     "data": {
      "text/html": [
       "<div>\n",
       "<table border=\"1\" class=\"dataframe\">\n",
       "  <thead>\n",
       "    <tr style=\"text-align: right;\">\n",
       "      <th></th>\n",
       "      <th>tube_assembly_id</th>\n",
       "      <th>supplier</th>\n",
       "      <th>quote_date</th>\n",
       "      <th>annual_usage</th>\n",
       "      <th>min_order_quantity</th>\n",
       "      <th>bracket_pricing</th>\n",
       "      <th>quantity</th>\n",
       "      <th>cost</th>\n",
       "      <th>material_id</th>\n",
       "      <th>diameter</th>\n",
       "      <th>...</th>\n",
       "      <th>spec1</th>\n",
       "      <th>spec2</th>\n",
       "      <th>spec3</th>\n",
       "      <th>spec4</th>\n",
       "      <th>spec5</th>\n",
       "      <th>spec6</th>\n",
       "      <th>spec7</th>\n",
       "      <th>spec8</th>\n",
       "      <th>spec9</th>\n",
       "      <th>spec10</th>\n",
       "    </tr>\n",
       "  </thead>\n",
       "  <tbody>\n",
       "    <tr>\n",
       "      <th>30208</th>\n",
       "      <td>TA-21190</td>\n",
       "      <td>S-0041</td>\n",
       "      <td>2013-09-10</td>\n",
       "      <td>869</td>\n",
       "      <td>75</td>\n",
       "      <td>No</td>\n",
       "      <td>75</td>\n",
       "      <td>5.945260</td>\n",
       "      <td>SP-0035</td>\n",
       "      <td>15.88</td>\n",
       "      <td>...</td>\n",
       "      <td>NaN</td>\n",
       "      <td>NaN</td>\n",
       "      <td>NaN</td>\n",
       "      <td>NaN</td>\n",
       "      <td>NaN</td>\n",
       "      <td>NaN</td>\n",
       "      <td>NaN</td>\n",
       "      <td>NaN</td>\n",
       "      <td>NaN</td>\n",
       "      <td>NaN</td>\n",
       "    </tr>\n",
       "    <tr>\n",
       "      <th>30209</th>\n",
       "      <td>TA-21191</td>\n",
       "      <td>S-0041</td>\n",
       "      <td>2013-09-10</td>\n",
       "      <td>752</td>\n",
       "      <td>1</td>\n",
       "      <td>No</td>\n",
       "      <td>1</td>\n",
       "      <td>6.131658</td>\n",
       "      <td>SP-0035</td>\n",
       "      <td>15.88</td>\n",
       "      <td>...</td>\n",
       "      <td>SP-0007</td>\n",
       "      <td>SP-0024</td>\n",
       "      <td>SP-0063</td>\n",
       "      <td>SP-0069</td>\n",
       "      <td>SP-0080</td>\n",
       "      <td>NaN</td>\n",
       "      <td>NaN</td>\n",
       "      <td>NaN</td>\n",
       "      <td>NaN</td>\n",
       "      <td>NaN</td>\n",
       "    </tr>\n",
       "    <tr>\n",
       "      <th>30210</th>\n",
       "      <td>TA-21195</td>\n",
       "      <td>S-0041</td>\n",
       "      <td>2013-08-05</td>\n",
       "      <td>1</td>\n",
       "      <td>80</td>\n",
       "      <td>No</td>\n",
       "      <td>80</td>\n",
       "      <td>5.066130</td>\n",
       "      <td>SP-0029</td>\n",
       "      <td>25.40</td>\n",
       "      <td>...</td>\n",
       "      <td>NaN</td>\n",
       "      <td>NaN</td>\n",
       "      <td>NaN</td>\n",
       "      <td>NaN</td>\n",
       "      <td>NaN</td>\n",
       "      <td>NaN</td>\n",
       "      <td>NaN</td>\n",
       "      <td>NaN</td>\n",
       "      <td>NaN</td>\n",
       "      <td>NaN</td>\n",
       "    </tr>\n",
       "    <tr>\n",
       "      <th>30211</th>\n",
       "      <td>TA-21196</td>\n",
       "      <td>S-0062</td>\n",
       "      <td>2005-05-09</td>\n",
       "      <td>422</td>\n",
       "      <td>1</td>\n",
       "      <td>No</td>\n",
       "      <td>1</td>\n",
       "      <td>18.214141</td>\n",
       "      <td>SP-0029</td>\n",
       "      <td>34.92</td>\n",
       "      <td>...</td>\n",
       "      <td>SP-0007</td>\n",
       "      <td>SP-0080</td>\n",
       "      <td>NaN</td>\n",
       "      <td>NaN</td>\n",
       "      <td>NaN</td>\n",
       "      <td>NaN</td>\n",
       "      <td>NaN</td>\n",
       "      <td>NaN</td>\n",
       "      <td>NaN</td>\n",
       "      <td>NaN</td>\n",
       "    </tr>\n",
       "    <tr>\n",
       "      <th>30212</th>\n",
       "      <td>TA-21197</td>\n",
       "      <td>S-0026</td>\n",
       "      <td>2009-07-30</td>\n",
       "      <td>3</td>\n",
       "      <td>1</td>\n",
       "      <td>No</td>\n",
       "      <td>1</td>\n",
       "      <td>53.618624</td>\n",
       "      <td>SP-0029</td>\n",
       "      <td>34.92</td>\n",
       "      <td>...</td>\n",
       "      <td>SP-0007</td>\n",
       "      <td>SP-0080</td>\n",
       "      <td>NaN</td>\n",
       "      <td>NaN</td>\n",
       "      <td>NaN</td>\n",
       "      <td>NaN</td>\n",
       "      <td>NaN</td>\n",
       "      <td>NaN</td>\n",
       "      <td>NaN</td>\n",
       "      <td>NaN</td>\n",
       "    </tr>\n",
       "  </tbody>\n",
       "</table>\n",
       "<p>5 rows × 1203 columns</p>\n",
       "</div>"
      ],
      "text/plain": [
       "      tube_assembly_id supplier  quote_date  annual_usage  min_order_quantity  \\\n",
       "30208         TA-21190   S-0041  2013-09-10           869                  75   \n",
       "30209         TA-21191   S-0041  2013-09-10           752                   1   \n",
       "30210         TA-21195   S-0041  2013-08-05             1                  80   \n",
       "30211         TA-21196   S-0062  2005-05-09           422                   1   \n",
       "30212         TA-21197   S-0026  2009-07-30             3                   1   \n",
       "\n",
       "      bracket_pricing  quantity       cost material_id  diameter  ...    \\\n",
       "30208              No        75   5.945260     SP-0035     15.88  ...     \n",
       "30209              No         1   6.131658     SP-0035     15.88  ...     \n",
       "30210              No        80   5.066130     SP-0029     25.40  ...     \n",
       "30211              No         1  18.214141     SP-0029     34.92  ...     \n",
       "30212              No         1  53.618624     SP-0029     34.92  ...     \n",
       "\n",
       "         spec1    spec2    spec3    spec4    spec5 spec6 spec7 spec8 spec9  \\\n",
       "30208      NaN      NaN      NaN      NaN      NaN   NaN   NaN   NaN   NaN   \n",
       "30209  SP-0007  SP-0024  SP-0063  SP-0069  SP-0080   NaN   NaN   NaN   NaN   \n",
       "30210      NaN      NaN      NaN      NaN      NaN   NaN   NaN   NaN   NaN   \n",
       "30211  SP-0007  SP-0080      NaN      NaN      NaN   NaN   NaN   NaN   NaN   \n",
       "30212  SP-0007  SP-0080      NaN      NaN      NaN   NaN   NaN   NaN   NaN   \n",
       "\n",
       "      spec10  \n",
       "30208    NaN  \n",
       "30209    NaN  \n",
       "30210    NaN  \n",
       "30211    NaN  \n",
       "30212    NaN  \n",
       "\n",
       "[5 rows x 1203 columns]"
      ]
     },
     "execution_count": 114,
     "metadata": {},
     "output_type": "execute_result"
    }
   ],
   "source": [
    "result_2.tail()"
   ]
  },
  {
   "cell_type": "code",
   "execution_count": 115,
   "metadata": {
    "collapsed": false
   },
   "outputs": [
    {
     "data": {
      "text/plain": [
       "tube_assembly_id              object\n",
       "supplier                      object\n",
       "quote_date                    object\n",
       "annual_usage                   int64\n",
       "min_order_quantity             int64\n",
       "bracket_pricing               object\n",
       "quantity                       int64\n",
       "cost                         float64\n",
       "material_id                   object\n",
       "diameter                     float64\n",
       "wall                         float64\n",
       "length                       float64\n",
       "num_bends                      int64\n",
       "bend_radius                  float64\n",
       "end_a_1x                      object\n",
       "end_a_2x                      object\n",
       "end_x_1x                      object\n",
       "end_x_2x                      object\n",
       "end_a                         object\n",
       "end_x                         object\n",
       "num_boss                       int64\n",
       "num_bracket                    int64\n",
       "other                          int64\n",
       "end_a_forming                 object\n",
       "end_x_forming                 object\n",
       "component_id_1                object\n",
       "quantity_1                   float64\n",
       "component_id_2                object\n",
       "quantity_2                   float64\n",
       "component_id_3                object\n",
       "                              ...   \n",
       "component_type_boss_8         object\n",
       "bolt_pattern_long_float_8    float64\n",
       "bolt_pattern_wide_float_8    float64\n",
       "thickness_float_8            float64\n",
       "orientation_float_8           object\n",
       "weight_float_8               float64\n",
       "component_type_float_8        object\n",
       "bolt_pattern_long_tee_8      float64\n",
       "bolt_pattern_wide_tee_8      float64\n",
       "extension_length_tee_8       float64\n",
       "overall_length_tee_8         float64\n",
       "thickness_tee_8              float64\n",
       "drop_length_tee_8            float64\n",
       "mj_class_code_tee_8           object\n",
       "mj_plug_class_code_tee_8      object\n",
       "groove_tee_8                  object\n",
       "unique_feature_tee_8          object\n",
       "orientation_tee_8             object\n",
       "weight_tee_8                 float64\n",
       "component_type_tee_8          object\n",
       "spec1                         object\n",
       "spec2                         object\n",
       "spec3                         object\n",
       "spec4                         object\n",
       "spec5                         object\n",
       "spec6                         object\n",
       "spec7                         object\n",
       "spec8                         object\n",
       "spec9                         object\n",
       "spec10                        object\n",
       "dtype: object"
      ]
     },
     "execution_count": 115,
     "metadata": {},
     "output_type": "execute_result"
    }
   ],
   "source": [
    "result_2.dtypes"
   ]
  },
  {
   "cell_type": "code",
   "execution_count": 116,
   "metadata": {
    "collapsed": false
   },
   "outputs": [],
   "source": [
    "writeColumnsToFile(result_2, 'result_2_12')"
   ]
  },
  {
   "cell_type": "markdown",
   "metadata": {},
   "source": [
    " "
   ]
  },
  {
   "cell_type": "markdown",
   "metadata": {},
   "source": [
    "# QC Checks for Final Feature Set"
   ]
  },
  {
   "cell_type": "markdown",
   "metadata": {},
   "source": [
    "*Ad hoc QC of random tube assembly id's to see if what we have in result_2 is correct*"
   ]
  },
  {
   "cell_type": "code",
   "execution_count": 117,
   "metadata": {
    "collapsed": false
   },
   "outputs": [
    {
     "name": "stdout",
     "output_type": "stream",
     "text": [
      "['TA-16162', 'TA-10013', 'TA-19133', 'TA-18845', 'TA-05646', 'TA-15013', 'TA-19834', 'TA-01719', 'TA-06597', 'TA-01481']\n"
     ]
    }
   ],
   "source": [
    "random.seed(2016)\n",
    "random_tube_assembly_ids = generate_random_sample_tube_assembly_ids(10, train_set_df)\n",
    "print random_tube_assembly_ids"
   ]
  },
  {
   "cell_type": "code",
   "execution_count": 118,
   "metadata": {
    "collapsed": false
   },
   "outputs": [],
   "source": [
    "dir_to_store = os.getcwd() + '\\\\qc_checks'\n",
    "for ID in random_tube_assembly_ids:\n",
    "    result_2[result_2.tube_assembly_id == ID].dropna(axis = 1, how = 'all') \\\n",
    "    .to_csv(path_or_buf = dir_to_store + '\\\\' + ID + '.csv')"
   ]
  },
  {
   "cell_type": "markdown",
   "metadata": {},
   "source": [
    " "
   ]
  },
  {
   "cell_type": "markdown",
   "metadata": {},
   "source": [
    "*Another method of QCing is to count **invariants** before and after transformations/ETL is applied to the data*"
   ]
  },
  {
   "cell_type": "markdown",
   "metadata": {},
   "source": [
    "**distinct # of tube assembly id's**"
   ]
  },
  {
   "cell_type": "code",
   "execution_count": 119,
   "metadata": {
    "collapsed": false
   },
   "outputs": [
    {
     "data": {
      "text/plain": [
       "8855"
      ]
     },
     "execution_count": 119,
     "metadata": {},
     "output_type": "execute_result"
    }
   ],
   "source": [
    "train_set_df.tube_assembly_id.drop_duplicates().to_frame().size"
   ]
  },
  {
   "cell_type": "code",
   "execution_count": 120,
   "metadata": {
    "collapsed": false
   },
   "outputs": [
    {
     "data": {
      "text/plain": [
       "8855"
      ]
     },
     "execution_count": 120,
     "metadata": {},
     "output_type": "execute_result"
    }
   ],
   "source": [
    "result_2.tube_assembly_id.drop_duplicates().to_frame().size"
   ]
  },
  {
   "cell_type": "markdown",
   "metadata": {},
   "source": [
    "**distribution of tube_assembly_id's**"
   ]
  },
  {
   "cell_type": "code",
   "execution_count": 121,
   "metadata": {
    "collapsed": false
   },
   "outputs": [
    {
     "data": {
      "text/plain": [
       "TA-04788    14\n",
       "TA-04750    12\n",
       "TA-00199    10\n",
       "TA-05812     9\n",
       "TA-18998     9\n",
       "TA-02308     9\n",
       "TA-02227     9\n",
       "TA-04762     9\n",
       "TA-05467     9\n",
       "TA-19094     9\n",
       "TA-08313     9\n",
       "TA-01597     9\n",
       "TA-19025     9\n",
       "TA-16293     9\n",
       "TA-19314     8\n",
       "TA-20329     8\n",
       "TA-02718     8\n",
       "TA-17542     8\n",
       "TA-20009     8\n",
       "TA-10950     8\n",
       "Name: tube_assembly_id, dtype: int64"
      ]
     },
     "execution_count": 121,
     "metadata": {},
     "output_type": "execute_result"
    }
   ],
   "source": [
    "train_set_df.tube_assembly_id.value_counts().head(20)"
   ]
  },
  {
   "cell_type": "code",
   "execution_count": 122,
   "metadata": {
    "collapsed": false
   },
   "outputs": [
    {
     "data": {
      "text/plain": [
       "TA-04788    14\n",
       "TA-04750    12\n",
       "TA-00199    10\n",
       "TA-05812     9\n",
       "TA-18998     9\n",
       "TA-02308     9\n",
       "TA-02227     9\n",
       "TA-04762     9\n",
       "TA-05467     9\n",
       "TA-19094     9\n",
       "TA-08313     9\n",
       "TA-01597     9\n",
       "TA-19025     9\n",
       "TA-16293     9\n",
       "TA-19314     8\n",
       "TA-20329     8\n",
       "TA-02718     8\n",
       "TA-17542     8\n",
       "TA-20009     8\n",
       "TA-10950     8\n",
       "Name: tube_assembly_id, dtype: int64"
      ]
     },
     "execution_count": 122,
     "metadata": {},
     "output_type": "execute_result"
    }
   ],
   "source": [
    "result_2.tube_assembly_id.value_counts().head(20)"
   ]
  },
  {
   "cell_type": "code",
   "execution_count": 123,
   "metadata": {
    "collapsed": false
   },
   "outputs": [
    {
     "data": {
      "text/plain": [
       "TA-13230    1\n",
       "TA-11927    1\n",
       "TA-05436    1\n",
       "TA-09561    1\n",
       "TA-09566    1\n",
       "TA-19351    1\n",
       "TA-16160    1\n",
       "TA-18871    1\n",
       "TA-09562    1\n",
       "TA-16161    1\n",
       "TA-19454    1\n",
       "TA-09236    1\n",
       "TA-05384    1\n",
       "TA-07728    1\n",
       "TA-11988    1\n",
       "TA-01830    1\n",
       "TA-17472    1\n",
       "TA-05381    1\n",
       "TA-05382    1\n",
       "TA-10308    1\n",
       "Name: tube_assembly_id, dtype: int64"
      ]
     },
     "execution_count": 123,
     "metadata": {},
     "output_type": "execute_result"
    }
   ],
   "source": [
    "train_set_df.tube_assembly_id.value_counts().tail(20)"
   ]
  },
  {
   "cell_type": "code",
   "execution_count": 124,
   "metadata": {
    "collapsed": false
   },
   "outputs": [
    {
     "data": {
      "text/plain": [
       "TA-13230    1\n",
       "TA-11927    1\n",
       "TA-05436    1\n",
       "TA-09561    1\n",
       "TA-09566    1\n",
       "TA-19351    1\n",
       "TA-16160    1\n",
       "TA-18871    1\n",
       "TA-09562    1\n",
       "TA-16161    1\n",
       "TA-19454    1\n",
       "TA-09236    1\n",
       "TA-05384    1\n",
       "TA-07728    1\n",
       "TA-11988    1\n",
       "TA-01830    1\n",
       "TA-17472    1\n",
       "TA-05381    1\n",
       "TA-05382    1\n",
       "TA-10308    1\n",
       "Name: tube_assembly_id, dtype: int64"
      ]
     },
     "execution_count": 124,
     "metadata": {},
     "output_type": "execute_result"
    }
   ],
   "source": [
    "result_2.tube_assembly_id.value_counts().tail(20)"
   ]
  },
  {
   "cell_type": "markdown",
   "metadata": {},
   "source": [
    "**distinct # of suppliers**"
   ]
  },
  {
   "cell_type": "code",
   "execution_count": 125,
   "metadata": {
    "collapsed": false
   },
   "outputs": [
    {
     "data": {
      "text/plain": [
       "57"
      ]
     },
     "execution_count": 125,
     "metadata": {},
     "output_type": "execute_result"
    }
   ],
   "source": [
    "train_set_df.supplier.drop_duplicates().to_frame().size"
   ]
  },
  {
   "cell_type": "code",
   "execution_count": 126,
   "metadata": {
    "collapsed": false
   },
   "outputs": [
    {
     "data": {
      "text/plain": [
       "57"
      ]
     },
     "execution_count": 126,
     "metadata": {},
     "output_type": "execute_result"
    }
   ],
   "source": [
    "result_2.supplier.drop_duplicates().to_frame().size"
   ]
  },
  {
   "cell_type": "markdown",
   "metadata": {},
   "source": [
    "**Distribution of tube assembly id's to suppliers**"
   ]
  },
  {
   "cell_type": "code",
   "execution_count": 127,
   "metadata": {
    "collapsed": false
   },
   "outputs": [
    {
     "data": {
      "text/plain": [
       "60426"
      ]
     },
     "execution_count": 127,
     "metadata": {},
     "output_type": "execute_result"
    }
   ],
   "source": [
    "train_set_df[['tube_assembly_id', 'supplier']].size"
   ]
  },
  {
   "cell_type": "code",
   "execution_count": 128,
   "metadata": {
    "collapsed": false
   },
   "outputs": [
    {
     "data": {
      "text/plain": [
       "tube_assembly_id  supplier\n",
       "TA-19025          S-0066      9\n",
       "TA-18998          S-0066      9\n",
       "TA-00002          S-0066      8\n",
       "TA-06426          S-0066      8\n",
       "TA-09998          S-0066      8\n",
       "TA-01816          S-0066      8\n",
       "TA-10002          S-0066      8\n",
       "TA-10003          S-0066      8\n",
       "TA-10005          S-0066      8\n",
       "TA-10007          S-0066      8\n",
       "TA-01828          S-0066      8\n",
       "TA-06429          S-0066      8\n",
       "TA-06419          S-0066      8\n",
       "TA-01831          S-0066      8\n",
       "TA-01834          S-0066      8\n",
       "TA-06413          S-0066      8\n",
       "TA-10048          S-0066      8\n",
       "TA-06411          S-0066      8\n",
       "TA-06410          S-0066      8\n",
       "TA-06428          S-0066      8\n",
       "dtype: int64"
      ]
     },
     "execution_count": 128,
     "metadata": {},
     "output_type": "execute_result"
    }
   ],
   "source": [
    "train_set_df.groupby(['tube_assembly_id', 'supplier']).size().sort_values(ascending = False).head(20)"
   ]
  },
  {
   "cell_type": "code",
   "execution_count": 129,
   "metadata": {
    "collapsed": false
   },
   "outputs": [
    {
     "data": {
      "text/plain": [
       "tube_assembly_id  supplier\n",
       "TA-19025          S-0066      9\n",
       "TA-18998          S-0066      9\n",
       "TA-00002          S-0066      8\n",
       "TA-06426          S-0066      8\n",
       "TA-09998          S-0066      8\n",
       "TA-01816          S-0066      8\n",
       "TA-10002          S-0066      8\n",
       "TA-10003          S-0066      8\n",
       "TA-10005          S-0066      8\n",
       "TA-10007          S-0066      8\n",
       "TA-01828          S-0066      8\n",
       "TA-06429          S-0066      8\n",
       "TA-06419          S-0066      8\n",
       "TA-01831          S-0066      8\n",
       "TA-01834          S-0066      8\n",
       "TA-06413          S-0066      8\n",
       "TA-10048          S-0066      8\n",
       "TA-06411          S-0066      8\n",
       "TA-06410          S-0066      8\n",
       "TA-06428          S-0066      8\n",
       "dtype: int64"
      ]
     },
     "execution_count": 129,
     "metadata": {},
     "output_type": "execute_result"
    }
   ],
   "source": [
    "result_2.groupby(['tube_assembly_id', 'supplier']).size().sort_values(ascending = False).head(20)"
   ]
  },
  {
   "cell_type": "code",
   "execution_count": 130,
   "metadata": {
    "collapsed": false
   },
   "outputs": [
    {
     "data": {
      "text/plain": [
       "tube_assembly_id  supplier\n",
       "TA-12133          S-0041      1\n",
       "TA-12135          S-0041      1\n",
       "TA-12137          S-0041      1\n",
       "TA-12138          S-0041      1\n",
       "TA-12139          S-0041      1\n",
       "TA-12142          S-0041      1\n",
       "TA-12143          S-0041      1\n",
       "TA-12147          S-0041      1\n",
       "TA-12149          S-0064      1\n",
       "TA-12177          S-0013      1\n",
       "TA-12153          S-0072      1\n",
       "TA-12154          S-0072      1\n",
       "TA-12160          S-0041      1\n",
       "TA-12162          S-0066      1\n",
       "TA-12164          S-0041      1\n",
       "TA-12166          S-0054      1\n",
       "TA-12169          S-0111      1\n",
       "TA-12172          S-0066      1\n",
       "TA-12176          S-0072      1\n",
       "TA-11077          S-0030      1\n",
       "dtype: int64"
      ]
     },
     "execution_count": 130,
     "metadata": {},
     "output_type": "execute_result"
    }
   ],
   "source": [
    "train_set_df.groupby(['tube_assembly_id', 'supplier']).size().sort_values(ascending = False).tail(20)"
   ]
  },
  {
   "cell_type": "code",
   "execution_count": 131,
   "metadata": {
    "collapsed": false
   },
   "outputs": [
    {
     "data": {
      "text/plain": [
       "tube_assembly_id  supplier\n",
       "TA-12133          S-0041      1\n",
       "TA-12135          S-0041      1\n",
       "TA-12137          S-0041      1\n",
       "TA-12138          S-0041      1\n",
       "TA-12139          S-0041      1\n",
       "TA-12142          S-0041      1\n",
       "TA-12143          S-0041      1\n",
       "TA-12147          S-0041      1\n",
       "TA-12149          S-0064      1\n",
       "TA-12177          S-0013      1\n",
       "TA-12153          S-0072      1\n",
       "TA-12154          S-0072      1\n",
       "TA-12160          S-0041      1\n",
       "TA-12162          S-0066      1\n",
       "TA-12164          S-0041      1\n",
       "TA-12166          S-0054      1\n",
       "TA-12169          S-0111      1\n",
       "TA-12172          S-0066      1\n",
       "TA-12176          S-0072      1\n",
       "TA-11077          S-0030      1\n",
       "dtype: int64"
      ]
     },
     "execution_count": 131,
     "metadata": {},
     "output_type": "execute_result"
    }
   ],
   "source": [
    "result_2.groupby(['tube_assembly_id', 'supplier']).size().sort_values(ascending = False).tail(20)"
   ]
  },
  {
   "cell_type": "markdown",
   "metadata": {},
   "source": [
    "**Distinct # of component_id_1, component_id_2...to component_id_8 from bill of materials**"
   ]
  },
  {
   "cell_type": "code",
   "execution_count": 132,
   "metadata": {
    "collapsed": false
   },
   "outputs": [
    {
     "name": "stdout",
     "output_type": "stream",
     "text": [
      "original:  1080\n",
      "after ETL:  1080\n",
      "original:  835\n",
      "after ETL:  835\n",
      "original:  510\n",
      "after ETL:  510\n",
      "original:  205\n",
      "after ETL:  205\n",
      "original:  63\n",
      "after ETL:  63\n",
      "original:  20\n",
      "after ETL:  20\n",
      "original:  5\n",
      "after ETL:  5\n",
      "original:  2\n",
      "after ETL:  2\n"
     ]
    }
   ],
   "source": [
    "for i in range(NUM_OF_JOINS):\n",
    "    index = i + 1\n",
    "    command1 = 'print \"original: \", data_dict[\"bill_of_materials\"].component_id_' + str(index) + \\\n",
    "    '.drop_duplicates().to_frame().size'\n",
    "    command2 = 'print \"after ETL: \", bom_result_df.component_id_' + str(index) + \\\n",
    "    '.drop_duplicates().to_frame().size'\n",
    "    exec(command1)\n",
    "    exec(command2)"
   ]
  },
  {
   "cell_type": "markdown",
   "metadata": {},
   "source": [
    "**Sum of Cost in train_set_df**"
   ]
  },
  {
   "cell_type": "code",
   "execution_count": 133,
   "metadata": {
    "collapsed": false
   },
   "outputs": [
    {
     "data": {
      "text/plain": [
       "405860.82"
      ]
     },
     "execution_count": 133,
     "metadata": {},
     "output_type": "execute_result"
    }
   ],
   "source": [
    "round(train_set_df.cost.sum(), 2)"
   ]
  },
  {
   "cell_type": "code",
   "execution_count": 134,
   "metadata": {
    "collapsed": false
   },
   "outputs": [
    {
     "data": {
      "text/plain": [
       "405860.82"
      ]
     },
     "execution_count": 134,
     "metadata": {},
     "output_type": "execute_result"
    }
   ],
   "source": [
    "round(result_2.cost.sum(), 2)"
   ]
  },
  {
   "cell_type": "markdown",
   "metadata": {},
   "source": [
    "**Distribution of the aggregate sum of cost by tube assembly id & supplier**"
   ]
  },
  {
   "cell_type": "code",
   "execution_count": 135,
   "metadata": {
    "collapsed": true
   },
   "outputs": [],
   "source": [
    "train_set_df[['tube_assembly_id', 'supplier', 'cost']].groupby(['tube_assembly_id', 'supplier']).sum() \\\n",
    ".sort_values(by = 'cost', ascending = False).round(2) \\\n",
    ".to_csv(path_or_buf = dir_to_store + '\\\\' + 'train_set_aggregate_sum_cost_by_ID_supplier.csv')"
   ]
  },
  {
   "cell_type": "code",
   "execution_count": 136,
   "metadata": {
    "collapsed": false
   },
   "outputs": [],
   "source": [
    "result_2[['tube_assembly_id', 'supplier', 'cost']].groupby(['tube_assembly_id', 'supplier']).sum() \\\n",
    ".sort_values(by = 'cost', ascending = False).round(2) \\\n",
    ".to_csv(path_or_buf = dir_to_store + '\\\\' + 'result_2_aggregate_sum_cost_by_ID_supplier.csv')"
   ]
  },
  {
   "cell_type": "markdown",
   "metadata": {},
   "source": [
    "**Distribution of the aggregate mean cost by tube assembly id & supplier**"
   ]
  },
  {
   "cell_type": "code",
   "execution_count": 137,
   "metadata": {
    "collapsed": true
   },
   "outputs": [],
   "source": [
    "train_set_df[['tube_assembly_id', 'supplier', 'cost']].groupby(['tube_assembly_id', 'supplier']).mean() \\\n",
    ".sort_values(by = 'cost', ascending = False).round(2) \\\n",
    ".to_csv(path_or_buf = dir_to_store + '\\\\' + 'train_set_mean_cost_by_ID_supplier.csv')"
   ]
  },
  {
   "cell_type": "code",
   "execution_count": 138,
   "metadata": {
    "collapsed": true
   },
   "outputs": [],
   "source": [
    "result_2[['tube_assembly_id', 'supplier', 'cost']].groupby(['tube_assembly_id', 'supplier']).mean() \\\n",
    ".sort_values(by = 'cost', ascending = False).round(2) \\\n",
    ".to_csv(path_or_buf = dir_to_store + '\\\\' + 'result_2_mean_cost_by_ID_supplier.csv')"
   ]
  },
  {
   "cell_type": "markdown",
   "metadata": {},
   "source": [
    "**Sum of Cost by quote date & tube assembly id**"
   ]
  },
  {
   "cell_type": "code",
   "execution_count": 139,
   "metadata": {
    "collapsed": false
   },
   "outputs": [],
   "source": [
    "train_set_df[['tube_assembly_id', 'quote_date', 'cost']].groupby(['tube_assembly_id', 'quote_date']).sum() \\\n",
    ".sort_values(by = 'cost', ascending = False).round(2) \\\n",
    ".to_csv(path_or_buf = dir_to_store + '\\\\' + 'train_set_sum_cost_by_ID_date.csv')"
   ]
  },
  {
   "cell_type": "code",
   "execution_count": 140,
   "metadata": {
    "collapsed": true
   },
   "outputs": [],
   "source": [
    "result_2[['tube_assembly_id', 'quote_date', 'cost']].groupby(['tube_assembly_id', 'quote_date']).sum() \\\n",
    ".sort_values(by = 'cost', ascending = False).round(2) \\\n",
    ".to_csv(path_or_buf = dir_to_store + '\\\\' + 'result_2_sum_cost_by_ID_date.csv')"
   ]
  },
  {
   "cell_type": "code",
   "execution_count": null,
   "metadata": {
    "collapsed": true
   },
   "outputs": [],
   "source": []
  },
  {
   "cell_type": "code",
   "execution_count": null,
   "metadata": {
    "collapsed": true
   },
   "outputs": [],
   "source": []
  },
  {
   "cell_type": "code",
   "execution_count": null,
   "metadata": {
    "collapsed": true
   },
   "outputs": [],
   "source": []
  },
  {
   "cell_type": "markdown",
   "metadata": {},
   "source": [
    "# Computing the Distribution of Features that have no NA's in result_2"
   ]
  },
  {
   "cell_type": "code",
   "execution_count": 141,
   "metadata": {
    "collapsed": false
   },
   "outputs": [
    {
     "name": "stdout",
     "output_type": "stream",
     "text": [
      "795\n"
     ]
    }
   ],
   "source": [
    "#creates a dictionary that holds the different feature sets, the number of features and number of occurrences\n",
    "distDict = create_dist_dict(result_2)\n",
    "print len(distDict.keys())"
   ]
  },
  {
   "cell_type": "code",
   "execution_count": 142,
   "metadata": {
    "collapsed": false
   },
   "outputs": [
    {
     "data": {
      "text/plain": [
       "'spec10'"
      ]
     },
     "execution_count": 142,
     "metadata": {},
     "output_type": "execute_result"
    }
   ],
   "source": [
    "list(result_2.columns)[1202]"
   ]
  },
  {
   "cell_type": "code",
   "execution_count": 143,
   "metadata": {
    "collapsed": false
   },
   "outputs": [
    {
     "data": {
      "image/png": "[encoded data removed]",
      "text/plain": [
       "<matplotlib.figure.Figure at 0xd12af98>"
      ]
     },
     "metadata": {},
     "output_type": "display_data"
    }
   ],
   "source": [
    "#calculate_num_features returns a list that contains all the number of features in each row of result_2\n",
    "dist_num_features = np.array(calculate_num_features(distDict))\n",
    "plt.hist(dist_num_features)\n",
    "plt.title('Distribution of Feature Vectors in Training Set')\n",
    "plt.xlabel('Number of Features')\n",
    "plt.ylabel('Number of Rows in Feature Matrix')\n",
    "plt.show()"
   ]
  },
  {
   "cell_type": "code",
   "execution_count": 144,
   "metadata": {
    "collapsed": false
   },
   "outputs": [
    {
     "data": {
      "text/html": [
       "<div>\n",
       "<table border=\"1\" class=\"dataframe\">\n",
       "  <thead>\n",
       "    <tr style=\"text-align: right;\">\n",
       "      <th></th>\n",
       "      <th>0</th>\n",
       "    </tr>\n",
       "  </thead>\n",
       "  <tbody>\n",
       "    <tr>\n",
       "      <th>0</th>\n",
       "      <td>41</td>\n",
       "    </tr>\n",
       "    <tr>\n",
       "      <th>1</th>\n",
       "      <td>41</td>\n",
       "    </tr>\n",
       "    <tr>\n",
       "      <th>2</th>\n",
       "      <td>41</td>\n",
       "    </tr>\n",
       "    <tr>\n",
       "      <th>3</th>\n",
       "      <td>41</td>\n",
       "    </tr>\n",
       "    <tr>\n",
       "      <th>4</th>\n",
       "      <td>36</td>\n",
       "    </tr>\n",
       "  </tbody>\n",
       "</table>\n",
       "</div>"
      ],
      "text/plain": [
       "    0\n",
       "0  41\n",
       "1  41\n",
       "2  41\n",
       "3  41\n",
       "4  36"
      ]
     },
     "execution_count": 144,
     "metadata": {},
     "output_type": "execute_result"
    }
   ],
   "source": [
    "dist_num_features_df = pd.DataFrame(dist_num_features)\n",
    "dist_num_features_df.head()"
   ]
  },
  {
   "cell_type": "code",
   "execution_count": 145,
   "metadata": {
    "collapsed": false
   },
   "outputs": [
    {
     "data": {
      "text/plain": [
       "69"
      ]
     },
     "execution_count": 145,
     "metadata": {},
     "output_type": "execute_result"
    }
   ],
   "source": [
    "dist_num_features_df.drop_duplicates().size"
   ]
  },
  {
   "cell_type": "markdown",
   "metadata": {
    "collapsed": true
   },
   "source": [
    "**Let's find the actual feature sets**"
   ]
  },
  {
   "cell_type": "code",
   "execution_count": 146,
   "metadata": {
    "collapsed": false
   },
   "outputs": [],
   "source": [
    "feature_sets = return_feature_sets(distDict)\n",
    "dir_to_store = os.getcwd()\n",
    "feature_sets_df = pd.DataFrame(feature_sets)\n",
    "feature_sets_df.columns = ['features', 'num_rows', 'num_features']\n",
    "feature_sets_df.to_csv(path_or_buf = dir_to_store + '\\\\' + 'feature_sets' + '.csv')"
   ]
  },
  {
   "cell_type": "markdown",
   "metadata": {},
   "source": [
    "**Feature sets with no bracket pricing**"
   ]
  },
  {
   "cell_type": "code",
   "execution_count": 147,
   "metadata": {
    "collapsed": false
   },
   "outputs": [],
   "source": [
    "no_bracket_pricing_df = result_2[result_2.bracket_pricing == 'No']\n",
    "no_bracket_distDict = create_dist_dict(no_bracket_pricing_df)\n",
    "no_bracket_feature_sets = return_feature_sets(no_bracket_distDict)\n",
    "no_bracket_feature_sets_df = pd.DataFrame(no_bracket_feature_sets)\n",
    "no_bracket_feature_sets_df.columns = ['features', 'num_rows', 'num_features']\n",
    "no_bracket_feature_sets_df.to_csv(path_or_buf = dir_to_store + '\\\\' + 'no_bracket_feature_sets' + '.csv')"
   ]
  },
  {
   "cell_type": "markdown",
   "metadata": {},
   "source": [
    "**What is the sparsity of our feature space?**"
   ]
  },
  {
   "cell_type": "code",
   "execution_count": 148,
   "metadata": {
    "collapsed": false
   },
   "outputs": [
    {
     "name": "stdout",
     "output_type": "stream",
     "text": [
      "95.7% sparse\n"
     ]
    }
   ],
   "source": [
    "sparsity = compute_sparsity(result_2)\n",
    "print str(round(sparsity, 1)) + '% sparse'"
   ]
  },
  {
   "cell_type": "markdown",
   "metadata": {
    "collapsed": false
   },
   "source": [
    "**Does the test set also have the same feature sets as the training set?**"
   ]
  },
  {
   "cell_type": "code",
   "execution_count": 149,
   "metadata": {
    "collapsed": true
   },
   "outputs": [],
   "source": [
    "result_test = test_set_df.merge(tube_df, how = 'left', on = 'tube_assembly_id')\n",
    "result_1_test = result_test.merge(bill_of_materials_df, how = 'left', on = 'tube_assembly_id')\n",
    "result_2_test = result_1_test.merge(specs_df, how = 'left', on = 'tube_assembly_id')"
   ]
  },
  {
   "cell_type": "code",
   "execution_count": 150,
   "metadata": {
    "collapsed": false
   },
   "outputs": [
    {
     "data": {
      "text/html": [
       "<div>\n",
       "<table border=\"1\" class=\"dataframe\">\n",
       "  <thead>\n",
       "    <tr style=\"text-align: right;\">\n",
       "      <th></th>\n",
       "      <th>tube_assembly_id</th>\n",
       "      <th>supplier</th>\n",
       "      <th>quote_date</th>\n",
       "      <th>annual_usage</th>\n",
       "      <th>min_order_quantity</th>\n",
       "      <th>bracket_pricing</th>\n",
       "      <th>quantity</th>\n",
       "      <th>material_id</th>\n",
       "      <th>diameter</th>\n",
       "      <th>wall</th>\n",
       "      <th>...</th>\n",
       "      <th>spec1</th>\n",
       "      <th>spec2</th>\n",
       "      <th>spec3</th>\n",
       "      <th>spec4</th>\n",
       "      <th>spec5</th>\n",
       "      <th>spec6</th>\n",
       "      <th>spec7</th>\n",
       "      <th>spec8</th>\n",
       "      <th>spec9</th>\n",
       "      <th>spec10</th>\n",
       "    </tr>\n",
       "  </thead>\n",
       "  <tbody>\n",
       "    <tr>\n",
       "      <th>0</th>\n",
       "      <td>TA-00001</td>\n",
       "      <td>S-0066</td>\n",
       "      <td>2013-06-23</td>\n",
       "      <td>0</td>\n",
       "      <td>0</td>\n",
       "      <td>Yes</td>\n",
       "      <td>1</td>\n",
       "      <td>SP-0035</td>\n",
       "      <td>12.7</td>\n",
       "      <td>1.65</td>\n",
       "      <td>...</td>\n",
       "      <td>NaN</td>\n",
       "      <td>NaN</td>\n",
       "      <td>NaN</td>\n",
       "      <td>NaN</td>\n",
       "      <td>NaN</td>\n",
       "      <td>NaN</td>\n",
       "      <td>NaN</td>\n",
       "      <td>NaN</td>\n",
       "      <td>NaN</td>\n",
       "      <td>NaN</td>\n",
       "    </tr>\n",
       "    <tr>\n",
       "      <th>1</th>\n",
       "      <td>TA-00001</td>\n",
       "      <td>S-0066</td>\n",
       "      <td>2013-06-23</td>\n",
       "      <td>0</td>\n",
       "      <td>0</td>\n",
       "      <td>Yes</td>\n",
       "      <td>2</td>\n",
       "      <td>SP-0035</td>\n",
       "      <td>12.7</td>\n",
       "      <td>1.65</td>\n",
       "      <td>...</td>\n",
       "      <td>NaN</td>\n",
       "      <td>NaN</td>\n",
       "      <td>NaN</td>\n",
       "      <td>NaN</td>\n",
       "      <td>NaN</td>\n",
       "      <td>NaN</td>\n",
       "      <td>NaN</td>\n",
       "      <td>NaN</td>\n",
       "      <td>NaN</td>\n",
       "      <td>NaN</td>\n",
       "    </tr>\n",
       "    <tr>\n",
       "      <th>2</th>\n",
       "      <td>TA-00001</td>\n",
       "      <td>S-0066</td>\n",
       "      <td>2013-06-23</td>\n",
       "      <td>0</td>\n",
       "      <td>0</td>\n",
       "      <td>Yes</td>\n",
       "      <td>5</td>\n",
       "      <td>SP-0035</td>\n",
       "      <td>12.7</td>\n",
       "      <td>1.65</td>\n",
       "      <td>...</td>\n",
       "      <td>NaN</td>\n",
       "      <td>NaN</td>\n",
       "      <td>NaN</td>\n",
       "      <td>NaN</td>\n",
       "      <td>NaN</td>\n",
       "      <td>NaN</td>\n",
       "      <td>NaN</td>\n",
       "      <td>NaN</td>\n",
       "      <td>NaN</td>\n",
       "      <td>NaN</td>\n",
       "    </tr>\n",
       "    <tr>\n",
       "      <th>3</th>\n",
       "      <td>TA-00001</td>\n",
       "      <td>S-0066</td>\n",
       "      <td>2013-06-23</td>\n",
       "      <td>0</td>\n",
       "      <td>0</td>\n",
       "      <td>Yes</td>\n",
       "      <td>10</td>\n",
       "      <td>SP-0035</td>\n",
       "      <td>12.7</td>\n",
       "      <td>1.65</td>\n",
       "      <td>...</td>\n",
       "      <td>NaN</td>\n",
       "      <td>NaN</td>\n",
       "      <td>NaN</td>\n",
       "      <td>NaN</td>\n",
       "      <td>NaN</td>\n",
       "      <td>NaN</td>\n",
       "      <td>NaN</td>\n",
       "      <td>NaN</td>\n",
       "      <td>NaN</td>\n",
       "      <td>NaN</td>\n",
       "    </tr>\n",
       "    <tr>\n",
       "      <th>4</th>\n",
       "      <td>TA-00001</td>\n",
       "      <td>S-0066</td>\n",
       "      <td>2013-06-23</td>\n",
       "      <td>0</td>\n",
       "      <td>0</td>\n",
       "      <td>Yes</td>\n",
       "      <td>25</td>\n",
       "      <td>SP-0035</td>\n",
       "      <td>12.7</td>\n",
       "      <td>1.65</td>\n",
       "      <td>...</td>\n",
       "      <td>NaN</td>\n",
       "      <td>NaN</td>\n",
       "      <td>NaN</td>\n",
       "      <td>NaN</td>\n",
       "      <td>NaN</td>\n",
       "      <td>NaN</td>\n",
       "      <td>NaN</td>\n",
       "      <td>NaN</td>\n",
       "      <td>NaN</td>\n",
       "      <td>NaN</td>\n",
       "    </tr>\n",
       "  </tbody>\n",
       "</table>\n",
       "<p>5 rows × 1202 columns</p>\n",
       "</div>"
      ],
      "text/plain": [
       "  tube_assembly_id supplier  quote_date  annual_usage  min_order_quantity  \\\n",
       "0         TA-00001   S-0066  2013-06-23             0                   0   \n",
       "1         TA-00001   S-0066  2013-06-23             0                   0   \n",
       "2         TA-00001   S-0066  2013-06-23             0                   0   \n",
       "3         TA-00001   S-0066  2013-06-23             0                   0   \n",
       "4         TA-00001   S-0066  2013-06-23             0                   0   \n",
       "\n",
       "  bracket_pricing  quantity material_id  diameter  wall   ...    spec1  spec2  \\\n",
       "0             Yes         1     SP-0035      12.7  1.65   ...      NaN    NaN   \n",
       "1             Yes         2     SP-0035      12.7  1.65   ...      NaN    NaN   \n",
       "2             Yes         5     SP-0035      12.7  1.65   ...      NaN    NaN   \n",
       "3             Yes        10     SP-0035      12.7  1.65   ...      NaN    NaN   \n",
       "4             Yes        25     SP-0035      12.7  1.65   ...      NaN    NaN   \n",
       "\n",
       "   spec3 spec4 spec5 spec6 spec7 spec8 spec9  spec10  \n",
       "0    NaN   NaN   NaN   NaN   NaN   NaN   NaN     NaN  \n",
       "1    NaN   NaN   NaN   NaN   NaN   NaN   NaN     NaN  \n",
       "2    NaN   NaN   NaN   NaN   NaN   NaN   NaN     NaN  \n",
       "3    NaN   NaN   NaN   NaN   NaN   NaN   NaN     NaN  \n",
       "4    NaN   NaN   NaN   NaN   NaN   NaN   NaN     NaN  \n",
       "\n",
       "[5 rows x 1202 columns]"
      ]
     },
     "execution_count": 150,
     "metadata": {},
     "output_type": "execute_result"
    }
   ],
   "source": [
    "result_2_test.head()"
   ]
  },
  {
   "cell_type": "code",
   "execution_count": 151,
   "metadata": {
    "collapsed": false
   },
   "outputs": [
    {
     "name": "stdout",
     "output_type": "stream",
     "text": [
      "810\n"
     ]
    }
   ],
   "source": [
    "#creates a dictionary that holds the different feature sets, the number of features and number of occurrences\n",
    "distDict_test = create_dist_dict(result_2_test)\n",
    "print len(distDict_test.keys())"
   ]
  },
  {
   "cell_type": "code",
   "execution_count": 152,
   "metadata": {
    "collapsed": false
   },
   "outputs": [
    {
     "data": {
      "image/png": "[encoded data removed]",
      "text/plain": [
       "<matplotlib.figure.Figure at 0x13a2e940>"
      ]
     },
     "metadata": {},
     "output_type": "display_data"
    }
   ],
   "source": [
    "#calculate_num_features returns a list that contains all the number of features in each row of result_2_test\n",
    "dist_num_features_test = np.array(calculate_num_features(distDict_test))\n",
    "plt.hist(dist_num_features_test)\n",
    "plt.title('Distribution of Feature Vectors in Test Set')\n",
    "plt.xlabel('Number of Features')\n",
    "plt.ylabel('Number of Rows in Feature Matrix')\n",
    "plt.show()"
   ]
  },
  {
   "cell_type": "code",
   "execution_count": 153,
   "metadata": {
    "collapsed": false
   },
   "outputs": [
    {
     "data": {
      "text/plain": [
       "69"
      ]
     },
     "execution_count": 153,
     "metadata": {},
     "output_type": "execute_result"
    }
   ],
   "source": [
    "dist_num_features_test_df = pd.DataFrame(dist_num_features_test)\n",
    "dist_num_features_df.drop_duplicates().size"
   ]
  },
  {
   "cell_type": "code",
   "execution_count": 154,
   "metadata": {
    "collapsed": true
   },
   "outputs": [],
   "source": [
    "feature_sets_test = return_feature_sets(distDict_test)\n",
    "dir_to_store = os.getcwd()\n",
    "feature_sets_test_df = pd.DataFrame(feature_sets_test)\n",
    "feature_sets_test_df.columns = ['features', 'num_rows', 'num_features']\n",
    "feature_sets_test_df.to_csv(path_or_buf = dir_to_store + '\\\\' + 'feature_sets_test' + '.csv')"
   ]
  },
  {
   "cell_type": "markdown",
   "metadata": {},
   "source": [
    "**Are there any feature sets that do not overlap between the training set and the test set?**"
   ]
  },
  {
   "cell_type": "code",
   "execution_count": 155,
   "metadata": {
    "collapsed": false
   },
   "outputs": [],
   "source": [
    "#adjust feature sets from training set (remove cost column since this is the feature we are trying to predict and won't be in\n",
    "#the test set)\n",
    "adjusted_feature_sets = []\n",
    "for s in feature_sets:\n",
    "    if 'cost' in s[0]:\n",
    "        #first convert s[0] to a list and convert back to tuple at the end\n",
    "        lst = list(s[0])\n",
    "        lst.remove('cost')\n",
    "        tup_to_add = tuple(lst)\n",
    "        adjusted_feature_sets.append([tup_to_add, s[1], s[2]])\n",
    "    else:\n",
    "        #if cost wasn't in the feature set, then keep s as it is\n",
    "        adjusted_feature_sets.append(s)\n",
    "adjusted_feature_sets_df = pd.DataFrame(adjusted_feature_sets)\n",
    "adjusted_feature_sets_df.columns = ['features', 'num_rows', 'num_features']"
   ]
  },
  {
   "cell_type": "code",
   "execution_count": 156,
   "metadata": {
    "collapsed": false
   },
   "outputs": [],
   "source": [
    "non_overlapping_feature_sets = adjusted_feature_sets_df.merge(feature_sets_test_df, how = 'outer', on = 'features', indicator = True)\n",
    "non_overlapping_feature_sets.to_csv(path_or_buf = dir_to_store + '\\\\' + 'non_overlapping_feature_sets' + '.csv')"
   ]
  },
  {
   "cell_type": "code",
   "execution_count": 157,
   "metadata": {
    "collapsed": false
   },
   "outputs": [
    {
     "name": "stdout",
     "output_type": "stream",
     "text": [
      "Number of features in test set only: 2088\n"
     ]
    }
   ],
   "source": [
    "count_only_test = non_overlapping_feature_sets[non_overlapping_feature_sets._merge == 'right_only'].size\n",
    "print 'Number of features in test set only:', count_only_test"
   ]
  },
  {
   "cell_type": "code",
   "execution_count": 158,
   "metadata": {
    "collapsed": false
   },
   "outputs": [
    {
     "name": "stdout",
     "output_type": "stream",
     "text": [
      "Number of feature sets in both: 2772\n"
     ]
    }
   ],
   "source": [
    "count_both_sets = non_overlapping_feature_sets[non_overlapping_feature_sets._merge == 'both'].size\n",
    "print 'Number of feature sets in both:', count_both_sets"
   ]
  },
  {
   "cell_type": "code",
   "execution_count": null,
   "metadata": {
    "collapsed": true
   },
   "outputs": [],
   "source": []
  },
  {
   "cell_type": "code",
   "execution_count": null,
   "metadata": {
    "collapsed": true
   },
   "outputs": [],
   "source": []
  },
  {
   "cell_type": "code",
   "execution_count": null,
   "metadata": {
    "collapsed": true
   },
   "outputs": [],
   "source": []
  },
  {
   "cell_type": "code",
   "execution_count": null,
   "metadata": {
    "collapsed": true
   },
   "outputs": [],
   "source": []
  },
  {
   "cell_type": "markdown",
   "metadata": {
    "collapsed": true
   },
   "source": [
    " "
   ]
  },
  {
   "cell_type": "markdown",
   "metadata": {
    "collapsed": true
   },
   "source": [
    "# Attempt Linear Regression on result_2"
   ]
  },
  {
   "cell_type": "code",
   "execution_count": 159,
   "metadata": {
    "collapsed": true
   },
   "outputs": [],
   "source": [
    "from sklearn.linear_model import LinearRegression"
   ]
  },
  {
   "cell_type": "markdown",
   "metadata": {
    "collapsed": true
   },
   "source": [
    "use **all features** in *result_2* to predict *cost* of the tube assemblies in the training set"
   ]
  },
  {
   "cell_type": "code",
   "execution_count": 160,
   "metadata": {
    "collapsed": true
   },
   "outputs": [],
   "source": [
    "X = result_2.drop('cost', axis = 1)"
   ]
  },
  {
   "cell_type": "code",
   "execution_count": 161,
   "metadata": {
    "collapsed": false
   },
   "outputs": [],
   "source": [
    "#create a linear regression object\n",
    "lm = LinearRegression(normalize = True, copy_X = True)"
   ]
  },
  {
   "cell_type": "code",
   "execution_count": 162,
   "metadata": {
    "collapsed": false
   },
   "outputs": [],
   "source": [
    "#fit linear model\n",
    "#lm.fit(X, result_2.cost)"
   ]
  },
  {
   "cell_type": "code",
   "execution_count": null,
   "metadata": {
    "collapsed": true
   },
   "outputs": [],
   "source": []
  },
  {
   "cell_type": "code",
   "execution_count": null,
   "metadata": {
    "collapsed": true
   },
   "outputs": [],
   "source": []
  },
  {
   "cell_type": "code",
   "execution_count": null,
   "metadata": {
    "collapsed": true
   },
   "outputs": [],
   "source": []
  }
 ],
 "metadata": {
  "kernelspec": {
   "display_name": "Python 2",
   "language": "python",
   "name": "python2"
  },
  "language_info": {
   "codemirror_mode": {
    "name": "ipython",
    "version": 2
   },
   "file_extension": ".py",
   "mimetype": "text/x-python",
   "name": "python",
   "nbconvert_exporter": "python",
   "pygments_lexer": "ipython2",
   "version": "2.7.13"
  }
 },
 "nbformat": 4,
 "nbformat_minor": 0
}
