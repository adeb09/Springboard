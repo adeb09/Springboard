{
 "cells": [
  {
   "cell_type": "markdown",
   "metadata": {},
   "source": [
    "# XML example and exercise\n",
    "****\n",
    "+ study examples of accessing nodes in XML tree structure  \n",
    "+ work on exercise to be completed and submitted\n",
    "****\n",
    "+ reference: https://docs.python.org/2.7/library/xml.etree.elementtree.html\n",
    "+ data source: http://www.dbis.informatik.uni-goettingen.de/Mondial\n",
    "****"
   ]
  },
  {
   "cell_type": "code",
   "execution_count": 21,
   "metadata": {
    "collapsed": true
   },
   "outputs": [],
   "source": [
    "from xml.etree import ElementTree as ET"
   ]
  },
  {
   "cell_type": "markdown",
   "metadata": {},
   "source": [
    "## XML example\n",
    "\n",
    "+ for details about tree traversal and iterators, see https://docs.python.org/2.7/library/xml.etree.elementtree.html"
   ]
  },
  {
   "cell_type": "code",
   "execution_count": 22,
   "metadata": {
    "collapsed": true
   },
   "outputs": [],
   "source": [
    "document_tree = ET.parse( './data/mondial_database_less.xml' )"
   ]
  },
  {
   "cell_type": "code",
   "execution_count": 23,
   "metadata": {
    "collapsed": false
   },
   "outputs": [
    {
     "name": "stdout",
     "output_type": "stream",
     "text": [
      "Albania\n",
      "Greece\n",
      "Macedonia\n",
      "Serbia\n",
      "Montenegro\n",
      "Kosovo\n",
      "Andorra\n"
     ]
    }
   ],
   "source": [
    "# print names of all countries\n",
    "for child in document_tree.getroot():\n",
    "    print child.find('name').text"
   ]
  },
  {
   "cell_type": "code",
   "execution_count": 24,
   "metadata": {
    "collapsed": false
   },
   "outputs": [
    {
     "name": "stdout",
     "output_type": "stream",
     "text": [
      "* Albania: Tirana, Shkodër, Durrës, Vlorë, Elbasan, Korçë\n",
      "* Greece: Komotini, Kavala, Athina, Peiraias, Peristeri, Acharnes, Patra, Kozani, Kerkyra, Ioannina, Thessaloniki, Iraklio, Chania, Ermoupoli, Rhodes, Tripoli, Lamia, Chalkida, Larissa, Volos, Mytilini, Karyes\n",
      "* Macedonia: Skopje, Kumanovo\n",
      "* Serbia: Beograd, Novi Sad, Niš\n",
      "* Montenegro: Podgorica\n",
      "* Kosovo: Prishtine\n",
      "* Andorra: Andorra la Vella\n"
     ]
    }
   ],
   "source": [
    "# print names of all countries and their cities\n",
    "for element in document_tree.iterfind('country'):\n",
    "    print '* ' + element.find('name').text + ':',\n",
    "    capitals_string = ''\n",
    "    for subelement in element.getiterator('city'):\n",
    "        capitals_string += subelement.find('name').text + ', '\n",
    "    print capitals_string[:-2]"
   ]
  },
  {
   "cell_type": "markdown",
   "metadata": {},
   "source": [
    "****\n",
    "## XML exercise\n",
    "\n",
    "Using data in 'data/mondial_database.xml', the examples above, and refering to https://docs.python.org/2.7/library/xml.etree.elementtree.html, find\n",
    "\n",
    "1. 10 countries with the lowest infant mortality rates\n",
    "2. 10 cities with the largest population\n",
    "3. 10 ethnic groups with the largest overall populations (sum of best/latest estimates over all countries)\n",
    "4. name and country of a) longest river, b) largest lake and c) airport at highest elevation"
   ]
  },
  {
   "cell_type": "code",
   "execution_count": 25,
   "metadata": {
    "collapsed": false
   },
   "outputs": [],
   "source": [
    "def formatPrint(lst):\n",
    "    '''this function helps print with proper format'''\n",
    "    for tup in lst:\n",
    "        if len(tup[0]) > 7:\n",
    "            print tup[0] + str('\\t') + str(tup[1])\n",
    "        else:\n",
    "            print tup[0] + str('\\t') * 2 + str(tup[1])"
   ]
  },
  {
   "cell_type": "code",
   "execution_count": 26,
   "metadata": {
    "collapsed": true
   },
   "outputs": [],
   "source": [
    "#parse XML file into document\n",
    "document = ET.parse( './data/mondial_database.xml' )"
   ]
  },
  {
   "cell_type": "code",
   "execution_count": 27,
   "metadata": {
    "collapsed": false
   },
   "outputs": [
    {
     "name": "stdout",
     "output_type": "stream",
     "text": [
      "Monaco\t\t1.81\n",
      "Japan\t\t2.13\n",
      "Norway\t\t2.48\n",
      "Bermuda\t\t2.48\n",
      "Singapore\t2.53\n",
      "Sweden\t\t2.6\n",
      "Czech Republic\t2.63\n",
      "Hong Kong\t2.73\n",
      "Macao\t\t3.13\n",
      "Iceland\t\t3.15\n"
     ]
    }
   ],
   "source": [
    "# 1) 10 countries with the lowest infant mortality rates\n",
    "\n",
    "infant_mortality_lst = [] #list of tuples that will hold countries and its respective infant mortality (country, infant_mortality)\n",
    "\n",
    "#this loop iterates through and extract each country and its infant mortality from document XML\n",
    "for element in document.iterfind('country'):\n",
    "    for subelement in element.iter('infant_mortality'):\n",
    "        country = element.find('name').text\n",
    "        mortality_rate = float(subelement.text)\n",
    "        infant_mortality_lst.append( (country, mortality\n",
    "                                      ++_rate) )\n",
    "\n",
    "infant_mortality_lst.sort(key = lambda tup: tup[1]) #sorts the list by infant mortality rates (the 2nd entry of each tuple)\n",
    "formatPrint(infant_mortality_lst[:10])"
   ]
  },
  {
   "cell_type": "code",
   "execution_count": 28,
   "metadata": {
    "collapsed": false
   },
   "outputs": [
    {
     "name": "stdout",
     "output_type": "stream",
     "text": [
      "Shanghai\t22315474\n",
      "Istanbul\t13710512\n",
      "Mumbai\t\t12442373\n",
      "Moskva\t\t11979529\n",
      "Beijing\t\t11716620\n",
      "São Paulo\t11152344\n",
      "Tianjin\t\t11090314\n",
      "Guangzhou\t11071424\n",
      "Delhi\t\t11034555\n",
      "Shenzhen\t10358381\n"
     ]
    }
   ],
   "source": [
    "# 2) 10 cities with the largest population\n",
    "\n",
    "pop_lst = [] #list of tuples holding city name and population (city, population)\n",
    "\n",
    "#this loop iterates through and extracts each city and its latest population from document XML\n",
    "for element in document.iter('city'):\n",
    "    city = element.find('name').text\n",
    "    if element.findall('population') == []:\n",
    "        #No population found\n",
    "        continue\n",
    "    else:\n",
    "        pop = int(element.findall('population')[-1].text)\n",
    "        pop_lst.append( (city, pop))\n",
    "        \n",
    "pop_lst.sort(key = lambda tup: tup[1], reverse = True)\n",
    "formatPrint(pop_lst[:10])"
   ]
  },
  {
   "cell_type": "code",
   "execution_count": 29,
   "metadata": {
    "collapsed": false
   },
   "outputs": [
    {
     "name": "stdout",
     "output_type": "stream",
     "text": [
      "Han Chinese\t1245058800\n",
      "European\t441003283\n",
      "Dravidian\t302713744\n",
      "African\t\t198605031\n",
      "Bengali\t\t146776916\n",
      "Mestizo\t\t141972914\n",
      "Japanese\t126534212\n",
      "Russian\t\t114646210\n",
      "Javanese\t113456006\n",
      "German\t\t79192719\n"
     ]
    }
   ],
   "source": [
    "#3) 10 ethnic groups with the largest overall populations (sum of best/latest estimates over all countries)\n",
    "\n",
    "ethnic_dict = {} #key is an ethnic group, value is this group's cumulative population over all countries\n",
    "ethnic_lst = []  #list of tuples of (ethnic_group, cumulative world population)\n",
    "\n",
    "for element in document.iterfind('country'):\n",
    "    #country = element.find('name').text\n",
    "    pop = int(element.findall('population')[-1].text)\n",
    "    \n",
    "    #need a check for whether ethnic group exists for each country\n",
    "    if element.findall('ethnicgroup') == []:\n",
    "        continue\n",
    "    else:\n",
    "        grp = element.findall('ethnicgroup')[0].text #the first ethnic group has the highest percentage of the population\n",
    "        pct = float(element.findall('ethnicgroup')[0].get('percentage')) / 100.0\n",
    "        if grp in ethnic_dict.keys():\n",
    "            ethnic_dict[grp] += int(pop * pct)\n",
    "        else:\n",
    "            ethnic_dict[grp] = int(pop * pct)\n",
    "\n",
    "for key, value in ethnic_dict.items():\n",
    "    ethnic_lst.append( (key, value) )\n",
    "    \n",
    "#sort ethnic_lst so top 10 ethnic groups can be displayed\n",
    "ethnic_lst.sort(key = lambda tup: tup[1], reverse = True)\n",
    "formatPrint(ethnic_lst[:10])\n",
    "        #print country, pop, grp, pct\n",
    "    "
   ]
  },
  {
   "cell_type": "code",
   "execution_count": 43,
   "metadata": {
    "collapsed": false
   },
   "outputs": [
    {
     "name": "stdout",
     "output_type": "stream",
     "text": [
      "Amazonas 6448.0 ['Colombia', 'Brazil', 'Peru']\n"
     ]
    }
   ],
   "source": [
    "# 4) name and country of a) longest river, b) largest lake and c) airport at highest elevation\n",
    "def getCarCodes(countryElement):\n",
    "    car_codes = []\n",
    "    for code in countryElement:\n",
    "        car_codes.append(code.get('country'))\n",
    "    return car_codes\n",
    "\n",
    "def findCountryName(car_codes, doc):\n",
    "    #input car_code(s) and an XML object, doc, returns the name of the country or countries\n",
    "    car_codes_copy = car_codes[:]\n",
    "    countries = []\n",
    "    for code in car_codes:\n",
    "        for element in doc.iterfind('country'):\n",
    "            curr_code = element.get('car_code')\n",
    "            if curr_code == None:\n",
    "                continue\n",
    "            else:\n",
    "                if curr_code in car_codes_copy:\n",
    "                    countries.append(element.find('name').text)\n",
    "                    car_codes_copy.remove(curr_code)\n",
    "                    if len(car_codes_copy) == 0:\n",
    "                        return countries\n",
    "\n",
    "longestRiver = None\n",
    "longest = None\n",
    "\n",
    "#finds the longest river\n",
    "for element in document.iterfind('river'):\n",
    "    currRiver = element.find('name').text\n",
    "    if element.find('length') == None or element.find('located') == None:\n",
    "        continue\n",
    "    else:\n",
    "        currLength = float(element.find('length').text) #cast string to a float type\n",
    "    if currLength > longest:\n",
    "        longest = currLength\n",
    "        longestRiver = currRiver\n",
    "        countryElement = element.findall('located')\n",
    "\n",
    "print longestRiver, longest, findCountryName(getCarCodes(countryElement), document)\n",
    "    "
   ]
  },
  {
   "cell_type": "code",
   "execution_count": 45,
   "metadata": {
    "collapsed": false
   },
   "outputs": [
    {
     "name": "stdout",
     "output_type": "stream",
     "text": [
      "Caspian Sea 386400.0 ['Russia', 'Iran', 'Turkmenistan', 'Kazakhstan']\n"
     ]
    }
   ],
   "source": [
    "#finds largest lake\n",
    "largestLake = None; largest = None\n",
    "for element in document.iterfind('lake'):\n",
    "    currLake = element.find('name').text\n",
    "    if element.find('area') == None or element.find('located') == None:\n",
    "        continue\n",
    "    else:\n",
    "        currArea = float(element.find('area').text) #cast string to a float type\n",
    "    if currArea > largest:\n",
    "        largest = currArea\n",
    "        largestLake = currLake\n",
    "        countryElement = element.findall('located')\n",
    "        \n",
    "print largestLake, largest, findCountryName(getCarCodes(countryElement), document)"
   ]
  },
  {
   "cell_type": "code",
   "execution_count": 50,
   "metadata": {
    "collapsed": false
   },
   "outputs": [
    {
     "name": "stdout",
     "output_type": "stream",
     "text": [
      "El Alto Intl 4063.0 BOL\n"
     ]
    }
   ],
   "source": [
    "#finds airport at highest elevation\n",
    "highestAirport = None; highest = None\n",
    "for element in document.iterfind('airport'):\n",
    "    currAirport = element.find('name').text\n",
    "    if element.find('elevation') == None or element.get('country') == None or element.find('elevation').text == None:\n",
    "        continue\n",
    "    else:\n",
    "        currElevation = float(element.find('elevation').text) #cast string to a float type\n",
    "    if currElevation > highest:\n",
    "        highest = currElevation\n",
    "        highestAirport = currAirport\n",
    "        country = element.get('country')\n",
    "        \n",
    "print highestAirport, highest, country"
   ]
  },
  {
   "cell_type": "code",
   "execution_count": null,
   "metadata": {
    "collapsed": true
   },
   "outputs": [],
   "source": []
  },
  {
   "cell_type": "code",
   "execution_count": null,
   "metadata": {
    "collapsed": true
   },
   "outputs": [],
   "source": []
  },
  {
   "cell_type": "code",
   "execution_count": null,
   "metadata": {
    "collapsed": true
   },
   "outputs": [],
   "source": []
  },
  {
   "cell_type": "code",
   "execution_count": null,
   "metadata": {
    "collapsed": true
   },
   "outputs": [],
   "source": []
  },
  {
   "cell_type": "code",
   "execution_count": null,
   "metadata": {
    "collapsed": true
   },
   "outputs": [],
   "source": []
  }
 ],
 "metadata": {
  "kernelspec": {
   "display_name": "Python 2",
   "language": "python",
   "name": "python2"
  },
  "language_info": {
   "codemirror_mode": {
    "name": "ipython",
    "version": 2
   },
   "file_extension": ".py",
   "mimetype": "text/x-python",
   "name": "python",
   "nbconvert_exporter": "python",
   "pygments_lexer": "ipython2",
   "version": "2.7.11"
  }
 },
 "nbformat": 4,
 "nbformat_minor": 0
}
