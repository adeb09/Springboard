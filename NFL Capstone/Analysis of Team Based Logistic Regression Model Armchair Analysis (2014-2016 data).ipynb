{
 "cells": [
  {
   "cell_type": "code",
   "execution_count": 1,
   "metadata": {
    "collapsed": false
   },
   "outputs": [
    {
     "name": "stderr",
     "output_type": "stream",
     "text": [
      "/Users/abir.deb/anaconda2/lib/python2.7/site-packages/sklearn/cross_validation.py:44: DeprecationWarning: This module was deprecated in version 0.18 in favor of the model_selection module into which all the refactored classes and functions are moved. Also note that the interface of the new CV iterators are different from that of this module. This module will be removed in 0.20.\n",
      "  \"This module will be removed in 0.20.\", DeprecationWarning)\n",
      "/Users/abir.deb/anaconda2/lib/python2.7/site-packages/sklearn/grid_search.py:43: DeprecationWarning: This module was deprecated in version 0.18 in favor of the model_selection module into which all the refactored classes and functions are moved. This module will be removed in 0.20.\n",
      "  DeprecationWarning)\n"
     ]
    },
    {
     "data": {
      "text/html": [
       "<style>body {\n",
       "    margin: 0;\n",
       "    font-family: Helvetica;\n",
       "}\n",
       "table.dataframe {\n",
       "    border-collapse: collapse;\n",
       "    border: none;\n",
       "}\n",
       "table.dataframe tr {\n",
       "    border: none;\n",
       "}\n",
       "table.dataframe td, table.dataframe th {\n",
       "    margin: 0;\n",
       "    border: 1px solid white;\n",
       "    padding-left: 0.25em;\n",
       "    padding-right: 0.25em;\n",
       "}\n",
       "table.dataframe th:not(:empty) {\n",
       "    background-color: #fec;\n",
       "    text-align: left;\n",
       "    font-weight: normal;\n",
       "}\n",
       "table.dataframe tr:nth-child(2) th:empty {\n",
       "    border-left: none;\n",
       "    border-right: 1px dashed #888;\n",
       "}\n",
       "table.dataframe td {\n",
       "    border: 2px solid #ccf;\n",
       "    background-color: #f4f4ff;\n",
       "}\n",
       "h3 {\n",
       "    color: white;\n",
       "    background-color: black;\n",
       "    padding: 0.5em;\n",
       "}\n",
       "</style>"
      ],
      "text/plain": [
       "<IPython.core.display.HTML object>"
      ]
     },
     "execution_count": 1,
     "metadata": {},
     "output_type": "execute_result"
    }
   ],
   "source": [
    "%matplotlib inline\n",
    "import matplotlib.pyplot as plt\n",
    "from sklearn import metrics\n",
    "import numpy as np\n",
    "import pandas as pd\n",
    "import os\n",
    "import random\n",
    "import csv\n",
    "from sys import platform\n",
    "from IPython.core.display import HTML\n",
    "from sklearn.cross_validation import KFold\n",
    "from sklearn.metrics import accuracy_score\n",
    "from sklearn.cross_validation import train_test_split\n",
    "from sklearn.linear_model import LogisticRegression\n",
    "from sklearn.grid_search import GridSearchCV\n",
    "css = open('style-table.css').read() + open('style-notebook.css').read()\n",
    "HTML('<style>{}</style>'.format(css))"
   ]
  },
  {
   "cell_type": "code",
   "execution_count": 2,
   "metadata": {
    "collapsed": true
   },
   "outputs": [],
   "source": [
    "def compute_stats(metric, df):\n",
    "    '''\n",
    "    compute mean, std, and % CV on a metric for each team's models;\n",
    "    expects metric to be a string; df is a dataframe that contains the model metrics\n",
    "    '''\n",
    "    #compute metrics\n",
    "    mean = df.pivot(index = 'team', columns = 'year', values = metric).mean(axis = 1)\n",
    "    std = df.pivot(index = 'team', columns = 'year', values = metric).std(axis = 1)\n",
    "    cv = std / mean * 100\n",
    "    \n",
    "    #return in a list\n",
    "    to_return_lst = [mean.sort_values(), std.sort_values(), cv.sort_values()]\n",
    "    \n",
    "    return to_return_lst\n",
    "\n",
    "\n",
    "\n",
    "def load_standings(filePath, year):\n",
    "    '''\n",
    "    loads standings data into a dataframe and returns it\n",
    "    '''\n",
    "    file_name = 'Regular_Season_Standings'\n",
    "    full_path = filePath + str(year) + '_' + file_name + '.csv'\n",
    "    df = pd.DataFrame.from_csv(full_path)\n",
    "    \n",
    "    #reset index\n",
    "    df = df.reset_index()\n",
    "    \n",
    "    #add a column for year\n",
    "    df['year'] = year\n",
    "    \n",
    "    #remove '*' and '+' from end of team names\n",
    "    df.Tm = df.Tm.apply(str.strip, args = ('+')).apply(str.strip, args = '*')\n",
    "        \n",
    "    return df"
   ]
  },
  {
   "cell_type": "markdown",
   "metadata": {},
   "source": [
    "*Let's read in the csv file with metric results for each team's models into a dataframe*"
   ]
  },
  {
   "cell_type": "markdown",
   "metadata": {},
   "source": [
    "**3 models per team (a model each year, 2014-2016)**"
   ]
  },
  {
   "cell_type": "code",
   "execution_count": 3,
   "metadata": {
    "collapsed": false
   },
   "outputs": [],
   "source": [
    "#make sure directory paths are correct based on running in a Windows/Unix environment\n",
    "if platform == 'win32':\n",
    "    #code is running in a windows machine\n",
    "    filePath = os.getcwd() + '\\\\armchair_all_data_model_metrics.csv'\n",
    "    stats_df_path = os.getcwd() + '\\\\armchair_team_based_model_metrics_stats.csv'\n",
    "    df = pd.DataFrame.from_csv(filePath)\n",
    "else:\n",
    "    filePath = os.getcwd() + '/armchair_all_data_model_metrics.csv'\n",
    "    stats_df_path = os.getcwd() + '/armchair_team_based_model_metrics_stats.csv'\n",
    "    df = pd.DataFrame.from_csv(filePath)"
   ]
  },
  {
   "cell_type": "code",
   "execution_count": 4,
   "metadata": {
    "collapsed": false
   },
   "outputs": [
    {
     "data": {
      "text/html": [
       "<div>\n",
       "<table border=\"1\" class=\"dataframe\">\n",
       "  <thead>\n",
       "    <tr style=\"text-align: right;\">\n",
       "      <th></th>\n",
       "      <th>year</th>\n",
       "      <th>team</th>\n",
       "      <th>train_accuracy_score_no_grid</th>\n",
       "      <th>test_accuracy_score_no_grid</th>\n",
       "      <th>five_fold_cv_score_no_grid</th>\n",
       "      <th>best_reg</th>\n",
       "      <th>test_accuracy_best_reg</th>\n",
       "      <th>precision</th>\n",
       "      <th>recall</th>\n",
       "      <th>f1_score</th>\n",
       "      <th>auc</th>\n",
       "    </tr>\n",
       "  </thead>\n",
       "  <tbody>\n",
       "    <tr>\n",
       "      <th>0</th>\n",
       "      <td>2014</td>\n",
       "      <td>ARI</td>\n",
       "      <td>0.769452</td>\n",
       "      <td>0.757143</td>\n",
       "      <td>0.762308</td>\n",
       "      <td>0.1</td>\n",
       "      <td>0.757143</td>\n",
       "      <td>0.682927</td>\n",
       "      <td>0.743363</td>\n",
       "      <td>0.711864</td>\n",
       "      <td>0.810397</td>\n",
       "    </tr>\n",
       "    <tr>\n",
       "      <th>1</th>\n",
       "      <td>2014</td>\n",
       "      <td>ATL</td>\n",
       "      <td>0.749650</td>\n",
       "      <td>0.733083</td>\n",
       "      <td>0.707692</td>\n",
       "      <td>0.1</td>\n",
       "      <td>0.729323</td>\n",
       "      <td>0.586777</td>\n",
       "      <td>0.763441</td>\n",
       "      <td>0.663551</td>\n",
       "      <td>0.779725</td>\n",
       "    </tr>\n",
       "    <tr>\n",
       "      <th>2</th>\n",
       "      <td>2014</td>\n",
       "      <td>BAL</td>\n",
       "      <td>0.734513</td>\n",
       "      <td>0.682119</td>\n",
       "      <td>0.701608</td>\n",
       "      <td>0.1</td>\n",
       "      <td>0.682119</td>\n",
       "      <td>0.656489</td>\n",
       "      <td>0.627737</td>\n",
       "      <td>0.641791</td>\n",
       "      <td>0.768016</td>\n",
       "    </tr>\n",
       "    <tr>\n",
       "      <th>3</th>\n",
       "      <td>2014</td>\n",
       "      <td>BUF</td>\n",
       "      <td>0.755650</td>\n",
       "      <td>0.671815</td>\n",
       "      <td>0.700659</td>\n",
       "      <td>0.1</td>\n",
       "      <td>0.691120</td>\n",
       "      <td>0.611111</td>\n",
       "      <td>0.550000</td>\n",
       "      <td>0.578947</td>\n",
       "      <td>0.748491</td>\n",
       "    </tr>\n",
       "    <tr>\n",
       "      <th>4</th>\n",
       "      <td>2014</td>\n",
       "      <td>CAR</td>\n",
       "      <td>0.661597</td>\n",
       "      <td>0.651685</td>\n",
       "      <td>0.626026</td>\n",
       "      <td>0.1</td>\n",
       "      <td>0.654494</td>\n",
       "      <td>0.654135</td>\n",
       "      <td>0.530488</td>\n",
       "      <td>0.585859</td>\n",
       "      <td>0.717734</td>\n",
       "    </tr>\n",
       "  </tbody>\n",
       "</table>\n",
       "</div>"
      ],
      "text/plain": [
       "   year team  train_accuracy_score_no_grid  test_accuracy_score_no_grid  \\\n",
       "0  2014  ARI                      0.769452                     0.757143   \n",
       "1  2014  ATL                      0.749650                     0.733083   \n",
       "2  2014  BAL                      0.734513                     0.682119   \n",
       "3  2014  BUF                      0.755650                     0.671815   \n",
       "4  2014  CAR                      0.661597                     0.651685   \n",
       "\n",
       "   five_fold_cv_score_no_grid  best_reg  test_accuracy_best_reg  precision  \\\n",
       "0                    0.762308       0.1                0.757143   0.682927   \n",
       "1                    0.707692       0.1                0.729323   0.586777   \n",
       "2                    0.701608       0.1                0.682119   0.656489   \n",
       "3                    0.700659       0.1                0.691120   0.611111   \n",
       "4                    0.626026       0.1                0.654494   0.654135   \n",
       "\n",
       "     recall  f1_score       auc  \n",
       "0  0.743363  0.711864  0.810397  \n",
       "1  0.763441  0.663551  0.779725  \n",
       "2  0.627737  0.641791  0.768016  \n",
       "3  0.550000  0.578947  0.748491  \n",
       "4  0.530488  0.585859  0.717734  "
      ]
     },
     "execution_count": 4,
     "metadata": {},
     "output_type": "execute_result"
    }
   ],
   "source": [
    "df.head()"
   ]
  },
  {
   "cell_type": "markdown",
   "metadata": {},
   "source": [
    "*What's the distribution of the precision, recall, f1 score, and AUC for all of the models irrespective \n",
    "of team and year?*"
   ]
  },
  {
   "cell_type": "code",
   "execution_count": 5,
   "metadata": {
    "collapsed": false
   },
   "outputs": [
    {
     "data": {
      "image/png": "[encoded data removed]",
      "text/plain": [
       "<matplotlib.figure.Figure at 0x1098e5790>"
      ]
     },
     "metadata": {},
     "output_type": "display_data"
    }
   ],
   "source": [
    "test_accuracy_best_reg_hist = plt.hist(df.test_accuracy_best_reg)\n",
    "plt.title('Distribution of Test Set Accuracies W/Best Regularization Parameter (Armchair)')\n",
    "plt.ylabel('# of models')\n",
    "plt.xlabel('Accuracy')\n",
    "plt.grid(True)\n",
    "plt.show()"
   ]
  },
  {
   "cell_type": "code",
   "execution_count": 6,
   "metadata": {
    "collapsed": false
   },
   "outputs": [
    {
     "data": {
      "image/png": "[encoded data removed]",
      "text/plain": [
       "<matplotlib.figure.Figure at 0x116e266d0>"
      ]
     },
     "metadata": {},
     "output_type": "display_data"
    }
   ],
   "source": [
    "precision_hist = plt.hist(df.precision)\n",
    "plt.title('Distribution of Precision Scores W/Best Regularization Parameter (Armchair)')\n",
    "plt.ylabel('# of models')\n",
    "plt.xlabel('Precision')\n",
    "plt.grid(True)\n",
    "plt.show()"
   ]
  },
  {
   "cell_type": "code",
   "execution_count": 7,
   "metadata": {
    "collapsed": false
   },
   "outputs": [
    {
     "data": {
      "image/png": "[encoded data removed]",
      "text/plain": [
       "<matplotlib.figure.Figure at 0x116ed44d0>"
      ]
     },
     "metadata": {},
     "output_type": "display_data"
    }
   ],
   "source": [
    "recall_hist = plt.hist(df.recall)\n",
    "plt.title('Distribution of Recall Scores W/Best Regularization Parameter (Armchair)')\n",
    "plt.ylabel('# of models')\n",
    "plt.xlabel('Recall')\n",
    "plt.grid(True)\n",
    "plt.show()"
   ]
  },
  {
   "cell_type": "code",
   "execution_count": 8,
   "metadata": {
    "collapsed": false
   },
   "outputs": [
    {
     "data": {
      "image/png": "[encoded data removed]",
      "text/plain": [
       "<matplotlib.figure.Figure at 0x11708c150>"
      ]
     },
     "metadata": {},
     "output_type": "display_data"
    }
   ],
   "source": [
    "f1_score_hist = plt.hist(df.f1_score)\n",
    "plt.title('Distribution of F1 Scores W/Best Regularization Parameter (Armchair)')\n",
    "plt.ylabel('# of models')\n",
    "plt.xlabel('F1 Score')\n",
    "plt.grid(True)\n",
    "plt.show()"
   ]
  },
  {
   "cell_type": "code",
   "execution_count": 9,
   "metadata": {
    "collapsed": false
   },
   "outputs": [
    {
     "data": {
      "image/png": "[encoded data removed]",
      "text/plain": [
       "<matplotlib.figure.Figure at 0x1172509d0>"
      ]
     },
     "metadata": {},
     "output_type": "display_data"
    }
   ],
   "source": [
    "auc_hist = plt.hist(df.auc)\n",
    "plt.title('Distribution of AUC W/Best Regularization Parameter (Armchair)')\n",
    "plt.ylabel('# of models')\n",
    "plt.xlabel('AUC')\n",
    "plt.grid(True)\n",
    "plt.show()"
   ]
  },
  {
   "cell_type": "markdown",
   "metadata": {},
   "source": [
    "*What's the median precision, recall, f1 score, and AUC for each team's model?*"
   ]
  },
  {
   "cell_type": "code",
   "execution_count": 10,
   "metadata": {
    "collapsed": false
   },
   "outputs": [
    {
     "data": {
      "text/plain": [
       "year                            2015.000000\n",
       "train_accuracy_score_no_grid       0.744183\n",
       "test_accuracy_score_no_grid        0.709195\n",
       "five_fold_cv_score_no_grid         0.718343\n",
       "best_reg                           0.100000\n",
       "test_accuracy_best_reg             0.705698\n",
       "precision                          0.665525\n",
       "recall                             0.614639\n",
       "f1_score                           0.643118\n",
       "auc                                0.758162\n",
       "dtype: float64"
      ]
     },
     "execution_count": 10,
     "metadata": {},
     "output_type": "execute_result"
    }
   ],
   "source": [
    "df.median()"
   ]
  },
  {
   "cell_type": "markdown",
   "metadata": {},
   "source": [
    "*What's the average precision, recall, f1 score, and AUC for each team's model?*"
   ]
  },
  {
   "cell_type": "code",
   "execution_count": 11,
   "metadata": {
    "collapsed": false
   },
   "outputs": [
    {
     "data": {
      "text/plain": [
       "year                            2015.000000\n",
       "train_accuracy_score_no_grid       0.748033\n",
       "test_accuracy_score_no_grid        0.706904\n",
       "five_fold_cv_score_no_grid         0.720033\n",
       "best_reg                           1.138562\n",
       "test_accuracy_best_reg             0.706519\n",
       "precision                          0.665997\n",
       "recall                             0.620949\n",
       "f1_score                           0.636534\n",
       "auc                                0.753488\n",
       "dtype: float64"
      ]
     },
     "execution_count": 11,
     "metadata": {},
     "output_type": "execute_result"
    }
   ],
   "source": [
    "df.mean()"
   ]
  },
  {
   "cell_type": "markdown",
   "metadata": {},
   "source": [
    "*What's the standard deviation of the precision, recall, f1 score, and AUC for each team's model?*"
   ]
  },
  {
   "cell_type": "code",
   "execution_count": 12,
   "metadata": {
    "collapsed": false
   },
   "outputs": [
    {
     "data": {
      "text/plain": [
       "year                             0.820783\n",
       "train_accuracy_score_no_grid     0.040569\n",
       "test_accuracy_score_no_grid      0.047546\n",
       "five_fold_cv_score_no_grid       0.049562\n",
       "best_reg                        10.196224\n",
       "test_accuracy_best_reg           0.047995\n",
       "precision                        0.065331\n",
       "recall                           0.128327\n",
       "f1_score                         0.086032\n",
       "auc                              0.052330\n",
       "dtype: float64"
      ]
     },
     "execution_count": 12,
     "metadata": {},
     "output_type": "execute_result"
    }
   ],
   "source": [
    "df.std()"
   ]
  },
  {
   "cell_type": "markdown",
   "metadata": {},
   "source": [
    "*What's the % CV for precision, recall, f1 score, and AUC for each team's model?*"
   ]
  },
  {
   "cell_type": "code",
   "execution_count": 13,
   "metadata": {
    "collapsed": false
   },
   "outputs": [
    {
     "data": {
      "text/plain": [
       "year                              0.040734\n",
       "train_accuracy_score_no_grid      5.423437\n",
       "test_accuracy_score_no_grid       6.725936\n",
       "five_fold_cv_score_no_grid        6.883345\n",
       "best_reg                        895.534824\n",
       "test_accuracy_best_reg            6.793102\n",
       "precision                         9.809548\n",
       "recall                           20.666335\n",
       "f1_score                         13.515735\n",
       "auc                               6.944994\n",
       "dtype: float64"
      ]
     },
     "execution_count": 13,
     "metadata": {},
     "output_type": "execute_result"
    }
   ],
   "source": [
    "df.std() / df.mean() * 100"
   ]
  },
  {
   "cell_type": "markdown",
   "metadata": {},
   "source": [
    " "
   ]
  },
  {
   "cell_type": "markdown",
   "metadata": {},
   "source": [
    "*Do these metrics vary by year for each team or are they relatively consistent?*"
   ]
  },
  {
   "cell_type": "markdown",
   "metadata": {},
   "source": [
    "**Gather accuracy, precision, recall, f1 score, and AUC stats**"
   ]
  },
  {
   "cell_type": "code",
   "execution_count": 14,
   "metadata": {
    "collapsed": false
   },
   "outputs": [],
   "source": [
    "acc_score_best_reg_means, acc_score_best_reg_std, acc_score_best_reg_cvs = compute_stats('test_accuracy_best_reg', df)\n",
    "precision_means, precision_stds, precision_cvs = compute_stats('precision', df)\n",
    "recall_means, recall_stds, recall_cvs = compute_stats('recall', df)\n",
    "f1_means, f1_stds, f1_cvs = compute_stats('f1_score', df)\n",
    "auc_means, auc_stds, auc_cvs = compute_stats('auc', df)\n",
    "\n",
    "#explicit join of all data frames\n",
    "all_stats_df = (\n",
    "acc_score_best_reg_means.to_frame('acc_score_best_reg_means').join(acc_score_best_reg_std.to_frame(\n",
    "'acc_score_best_reg_std')).join(acc_score_best_reg_cvs.to_frame('acc_score_best_reg_cvs')).join(\n",
    "precision_means.to_frame('precision_means')).join(precision_stds.to_frame('precision_stds')).join(\n",
    "precision_cvs.to_frame('precision_cvs')).join(recall_means.to_frame('recall_means')).join(\n",
    "recall_stds.to_frame('recall_stds')).join(recall_cvs.to_frame('recall_cvs')).join(\n",
    "f1_means.to_frame('f1_means')).join(f1_stds.to_frame('f1_stds')).join(f1_cvs.to_frame('f1_cvs')).join(\n",
    "auc_means.to_frame('auc_means')).join(auc_stds.to_frame('auc_stds')).join(auc_cvs.to_frame('auc_cvs'))\n",
    ")\n",
    "\n",
    "#write model validation statistics results to csv file\n",
    "all_stats_df.to_csv(stats_df_path)"
   ]
  },
  {
   "cell_type": "markdown",
   "metadata": {},
   "source": [
    "**Mean precision in each team's models**"
   ]
  },
  {
   "cell_type": "code",
   "execution_count": 15,
   "metadata": {
    "collapsed": false
   },
   "outputs": [
    {
     "data": {
      "text/plain": [
       "team\n",
       "IND    0.547691\n",
       "CLE    0.606684\n",
       "KC     0.621329\n",
       "SF     0.622361\n",
       "GB     0.631744\n",
       "BAL    0.636525\n",
       "WAS    0.637193\n",
       "SEA    0.637812\n",
       "MIA    0.637938\n",
       "PHI    0.639681\n",
       "NO     0.640534\n",
       "BUF    0.641691\n",
       "OAK    0.645309\n",
       "HOU    0.649407\n",
       "CHI    0.650725\n",
       "DEN    0.656051\n",
       "JAC    0.657049\n",
       "NE     0.660962\n",
       "ATL    0.661024\n",
       "NYJ    0.666582\n",
       "DET    0.667791\n",
       "CAR    0.685305\n",
       "MIN    0.687609\n",
       "CIN    0.690523\n",
       "ARI    0.692126\n",
       "TB     0.695815\n",
       "LA     0.714841\n",
       "TEN    0.716860\n",
       "PIT    0.724771\n",
       "NYG    0.734713\n",
       "SD     0.764160\n",
       "DAL    0.789107\n",
       "dtype: float64"
      ]
     },
     "execution_count": 15,
     "metadata": {},
     "output_type": "execute_result"
    }
   ],
   "source": [
    "precision_means"
   ]
  },
  {
   "cell_type": "markdown",
   "metadata": {},
   "source": [
    "**Standard Deviation in precision for each team's models**"
   ]
  },
  {
   "cell_type": "code",
   "execution_count": 16,
   "metadata": {
    "collapsed": false,
    "scrolled": true
   },
   "outputs": [
    {
     "data": {
      "text/plain": [
       "team\n",
       "TB     0.015374\n",
       "PIT    0.017161\n",
       "NYG    0.021935\n",
       "BAL    0.023175\n",
       "DAL    0.025185\n",
       "TEN    0.025399\n",
       "WAS    0.028404\n",
       "LA     0.030082\n",
       "CIN    0.030716\n",
       "MIN    0.030734\n",
       "BUF    0.031272\n",
       "SEA    0.034124\n",
       "KC     0.037776\n",
       "CLE    0.038301\n",
       "SF     0.038960\n",
       "NE     0.041536\n",
       "GB     0.042968\n",
       "ARI    0.043147\n",
       "NO     0.043301\n",
       "JAC    0.044008\n",
       "SD     0.048762\n",
       "CAR    0.050224\n",
       "CHI    0.055486\n",
       "OAK    0.055633\n",
       "DEN    0.060151\n",
       "DET    0.061892\n",
       "ATL    0.068659\n",
       "HOU    0.069125\n",
       "NYJ    0.078329\n",
       "IND    0.079266\n",
       "PHI    0.079274\n",
       "MIA    0.170031\n",
       "dtype: float64"
      ]
     },
     "execution_count": 16,
     "metadata": {},
     "output_type": "execute_result"
    }
   ],
   "source": [
    "precision_stds"
   ]
  },
  {
   "cell_type": "markdown",
   "metadata": {},
   "source": [
    "**% CV (Coefficient of Variation) in precision for each team's models**"
   ]
  },
  {
   "cell_type": "code",
   "execution_count": 17,
   "metadata": {
    "collapsed": false
   },
   "outputs": [
    {
     "data": {
      "text/plain": [
       "team\n",
       "TB      2.209426\n",
       "PIT     2.367826\n",
       "NYG     2.985488\n",
       "DAL     3.191593\n",
       "TEN     3.543154\n",
       "BAL     3.640784\n",
       "LA      4.208260\n",
       "CIN     4.448232\n",
       "WAS     4.457706\n",
       "MIN     4.469655\n",
       "BUF     4.873302\n",
       "SEA     5.350235\n",
       "KC      6.079855\n",
       "ARI     6.233924\n",
       "SF      6.260007\n",
       "NE      6.284142\n",
       "CLE     6.313131\n",
       "SD      6.381149\n",
       "JAC     6.697907\n",
       "NO      6.760185\n",
       "GB      6.801436\n",
       "CAR     7.328733\n",
       "CHI     8.526750\n",
       "OAK     8.621198\n",
       "DEN     9.168586\n",
       "DET     9.268204\n",
       "ATL    10.386784\n",
       "HOU    10.644394\n",
       "NYJ    11.750793\n",
       "PHI    12.392792\n",
       "IND    14.472742\n",
       "MIA    26.653227\n",
       "dtype: float64"
      ]
     },
     "execution_count": 17,
     "metadata": {},
     "output_type": "execute_result"
    }
   ],
   "source": [
    "precision_cvs"
   ]
  },
  {
   "cell_type": "markdown",
   "metadata": {},
   "source": [
    "**Mean recall in each team's models**"
   ]
  },
  {
   "cell_type": "code",
   "execution_count": 18,
   "metadata": {
    "collapsed": false
   },
   "outputs": [
    {
     "data": {
      "text/plain": [
       "team\n",
       "PHI    0.442473\n",
       "GB     0.449979\n",
       "MIA    0.461849\n",
       "OAK    0.521386\n",
       "CAR    0.526949\n",
       "BAL    0.527428\n",
       "JAC    0.532213\n",
       "SD     0.543765\n",
       "DEN    0.549652\n",
       "CHI    0.553735\n",
       "BUF    0.554750\n",
       "DET    0.563923\n",
       "SEA    0.570797\n",
       "KC     0.573652\n",
       "CLE    0.577633\n",
       "IND    0.603045\n",
       "NYJ    0.613411\n",
       "PIT    0.614039\n",
       "SF     0.614952\n",
       "TEN    0.637745\n",
       "WAS    0.652503\n",
       "CIN    0.663494\n",
       "NYG    0.688087\n",
       "ATL    0.703863\n",
       "HOU    0.709395\n",
       "MIN    0.709989\n",
       "ARI    0.749563\n",
       "NE     0.755913\n",
       "NO     0.770962\n",
       "LA     0.790285\n",
       "TB     0.805910\n",
       "DAL    0.837028\n",
       "dtype: float64"
      ]
     },
     "execution_count": 18,
     "metadata": {},
     "output_type": "execute_result"
    }
   ],
   "source": [
    "recall_means"
   ]
  },
  {
   "cell_type": "markdown",
   "metadata": {},
   "source": [
    "**Standard Deviation in recall for each team's models**"
   ]
  },
  {
   "cell_type": "code",
   "execution_count": 19,
   "metadata": {
    "collapsed": false
   },
   "outputs": [
    {
     "data": {
      "text/plain": [
       "team\n",
       "NO     0.009140\n",
       "PIT    0.010691\n",
       "NYJ    0.012298\n",
       "DAL    0.022495\n",
       "JAC    0.023972\n",
       "LA     0.029263\n",
       "NE     0.036861\n",
       "DEN    0.037907\n",
       "HOU    0.038084\n",
       "TEN    0.038187\n",
       "GB     0.043918\n",
       "ARI    0.044654\n",
       "ATL    0.051596\n",
       "PHI    0.051672\n",
       "KC     0.058533\n",
       "TB     0.066095\n",
       "CIN    0.073350\n",
       "BUF    0.076972\n",
       "OAK    0.080070\n",
       "CAR    0.082613\n",
       "SF     0.088475\n",
       "BAL    0.089794\n",
       "SEA    0.094348\n",
       "IND    0.106473\n",
       "CHI    0.113031\n",
       "NYG    0.122554\n",
       "WAS    0.130540\n",
       "SD     0.135417\n",
       "MIN    0.139796\n",
       "DET    0.149901\n",
       "CLE    0.180702\n",
       "MIA    0.187130\n",
       "dtype: float64"
      ]
     },
     "execution_count": 19,
     "metadata": {},
     "output_type": "execute_result"
    }
   ],
   "source": [
    "recall_stds"
   ]
  },
  {
   "cell_type": "markdown",
   "metadata": {},
   "source": [
    "**% CV in recall for each team's models**"
   ]
  },
  {
   "cell_type": "code",
   "execution_count": 20,
   "metadata": {
    "collapsed": false
   },
   "outputs": [
    {
     "data": {
      "text/plain": [
       "team\n",
       "NO      1.185502\n",
       "PIT     1.741039\n",
       "NYJ     2.004906\n",
       "DAL     2.687534\n",
       "LA      3.702827\n",
       "JAC     4.504230\n",
       "NE      4.876409\n",
       "HOU     5.368501\n",
       "ARI     5.957282\n",
       "TEN     5.987799\n",
       "DEN     6.896616\n",
       "ATL     7.330395\n",
       "TB      8.201304\n",
       "GB      9.760081\n",
       "KC     10.203644\n",
       "CIN    11.055126\n",
       "PHI    11.677924\n",
       "BUF    13.875058\n",
       "SF     14.387250\n",
       "OAK    15.357225\n",
       "CAR    15.677586\n",
       "SEA    16.529091\n",
       "BAL    17.024990\n",
       "IND    17.655934\n",
       "NYG    17.810767\n",
       "MIN    19.689851\n",
       "WAS    20.005971\n",
       "CHI    20.412401\n",
       "SD     24.903512\n",
       "DET    26.581770\n",
       "CLE    31.283242\n",
       "MIA    40.517622\n",
       "dtype: float64"
      ]
     },
     "execution_count": 20,
     "metadata": {},
     "output_type": "execute_result"
    }
   ],
   "source": [
    "recall_cvs"
   ]
  },
  {
   "cell_type": "markdown",
   "metadata": {},
   "source": [
    "**Mean f1 score in each team's models**"
   ]
  },
  {
   "cell_type": "code",
   "execution_count": 21,
   "metadata": {
    "collapsed": false
   },
   "outputs": [
    {
     "data": {
      "text/plain": [
       "team\n",
       "PHI    0.523027\n",
       "GB     0.524362\n",
       "MIA    0.526520\n",
       "IND    0.571731\n",
       "BAL    0.575093\n",
       "OAK    0.576316\n",
       "CLE    0.581855\n",
       "JAC    0.587874\n",
       "BUF    0.593673\n",
       "CAR    0.594654\n",
       "DEN    0.595631\n",
       "KC     0.596270\n",
       "CHI    0.596369\n",
       "DET    0.598064\n",
       "SEA    0.598550\n",
       "SF     0.617533\n",
       "SD     0.627388\n",
       "NYJ    0.637743\n",
       "WAS    0.641833\n",
       "PIT    0.664697\n",
       "TEN    0.674872\n",
       "CIN    0.676030\n",
       "HOU    0.677010\n",
       "ATL    0.678314\n",
       "MIN    0.695816\n",
       "NO     0.698987\n",
       "NE     0.703796\n",
       "NYG    0.707782\n",
       "ARI    0.717971\n",
       "TB     0.746313\n",
       "LA     0.750649\n",
       "DAL    0.812351\n",
       "dtype: float64"
      ]
     },
     "execution_count": 21,
     "metadata": {},
     "output_type": "execute_result"
    }
   ],
   "source": [
    "f1_means"
   ]
  },
  {
   "cell_type": "markdown",
   "metadata": {},
   "source": [
    "**Standard Deviation in f1 score for each team's models**"
   ]
  },
  {
   "cell_type": "code",
   "execution_count": 22,
   "metadata": {
    "collapsed": false
   },
   "outputs": [
    {
     "data": {
      "text/plain": [
       "team\n",
       "DEN    0.004348\n",
       "ARI    0.005799\n",
       "PIT    0.007537\n",
       "NE     0.008863\n",
       "ATL    0.017278\n",
       "NO     0.022864\n",
       "DAL    0.023783\n",
       "LA     0.029435\n",
       "JAC    0.029756\n",
       "TEN    0.031960\n",
       "GB     0.033699\n",
       "TB     0.036907\n",
       "NYJ    0.039931\n",
       "SEA    0.042442\n",
       "HOU    0.048261\n",
       "KC     0.048495\n",
       "CIN    0.051584\n",
       "BUF    0.053699\n",
       "SF     0.060903\n",
       "BAL    0.061264\n",
       "PHI    0.062224\n",
       "CAR    0.070056\n",
       "OAK    0.070593\n",
       "WAS    0.073120\n",
       "NYG    0.073129\n",
       "DET    0.076033\n",
       "IND    0.077807\n",
       "SD     0.080742\n",
       "MIN    0.082995\n",
       "CHI    0.087364\n",
       "CLE    0.101260\n",
       "MIA    0.161752\n",
       "dtype: float64"
      ]
     },
     "execution_count": 22,
     "metadata": {},
     "output_type": "execute_result"
    }
   ],
   "source": [
    "f1_stds"
   ]
  },
  {
   "cell_type": "markdown",
   "metadata": {},
   "source": [
    "**% CV in f1 score for each team's models**"
   ]
  },
  {
   "cell_type": "code",
   "execution_count": 23,
   "metadata": {
    "collapsed": false
   },
   "outputs": [
    {
     "data": {
      "text/plain": [
       "team\n",
       "DEN     0.729979\n",
       "ARI     0.807735\n",
       "PIT     1.133845\n",
       "NE      1.259247\n",
       "ATL     2.547207\n",
       "DAL     2.927614\n",
       "NO      3.271006\n",
       "LA      3.921313\n",
       "TEN     4.735758\n",
       "TB      4.945245\n",
       "JAC     5.061619\n",
       "NYJ     6.261238\n",
       "GB      6.426670\n",
       "SEA     7.090821\n",
       "HOU     7.128569\n",
       "CIN     7.630408\n",
       "KC      8.133007\n",
       "BUF     9.045294\n",
       "SF      9.862252\n",
       "NYG    10.332086\n",
       "BAL    10.652922\n",
       "WAS    11.392374\n",
       "CAR    11.780958\n",
       "PHI    11.896953\n",
       "MIN    11.927759\n",
       "OAK    12.248992\n",
       "DET    12.713216\n",
       "SD     12.869578\n",
       "IND    13.609094\n",
       "CHI    14.649283\n",
       "CLE    17.402922\n",
       "MIA    30.721035\n",
       "dtype: float64"
      ]
     },
     "execution_count": 23,
     "metadata": {},
     "output_type": "execute_result"
    }
   ],
   "source": [
    "f1_cvs"
   ]
  },
  {
   "cell_type": "markdown",
   "metadata": {},
   "source": [
    "**Mean AUC in each team's models**"
   ]
  },
  {
   "cell_type": "code",
   "execution_count": 24,
   "metadata": {
    "collapsed": false
   },
   "outputs": [
    {
     "data": {
      "text/plain": [
       "team\n",
       "PHI    0.688742\n",
       "BUF    0.690491\n",
       "KC     0.699470\n",
       "SEA    0.699571\n",
       "SF     0.701095\n",
       "MIA    0.704440\n",
       "GB     0.707102\n",
       "IND    0.709777\n",
       "OAK    0.718081\n",
       "HOU    0.724847\n",
       "CAR    0.728106\n",
       "JAC    0.737454\n",
       "CLE    0.740051\n",
       "NYJ    0.741909\n",
       "CHI    0.746459\n",
       "DEN    0.748874\n",
       "TEN    0.750240\n",
       "BAL    0.758363\n",
       "CIN    0.758917\n",
       "WAS    0.764726\n",
       "DET    0.771726\n",
       "MIN    0.783271\n",
       "NE     0.787864\n",
       "PIT    0.790355\n",
       "TB     0.796598\n",
       "ATL    0.796633\n",
       "NYG    0.797023\n",
       "SD     0.800124\n",
       "NO     0.808135\n",
       "LA     0.812664\n",
       "ARI    0.816159\n",
       "DAL    0.832360\n",
       "dtype: float64"
      ]
     },
     "execution_count": 24,
     "metadata": {},
     "output_type": "execute_result"
    }
   ],
   "source": [
    "auc_means"
   ]
  },
  {
   "cell_type": "markdown",
   "metadata": {},
   "source": [
    "**Standard Deviation in AUC for each team's models**"
   ]
  },
  {
   "cell_type": "code",
   "execution_count": 25,
   "metadata": {
    "collapsed": false
   },
   "outputs": [
    {
     "data": {
      "text/plain": [
       "team\n",
       "TEN    0.001603\n",
       "PIT    0.003287\n",
       "LA     0.006982\n",
       "NO     0.011819\n",
       "ARI    0.012928\n",
       "DET    0.013508\n",
       "HOU    0.014635\n",
       "ATL    0.014844\n",
       "NYJ    0.019514\n",
       "TB     0.019923\n",
       "CHI    0.020388\n",
       "BAL    0.020436\n",
       "CIN    0.022323\n",
       "NE     0.022367\n",
       "JAC    0.023868\n",
       "CAR    0.024937\n",
       "DEN    0.025216\n",
       "SD     0.025979\n",
       "NYG    0.030575\n",
       "OAK    0.030830\n",
       "CLE    0.035884\n",
       "GB     0.037021\n",
       "WAS    0.038026\n",
       "IND    0.039894\n",
       "DAL    0.048166\n",
       "MIN    0.050591\n",
       "PHI    0.055147\n",
       "BUF    0.056803\n",
       "SEA    0.057657\n",
       "KC     0.064889\n",
       "SF     0.068701\n",
       "MIA    0.102899\n",
       "dtype: float64"
      ]
     },
     "execution_count": 25,
     "metadata": {},
     "output_type": "execute_result"
    }
   ],
   "source": [
    "auc_stds"
   ]
  },
  {
   "cell_type": "markdown",
   "metadata": {},
   "source": [
    "**% CV in f1 score for each team's models**"
   ]
  },
  {
   "cell_type": "code",
   "execution_count": 26,
   "metadata": {
    "collapsed": false
   },
   "outputs": [
    {
     "data": {
      "text/plain": [
       "team\n",
       "TEN     0.213599\n",
       "PIT     0.415934\n",
       "LA      0.859197\n",
       "NO      1.462442\n",
       "ARI     1.584028\n",
       "DET     1.750343\n",
       "ATL     1.863392\n",
       "HOU     2.019107\n",
       "TB      2.501028\n",
       "NYJ     2.630251\n",
       "BAL     2.694738\n",
       "CHI     2.731350\n",
       "NE      2.838981\n",
       "CIN     2.941387\n",
       "JAC     3.236540\n",
       "SD      3.246845\n",
       "DEN     3.367123\n",
       "CAR     3.424931\n",
       "NYG     3.836187\n",
       "OAK     4.293390\n",
       "CLE     4.848834\n",
       "WAS     4.972544\n",
       "GB      5.235644\n",
       "IND     5.620644\n",
       "DAL     5.786676\n",
       "MIN     6.458907\n",
       "PHI     8.006989\n",
       "BUF     8.226480\n",
       "SEA     8.241746\n",
       "KC      9.276877\n",
       "SF      9.799113\n",
       "MIA    14.607161\n",
       "dtype: float64"
      ]
     },
     "execution_count": 26,
     "metadata": {},
     "output_type": "execute_result"
    }
   ],
   "source": [
    "auc_cvs"
   ]
  },
  {
   "cell_type": "markdown",
   "metadata": {},
   "source": [
    " "
   ]
  },
  {
   "cell_type": "code",
   "execution_count": null,
   "metadata": {
    "collapsed": true
   },
   "outputs": [],
   "source": []
  },
  {
   "cell_type": "code",
   "execution_count": null,
   "metadata": {
    "collapsed": true
   },
   "outputs": [],
   "source": []
  },
  {
   "cell_type": "code",
   "execution_count": null,
   "metadata": {
    "collapsed": true
   },
   "outputs": [],
   "source": []
  },
  {
   "cell_type": "code",
   "execution_count": null,
   "metadata": {
    "collapsed": true
   },
   "outputs": [],
   "source": []
  },
  {
   "cell_type": "code",
   "execution_count": null,
   "metadata": {
    "collapsed": true
   },
   "outputs": [],
   "source": []
  },
  {
   "cell_type": "code",
   "execution_count": null,
   "metadata": {
    "collapsed": true
   },
   "outputs": [],
   "source": []
  }
 ],
 "metadata": {
  "kernelspec": {
   "display_name": "Python 2",
   "language": "python",
   "name": "python2"
  },
  "language_info": {
   "codemirror_mode": {
    "name": "ipython",
    "version": 2
   },
   "file_extension": ".py",
   "mimetype": "text/x-python",
   "name": "python",
   "nbconvert_exporter": "python",
   "pygments_lexer": "ipython2",
   "version": "2.7.13"
  }
 },
 "nbformat": 4,
 "nbformat_minor": 2
}
