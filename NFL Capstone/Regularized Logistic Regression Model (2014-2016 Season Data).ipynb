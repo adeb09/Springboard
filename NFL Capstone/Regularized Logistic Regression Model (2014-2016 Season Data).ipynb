{
 "cells": [
  {
   "cell_type": "code",
   "execution_count": 1,
   "metadata": {
    "collapsed": false
   },
   "outputs": [
    {
     "name": "stderr",
     "output_type": "stream",
     "text": [
      "C:\\ProgramData\\Anaconda2\\lib\\site-packages\\sklearn\\cross_validation.py:44: DeprecationWarning: This module was deprecated in version 0.18 in favor of the model_selection module into which all the refactored classes and functions are moved. Also note that the interface of the new CV iterators are different from that of this module. This module will be removed in 0.20.\n",
      "  \"This module will be removed in 0.20.\", DeprecationWarning)\n",
      "C:\\ProgramData\\Anaconda2\\lib\\site-packages\\sklearn\\grid_search.py:43: DeprecationWarning: This module was deprecated in version 0.18 in favor of the model_selection module into which all the refactored classes and functions are moved. This module will be removed in 0.20.\n",
      "  DeprecationWarning)\n"
     ]
    },
    {
     "data": {
      "text/html": [
       "<style>body {\n",
       "    margin: 0;\n",
       "    font-family: Helvetica;\n",
       "}\n",
       "table.dataframe {\n",
       "    border-collapse: collapse;\n",
       "    border: none;\n",
       "}\n",
       "table.dataframe tr {\n",
       "    border: none;\n",
       "}\n",
       "table.dataframe td, table.dataframe th {\n",
       "    margin: 0;\n",
       "    border: 1px solid white;\n",
       "    padding-left: 0.25em;\n",
       "    padding-right: 0.25em;\n",
       "}\n",
       "table.dataframe th:not(:empty) {\n",
       "    background-color: #fec;\n",
       "    text-align: left;\n",
       "    font-weight: normal;\n",
       "}\n",
       "table.dataframe tr:nth-child(2) th:empty {\n",
       "    border-left: none;\n",
       "    border-right: 1px dashed #888;\n",
       "}\n",
       "table.dataframe td {\n",
       "    border: 2px solid #ccf;\n",
       "    background-color: #f4f4ff;\n",
       "}\n",
       "h3 {\n",
       "    color: white;\n",
       "    background-color: black;\n",
       "    padding: 0.5em;\n",
       "}\n",
       "</style>"
      ],
      "text/plain": [
       "<IPython.core.display.HTML object>"
      ]
     },
     "execution_count": 1,
     "metadata": {},
     "output_type": "execute_result"
    }
   ],
   "source": [
    "%matplotlib inline\n",
    "import matplotlib.pyplot as plt\n",
    "from sklearn import metrics\n",
    "import numpy as np\n",
    "import pandas as pd\n",
    "import os\n",
    "import random\n",
    "import csv\n",
    "from IPython.core.display import HTML\n",
    "from sklearn.cross_validation import KFold\n",
    "from sklearn.metrics import accuracy_score\n",
    "from sklearn.cross_validation import train_test_split\n",
    "from sklearn.linear_model import LogisticRegression\n",
    "from sklearn.grid_search import GridSearchCV\n",
    "css = open('style-table.css').read() + open('style-notebook.css').read()\n",
    "HTML('<style>{}</style>'.format(css))"
   ]
  },
  {
   "cell_type": "code",
   "execution_count": 2,
   "metadata": {
    "collapsed": true
   },
   "outputs": [],
   "source": [
    "def cv_score(clf, x, y, score_func=accuracy_score):\n",
    "    result = 0\n",
    "    nfold = 5\n",
    "    for train, test in KFold(y.size, nfold): # split data into train/test groups, 5 times\n",
    "        clf.fit(x[train], y[train]) # fit\n",
    "        result += score_func(clf.predict(x[test]), y[test]) # evaluate score function on held-out data\n",
    "    return result / nfold # average\n",
    "\n",
    "\n",
    "\n",
    "def load_data(filePath):\n",
    "    #loads csv file into data frame and returns the data frame\n",
    "    df = pd.DataFrame.from_csv(filePath)\n",
    "    #unindex GameId\n",
    "    df = df.reset_index('GameId')\n",
    "    return df\n",
    "\n",
    "\n",
    "\n",
    "def preprocess_data(df):\n",
    "    '''This function will apply preprocessing steps to the initial data frame'''\n",
    "    \n",
    "    #sort the data frame so all games are in order\n",
    "    df = df.sort_values(by = ['GameId', 'Quarter', 'Minute', 'Second'], ascending = [True, True, False, False])\n",
    "    \n",
    "    #we only want plays that are RUSH or PASS for purposes of prediction\n",
    "    df_subset = df[np.logical_or(df.PlayType == 'RUSH', df.PlayType == 'PASS')]\n",
    "    \n",
    "    #subset of the data that we believe will be important for our prediction problem\n",
    "    df_final = df_subset[['OffenseTeam', 'DefenseTeam', 'Down', 'ToGo'\n",
    "                      , 'YardLine', 'YardLineDirection', 'Quarter', 'Minute', 'Second','Formation', 'PlayType']]\n",
    "    \n",
    "    #get rid of rows that have NaN's in any columns\n",
    "    df_final = df_final.dropna()\n",
    "    \n",
    "    #create a label encoding column in the dataframe for PlayType since it is the variable we are trying to predict\n",
    "    df_final.PlayType = df_final.PlayType.astype('category')\n",
    "    df_final['PlayType_cat'] = df_final.PlayType.cat.codes\n",
    "    \n",
    "    #create dummy variables for each feature that is categorical\n",
    "    #(OffenseTeam, DefenseTeam, YardLineDirection, and Formation)\n",
    "    df_final = pd.get_dummies(df_final, columns = ['OffenseTeam', 'DefenseTeam', 'YardLineDirection', 'Formation'])\n",
    "    \n",
    "    return df_final\n",
    "\n",
    "\n",
    "def round_array(array):\n",
    "    '''return a list of floats that have been rounded from given array'''\n",
    "    lst_to_return = []\n",
    "    for entry in array:\n",
    "        lst_to_return.append(round(entry))\n",
    "    return lst_to_return\n",
    "\n",
    "\n",
    "\n",
    "def build_model(df, year):\n",
    "    \n",
    "    #create a train and test set\n",
    "    x_train, x_test, y_train, y_test = train_test_split(df_final.drop(labels = ['PlayType', 'PlayType_cat'], axis = 1).values, \n",
    "                                              df_final.PlayType_cat.values, random_state = 69)\n",
    "    \n",
    "    #fit a logistic regression model\n",
    "    clf = LogisticRegression()\n",
    "    clf.fit(x_train, y_train)\n",
    "    \n",
    "    #accuracy score on train data\n",
    "    train_accuracy_score_no_grid = accuracy_score(clf.predict(x_train), y_train)\n",
    "    \n",
    "    #accuracy score on test data\n",
    "    test_accuracy_score_no_grid = accuracy_score(clf.predict(x_test), y_test)\n",
    "    \n",
    "    #5 Fold Cross Validation Accuracy\n",
    "    five_fold_cv_score_no_grid = cv_score(clf, x_train, y_train)\n",
    "    \n",
    "    #the grid of parameters to search over\n",
    "    Cs = [0.001, 0.1, 1, 10, 100]\n",
    "    param_grid = {'C' : Cs }\n",
    "    model = GridSearchCV(LogisticRegression(), param_grid, scoring = 'accuracy', cv = 5)\n",
    "    model.fit(x_train, y_train)\n",
    "    \n",
    "    #best regularization parameter from grid search\n",
    "    best_reg = model.best_params_['C']\n",
    "    \n",
    "    #test set accuracy with the best regularization parameter\n",
    "    test_accuracy_best_reg = accuracy_score(model.predict(x_test), y_test)\n",
    "    \n",
    "    #gather model metrics using the best regularization parameter\n",
    "    preds = model.predict_proba(x_test)[:,1]\n",
    "    fpr, tpr, _ = metrics.roc_curve(y_test, preds)\n",
    "\n",
    "    y_test_rounded = round_array(y_test)\n",
    "    preds_rounded = round_array(preds)\n",
    "\n",
    "    #precision (true positives / [true positives + false positives])\n",
    "    precision = metrics.precision_score(y_test_rounded, preds_rounded)\n",
    "\n",
    "    #recall (true positives / [true positives + false negatives])\n",
    "    recall = metrics.recall_score(y_test_rounded, preds_rounded)\n",
    "\n",
    "    #F1 score is the geometric/harmonic mean of precision and recall; 2 * tp / ( 2 * tp + fp + fn)\n",
    "    f1_score = metrics.f1_score(y_test_rounded, preds_rounded)\n",
    "    \n",
    "    #AUC\n",
    "    auc = metrics.auc(fpr, tpr)\n",
    "    \n",
    "    #list of metrics\n",
    "    metrics_lst = [\n",
    "        year,\n",
    "        train_accuracy_score_no_grid,\n",
    "        test_accuracy_score_no_grid,\n",
    "        five_fold_cv_score_no_grid,\n",
    "        best_reg,\n",
    "        test_accuracy_best_reg,\n",
    "        precision,\n",
    "        recall,\n",
    "        f1_score,\n",
    "        auc\n",
    "    ]\n",
    "    \n",
    "    #rates to make ROC curve\n",
    "    roc_curve_metrics = [year, fpr, tpr, auc]\n",
    "    \n",
    "    lst_to_return = [metrics_lst, roc_curve_metrics]\n",
    "    \n",
    "    return lst_to_return"
   ]
  },
  {
   "cell_type": "code",
   "execution_count": 3,
   "metadata": {
    "collapsed": false
   },
   "outputs": [],
   "source": [
    "years = [2014, 2015, 2016]\n",
    "metrics_lsts = [] #will hold all the metrics data\n",
    "roc_curve_rates = [] #will hold fpr & tpr to build ROC curve\n",
    "metrics_csv_file_path = 'C:\\\\Users\\\\abird\\\\Documents\\\\Springboard\\\\Capstone Project\\\\NFL\\\\all_data_model_metrics.csv'\n",
    "\n",
    "columns = [\n",
    "        'season',\n",
    "        'train_accuracy_score_no_grid',\n",
    "        'test_accuracy_score_no_grid',\n",
    "        'five_fold_cv_score_no_grid',\n",
    "        'best_reg',\n",
    "        'test_accuracy_best_reg',\n",
    "        'precision',\n",
    "        'recall',\n",
    "        'f1_score',\n",
    "        'auc'\n",
    "    ]\n",
    "\n",
    "for year in years:\n",
    "    filePath = 'C:\\\\Users\\\\abird\\\\Documents\\\\Springboard\\\\Capstone Project\\\\NFL\\\\pbp-' + str(year) + '.csv'\n",
    "    df = load_data(filePath)\n",
    "    df_final = preprocess_data(df)\n",
    "    \n",
    "    #each year's metrics results will be held in metrics_lst, tpr & fpr are used for ROC Curve\n",
    "    metrics_lst, roc_curve_metrics = build_model(df_final, year)\n",
    "    metrics_lsts.append(metrics_lst)\n",
    "    roc_curve_rates.append(roc_curve_metrics)\n",
    "    \n",
    "#convert metrics_lsts into a dataframe\n",
    "metrics_df = pd.DataFrame(metrics_lsts, columns = columns)"
   ]
  },
  {
   "cell_type": "code",
   "execution_count": 4,
   "metadata": {
    "collapsed": false,
    "scrolled": true
   },
   "outputs": [
    {
     "data": {
      "text/html": [
       "<div>\n",
       "<table border=\"1\" class=\"dataframe\">\n",
       "  <thead>\n",
       "    <tr style=\"text-align: right;\">\n",
       "      <th></th>\n",
       "      <th>season</th>\n",
       "      <th>train_accuracy_score_no_grid</th>\n",
       "      <th>test_accuracy_score_no_grid</th>\n",
       "      <th>five_fold_cv_score_no_grid</th>\n",
       "      <th>best_reg</th>\n",
       "      <th>test_accuracy_best_reg</th>\n",
       "      <th>precision</th>\n",
       "      <th>recall</th>\n",
       "      <th>f1_score</th>\n",
       "      <th>auc</th>\n",
       "    </tr>\n",
       "  </thead>\n",
       "  <tbody>\n",
       "    <tr>\n",
       "      <th>0</th>\n",
       "      <td>2014</td>\n",
       "      <td>0.722887</td>\n",
       "      <td>0.737108</td>\n",
       "      <td>0.722339</td>\n",
       "      <td>1</td>\n",
       "      <td>0.737108</td>\n",
       "      <td>0.683570</td>\n",
       "      <td>0.638661</td>\n",
       "      <td>0.660353</td>\n",
       "      <td>0.789089</td>\n",
       "    </tr>\n",
       "    <tr>\n",
       "      <th>1</th>\n",
       "      <td>2015</td>\n",
       "      <td>0.743740</td>\n",
       "      <td>0.742037</td>\n",
       "      <td>0.741858</td>\n",
       "      <td>10</td>\n",
       "      <td>0.742287</td>\n",
       "      <td>0.668842</td>\n",
       "      <td>0.640882</td>\n",
       "      <td>0.654564</td>\n",
       "      <td>0.794244</td>\n",
       "    </tr>\n",
       "    <tr>\n",
       "      <th>2</th>\n",
       "      <td>2016</td>\n",
       "      <td>0.735604</td>\n",
       "      <td>0.731133</td>\n",
       "      <td>0.735100</td>\n",
       "      <td>1</td>\n",
       "      <td>0.731133</td>\n",
       "      <td>0.668056</td>\n",
       "      <td>0.620245</td>\n",
       "      <td>0.643263</td>\n",
       "      <td>0.779077</td>\n",
       "    </tr>\n",
       "  </tbody>\n",
       "</table>\n",
       "</div>"
      ],
      "text/plain": [
       "   season  train_accuracy_score_no_grid  test_accuracy_score_no_grid  \\\n",
       "0    2014                      0.722887                     0.737108   \n",
       "1    2015                      0.743740                     0.742037   \n",
       "2    2016                      0.735604                     0.731133   \n",
       "\n",
       "   five_fold_cv_score_no_grid  best_reg  test_accuracy_best_reg  precision  \\\n",
       "0                    0.722339         1                0.737108   0.683570   \n",
       "1                    0.741858        10                0.742287   0.668842   \n",
       "2                    0.735100         1                0.731133   0.668056   \n",
       "\n",
       "     recall  f1_score       auc  \n",
       "0  0.638661  0.660353  0.789089  \n",
       "1  0.640882  0.654564  0.794244  \n",
       "2  0.620245  0.643263  0.779077  "
      ]
     },
     "execution_count": 4,
     "metadata": {},
     "output_type": "execute_result"
    }
   ],
   "source": [
    "metrics_df"
   ]
  },
  {
   "cell_type": "markdown",
   "metadata": {},
   "source": [
    "**write metrics_df into a csv file**"
   ]
  },
  {
   "cell_type": "code",
   "execution_count": 5,
   "metadata": {
    "collapsed": true
   },
   "outputs": [],
   "source": [
    "metrics_df.to_csv(metrics_csv_file_path)"
   ]
  },
  {
   "cell_type": "markdown",
   "metadata": {},
   "source": [
    " "
   ]
  },
  {
   "cell_type": "markdown",
   "metadata": {
    "collapsed": true
   },
   "source": [
    "*ROC Curves*"
   ]
  },
  {
   "cell_type": "code",
   "execution_count": 6,
   "metadata": {
    "collapsed": false
   },
   "outputs": [
    {
     "data": {
      "image/png": "[encoded data removed]",
      "text/plain": [
       "<matplotlib.figure.Figure at 0xbac2828>"
      ]
     },
     "metadata": {},
     "output_type": "display_data"
    },
    {
     "data": {
      "image/png": "[encoded data removed]",
      "text/plain": [
       "<matplotlib.figure.Figure at 0xc3f7470>"
      ]
     },
     "metadata": {},
     "output_type": "display_data"
    },
    {
     "data": {
      "image/png": "[encoded data removed]",
      "text/plain": [
       "<matplotlib.figure.Figure at 0xc122f60>"
      ]
     },
     "metadata": {},
     "output_type": "display_data"
    }
   ],
   "source": [
    "#generates ROC curve for each season\n",
    "for roc_curve_rate in roc_curve_rates:\n",
    "    #extract metrics from list\n",
    "    year, fpr, tpr, auc = roc_curve_rate\n",
    "    plt.figure()\n",
    "    title = 'Receiver operating characteristic for ' + str(year) + ' season'\n",
    "    lw = 2\n",
    "    plt.plot(fpr, tpr, color = 'darkorange',\n",
    "             lw = lw, label = 'ROC curve (area = %0.2f)' %auc)\n",
    "    plt.plot([0, 1], [0, 1], color='navy', lw = lw, linestyle = '--')\n",
    "    plt.xlim([0.0, 1.0])\n",
    "    plt.ylim([0.0, 1.05])\n",
    "    plt.xlabel('False Positive Rate')\n",
    "    plt.ylabel('True Positive Rate')\n",
    "    plt.title(title)\n",
    "    plt.legend(loc=\"lower right\")\n",
    "    plt.show()"
   ]
  },
  {
   "cell_type": "code",
   "execution_count": null,
   "metadata": {
    "collapsed": true
   },
   "outputs": [],
   "source": []
  },
  {
   "cell_type": "code",
   "execution_count": null,
   "metadata": {
    "collapsed": true
   },
   "outputs": [],
   "source": []
  },
  {
   "cell_type": "code",
   "execution_count": null,
   "metadata": {
    "collapsed": false
   },
   "outputs": [],
   "source": []
  }
 ],
 "metadata": {
  "kernelspec": {
   "display_name": "Python 2",
   "language": "python",
   "name": "python2"
  },
  "language_info": {
   "codemirror_mode": {
    "name": "ipython",
    "version": 2
   },
   "file_extension": ".py",
   "mimetype": "text/x-python",
   "name": "python",
   "nbconvert_exporter": "python",
   "pygments_lexer": "ipython2",
   "version": "2.7.13"
  }
 },
 "nbformat": 4,
 "nbformat_minor": 0
}
